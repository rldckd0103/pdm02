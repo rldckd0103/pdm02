{
  "nbformat": 4,
  "nbformat_minor": 0,
  "metadata": {
    "colab": {
      "name": "tf2_6_mnist_CNN_best_start.ipynb",
      "provenance": [],
      "collapsed_sections": [],
      "include_colab_link": true
    },
    "kernelspec": {
      "name": "python3",
      "display_name": "Python 3"
    },
    "accelerator": "GPU"
  },
  "cells": [
    {
      "cell_type": "markdown",
      "metadata": {
        "id": "view-in-github",
        "colab_type": "text"
      },
      "source": [
        "<a href=\"https://colab.research.google.com/github/rldckd0103/pdm02/blob/master/py-tensorflow/tf2_6_mnist_CNN_best_start.ipynb\" target=\"_parent\"><img src=\"https://colab.research.google.com/assets/colab-badge.svg\" alt=\"Open In Colab\"/></a>"
      ]
    },
    {
      "cell_type": "markdown",
      "metadata": {
        "id": "rswfCVLZ-QW0"
      },
      "source": [
        "# **CNN model of mnist dataset**\n",
        "- Conv2D + FCN\n",
        "    * Conv2D : 2차원 합성곱 필터링 + 풀링(Pooling)\n",
        "    * FCN : 1차원 완전연결신경망\n",
        "\n",
        "***\n",
        "- ## Traget: **Find the best model**\n",
        "***\n",
        "\n",
        "![mnist_NN_2_layers](https://img1.daumcdn.net/thumb/R1280x0/?scode=mtistory2&fname=https%3A%2F%2Fblog.kakaocdn.net%2Fdn%2FdJp5Z6%2FbtqAPebnF3x%2FQCe5vVcskhmxe964bGz4iK%2Fimg.png)\n",
        "\n",
        "(source: https://img1.daumcdn.net/thumb/R1280x0/?scode=mtistory2&fname=https%3A%2F%2Fblog.kakaocdn.net%2Fdn%2FdJp5Z6%2FbtqAPebnF3x%2FQCe5vVcskhmxe964bGz4iK%2Fimg.png)"
      ]
    },
    {
      "cell_type": "markdown",
      "metadata": {
        "id": "1yhvkxS_HhpK"
      },
      "source": [
        "## Search the best model of C2F2\n",
        "- callback\n",
        "    - Early stopping\n",
        "    - model checkpoint"
      ]
    },
    {
      "cell_type": "code",
      "metadata": {
        "id": "8GgGzPXPVyfa",
        "colab": {
          "base_uri": "https://localhost:8080/"
        },
        "outputId": "8874d258-16e4-4c8a-f756-41e68df7b4be"
      },
      "source": [
        "import numpy as np\n",
        "import tensorflow as tf\n",
        "from tensorflow import keras\n",
        "import pandas as pd\n",
        "import matplotlib.pyplot as plt\n",
        "%matplotlib inline\n",
        "\n",
        "print(tf.__version__)\n",
        "tf.random.set_seed(0)"
      ],
      "execution_count": 1,
      "outputs": [
        {
          "output_type": "stream",
          "text": [
            "2.3.0\n"
          ],
          "name": "stdout"
        }
      ]
    },
    {
      "cell_type": "code",
      "metadata": {
        "id": "nMZqMpIvIlwf"
      },
      "source": [
        "# import TF2 submodules\n",
        "from tensorflow.keras import layers, models, callbacks"
      ],
      "execution_count": 3,
      "outputs": []
    },
    {
      "cell_type": "markdown",
      "metadata": {
        "id": "-0IOOUM14Jk1"
      },
      "source": [
        "## **데이터 로딩, 정규화**"
      ]
    },
    {
      "cell_type": "code",
      "metadata": {
        "id": "N1ogJ7I64Fz-",
        "colab": {
          "base_uri": "https://localhost:8080/"
        },
        "outputId": "4f314c02-5e38-42fc-de95-8e1236db1cfd"
      },
      "source": [
        "from keras.datasets import mnist\n",
        "\n",
        "(X_train0, y_train0), (X_test0, y_test0) = mnist.load_data()\n",
        "\n",
        "# Reshape\n",
        "X_train = X_train0.reshape(60000,28,28,1)\n",
        "X_test = X_test0.reshape(10000,28,28,1)\n",
        "\n",
        "# Normalization\n",
        "X_train, X_test = X_train/255.0, X_test/255.0 # 정규화\n",
        "\n",
        "print(\"X_train={0}\".format(X_train.shape))\n",
        "print(\"y_train={0}\".format(y_train0.shape)) \n",
        "print(\"X_test={0}\".format(X_test.shape))\n",
        "print(\"y_test={0}\".format(y_test0.shape))"
      ],
      "execution_count": 4,
      "outputs": [
        {
          "output_type": "stream",
          "text": [
            "Downloading data from https://storage.googleapis.com/tensorflow/tf-keras-datasets/mnist.npz\n",
            "11493376/11490434 [==============================] - 0s 0us/step\n",
            "X_train=(60000, 28, 28, 1)\n",
            "y_train=(60000,)\n",
            "X_test=(10000, 28, 28, 1)\n",
            "y_test=(10000,)\n"
          ],
          "name": "stdout"
        }
      ]
    },
    {
      "cell_type": "code",
      "metadata": {
        "id": "F46-QZqJHiQ6",
        "colab": {
          "base_uri": "https://localhost:8080/"
        },
        "outputId": "eb2bfc2a-d82d-4040-dbc9-4e5f8af5e53c"
      },
      "source": [
        "# One-Hot-Encoding\n",
        "# Use function to_categorical() to do One-Hot-Encoding\n",
        "# tf.keras.utils.to_categorical\n",
        "from keras.utils import to_categorical\n",
        "\n",
        "y_train = to_categorical(y_train0, 10)\n",
        "y_test = to_categorical(y_test0, 10)\n",
        "y_train.shape,y_test.shape"
      ],
      "execution_count": 5,
      "outputs": [
        {
          "output_type": "execute_result",
          "data": {
            "text/plain": [
              "((60000, 10), (10000, 10))"
            ]
          },
          "metadata": {
            "tags": []
          },
          "execution_count": 5
        }
      ]
    },
    {
      "cell_type": "code",
      "metadata": {
        "id": "eZ3OfP5PkEkL",
        "colab": {
          "base_uri": "https://localhost:8080/"
        },
        "outputId": "dc43f1ad-1ee5-4aba-ea1d-dacdc978bea0"
      },
      "source": [
        "# y_train0.shape vs. y_train.shape\n",
        "y_train0.shape, y_train.shape"
      ],
      "execution_count": 6,
      "outputs": [
        {
          "output_type": "execute_result",
          "data": {
            "text/plain": [
              "((60000,), (60000, 10))"
            ]
          },
          "metadata": {
            "tags": []
          },
          "execution_count": 6
        }
      ]
    },
    {
      "cell_type": "markdown",
      "metadata": {
        "id": "5z7SozStigmF"
      },
      "source": [
        "### Display numbers\n",
        "- one random number\n",
        "- 10 representative numbers"
      ]
    },
    {
      "cell_type": "code",
      "metadata": {
        "id": "IK7XT3XoirSL",
        "colab": {
          "base_uri": "https://localhost:8080/",
          "height": 286
        },
        "outputId": "cd13d054-cec2-42f2-b4c5-c4a6011ccc0a"
      },
      "source": [
        "# Code here!\n",
        "# display one random image from the training set:\n",
        "class_names = [\"0\",\"1\",\"2\",\"3\",\"4\",\"5\",\"6\",\"7\",\"8\",\"9\"]\n",
        "\n",
        "idx = np.random.randint(0, X_train0.shape[0])\n",
        "print(idx)\n",
        "image = X_train0[idx]\n",
        "plt.imshow(image) #, cmap=plt.get_cmap('gray'))\n",
        "plt.title(class_names[y_train0[idx]])\n",
        "plt.xticks([])\n",
        "plt.yticks([])\n",
        "plt.show()"
      ],
      "execution_count": 7,
      "outputs": [
        {
          "output_type": "stream",
          "text": [
            "39300\n"
          ],
          "name": "stdout"
        },
        {
          "output_type": "display_data",
          "data": {
            "image/png": "[encoded data removed]",
            "text/plain": [
              "<Figure size 432x288 with 1 Axes>"
            ]
          },
          "metadata": {
            "tags": []
          }
        }
      ]
    },
    {
      "cell_type": "code",
      "metadata": {
        "id": "LzhD5pcukau7",
        "colab": {
          "base_uri": "https://localhost:8080/",
          "height": 325
        },
        "outputId": "91927b7d-5a8a-4b52-e3d3-181497eecda0"
      },
      "source": [
        "fig = plt.figure(figsize=(10,6))\n",
        "for i in range(10):\n",
        "    plt.subplot(2, 5, i+1)\n",
        "    num0_9 = X_train0[y_train0 == i]\n",
        "    # print(num0_9.shape)\n",
        "    plt.imshow(num0_9[0]) #, cmap='gray') #, interpolation='none')\n",
        "    plt.title(\"Class %d\" % (i))\n",
        "    plt.xticks([])\n",
        "    plt.yticks([])"
      ],
      "execution_count": 8,
      "outputs": [
        {
          "output_type": "display_data",
          "data": {
            "image/png": "[encoded data removed]",
            "text/plain": [
              "<Figure size 720x432 with 10 Axes>"
            ]
          },
          "metadata": {
            "tags": []
          }
        }
      ]
    },
    {
      "cell_type": "markdown",
      "metadata": {
        "id": "55DYVfFXi0WR"
      },
      "source": [
        "# Design CNN"
      ]
    },
    {
      "cell_type": "markdown",
      "metadata": {
        "id": "iPcLIcUCcsiG"
      },
      "source": [
        "### import models, layers, callbacks\n",
        "- models: Sequential\n",
        "- layers: Conv2D, MaxPool2D, Flatten\n",
        "- callbacks: ModelCheckpoint, EarlyStopping"
      ]
    },
    {
      "cell_type": "code",
      "metadata": {
        "id": "NzqMC4Xtc3ZE"
      },
      "source": [
        "from keras.models import Sequential\n",
        "from keras.layers import Conv2D, MaxPool2D, Flatten\n",
        "from keras.callbacks import ModelCheckpoint, EarlyStopping"
      ],
      "execution_count": 9,
      "outputs": []
    },
    {
      "cell_type": "markdown",
      "metadata": {
        "id": "7Z6DJJUCei-s"
      },
      "source": [
        "## **CNN2 + FCN2**"
      ]
    },
    {
      "cell_type": "code",
      "metadata": {
        "id": "pV3NFglM7P65"
      },
      "source": [
        "c2f2 = keras.models.Sequential([ \n",
        "    Conv2D(input_shape=(28,28,1),kernel_size=(3,3),strides=(1,1),filters= 32,padding='same',activation='relu'),\n",
        "    MaxPool2D(pool_size=(2,2), strides=(2,2)), \n",
        "    Conv2D(kernel_size=(3,3),strides=(1,1),filters= 64,padding='same',activation='relu'),\n",
        "    MaxPool2D(pool_size=(2,2), strides=(2,2)),\n",
        "    Flatten(), \n",
        "    keras.layers.Dense(128, activation='relu'),  \n",
        "    keras.layers.Dropout(0.25), \n",
        "    keras.layers.Dense(10, activation='softmax')\n",
        "])\n",
        "\n",
        "c2f2.compile(optimizer='adam',\n",
        "              loss='categorical_crossentropy',\n",
        "              metrics=['accuracy']) "
      ],
      "execution_count": 10,
      "outputs": []
    },
    {
      "cell_type": "code",
      "metadata": {
        "id": "OGtCiKy57YkR",
        "colab": {
          "base_uri": "https://localhost:8080/"
        },
        "outputId": "e3bfeaac-a2a5-412d-d45b-70a210a2dce8"
      },
      "source": [
        "c2f2.summary()"
      ],
      "execution_count": 11,
      "outputs": [
        {
          "output_type": "stream",
          "text": [
            "Model: \"sequential\"\n",
            "_________________________________________________________________\n",
            "Layer (type)                 Output Shape              Param #   \n",
            "=================================================================\n",
            "conv2d (Conv2D)              (None, 28, 28, 32)        320       \n",
            "_________________________________________________________________\n",
            "max_pooling2d (MaxPooling2D) (None, 14, 14, 32)        0         \n",
            "_________________________________________________________________\n",
            "conv2d_1 (Conv2D)            (None, 14, 14, 64)        18496     \n",
            "_________________________________________________________________\n",
            "max_pooling2d_1 (MaxPooling2 (None, 7, 7, 64)          0         \n",
            "_________________________________________________________________\n",
            "flatten (Flatten)            (None, 3136)              0         \n",
            "_________________________________________________________________\n",
            "dense (Dense)                (None, 128)               401536    \n",
            "_________________________________________________________________\n",
            "dropout (Dropout)            (None, 128)               0         \n",
            "_________________________________________________________________\n",
            "dense_1 (Dense)              (None, 10)                1290      \n",
            "=================================================================\n",
            "Total params: 421,642\n",
            "Trainable params: 421,642\n",
            "Non-trainable params: 0\n",
            "_________________________________________________________________\n"
          ],
          "name": "stdout"
        }
      ]
    },
    {
      "cell_type": "code",
      "metadata": {
        "colab": {
          "base_uri": "https://localhost:8080/"
        },
        "id": "ue9rjl7of7tJ",
        "outputId": "893cdd7d-f9e5-4387-e914-77c5063a5abf"
      },
      "source": [
        "# 1st Conv2D parameters\n",
        "9*32+32"
      ],
      "execution_count": 20,
      "outputs": [
        {
          "output_type": "execute_result",
          "data": {
            "text/plain": [
              "320"
            ]
          },
          "metadata": {
            "tags": []
          },
          "execution_count": 20
        }
      ]
    },
    {
      "cell_type": "code",
      "metadata": {
        "id": "zw_pQPBdJmU8"
      },
      "source": [
        "cp_callback = callbacks.ModelCheckpoint(filepath=\"./mnist_c2f2_best_weights.{epoch:03d}-{val_accuracy:.4f}.hdf5\", \n",
        "                              monitor='val_accuracy', verbose=0, save_best_only=True)\n",
        "es_callback = callbacks.EarlyStopping(monitor='val_accuracy', \n",
        "                            mode='max', verbose=1, patience=50)    # patience=10, 20, 50"
      ],
      "execution_count": 24,
      "outputs": []
    },
    {
      "cell_type": "code",
      "metadata": {
        "colab": {
          "base_uri": "https://localhost:8080/"
        },
        "id": "nCncaWp7gKvL",
        "outputId": "d6902776-b9be-49e9-a8c0-5ac766a1957f"
      },
      "source": [
        "# 2nd Conv2D parameters\n",
        "32*64*3*3 + 64"
      ],
      "execution_count": 19,
      "outputs": [
        {
          "output_type": "execute_result",
          "data": {
            "text/plain": [
              "18496"
            ]
          },
          "metadata": {
            "tags": []
          },
          "execution_count": 19
        }
      ]
    },
    {
      "cell_type": "code",
      "metadata": {
        "id": "94GWWQt-7eRS",
        "colab": {
          "base_uri": "https://localhost:8080/"
        },
        "outputId": "187206f3-329a-492f-aa3f-03e4fd72e126"
      },
      "source": [
        "# Train CNN model\n",
        "# Find and save the best model.\n",
        "hist = c2f2.fit(X_train, y_train, epochs = 500 , batch_size =32, \n",
        "         callbacks=[cp_callback, es_callback], \n",
        "         validation_data=(X_test,y_test))"
      ],
      "execution_count": 21,
      "outputs": [
        {
          "output_type": "stream",
          "text": [
            "Epoch 1/500\n",
            "1875/1875 [==============================] - 12s 7ms/step - loss: 0.0033 - accuracy: 0.9992 - val_loss: 0.0591 - val_accuracy: 0.9921\n",
            "Epoch 2/500\n",
            "1875/1875 [==============================] - 12s 6ms/step - loss: 0.0043 - accuracy: 0.9988 - val_loss: 0.0629 - val_accuracy: 0.9928\n",
            "Epoch 3/500\n",
            "1875/1875 [==============================] - 12s 6ms/step - loss: 0.0032 - accuracy: 0.9991 - val_loss: 0.0681 - val_accuracy: 0.9925\n",
            "Epoch 4/500\n",
            "1875/1875 [==============================] - 12s 6ms/step - loss: 0.0043 - accuracy: 0.9989 - val_loss: 0.0874 - val_accuracy: 0.9919\n",
            "Epoch 5/500\n",
            "1875/1875 [==============================] - 12s 6ms/step - loss: 0.0040 - accuracy: 0.9989 - val_loss: 0.0592 - val_accuracy: 0.9922\n",
            "Epoch 6/500\n",
            "1875/1875 [==============================] - 12s 6ms/step - loss: 0.0028 - accuracy: 0.9993 - val_loss: 0.0607 - val_accuracy: 0.9932\n",
            "Epoch 7/500\n",
            "1875/1875 [==============================] - 12s 6ms/step - loss: 0.0033 - accuracy: 0.9991 - val_loss: 0.0741 - val_accuracy: 0.9934\n",
            "Epoch 8/500\n",
            "1875/1875 [==============================] - 12s 6ms/step - loss: 0.0029 - accuracy: 0.9994 - val_loss: 0.0703 - val_accuracy: 0.9925\n",
            "Epoch 9/500\n",
            "1875/1875 [==============================] - 12s 6ms/step - loss: 0.0036 - accuracy: 0.9991 - val_loss: 0.0711 - val_accuracy: 0.9927\n",
            "Epoch 10/500\n",
            "1875/1875 [==============================] - 12s 6ms/step - loss: 0.0043 - accuracy: 0.9990 - val_loss: 0.0686 - val_accuracy: 0.9933\n",
            "Epoch 11/500\n",
            "1875/1875 [==============================] - 12s 6ms/step - loss: 0.0027 - accuracy: 0.9994 - val_loss: 0.0697 - val_accuracy: 0.9926\n",
            "Epoch 12/500\n",
            "1875/1875 [==============================] - 12s 6ms/step - loss: 0.0025 - accuracy: 0.9993 - val_loss: 0.0701 - val_accuracy: 0.9933\n",
            "Epoch 13/500\n",
            "1875/1875 [==============================] - 12s 6ms/step - loss: 0.0027 - accuracy: 0.9993 - val_loss: 0.0611 - val_accuracy: 0.9941\n",
            "Epoch 14/500\n",
            "1875/1875 [==============================] - 12s 6ms/step - loss: 0.0031 - accuracy: 0.9993 - val_loss: 0.0772 - val_accuracy: 0.9912\n",
            "Epoch 15/500\n",
            "1875/1875 [==============================] - 12s 6ms/step - loss: 0.0039 - accuracy: 0.9990 - val_loss: 0.0798 - val_accuracy: 0.9925\n",
            "Epoch 16/500\n",
            "1875/1875 [==============================] - 12s 6ms/step - loss: 0.0033 - accuracy: 0.9993 - val_loss: 0.0725 - val_accuracy: 0.9931\n",
            "Epoch 17/500\n",
            "1875/1875 [==============================] - 12s 6ms/step - loss: 0.0035 - accuracy: 0.9992 - val_loss: 0.0626 - val_accuracy: 0.9929\n",
            "Epoch 18/500\n",
            "1875/1875 [==============================] - 12s 6ms/step - loss: 0.0023 - accuracy: 0.9994 - val_loss: 0.0617 - val_accuracy: 0.9921\n",
            "Epoch 19/500\n",
            "1875/1875 [==============================] - 12s 6ms/step - loss: 0.0029 - accuracy: 0.9992 - val_loss: 0.0769 - val_accuracy: 0.9922\n",
            "Epoch 20/500\n",
            "1875/1875 [==============================] - 12s 6ms/step - loss: 0.0031 - accuracy: 0.9993 - val_loss: 0.0765 - val_accuracy: 0.9925\n",
            "Epoch 21/500\n",
            "1875/1875 [==============================] - 12s 6ms/step - loss: 0.0036 - accuracy: 0.9991 - val_loss: 0.0957 - val_accuracy: 0.9920\n",
            "Epoch 22/500\n",
            "1875/1875 [==============================] - 12s 6ms/step - loss: 0.0029 - accuracy: 0.9993 - val_loss: 0.0882 - val_accuracy: 0.9924\n",
            "Epoch 23/500\n",
            "1875/1875 [==============================] - 12s 6ms/step - loss: 0.0032 - accuracy: 0.9992 - val_loss: 0.0892 - val_accuracy: 0.9931\n",
            "Epoch 24/500\n",
            "1875/1875 [==============================] - 12s 6ms/step - loss: 0.0044 - accuracy: 0.9990 - val_loss: 0.0744 - val_accuracy: 0.9926\n",
            "Epoch 25/500\n",
            "1875/1875 [==============================] - 12s 6ms/step - loss: 0.0013 - accuracy: 0.9996 - val_loss: 0.0956 - val_accuracy: 0.9929\n",
            "Epoch 26/500\n",
            "1875/1875 [==============================] - 12s 6ms/step - loss: 0.0034 - accuracy: 0.9991 - val_loss: 0.1042 - val_accuracy: 0.9920\n",
            "Epoch 27/500\n",
            "1875/1875 [==============================] - 12s 7ms/step - loss: 0.0028 - accuracy: 0.9994 - val_loss: 0.0858 - val_accuracy: 0.9934\n",
            "Epoch 28/500\n",
            "1875/1875 [==============================] - 12s 6ms/step - loss: 0.0046 - accuracy: 0.9994 - val_loss: 0.0879 - val_accuracy: 0.9927\n",
            "Epoch 29/500\n",
            "1875/1875 [==============================] - 12s 6ms/step - loss: 0.0030 - accuracy: 0.9991 - val_loss: 0.0902 - val_accuracy: 0.9916\n",
            "Epoch 30/500\n",
            "1875/1875 [==============================] - 12s 6ms/step - loss: 0.0026 - accuracy: 0.9993 - val_loss: 0.0807 - val_accuracy: 0.9927\n",
            "Epoch 31/500\n",
            "1875/1875 [==============================] - 12s 6ms/step - loss: 0.0040 - accuracy: 0.9992 - val_loss: 0.0936 - val_accuracy: 0.9922\n",
            "Epoch 32/500\n",
            "1875/1875 [==============================] - 12s 6ms/step - loss: 0.0028 - accuracy: 0.9992 - val_loss: 0.1071 - val_accuracy: 0.9929\n",
            "Epoch 33/500\n",
            "1875/1875 [==============================] - 12s 6ms/step - loss: 0.0039 - accuracy: 0.9991 - val_loss: 0.0688 - val_accuracy: 0.9936\n",
            "Epoch 34/500\n",
            "1875/1875 [==============================] - 12s 6ms/step - loss: 0.0038 - accuracy: 0.9992 - val_loss: 0.0701 - val_accuracy: 0.9924\n",
            "Epoch 35/500\n",
            "1875/1875 [==============================] - 12s 6ms/step - loss: 0.0037 - accuracy: 0.9990 - val_loss: 0.0950 - val_accuracy: 0.9931\n",
            "Epoch 36/500\n",
            "1875/1875 [==============================] - 12s 6ms/step - loss: 0.0029 - accuracy: 0.9994 - val_loss: 0.0853 - val_accuracy: 0.9926\n",
            "Epoch 37/500\n",
            "1875/1875 [==============================] - 12s 6ms/step - loss: 0.0030 - accuracy: 0.9994 - val_loss: 0.1062 - val_accuracy: 0.9926\n",
            "Epoch 38/500\n",
            "1875/1875 [==============================] - 12s 6ms/step - loss: 0.0027 - accuracy: 0.9995 - val_loss: 0.0806 - val_accuracy: 0.9921\n",
            "Epoch 39/500\n",
            "1875/1875 [==============================] - 12s 6ms/step - loss: 0.0038 - accuracy: 0.9992 - val_loss: 0.0732 - val_accuracy: 0.9939\n",
            "Epoch 40/500\n",
            "1875/1875 [==============================] - 12s 6ms/step - loss: 0.0032 - accuracy: 0.9993 - val_loss: 0.0965 - val_accuracy: 0.9928\n",
            "Epoch 41/500\n",
            "1875/1875 [==============================] - 12s 6ms/step - loss: 0.0030 - accuracy: 0.9994 - val_loss: 0.1126 - val_accuracy: 0.9928\n",
            "Epoch 42/500\n",
            "1875/1875 [==============================] - 12s 6ms/step - loss: 0.0034 - accuracy: 0.9992 - val_loss: 0.1003 - val_accuracy: 0.9926\n",
            "Epoch 43/500\n",
            "1875/1875 [==============================] - 12s 6ms/step - loss: 0.0039 - accuracy: 0.9992 - val_loss: 0.0888 - val_accuracy: 0.9934\n",
            "Epoch 44/500\n",
            "1875/1875 [==============================] - 12s 6ms/step - loss: 0.0027 - accuracy: 0.9996 - val_loss: 0.1000 - val_accuracy: 0.9912\n",
            "Epoch 45/500\n",
            "1875/1875 [==============================] - 12s 6ms/step - loss: 0.0038 - accuracy: 0.9992 - val_loss: 0.0779 - val_accuracy: 0.9931\n",
            "Epoch 46/500\n",
            "1875/1875 [==============================] - 12s 6ms/step - loss: 0.0020 - accuracy: 0.9995 - val_loss: 0.0904 - val_accuracy: 0.9926\n",
            "Epoch 47/500\n",
            "1875/1875 [==============================] - 12s 6ms/step - loss: 0.0039 - accuracy: 0.9992 - val_loss: 0.1008 - val_accuracy: 0.9926\n",
            "Epoch 48/500\n",
            "1875/1875 [==============================] - 12s 6ms/step - loss: 0.0031 - accuracy: 0.9994 - val_loss: 0.0824 - val_accuracy: 0.9934\n",
            "Epoch 49/500\n",
            "1875/1875 [==============================] - 12s 6ms/step - loss: 0.0020 - accuracy: 0.9995 - val_loss: 0.1015 - val_accuracy: 0.9929\n",
            "Epoch 50/500\n",
            "1875/1875 [==============================] - 12s 6ms/step - loss: 0.0039 - accuracy: 0.9992 - val_loss: 0.0889 - val_accuracy: 0.9928\n",
            "Epoch 51/500\n",
            "1875/1875 [==============================] - 12s 6ms/step - loss: 0.0034 - accuracy: 0.9993 - val_loss: 0.0809 - val_accuracy: 0.9928\n",
            "Epoch 52/500\n",
            "1875/1875 [==============================] - 12s 6ms/step - loss: 0.0019 - accuracy: 0.9995 - val_loss: 0.1000 - val_accuracy: 0.9924\n",
            "Epoch 53/500\n",
            "1875/1875 [==============================] - 12s 7ms/step - loss: 0.0042 - accuracy: 0.9991 - val_loss: 0.0992 - val_accuracy: 0.9929\n",
            "Epoch 54/500\n",
            "1875/1875 [==============================] - 12s 7ms/step - loss: 0.0031 - accuracy: 0.9995 - val_loss: 0.0926 - val_accuracy: 0.9931\n",
            "Epoch 55/500\n",
            "1875/1875 [==============================] - 12s 6ms/step - loss: 0.0036 - accuracy: 0.9993 - val_loss: 0.0716 - val_accuracy: 0.9935\n",
            "Epoch 56/500\n",
            "1875/1875 [==============================] - 12s 6ms/step - loss: 0.0047 - accuracy: 0.9992 - val_loss: 0.0993 - val_accuracy: 0.9923\n",
            "Epoch 57/500\n",
            "1875/1875 [==============================] - 12s 6ms/step - loss: 0.0024 - accuracy: 0.9995 - val_loss: 0.0805 - val_accuracy: 0.9932\n",
            "Epoch 58/500\n",
            "1875/1875 [==============================] - 12s 6ms/step - loss: 0.0014 - accuracy: 0.9997 - val_loss: 0.1258 - val_accuracy: 0.9923\n",
            "Epoch 59/500\n",
            "1875/1875 [==============================] - 12s 6ms/step - loss: 0.0032 - accuracy: 0.9993 - val_loss: 0.1091 - val_accuracy: 0.9921\n",
            "Epoch 60/500\n",
            "1875/1875 [==============================] - 12s 6ms/step - loss: 0.0031 - accuracy: 0.9994 - val_loss: 0.0999 - val_accuracy: 0.9919\n",
            "Epoch 61/500\n",
            "1875/1875 [==============================] - 12s 6ms/step - loss: 0.0031 - accuracy: 0.9994 - val_loss: 0.1129 - val_accuracy: 0.9920\n",
            "Epoch 62/500\n",
            "1875/1875 [==============================] - 12s 6ms/step - loss: 0.0037 - accuracy: 0.9993 - val_loss: 0.1024 - val_accuracy: 0.9932\n",
            "Epoch 63/500\n",
            "1875/1875 [==============================] - 12s 7ms/step - loss: 0.0042 - accuracy: 0.9992 - val_loss: 0.1191 - val_accuracy: 0.9928\n",
            "Epoch 00063: early stopping\n"
          ],
          "name": "stdout"
        }
      ]
    },
    {
      "cell_type": "code",
      "metadata": {
        "id": "0-7is2U49A6Z",
        "colab": {
          "base_uri": "https://localhost:8080/"
        },
        "outputId": "d7cc13e6-517c-4bbe-e03a-c51083475cec"
      },
      "source": [
        "c2f2.evaluate(X_test, y_test, batch_size =32)"
      ],
      "execution_count": 25,
      "outputs": [
        {
          "output_type": "stream",
          "text": [
            "313/313 [==============================] - 1s 3ms/step - loss: 0.1191 - accuracy: 0.9928\n"
          ],
          "name": "stdout"
        },
        {
          "output_type": "execute_result",
          "data": {
            "text/plain": [
              "[0.1190977692604065, 0.9927999973297119]"
            ]
          },
          "metadata": {
            "tags": []
          },
          "execution_count": 25
        }
      ]
    },
    {
      "cell_type": "markdown",
      "metadata": {
        "id": "3Ub3qGnjs4EI"
      },
      "source": [
        "## Graph of loss and accuracy\n",
        "- model: C2F2"
      ]
    },
    {
      "cell_type": "code",
      "metadata": {
        "id": "WNmXXLhvWUiK",
        "colab": {
          "base_uri": "https://localhost:8080/",
          "height": 313
        },
        "outputId": "c3622496-6823-47d0-c47c-e1bd5d7f369a"
      },
      "source": [
        "# Plot loass and accuracy\n",
        "# Plot training & validation accuracy values\n",
        "epochs = 63\n",
        "loss_list = [100 * i for i in hist.history['loss']]\n",
        "acc_list = [100 * i for i in hist.history['accuracy']]\n",
        "plt.plot(range(1,epochs+1),loss_list) \n",
        "plt.plot(range(1,epochs+1),acc_list) \n",
        "plt.title('Model loss & accuracy')\n",
        "plt.ylabel('Accuracy (%)')\n",
        "plt.xlabel('Epoch')\n",
        "plt.legend(['loss', 'accuracy'], loc='center left')"
      ],
      "execution_count": 27,
      "outputs": [
        {
          "output_type": "execute_result",
          "data": {
            "text/plain": [
              "<matplotlib.legend.Legend at 0x7facf42790b8>"
            ]
          },
          "metadata": {
            "tags": []
          },
          "execution_count": 27
        },
        {
          "output_type": "display_data",
          "data": {
            "image/png": "[encoded data removed]",
            "text/plain": [
              "<Figure size 432x288 with 1 Axes>"
            ]
          },
          "metadata": {
            "tags": [],
            "needs_background": "light"
          }
        }
      ]
    },
    {
      "cell_type": "code",
      "metadata": {
        "id": "0wNssVPhu_8m"
      },
      "source": [
        "vloss_list = [100 * i for i in hist.history['val_loss']]\n",
        "vacc_list = [100 * i for i in hist.history['val_accuracy']]"
      ],
      "execution_count": 34,
      "outputs": []
    },
    {
      "cell_type": "code",
      "metadata": {
        "id": "TX5Uzro4vjaY",
        "colab": {
          "base_uri": "https://localhost:8080/",
          "height": 313
        },
        "outputId": "67ca174e-3207-4675-d036-ac16e63b4510"
      },
      "source": [
        "plt.plot(range(1,epochs+1),vloss_list)  \n",
        "plt.plot(range(1,epochs+1),vacc_list)  \n",
        "plt.title('Model val_loss & val_accuracy')\n",
        "plt.ylabel('Accuracy (%)')\n",
        "plt.xlabel('Epoch')\n",
        "plt.legend(['val_loss', 'val_accuracy'], loc='center left')"
      ],
      "execution_count": 35,
      "outputs": [
        {
          "output_type": "execute_result",
          "data": {
            "text/plain": [
              "<matplotlib.legend.Legend at 0x7facf4172710>"
            ]
          },
          "metadata": {
            "tags": []
          },
          "execution_count": 35
        },
        {
          "output_type": "display_data",
          "data": {
            "image/png": "[encoded data removed]",
            "text/plain": [
              "<Figure size 432x288 with 1 Axes>"
            ]
          },
          "metadata": {
            "tags": [],
            "needs_background": "light"
          }
        }
      ]
    },
    {
      "cell_type": "code",
      "metadata": {
        "id": "WkK7XXY2x8J4",
        "colab": {
          "base_uri": "https://localhost:8080/"
        },
        "outputId": "8553421f-a24f-4ee5-ae49-860fdfec15d2"
      },
      "source": [
        "np.argmax(np.array(vacc_list))"
      ],
      "execution_count": 31,
      "outputs": [
        {
          "output_type": "execute_result",
          "data": {
            "text/plain": [
              "12"
            ]
          },
          "metadata": {
            "tags": []
          },
          "execution_count": 31
        }
      ]
    },
    {
      "cell_type": "code",
      "metadata": {
        "id": "S8LAN1AYzykJ",
        "colab": {
          "base_uri": "https://localhost:8080/"
        },
        "outputId": "bf14bb2e-f3f0-490f-f2bd-f2755c582a59"
      },
      "source": [
        "vacc_list[np.argmax(np.array(vacc_list))]"
      ],
      "execution_count": 32,
      "outputs": [
        {
          "output_type": "execute_result",
          "data": {
            "text/plain": [
              "99.40999746322632"
            ]
          },
          "metadata": {
            "tags": []
          },
          "execution_count": 32
        }
      ]
    },
    {
      "cell_type": "code",
      "metadata": {
        "id": "blALTNdyvjVK",
        "colab": {
          "base_uri": "https://localhost:8080/",
          "height": 313
        },
        "outputId": "bf8a78d8-9341-41d6-902d-26694f3da533"
      },
      "source": [
        "plt.plot(range(1,epochs+1),acc_list)  \n",
        "plt.plot(range(1,epochs+1),vacc_list)  \n",
        "plt.title('accuracy vs. val_accuracy')\n",
        "plt.ylabel('Accuracy (%)')\n",
        "plt.xlabel('Epoch')\n",
        "plt.legend(['accuracy','val_accuracy'], loc='center')\n",
        "plt.plot(np.argmax(np.array(vacc_list))+1,vacc_list[np.argmax(np.array(vacc_list))], 'r*') "
      ],
      "execution_count": 36,
      "outputs": [
        {
          "output_type": "execute_result",
          "data": {
            "text/plain": [
              "[<matplotlib.lines.Line2D at 0x7facf4059630>]"
            ]
          },
          "metadata": {
            "tags": []
          },
          "execution_count": 36
        },
        {
          "output_type": "display_data",
          "data": {
            "image/png": "[encoded data removed]",
            "text/plain": [
              "<Figure size 432x288 with 1 Axes>"
            ]
          },
          "metadata": {
            "tags": [],
            "needs_background": "light"
          }
        }
      ]
    },
    {
      "cell_type": "markdown",
      "metadata": {
        "id": "gBPKMI4y3fsa"
      },
      "source": [
        "## 최적화된 모형 불러와서 이용\n",
        "\n",
        "- callbacks.ModelCheckpoint를 이용해서 트레이닝 중 val_accuacy가 가장 높은 모형을 가중치와 함께 hdf5 형식으로 저장\n",
        "- load 명령으로 불러 사용\n",
        "\n",
        ">mnist_c2f2_best_weights.013-0.9941.hdf5"
      ]
    },
    {
      "cell_type": "code",
      "metadata": {
        "id": "KCfbQl2v3fsa"
      },
      "source": [
        "# c2f2.save('cnn_best.hdf5')"
      ],
      "execution_count": null,
      "outputs": []
    },
    {
      "cell_type": "code",
      "metadata": {
        "id": "b7-ysIVy3fse",
        "colab": {
          "base_uri": "https://localhost:8080/"
        },
        "outputId": "038e708a-07f7-4477-da52-8b70e2fa02f2"
      },
      "source": [
        "from keras.models import load_model\n",
        "\n",
        "model = load_model('mnist_c2f2_best_weights.013-0.9941.hdf5')\n",
        "model.evaluate(X_test, y_test, batch_size=32)"
      ],
      "execution_count": 37,
      "outputs": [
        {
          "output_type": "stream",
          "text": [
            "313/313 [==============================] - 1s 4ms/step - loss: 0.0611 - accuracy: 0.9941\n"
          ],
          "name": "stdout"
        },
        {
          "output_type": "execute_result",
          "data": {
            "text/plain": [
              "[0.06105413660407066, 0.9940999746322632]"
            ]
          },
          "metadata": {
            "tags": []
          },
          "execution_count": 37
        }
      ]
    },
    {
      "cell_type": "markdown",
      "metadata": {
        "id": "3dO5bh1ILJP_"
      },
      "source": [
        "## [DIY] C2F3의 best model을 구하시오."
      ]
    },
    {
      "cell_type": "markdown",
      "metadata": {
        "id": "SUJxRQtafihM"
      },
      "source": [
        "## **CNN2 + FCN3**"
      ]
    },
    {
      "cell_type": "code",
      "metadata": {
        "id": "Nl5CyAymAB34"
      },
      "source": [
        "c2f3 = keras.models.Sequential([ \n",
        "    Conv2D(input_shape=(28,28,1),kernel_size=(3,3),strides=(1,1),filters= 32,padding='same',activation='relu'),\n",
        "    MaxPool2D(pool_size=(2,2), strides=(2,2)), \n",
        "    Conv2D(kernel_size=(3,3),strides=(1,1),filters= 64,padding='same',activation='relu'),\n",
        "    MaxPool2D(pool_size=(2,2), strides=(2,2)),\n",
        "    Flatten(), \n",
        "    keras.layers.Dense(128, activation='relu'),  \n",
        "    keras.layers.Dropout(0.25), \n",
        "    keras.layers.Dense(64, activation='relu'),  \n",
        "    keras.layers.Dropout(0.25), \n",
        "    keras.layers.Dense(10, activation='softmax')\n",
        "])\n",
        "\n",
        "c2f3.compile(optimizer='adam',\n",
        "              loss='categorical_crossentropy',\n",
        "              metrics=['accuracy']) "
      ],
      "execution_count": 71,
      "outputs": []
    },
    {
      "cell_type": "code",
      "metadata": {
        "id": "gYxuGW_2ANL8",
        "colab": {
          "base_uri": "https://localhost:8080/"
        },
        "outputId": "eff9b7bd-73f0-4cfd-ab3a-8af86745fbdf"
      },
      "source": [
        "c2f3.summary()"
      ],
      "execution_count": 72,
      "outputs": [
        {
          "output_type": "stream",
          "text": [
            "Model: \"sequential_4\"\n",
            "_________________________________________________________________\n",
            "Layer (type)                 Output Shape              Param #   \n",
            "=================================================================\n",
            "conv2d_8 (Conv2D)            (None, 28, 28, 32)        320       \n",
            "_________________________________________________________________\n",
            "max_pooling2d_8 (MaxPooling2 (None, 14, 14, 32)        0         \n",
            "_________________________________________________________________\n",
            "conv2d_9 (Conv2D)            (None, 14, 14, 64)        18496     \n",
            "_________________________________________________________________\n",
            "max_pooling2d_9 (MaxPooling2 (None, 7, 7, 64)          0         \n",
            "_________________________________________________________________\n",
            "flatten_4 (Flatten)          (None, 3136)              0         \n",
            "_________________________________________________________________\n",
            "dense_9 (Dense)              (None, 128)               401536    \n",
            "_________________________________________________________________\n",
            "dropout_5 (Dropout)          (None, 128)               0         \n",
            "_________________________________________________________________\n",
            "dense_10 (Dense)             (None, 64)                8256      \n",
            "_________________________________________________________________\n",
            "dropout_6 (Dropout)          (None, 64)                0         \n",
            "_________________________________________________________________\n",
            "dense_11 (Dense)             (None, 10)                650       \n",
            "=================================================================\n",
            "Total params: 429,258\n",
            "Trainable params: 429,258\n",
            "Non-trainable params: 0\n",
            "_________________________________________________________________\n"
          ],
          "name": "stdout"
        }
      ]
    },
    {
      "cell_type": "code",
      "metadata": {
        "id": "GIKC5PWp3_uP"
      },
      "source": [
        "cp_callback = callbacks.ModelCheckpoint(filepath=\"./mnist_c2f3_best_weights.{epoch:03d}-{val_accuracy:.4f}.hdf5\", \n",
        "                              monitor='val_accuracy', verbose=0, save_best_only=True)\n",
        "es_callback = callbacks.EarlyStopping(monitor='val_accuracy', \n",
        "                            mode='max', verbose=1, patience=50)    # patience=10, 20, 50"
      ],
      "execution_count": 73,
      "outputs": []
    },
    {
      "cell_type": "code",
      "metadata": {
        "colab": {
          "base_uri": "https://localhost:8080/"
        },
        "id": "zyCbBTrB4FKR",
        "outputId": "6463ea34-90d0-4dd9-843a-c2dbd169f9d2"
      },
      "source": [
        "hist = c2f3.fit(X_train, y_train, epochs = 500 , batch_size =32, \n",
        "         callbacks=[cp_callback, es_callback], \n",
        "         validation_data=(X_test,y_test))"
      ],
      "execution_count": 74,
      "outputs": [
        {
          "output_type": "stream",
          "text": [
            "Epoch 1/500\n",
            "1875/1875 [==============================] - 13s 7ms/step - loss: 0.5120 - accuracy: 0.8162 - val_loss: 0.3400 - val_accuracy: 0.8783\n",
            "Epoch 2/500\n",
            "1875/1875 [==============================] - 13s 7ms/step - loss: 0.3216 - accuracy: 0.8852 - val_loss: 0.2849 - val_accuracy: 0.8959\n",
            "Epoch 3/500\n",
            "1875/1875 [==============================] - 13s 7ms/step - loss: 0.2700 - accuracy: 0.9033 - val_loss: 0.2645 - val_accuracy: 0.9057\n",
            "Epoch 4/500\n",
            "1875/1875 [==============================] - 13s 7ms/step - loss: 0.2344 - accuracy: 0.9144 - val_loss: 0.2565 - val_accuracy: 0.9067\n",
            "Epoch 5/500\n",
            "1875/1875 [==============================] - 13s 7ms/step - loss: 0.2138 - accuracy: 0.9223 - val_loss: 0.2462 - val_accuracy: 0.9133\n",
            "Epoch 6/500\n",
            "1875/1875 [==============================] - 13s 7ms/step - loss: 0.1957 - accuracy: 0.9287 - val_loss: 0.2476 - val_accuracy: 0.9145\n",
            "Epoch 7/500\n",
            "1875/1875 [==============================] - 14s 7ms/step - loss: 0.1789 - accuracy: 0.9339 - val_loss: 0.2564 - val_accuracy: 0.9159\n",
            "Epoch 8/500\n",
            "1875/1875 [==============================] - 13s 7ms/step - loss: 0.1669 - accuracy: 0.9384 - val_loss: 0.2399 - val_accuracy: 0.9173\n",
            "Epoch 9/500\n",
            "1875/1875 [==============================] - 14s 7ms/step - loss: 0.1546 - accuracy: 0.9433 - val_loss: 0.2573 - val_accuracy: 0.9169\n",
            "Epoch 10/500\n",
            "1875/1875 [==============================] - 14s 7ms/step - loss: 0.1414 - accuracy: 0.9481 - val_loss: 0.2634 - val_accuracy: 0.9196\n",
            "Epoch 11/500\n",
            "1875/1875 [==============================] - 14s 7ms/step - loss: 0.1312 - accuracy: 0.9515 - val_loss: 0.2701 - val_accuracy: 0.9224\n",
            "Epoch 12/500\n",
            "1875/1875 [==============================] - 13s 7ms/step - loss: 0.1223 - accuracy: 0.9543 - val_loss: 0.2607 - val_accuracy: 0.9213\n",
            "Epoch 13/500\n",
            "1875/1875 [==============================] - 14s 7ms/step - loss: 0.1164 - accuracy: 0.9571 - val_loss: 0.2850 - val_accuracy: 0.9227\n",
            "Epoch 14/500\n",
            "1875/1875 [==============================] - 14s 8ms/step - loss: 0.1106 - accuracy: 0.9581 - val_loss: 0.2946 - val_accuracy: 0.9191\n",
            "Epoch 15/500\n",
            "1875/1875 [==============================] - 13s 7ms/step - loss: 0.1035 - accuracy: 0.9618 - val_loss: 0.3022 - val_accuracy: 0.9209\n",
            "Epoch 16/500\n",
            "1875/1875 [==============================] - 13s 7ms/step - loss: 0.0980 - accuracy: 0.9633 - val_loss: 0.3193 - val_accuracy: 0.9162\n",
            "Epoch 17/500\n",
            "1875/1875 [==============================] - 13s 7ms/step - loss: 0.0923 - accuracy: 0.9665 - val_loss: 0.3235 - val_accuracy: 0.9200\n",
            "Epoch 18/500\n",
            "1875/1875 [==============================] - 13s 7ms/step - loss: 0.0892 - accuracy: 0.9665 - val_loss: 0.3256 - val_accuracy: 0.9200\n",
            "Epoch 19/500\n",
            "1875/1875 [==============================] - 13s 7ms/step - loss: 0.0841 - accuracy: 0.9689 - val_loss: 0.3145 - val_accuracy: 0.9184\n",
            "Epoch 20/500\n",
            "1875/1875 [==============================] - 13s 7ms/step - loss: 0.0813 - accuracy: 0.9700 - val_loss: 0.3571 - val_accuracy: 0.9189\n",
            "Epoch 21/500\n",
            "1875/1875 [==============================] - 13s 7ms/step - loss: 0.0796 - accuracy: 0.9706 - val_loss: 0.3779 - val_accuracy: 0.9185\n",
            "Epoch 22/500\n",
            "1875/1875 [==============================] - 13s 7ms/step - loss: 0.0770 - accuracy: 0.9720 - val_loss: 0.3554 - val_accuracy: 0.9205\n",
            "Epoch 23/500\n",
            "1875/1875 [==============================] - 13s 7ms/step - loss: 0.0746 - accuracy: 0.9724 - val_loss: 0.3821 - val_accuracy: 0.9166\n",
            "Epoch 24/500\n",
            "1875/1875 [==============================] - 13s 7ms/step - loss: 0.0688 - accuracy: 0.9749 - val_loss: 0.3740 - val_accuracy: 0.9168\n",
            "Epoch 25/500\n",
            "1875/1875 [==============================] - 13s 7ms/step - loss: 0.0662 - accuracy: 0.9758 - val_loss: 0.3965 - val_accuracy: 0.9198\n",
            "Epoch 26/500\n",
            "1875/1875 [==============================] - 13s 7ms/step - loss: 0.0679 - accuracy: 0.9753 - val_loss: 0.3662 - val_accuracy: 0.9196\n",
            "Epoch 27/500\n",
            "1875/1875 [==============================] - 13s 7ms/step - loss: 0.0663 - accuracy: 0.9760 - val_loss: 0.3978 - val_accuracy: 0.9205\n",
            "Epoch 28/500\n",
            "1875/1875 [==============================] - 13s 7ms/step - loss: 0.0609 - accuracy: 0.9775 - val_loss: 0.4078 - val_accuracy: 0.9203\n",
            "Epoch 29/500\n",
            "1875/1875 [==============================] - 13s 7ms/step - loss: 0.0617 - accuracy: 0.9781 - val_loss: 0.4113 - val_accuracy: 0.9201\n",
            "Epoch 30/500\n",
            "1875/1875 [==============================] - 13s 7ms/step - loss: 0.0586 - accuracy: 0.9782 - val_loss: 0.4341 - val_accuracy: 0.9176\n",
            "Epoch 31/500\n",
            "1875/1875 [==============================] - 13s 7ms/step - loss: 0.0602 - accuracy: 0.9787 - val_loss: 0.4193 - val_accuracy: 0.9201\n",
            "Epoch 32/500\n",
            "1875/1875 [==============================] - 13s 7ms/step - loss: 0.0562 - accuracy: 0.9803 - val_loss: 0.4095 - val_accuracy: 0.9178\n",
            "Epoch 33/500\n",
            "1875/1875 [==============================] - 13s 7ms/step - loss: 0.0531 - accuracy: 0.9808 - val_loss: 0.4540 - val_accuracy: 0.9208\n",
            "Epoch 34/500\n",
            "1875/1875 [==============================] - 13s 7ms/step - loss: 0.0538 - accuracy: 0.9804 - val_loss: 0.4414 - val_accuracy: 0.9214\n",
            "Epoch 35/500\n",
            "1875/1875 [==============================] - 13s 7ms/step - loss: 0.0537 - accuracy: 0.9813 - val_loss: 0.4666 - val_accuracy: 0.9214\n",
            "Epoch 36/500\n",
            "1875/1875 [==============================] - 13s 7ms/step - loss: 0.0499 - accuracy: 0.9821 - val_loss: 0.4395 - val_accuracy: 0.9223\n",
            "Epoch 37/500\n",
            "1875/1875 [==============================] - 13s 7ms/step - loss: 0.0485 - accuracy: 0.9826 - val_loss: 0.4626 - val_accuracy: 0.9198\n",
            "Epoch 38/500\n",
            "1875/1875 [==============================] - 13s 7ms/step - loss: 0.0511 - accuracy: 0.9819 - val_loss: 0.4773 - val_accuracy: 0.9217\n",
            "Epoch 39/500\n",
            "1875/1875 [==============================] - 13s 7ms/step - loss: 0.0459 - accuracy: 0.9841 - val_loss: 0.4640 - val_accuracy: 0.9188\n",
            "Epoch 40/500\n",
            "1875/1875 [==============================] - 13s 7ms/step - loss: 0.0498 - accuracy: 0.9823 - val_loss: 0.4667 - val_accuracy: 0.9216\n",
            "Epoch 41/500\n",
            "1875/1875 [==============================] - 13s 7ms/step - loss: 0.0504 - accuracy: 0.9826 - val_loss: 0.4757 - val_accuracy: 0.9192\n",
            "Epoch 42/500\n",
            "1875/1875 [==============================] - 13s 7ms/step - loss: 0.0453 - accuracy: 0.9840 - val_loss: 0.5250 - val_accuracy: 0.9188\n",
            "Epoch 43/500\n",
            "1875/1875 [==============================] - 13s 7ms/step - loss: 0.0441 - accuracy: 0.9851 - val_loss: 0.5487 - val_accuracy: 0.9164\n",
            "Epoch 44/500\n",
            "1875/1875 [==============================] - 13s 7ms/step - loss: 0.0454 - accuracy: 0.9838 - val_loss: 0.5450 - val_accuracy: 0.9202\n",
            "Epoch 45/500\n",
            "1875/1875 [==============================] - 13s 7ms/step - loss: 0.0437 - accuracy: 0.9853 - val_loss: 0.5394 - val_accuracy: 0.9169\n",
            "Epoch 46/500\n",
            "1875/1875 [==============================] - 13s 7ms/step - loss: 0.0448 - accuracy: 0.9844 - val_loss: 0.4870 - val_accuracy: 0.9208\n",
            "Epoch 47/500\n",
            "1875/1875 [==============================] - 13s 7ms/step - loss: 0.0449 - accuracy: 0.9843 - val_loss: 0.5094 - val_accuracy: 0.9227\n",
            "Epoch 48/500\n",
            "1875/1875 [==============================] - 13s 7ms/step - loss: 0.0440 - accuracy: 0.9849 - val_loss: 0.5245 - val_accuracy: 0.9195\n",
            "Epoch 49/500\n",
            "1875/1875 [==============================] - 13s 7ms/step - loss: 0.0438 - accuracy: 0.9849 - val_loss: 0.5570 - val_accuracy: 0.9173\n",
            "Epoch 50/500\n",
            "1875/1875 [==============================] - 13s 7ms/step - loss: 0.0428 - accuracy: 0.9850 - val_loss: 0.5312 - val_accuracy: 0.9210\n",
            "Epoch 51/500\n",
            "1875/1875 [==============================] - 13s 7ms/step - loss: 0.0424 - accuracy: 0.9858 - val_loss: 0.5220 - val_accuracy: 0.9221\n",
            "Epoch 52/500\n",
            "1875/1875 [==============================] - 13s 7ms/step - loss: 0.0422 - accuracy: 0.9863 - val_loss: 0.5510 - val_accuracy: 0.9175\n",
            "Epoch 53/500\n",
            "1875/1875 [==============================] - 13s 7ms/step - loss: 0.0383 - accuracy: 0.9866 - val_loss: 0.5225 - val_accuracy: 0.9206\n",
            "Epoch 54/500\n",
            "1875/1875 [==============================] - 13s 7ms/step - loss: 0.0387 - accuracy: 0.9865 - val_loss: 0.5689 - val_accuracy: 0.9244\n",
            "Epoch 55/500\n",
            "1875/1875 [==============================] - 13s 7ms/step - loss: 0.0400 - accuracy: 0.9861 - val_loss: 0.5660 - val_accuracy: 0.9229\n",
            "Epoch 56/500\n",
            "1875/1875 [==============================] - 13s 7ms/step - loss: 0.0357 - accuracy: 0.9879 - val_loss: 0.5547 - val_accuracy: 0.9199\n",
            "Epoch 57/500\n",
            "1875/1875 [==============================] - 13s 7ms/step - loss: 0.0383 - accuracy: 0.9868 - val_loss: 0.6266 - val_accuracy: 0.9222\n",
            "Epoch 58/500\n",
            "1875/1875 [==============================] - 13s 7ms/step - loss: 0.0414 - accuracy: 0.9864 - val_loss: 0.5566 - val_accuracy: 0.9229\n",
            "Epoch 59/500\n",
            "1875/1875 [==============================] - 13s 7ms/step - loss: 0.0382 - accuracy: 0.9872 - val_loss: 0.5619 - val_accuracy: 0.9197\n",
            "Epoch 60/500\n",
            "1875/1875 [==============================] - 13s 7ms/step - loss: 0.0394 - accuracy: 0.9863 - val_loss: 0.5260 - val_accuracy: 0.9200\n",
            "Epoch 61/500\n",
            "1875/1875 [==============================] - 13s 7ms/step - loss: 0.0349 - accuracy: 0.9883 - val_loss: 0.5872 - val_accuracy: 0.9227\n",
            "Epoch 62/500\n",
            "1875/1875 [==============================] - 13s 7ms/step - loss: 0.0354 - accuracy: 0.9880 - val_loss: 0.6203 - val_accuracy: 0.9181\n",
            "Epoch 63/500\n",
            "1875/1875 [==============================] - 13s 7ms/step - loss: 0.0378 - accuracy: 0.9872 - val_loss: 0.5727 - val_accuracy: 0.9218\n",
            "Epoch 64/500\n",
            "1875/1875 [==============================] - 13s 7ms/step - loss: 0.0374 - accuracy: 0.9878 - val_loss: 0.5849 - val_accuracy: 0.9205\n",
            "Epoch 65/500\n",
            "1875/1875 [==============================] - 13s 7ms/step - loss: 0.0364 - accuracy: 0.9874 - val_loss: 0.6345 - val_accuracy: 0.9213\n",
            "Epoch 66/500\n",
            "1875/1875 [==============================] - 13s 7ms/step - loss: 0.0379 - accuracy: 0.9875 - val_loss: 0.5985 - val_accuracy: 0.9188\n",
            "Epoch 67/500\n",
            "1875/1875 [==============================] - 13s 7ms/step - loss: 0.0361 - accuracy: 0.9875 - val_loss: 0.6101 - val_accuracy: 0.9183\n",
            "Epoch 68/500\n",
            "1875/1875 [==============================] - 13s 7ms/step - loss: 0.0330 - accuracy: 0.9887 - val_loss: 0.6771 - val_accuracy: 0.9167\n",
            "Epoch 69/500\n",
            "1875/1875 [==============================] - 13s 7ms/step - loss: 0.0370 - accuracy: 0.9876 - val_loss: 0.6383 - val_accuracy: 0.9226\n",
            "Epoch 70/500\n",
            "1875/1875 [==============================] - 13s 7ms/step - loss: 0.0377 - accuracy: 0.9881 - val_loss: 0.6250 - val_accuracy: 0.9187\n",
            "Epoch 71/500\n",
            "1875/1875 [==============================] - 13s 7ms/step - loss: 0.0330 - accuracy: 0.9895 - val_loss: 0.6043 - val_accuracy: 0.9205\n",
            "Epoch 72/500\n",
            "1875/1875 [==============================] - 13s 7ms/step - loss: 0.0355 - accuracy: 0.9888 - val_loss: 0.6707 - val_accuracy: 0.9181\n",
            "Epoch 73/500\n",
            "1875/1875 [==============================] - 13s 7ms/step - loss: 0.0321 - accuracy: 0.9892 - val_loss: 0.5706 - val_accuracy: 0.9210\n",
            "Epoch 74/500\n",
            "1875/1875 [==============================] - 13s 7ms/step - loss: 0.0371 - accuracy: 0.9885 - val_loss: 0.5977 - val_accuracy: 0.9208\n",
            "Epoch 75/500\n",
            "1875/1875 [==============================] - 13s 7ms/step - loss: 0.0309 - accuracy: 0.9897 - val_loss: 0.6246 - val_accuracy: 0.9223\n",
            "Epoch 76/500\n",
            "1875/1875 [==============================] - 13s 7ms/step - loss: 0.0350 - accuracy: 0.9887 - val_loss: 0.6016 - val_accuracy: 0.9204\n",
            "Epoch 77/500\n",
            "1875/1875 [==============================] - 13s 7ms/step - loss: 0.0335 - accuracy: 0.9890 - val_loss: 0.6153 - val_accuracy: 0.9222\n",
            "Epoch 78/500\n",
            "1875/1875 [==============================] - 13s 7ms/step - loss: 0.0358 - accuracy: 0.9888 - val_loss: 0.6377 - val_accuracy: 0.9199\n",
            "Epoch 79/500\n",
            "1875/1875 [==============================] - 14s 7ms/step - loss: 0.0284 - accuracy: 0.9906 - val_loss: 0.7121 - val_accuracy: 0.9214\n",
            "Epoch 80/500\n",
            "1875/1875 [==============================] - 13s 7ms/step - loss: 0.0342 - accuracy: 0.9890 - val_loss: 0.6020 - val_accuracy: 0.9214\n",
            "Epoch 81/500\n",
            "1875/1875 [==============================] - 13s 7ms/step - loss: 0.0347 - accuracy: 0.9890 - val_loss: 0.6260 - val_accuracy: 0.9181\n",
            "Epoch 82/500\n",
            "1875/1875 [==============================] - 13s 7ms/step - loss: 0.0342 - accuracy: 0.9886 - val_loss: 0.6291 - val_accuracy: 0.9185\n",
            "Epoch 83/500\n",
            "1875/1875 [==============================] - 13s 7ms/step - loss: 0.0345 - accuracy: 0.9893 - val_loss: 0.6189 - val_accuracy: 0.9212\n",
            "Epoch 84/500\n",
            "1875/1875 [==============================] - 13s 7ms/step - loss: 0.0315 - accuracy: 0.9896 - val_loss: 0.6748 - val_accuracy: 0.9211\n",
            "Epoch 85/500\n",
            "1875/1875 [==============================] - 14s 7ms/step - loss: 0.0312 - accuracy: 0.9897 - val_loss: 0.6921 - val_accuracy: 0.9218\n",
            "Epoch 86/500\n",
            "1875/1875 [==============================] - 13s 7ms/step - loss: 0.0324 - accuracy: 0.9897 - val_loss: 0.6637 - val_accuracy: 0.9215\n",
            "Epoch 87/500\n",
            "1875/1875 [==============================] - 13s 7ms/step - loss: 0.0318 - accuracy: 0.9901 - val_loss: 0.6744 - val_accuracy: 0.9222\n",
            "Epoch 88/500\n",
            "1875/1875 [==============================] - 13s 7ms/step - loss: 0.0312 - accuracy: 0.9900 - val_loss: 0.7469 - val_accuracy: 0.9173\n",
            "Epoch 89/500\n",
            "1875/1875 [==============================] - 13s 7ms/step - loss: 0.0347 - accuracy: 0.9896 - val_loss: 0.7064 - val_accuracy: 0.9203\n",
            "Epoch 90/500\n",
            "1875/1875 [==============================] - 13s 7ms/step - loss: 0.0305 - accuracy: 0.9900 - val_loss: 0.6960 - val_accuracy: 0.9205\n",
            "Epoch 91/500\n",
            "1875/1875 [==============================] - 13s 7ms/step - loss: 0.0289 - accuracy: 0.9904 - val_loss: 0.6888 - val_accuracy: 0.9210\n",
            "Epoch 92/500\n",
            "1875/1875 [==============================] - 13s 7ms/step - loss: 0.0291 - accuracy: 0.9906 - val_loss: 0.6593 - val_accuracy: 0.9201\n",
            "Epoch 93/500\n",
            "1875/1875 [==============================] - 13s 7ms/step - loss: 0.0321 - accuracy: 0.9901 - val_loss: 0.6800 - val_accuracy: 0.9195\n",
            "Epoch 94/500\n",
            "1875/1875 [==============================] - 13s 7ms/step - loss: 0.0285 - accuracy: 0.9908 - val_loss: 0.7429 - val_accuracy: 0.9176\n",
            "Epoch 95/500\n",
            "1875/1875 [==============================] - 13s 7ms/step - loss: 0.0327 - accuracy: 0.9898 - val_loss: 0.7203 - val_accuracy: 0.9226\n",
            "Epoch 96/500\n",
            "1875/1875 [==============================] - 13s 7ms/step - loss: 0.0275 - accuracy: 0.9915 - val_loss: 0.7417 - val_accuracy: 0.9184\n",
            "Epoch 97/500\n",
            "1875/1875 [==============================] - 13s 7ms/step - loss: 0.0305 - accuracy: 0.9908 - val_loss: 0.7085 - val_accuracy: 0.9195\n",
            "Epoch 98/500\n",
            "1875/1875 [==============================] - 13s 7ms/step - loss: 0.0295 - accuracy: 0.9905 - val_loss: 0.7620 - val_accuracy: 0.9156\n",
            "Epoch 99/500\n",
            "1875/1875 [==============================] - 13s 7ms/step - loss: 0.0323 - accuracy: 0.9897 - val_loss: 0.7744 - val_accuracy: 0.9201\n",
            "Epoch 100/500\n",
            "1875/1875 [==============================] - 13s 7ms/step - loss: 0.0333 - accuracy: 0.9900 - val_loss: 0.5961 - val_accuracy: 0.9179\n",
            "Epoch 101/500\n",
            "1875/1875 [==============================] - 13s 7ms/step - loss: 0.0294 - accuracy: 0.9913 - val_loss: 0.6386 - val_accuracy: 0.9188\n",
            "Epoch 102/500\n",
            "1875/1875 [==============================] - 14s 7ms/step - loss: 0.0275 - accuracy: 0.9913 - val_loss: 0.7131 - val_accuracy: 0.9225\n",
            "Epoch 103/500\n",
            "1875/1875 [==============================] - 13s 7ms/step - loss: 0.0314 - accuracy: 0.9897 - val_loss: 0.6800 - val_accuracy: 0.9191\n",
            "Epoch 104/500\n",
            "1875/1875 [==============================] - 13s 7ms/step - loss: 0.0309 - accuracy: 0.9901 - val_loss: 0.7281 - val_accuracy: 0.9200\n",
            "Epoch 00104: early stopping\n"
          ],
          "name": "stdout"
        }
      ]
    },
    {
      "cell_type": "code",
      "metadata": {
        "colab": {
          "base_uri": "https://localhost:8080/"
        },
        "id": "CmVoPDKs4M6y",
        "outputId": "e4054626-eb2b-4f80-8d80-040aa7f9b905"
      },
      "source": [
        "c2f3.evaluate(X_test, y_test, batch_size =32)"
      ],
      "execution_count": 75,
      "outputs": [
        {
          "output_type": "stream",
          "text": [
            "313/313 [==============================] - 1s 4ms/step - loss: 0.7281 - accuracy: 0.9200\n"
          ],
          "name": "stdout"
        },
        {
          "output_type": "execute_result",
          "data": {
            "text/plain": [
              "[0.7280572652816772, 0.9200000166893005]"
            ]
          },
          "metadata": {
            "tags": []
          },
          "execution_count": 75
        }
      ]
    },
    {
      "cell_type": "code",
      "metadata": {
        "colab": {
          "base_uri": "https://localhost:8080/",
          "height": 313
        },
        "id": "4XhZ6AZK4PtW",
        "outputId": "c4c388d5-46c5-46e1-dc38-e06164e3eeab"
      },
      "source": [
        "# Plot loass and accuracy\n",
        "# Plot training & validation accuracy values\n",
        "epochs = 104\n",
        "loss_list = [100 * i for i in hist.history['loss']]\n",
        "acc_list = [100 * i for i in hist.history['accuracy']]\n",
        "plt.plot(range(1,epochs+1),loss_list) \n",
        "plt.plot(range(1,epochs+1),acc_list) \n",
        "plt.title('Model loss & accuracy')\n",
        "plt.ylabel('Accuracy (%)')\n",
        "plt.xlabel('Epoch')\n",
        "plt.legend(['loss', 'accuracy'], loc='center left')"
      ],
      "execution_count": 76,
      "outputs": [
        {
          "output_type": "execute_result",
          "data": {
            "text/plain": [
              "<matplotlib.legend.Legend at 0x7fad501e4e48>"
            ]
          },
          "metadata": {
            "tags": []
          },
          "execution_count": 76
        },
        {
          "output_type": "display_data",
          "data": {
            "image/png": "[encoded data removed]",
            "text/plain": [
              "<Figure size 432x288 with 1 Axes>"
            ]
          },
          "metadata": {
            "tags": [],
            "needs_background": "light"
          }
        }
      ]
    },
    {
      "cell_type": "code",
      "metadata": {
        "id": "QPvQf4m54Sub"
      },
      "source": [
        "vloss_list = [100 * i for i in hist.history['val_loss']]\n",
        "vacc_list = [100 * i for i in hist.history['val_accuracy']]"
      ],
      "execution_count": 77,
      "outputs": []
    },
    {
      "cell_type": "code",
      "metadata": {
        "colab": {
          "base_uri": "https://localhost:8080/",
          "height": 313
        },
        "id": "eJMXF3px4V0i",
        "outputId": "a2fbf19d-48f6-40f5-859d-06e19ddb1dc8"
      },
      "source": [
        "plt.plot(range(1,epochs+1),vloss_list)  \n",
        "plt.plot(range(1,epochs+1),vacc_list)  \n",
        "plt.title('Model val_loss & val_accuracy')\n",
        "plt.ylabel('Accuracy (%)')\n",
        "plt.xlabel('Epoch')\n",
        "plt.legend(['val_loss', 'val_accuracy'], loc='center left')"
      ],
      "execution_count": 78,
      "outputs": [
        {
          "output_type": "execute_result",
          "data": {
            "text/plain": [
              "<matplotlib.legend.Legend at 0x7facf4488e80>"
            ]
          },
          "metadata": {
            "tags": []
          },
          "execution_count": 78
        },
        {
          "output_type": "display_data",
          "data": {
            "image/png": "[encoded data removed]",
            "text/plain": [
              "<Figure size 432x288 with 1 Axes>"
            ]
          },
          "metadata": {
            "tags": [],
            "needs_background": "light"
          }
        }
      ]
    },
    {
      "cell_type": "code",
      "metadata": {
        "colab": {
          "base_uri": "https://localhost:8080/"
        },
        "id": "0L_1Qvre4YNy",
        "outputId": "99f71744-fc59-4a59-84ba-321d26debc4e"
      },
      "source": [
        "np.argmax(np.array(vacc_list))"
      ],
      "execution_count": 79,
      "outputs": [
        {
          "output_type": "execute_result",
          "data": {
            "text/plain": [
              "53"
            ]
          },
          "metadata": {
            "tags": []
          },
          "execution_count": 79
        }
      ]
    },
    {
      "cell_type": "code",
      "metadata": {
        "colab": {
          "base_uri": "https://localhost:8080/"
        },
        "id": "TkiBgxTO4amH",
        "outputId": "53c645e2-68c4-42d0-af36-845c4ff34f35"
      },
      "source": [
        "vacc_list[np.argmax(np.array(vacc_list))]"
      ],
      "execution_count": 80,
      "outputs": [
        {
          "output_type": "execute_result",
          "data": {
            "text/plain": [
              "92.43999719619751"
            ]
          },
          "metadata": {
            "tags": []
          },
          "execution_count": 80
        }
      ]
    },
    {
      "cell_type": "code",
      "metadata": {
        "colab": {
          "base_uri": "https://localhost:8080/",
          "height": 313
        },
        "id": "x4BL5SPl4csU",
        "outputId": "5ae7c3f6-2c58-442d-a1aa-07f9098b6f40"
      },
      "source": [
        "plt.plot(range(1,epochs+1),acc_list)  \n",
        "plt.plot(range(1,epochs+1),vacc_list)  \n",
        "plt.title('accuracy vs. val_accuracy')\n",
        "plt.ylabel('Accuracy (%)')\n",
        "plt.xlabel('Epoch')\n",
        "plt.legend(['accuracy','val_accuracy'], loc='center')\n",
        "plt.plot(np.argmax(np.array(vacc_list))+1,vacc_list[np.argmax(np.array(vacc_list))], 'r*') "
      ],
      "execution_count": 81,
      "outputs": [
        {
          "output_type": "execute_result",
          "data": {
            "text/plain": [
              "[<matplotlib.lines.Line2D at 0x7facf87385c0>]"
            ]
          },
          "metadata": {
            "tags": []
          },
          "execution_count": 81
        },
        {
          "output_type": "display_data",
          "data": {
            "image/png": "[encoded data removed]",
            "text/plain": [
              "<Figure size 432x288 with 1 Axes>"
            ]
          },
          "metadata": {
            "tags": [],
            "needs_background": "light"
          }
        }
      ]
    },
    {
      "cell_type": "code",
      "metadata": {
        "id": "2iz8IKhr4fAP"
      },
      "source": [
        "c2f3.save('c2f3_best.hdf5')"
      ],
      "execution_count": 82,
      "outputs": []
    },
    {
      "cell_type": "code",
      "metadata": {
        "colab": {
          "base_uri": "https://localhost:8080/"
        },
        "id": "ImwA0pPc4i8V",
        "outputId": "8bb497ba-ad70-415a-ac64-a9703c46d0f0"
      },
      "source": [
        "from keras.models import load_model\n",
        "\n",
        "model = load_model('mnist_c2f3_best_weights.054-0.9244.hdf5')\n",
        "model.evaluate(X_test, y_test, batch_size=32)"
      ],
      "execution_count": 84,
      "outputs": [
        {
          "output_type": "stream",
          "text": [
            "313/313 [==============================] - 1s 4ms/step - loss: 0.5689 - accuracy: 0.9244\n"
          ],
          "name": "stdout"
        },
        {
          "output_type": "execute_result",
          "data": {
            "text/plain": [
              "[0.5688945651054382, 0.9243999719619751]"
            ]
          },
          "metadata": {
            "tags": []
          },
          "execution_count": 84
        }
      ]
    },
    {
      "cell_type": "markdown",
      "metadata": {
        "id": "GkTGIOFz0TDK"
      },
      "source": [
        "***"
      ]
    },
    {
      "cell_type": "markdown",
      "metadata": {
        "id": "PHiuK2xu0WSE"
      },
      "source": [
        "## [DIY] fashion mnist model의 best model을 구하시오.\n",
        "\n",
        "- github의 \"py-tensorflow\" 폴더에 tf2_7_fmnist_CNN_best.ipynb 파일을 올리시오. \n",
        "- github의 \"py-tensorflow/st-code/model\" 폴더에 best model(hdf5 파일)을 올리시오. \n",
        "\n",
        "> fashion mnist 데이터 로딩\n",
        "```\n",
        "from keras.datasets import fashion_mnist\n",
        "(X_train0, y_train0), (X_test0, y_test0) = fashion_mnist.load_data()\n",
        "```"
      ]
    },
    {
      "cell_type": "markdown",
      "metadata": {
        "id": "HZSJkmyAyoBL"
      },
      "source": [
        "### callbacks\n",
        "\n",
        "- cp_callback = callbacks.ModelCheckpoint(filepath=\"./fmnist.{epoch:03d}-{val_accuracy:.4f}.hdf5\", monitor='val_accuracy', verbose=0, save_best_only=True)\n",
        "- es_callback = callbacks.EarlyStopping(monitor='val_accuracy', mode='max', verbose=1, patience=50)    # patience=10, 20, 50"
      ]
    },
    {
      "cell_type": "code",
      "metadata": {
        "id": "0b5-jE6Z1U6-"
      },
      "source": [
        "from keras.datasets import fashion_mnist\n",
        "(X_train0, y_train0), (X_test0, y_test0) = fashion_mnist.load_data()"
      ],
      "execution_count": 85,
      "outputs": []
    },
    {
      "cell_type": "code",
      "metadata": {
        "colab": {
          "base_uri": "https://localhost:8080/"
        },
        "id": "yYUu4cGxxgYV",
        "outputId": "19a22e18-6dbd-4d6b-8386-4cc3aef68ce4"
      },
      "source": [
        "print('Train: X=%s, y=%s' % (X_train0.shape, y_train0.shape))\n",
        "print('Test: X=%s, y=%s' % (X_train0.shape, y_train0.shape))"
      ],
      "execution_count": 86,
      "outputs": [
        {
          "output_type": "stream",
          "text": [
            "Train: X=(60000, 28, 28), y=(60000,)\n",
            "Test: X=(60000, 28, 28), y=(60000,)\n"
          ],
          "name": "stdout"
        }
      ]
    },
    {
      "cell_type": "code",
      "metadata": {
        "colab": {
          "base_uri": "https://localhost:8080/",
          "height": 268
        },
        "id": "Gb2deWwwxua1",
        "outputId": "332b0dac-5976-4868-ce19-0b6d2ee39a57"
      },
      "source": [
        "for i in range(9):\n",
        "\t# define subplot\n",
        "\tplt.subplot(330 + 1 + i)\n",
        "\t# plot raw pixel data\n",
        "\tplt.imshow(X_train0[i], cmap=plt.get_cmap('gray'))\n",
        "# show the figure\n",
        "plt.show()"
      ],
      "execution_count": 87,
      "outputs": [
        {
          "output_type": "display_data",
          "data": {
            "image/png": "[encoded data removed]",
            "text/plain": [
              "<Figure size 432x288 with 9 Axes>"
            ]
          },
          "metadata": {
            "tags": [],
            "needs_background": "light"
          }
        }
      ]
    },
    {
      "cell_type": "code",
      "metadata": {
        "colab": {
          "base_uri": "https://localhost:8080/"
        },
        "id": "x9D3vq16y32L",
        "outputId": "1b24c5f5-9487-4db6-d20c-3bb11123bebd"
      },
      "source": [
        "# Reshape\n",
        "X_train = X_train0.reshape(60000,28,28,1)\n",
        "X_test = X_test0.reshape(10000,28,28,1)\n",
        "\n",
        "# Normalization\n",
        "X_train, X_test = X_train/255.0, X_test/255.0 # 정규화\n",
        "\n",
        "print(\"X_train={0}\".format(X_train.shape))\n",
        "print(\"y_train={0}\".format(y_train0.shape)) \n",
        "print(\"X_test={0}\".format(X_test.shape))\n",
        "print(\"y_test={0}\".format(y_test0.shape))"
      ],
      "execution_count": 88,
      "outputs": [
        {
          "output_type": "stream",
          "text": [
            "X_train=(60000, 28, 28, 1)\n",
            "y_train=(60000,)\n",
            "X_test=(10000, 28, 28, 1)\n",
            "y_test=(10000,)\n"
          ],
          "name": "stdout"
        }
      ]
    },
    {
      "cell_type": "code",
      "metadata": {
        "colab": {
          "base_uri": "https://localhost:8080/"
        },
        "id": "S6M3lyd3y77I",
        "outputId": "57b93cbb-7518-4a3d-9547-567d1f19f33a"
      },
      "source": [
        "y_train = to_categorical(y_train0, 10)\n",
        "y_test = to_categorical(y_test0, 10)\n",
        "y_train.shape,y_test.shape"
      ],
      "execution_count": 89,
      "outputs": [
        {
          "output_type": "execute_result",
          "data": {
            "text/plain": [
              "((60000, 10), (10000, 10))"
            ]
          },
          "metadata": {
            "tags": []
          },
          "execution_count": 89
        }
      ]
    },
    {
      "cell_type": "code",
      "metadata": {
        "colab": {
          "base_uri": "https://localhost:8080/",
          "height": 286
        },
        "id": "8S392OQfzNps",
        "outputId": "3ca80bbb-431c-485c-dd0e-cf523a7228b0"
      },
      "source": [
        "class_names = [\"0\",\"1\",\"2\",\"3\",\"4\",\"5\",\"6\",\"7\",\"8\",\"9\"]\n",
        "\n",
        "idx = np.random.randint(0, X_train0.shape[0])\n",
        "print(idx)\n",
        "image = X_train0[idx]\n",
        "plt.imshow(image) #, cmap=plt.get_cmap('gray'))\n",
        "plt.title(class_names[y_train0[idx]])\n",
        "plt.xticks([])\n",
        "plt.yticks([])\n",
        "plt.show()"
      ],
      "execution_count": 90,
      "outputs": [
        {
          "output_type": "stream",
          "text": [
            "3147\n"
          ],
          "name": "stdout"
        },
        {
          "output_type": "display_data",
          "data": {
            "image/png": "[encoded data removed]",
            "text/plain": [
              "<Figure size 432x288 with 1 Axes>"
            ]
          },
          "metadata": {
            "tags": []
          }
        }
      ]
    },
    {
      "cell_type": "code",
      "metadata": {
        "colab": {
          "base_uri": "https://localhost:8080/",
          "height": 325
        },
        "id": "10a2L19VzS11",
        "outputId": "5111552e-7da8-4714-d6fd-829aa74f077c"
      },
      "source": [
        "fig = plt.figure(figsize=(10,6))\n",
        "for i in range(10):\n",
        "    plt.subplot(2, 5, i+1)\n",
        "    num0_9 = X_train0[y_train0 == i]\n",
        "    # print(num0_9.shape)\n",
        "    plt.imshow(num0_9[0]) #, cmap='gray') #, interpolation='none')\n",
        "    plt.title(\"Class %d\" % (i))\n",
        "    plt.xticks([])\n",
        "    plt.yticks([])"
      ],
      "execution_count": 91,
      "outputs": [
        {
          "output_type": "display_data",
          "data": {
            "image/png": "[encoded data removed]",
            "text/plain": [
              "<Figure size 720x432 with 10 Axes>"
            ]
          },
          "metadata": {
            "tags": []
          }
        }
      ]
    },
    {
      "cell_type": "code",
      "metadata": {
        "id": "KZ94dteNzZ3S"
      },
      "source": [
        "fmm = keras.models.Sequential([ \n",
        "    Conv2D(input_shape=(28,28,1),kernel_size=(3,3),strides=(1,1),filters= 32,padding='same',activation='relu'),\n",
        "    MaxPool2D(pool_size=(2,2), strides=(2,2)), \n",
        "    Conv2D(kernel_size=(3,3),strides=(1,1),filters= 64,padding='same',activation='relu'),\n",
        "    MaxPool2D(pool_size=(2,2), strides=(2,2)),\n",
        "    Flatten(), \n",
        "    keras.layers.Dense(128, activation='relu'),  \n",
        "    keras.layers.Dropout(0.25), \n",
        "    keras.layers.Dense(10, activation='softmax')\n",
        "])\n",
        "\n",
        "fmm.compile(optimizer='adam',\n",
        "              loss='categorical_crossentropy',\n",
        "              metrics=['accuracy']) "
      ],
      "execution_count": 92,
      "outputs": []
    },
    {
      "cell_type": "code",
      "metadata": {
        "id": "UbxG3T7zzoa2"
      },
      "source": [
        "cp_callback = callbacks.ModelCheckpoint(filepath=\"./fmm.{epoch:03d}-{val_accuracy:.4f}.hdf5\", \n",
        "                              monitor='val_accuracy', verbose=0, save_best_only=True)\n",
        "es_callback = callbacks.EarlyStopping(monitor='val_accuracy', \n",
        "                            mode='max', verbose=1, patience=50)    # patience=10, 20, 50"
      ],
      "execution_count": 93,
      "outputs": []
    },
    {
      "cell_type": "code",
      "metadata": {
        "colab": {
          "base_uri": "https://localhost:8080/"
        },
        "id": "oAE1lwu5zivA",
        "outputId": "39b6507d-5c79-406d-a3dd-cd550e40ef17"
      },
      "source": [
        "hist = fmm.fit(X_train, y_train, epochs = 500 , batch_size =32, \n",
        "         callbacks=[cp_callback, es_callback], \n",
        "         validation_data=(X_test,y_test))"
      ],
      "execution_count": 94,
      "outputs": [
        {
          "output_type": "stream",
          "text": [
            "Epoch 1/500\n",
            "1875/1875 [==============================] - 12s 6ms/step - loss: 0.4675 - accuracy: 0.8322 - val_loss: 0.3380 - val_accuracy: 0.8794\n",
            "Epoch 2/500\n",
            "1875/1875 [==============================] - 12s 6ms/step - loss: 0.3108 - accuracy: 0.8877 - val_loss: 0.2843 - val_accuracy: 0.8932\n",
            "Epoch 3/500\n",
            "1875/1875 [==============================] - 12s 6ms/step - loss: 0.2605 - accuracy: 0.9051 - val_loss: 0.2625 - val_accuracy: 0.9041\n",
            "Epoch 4/500\n",
            "1875/1875 [==============================] - 12s 6ms/step - loss: 0.2285 - accuracy: 0.9158 - val_loss: 0.2415 - val_accuracy: 0.9114\n",
            "Epoch 5/500\n",
            "1875/1875 [==============================] - 12s 6ms/step - loss: 0.2084 - accuracy: 0.9229 - val_loss: 0.2612 - val_accuracy: 0.9057\n",
            "Epoch 6/500\n",
            "1875/1875 [==============================] - 12s 6ms/step - loss: 0.1854 - accuracy: 0.9316 - val_loss: 0.2373 - val_accuracy: 0.9135\n",
            "Epoch 7/500\n",
            "1875/1875 [==============================] - 12s 7ms/step - loss: 0.1712 - accuracy: 0.9355 - val_loss: 0.2330 - val_accuracy: 0.9194\n",
            "Epoch 8/500\n",
            "1875/1875 [==============================] - 12s 7ms/step - loss: 0.1551 - accuracy: 0.9413 - val_loss: 0.2286 - val_accuracy: 0.9208\n",
            "Epoch 9/500\n",
            "1875/1875 [==============================] - 12s 6ms/step - loss: 0.1419 - accuracy: 0.9463 - val_loss: 0.2458 - val_accuracy: 0.9224\n",
            "Epoch 10/500\n",
            "1875/1875 [==============================] - 12s 6ms/step - loss: 0.1300 - accuracy: 0.9506 - val_loss: 0.2566 - val_accuracy: 0.9148\n",
            "Epoch 11/500\n",
            "1875/1875 [==============================] - 12s 6ms/step - loss: 0.1208 - accuracy: 0.9538 - val_loss: 0.2712 - val_accuracy: 0.9209\n",
            "Epoch 12/500\n",
            "1875/1875 [==============================] - 13s 7ms/step - loss: 0.1100 - accuracy: 0.9582 - val_loss: 0.2805 - val_accuracy: 0.9160\n",
            "Epoch 13/500\n",
            "1875/1875 [==============================] - 13s 7ms/step - loss: 0.1030 - accuracy: 0.9603 - val_loss: 0.2783 - val_accuracy: 0.9236\n",
            "Epoch 14/500\n",
            "1875/1875 [==============================] - 12s 7ms/step - loss: 0.0962 - accuracy: 0.9633 - val_loss: 0.2900 - val_accuracy: 0.9252\n",
            "Epoch 15/500\n",
            "1875/1875 [==============================] - 12s 6ms/step - loss: 0.0887 - accuracy: 0.9653 - val_loss: 0.3360 - val_accuracy: 0.9115\n",
            "Epoch 16/500\n",
            "1875/1875 [==============================] - 12s 6ms/step - loss: 0.0864 - accuracy: 0.9665 - val_loss: 0.2921 - val_accuracy: 0.9230\n",
            "Epoch 17/500\n",
            "1875/1875 [==============================] - 12s 6ms/step - loss: 0.0790 - accuracy: 0.9697 - val_loss: 0.3395 - val_accuracy: 0.9133\n",
            "Epoch 18/500\n",
            "1875/1875 [==============================] - 12s 6ms/step - loss: 0.0770 - accuracy: 0.9701 - val_loss: 0.3383 - val_accuracy: 0.9212\n",
            "Epoch 19/500\n",
            "1875/1875 [==============================] - 12s 7ms/step - loss: 0.0745 - accuracy: 0.9708 - val_loss: 0.3826 - val_accuracy: 0.9130\n",
            "Epoch 20/500\n",
            "1875/1875 [==============================] - 12s 6ms/step - loss: 0.0682 - accuracy: 0.9738 - val_loss: 0.3596 - val_accuracy: 0.9229\n",
            "Epoch 21/500\n",
            "1875/1875 [==============================] - 12s 6ms/step - loss: 0.0631 - accuracy: 0.9758 - val_loss: 0.3653 - val_accuracy: 0.9218\n",
            "Epoch 22/500\n",
            "1875/1875 [==============================] - 12s 6ms/step - loss: 0.0629 - accuracy: 0.9760 - val_loss: 0.3747 - val_accuracy: 0.9238\n",
            "Epoch 23/500\n",
            "1875/1875 [==============================] - 12s 6ms/step - loss: 0.0605 - accuracy: 0.9767 - val_loss: 0.3984 - val_accuracy: 0.9198\n",
            "Epoch 24/500\n",
            "1875/1875 [==============================] - 12s 6ms/step - loss: 0.0598 - accuracy: 0.9767 - val_loss: 0.3965 - val_accuracy: 0.9187\n",
            "Epoch 25/500\n",
            "1875/1875 [==============================] - 12s 6ms/step - loss: 0.0574 - accuracy: 0.9780 - val_loss: 0.4078 - val_accuracy: 0.9225\n",
            "Epoch 26/500\n",
            "1875/1875 [==============================] - 12s 6ms/step - loss: 0.0545 - accuracy: 0.9791 - val_loss: 0.4007 - val_accuracy: 0.9205\n",
            "Epoch 27/500\n",
            "1875/1875 [==============================] - 12s 7ms/step - loss: 0.0526 - accuracy: 0.9798 - val_loss: 0.4741 - val_accuracy: 0.9186\n",
            "Epoch 28/500\n",
            "1875/1875 [==============================] - 12s 7ms/step - loss: 0.0540 - accuracy: 0.9788 - val_loss: 0.4222 - val_accuracy: 0.9221\n",
            "Epoch 29/500\n",
            "1875/1875 [==============================] - 13s 7ms/step - loss: 0.0511 - accuracy: 0.9809 - val_loss: 0.4161 - val_accuracy: 0.9191\n",
            "Epoch 30/500\n",
            "1875/1875 [==============================] - 13s 7ms/step - loss: 0.0485 - accuracy: 0.9823 - val_loss: 0.4447 - val_accuracy: 0.9178\n",
            "Epoch 31/500\n",
            "1875/1875 [==============================] - 13s 7ms/step - loss: 0.0502 - accuracy: 0.9807 - val_loss: 0.4621 - val_accuracy: 0.9228\n",
            "Epoch 32/500\n",
            "1875/1875 [==============================] - 12s 7ms/step - loss: 0.0474 - accuracy: 0.9818 - val_loss: 0.4598 - val_accuracy: 0.9173\n",
            "Epoch 33/500\n",
            "1875/1875 [==============================] - 12s 6ms/step - loss: 0.0467 - accuracy: 0.9824 - val_loss: 0.4699 - val_accuracy: 0.9182\n",
            "Epoch 34/500\n",
            "1875/1875 [==============================] - 12s 6ms/step - loss: 0.0440 - accuracy: 0.9829 - val_loss: 0.5129 - val_accuracy: 0.9195\n",
            "Epoch 35/500\n",
            "1875/1875 [==============================] - 12s 6ms/step - loss: 0.0457 - accuracy: 0.9830 - val_loss: 0.4845 - val_accuracy: 0.9168\n",
            "Epoch 36/500\n",
            "1875/1875 [==============================] - 12s 6ms/step - loss: 0.0440 - accuracy: 0.9833 - val_loss: 0.5463 - val_accuracy: 0.9197\n",
            "Epoch 37/500\n",
            "1875/1875 [==============================] - 12s 6ms/step - loss: 0.0451 - accuracy: 0.9836 - val_loss: 0.5001 - val_accuracy: 0.9166\n",
            "Epoch 38/500\n",
            "1875/1875 [==============================] - 13s 7ms/step - loss: 0.0438 - accuracy: 0.9837 - val_loss: 0.4945 - val_accuracy: 0.9241\n",
            "Epoch 39/500\n",
            "1875/1875 [==============================] - 12s 6ms/step - loss: 0.0424 - accuracy: 0.9834 - val_loss: 0.5034 - val_accuracy: 0.9203\n",
            "Epoch 40/500\n",
            "1875/1875 [==============================] - 12s 6ms/step - loss: 0.0401 - accuracy: 0.9847 - val_loss: 0.5580 - val_accuracy: 0.9223\n",
            "Epoch 41/500\n",
            "1875/1875 [==============================] - 12s 6ms/step - loss: 0.0445 - accuracy: 0.9837 - val_loss: 0.5283 - val_accuracy: 0.9181\n",
            "Epoch 42/500\n",
            "1875/1875 [==============================] - 12s 6ms/step - loss: 0.0408 - accuracy: 0.9848 - val_loss: 0.6053 - val_accuracy: 0.9175\n",
            "Epoch 43/500\n",
            "1875/1875 [==============================] - 12s 6ms/step - loss: 0.0401 - accuracy: 0.9852 - val_loss: 0.5369 - val_accuracy: 0.9198\n",
            "Epoch 44/500\n",
            "1875/1875 [==============================] - 12s 7ms/step - loss: 0.0364 - accuracy: 0.9859 - val_loss: 0.5291 - val_accuracy: 0.9221\n",
            "Epoch 45/500\n",
            "1875/1875 [==============================] - 12s 6ms/step - loss: 0.0374 - accuracy: 0.9861 - val_loss: 0.5753 - val_accuracy: 0.9199\n",
            "Epoch 46/500\n",
            "1875/1875 [==============================] - 12s 6ms/step - loss: 0.0401 - accuracy: 0.9854 - val_loss: 0.5765 - val_accuracy: 0.9220\n",
            "Epoch 47/500\n",
            "1875/1875 [==============================] - 12s 6ms/step - loss: 0.0345 - accuracy: 0.9867 - val_loss: 0.5395 - val_accuracy: 0.9205\n",
            "Epoch 48/500\n",
            "1875/1875 [==============================] - 12s 6ms/step - loss: 0.0370 - accuracy: 0.9864 - val_loss: 0.5701 - val_accuracy: 0.9230\n",
            "Epoch 49/500\n",
            "1875/1875 [==============================] - 12s 6ms/step - loss: 0.0367 - accuracy: 0.9862 - val_loss: 0.5846 - val_accuracy: 0.9212\n",
            "Epoch 50/500\n",
            "1875/1875 [==============================] - 12s 6ms/step - loss: 0.0360 - accuracy: 0.9872 - val_loss: 0.5964 - val_accuracy: 0.9180\n",
            "Epoch 51/500\n",
            "1875/1875 [==============================] - 12s 6ms/step - loss: 0.0339 - accuracy: 0.9874 - val_loss: 0.5951 - val_accuracy: 0.9203\n",
            "Epoch 52/500\n",
            "1875/1875 [==============================] - 12s 6ms/step - loss: 0.0325 - accuracy: 0.9880 - val_loss: 0.5967 - val_accuracy: 0.9201\n",
            "Epoch 53/500\n",
            "1875/1875 [==============================] - 12s 6ms/step - loss: 0.0357 - accuracy: 0.9869 - val_loss: 0.5998 - val_accuracy: 0.9219\n",
            "Epoch 54/500\n",
            "1875/1875 [==============================] - 12s 6ms/step - loss: 0.0370 - accuracy: 0.9868 - val_loss: 0.5966 - val_accuracy: 0.9182\n",
            "Epoch 55/500\n",
            "1875/1875 [==============================] - 12s 6ms/step - loss: 0.0351 - accuracy: 0.9867 - val_loss: 0.6256 - val_accuracy: 0.9205\n",
            "Epoch 56/500\n",
            "1875/1875 [==============================] - 12s 6ms/step - loss: 0.0341 - accuracy: 0.9874 - val_loss: 0.6439 - val_accuracy: 0.9196\n",
            "Epoch 57/500\n",
            "1875/1875 [==============================] - 12s 6ms/step - loss: 0.0339 - accuracy: 0.9880 - val_loss: 0.6144 - val_accuracy: 0.9156\n",
            "Epoch 58/500\n",
            "1875/1875 [==============================] - 12s 6ms/step - loss: 0.0343 - accuracy: 0.9880 - val_loss: 0.6474 - val_accuracy: 0.9204\n",
            "Epoch 59/500\n",
            "1875/1875 [==============================] - 12s 6ms/step - loss: 0.0318 - accuracy: 0.9887 - val_loss: 0.6122 - val_accuracy: 0.9201\n",
            "Epoch 60/500\n",
            "1875/1875 [==============================] - 12s 6ms/step - loss: 0.0324 - accuracy: 0.9880 - val_loss: 0.6668 - val_accuracy: 0.9162\n",
            "Epoch 61/500\n",
            "1875/1875 [==============================] - 12s 6ms/step - loss: 0.0317 - accuracy: 0.9886 - val_loss: 0.6070 - val_accuracy: 0.9214\n",
            "Epoch 62/500\n",
            "1875/1875 [==============================] - 12s 6ms/step - loss: 0.0321 - accuracy: 0.9892 - val_loss: 0.6406 - val_accuracy: 0.9225\n",
            "Epoch 63/500\n",
            "1875/1875 [==============================] - 12s 7ms/step - loss: 0.0307 - accuracy: 0.9890 - val_loss: 0.6605 - val_accuracy: 0.9186\n",
            "Epoch 64/500\n",
            "1875/1875 [==============================] - 13s 7ms/step - loss: 0.0314 - accuracy: 0.9887 - val_loss: 0.6656 - val_accuracy: 0.9213\n",
            "Epoch 00064: early stopping\n"
          ],
          "name": "stdout"
        }
      ]
    },
    {
      "cell_type": "code",
      "metadata": {
        "colab": {
          "base_uri": "https://localhost:8080/"
        },
        "id": "YropLVN_2902",
        "outputId": "fee89e05-d904-4231-c728-bfe834898737"
      },
      "source": [
        "fmm.evaluate(X_test, y_test, batch_size =32)"
      ],
      "execution_count": 95,
      "outputs": [
        {
          "output_type": "stream",
          "text": [
            "313/313 [==============================] - 1s 4ms/step - loss: 0.6656 - accuracy: 0.9213\n"
          ],
          "name": "stdout"
        },
        {
          "output_type": "execute_result",
          "data": {
            "text/plain": [
              "[0.6655511260032654, 0.9212999939918518]"
            ]
          },
          "metadata": {
            "tags": []
          },
          "execution_count": 95
        }
      ]
    },
    {
      "cell_type": "code",
      "metadata": {
        "colab": {
          "base_uri": "https://localhost:8080/",
          "height": 313
        },
        "id": "F2TYXreS3BTW",
        "outputId": "67e51369-e585-47aa-efb3-8c2d8488be04"
      },
      "source": [
        "# Plot loass and accuracy\n",
        "# Plot training & validation accuracy values\n",
        "epochs = 64\n",
        "loss_list = [100 * i for i in hist.history['loss']]\n",
        "acc_list = [100 * i for i in hist.history['accuracy']]\n",
        "plt.plot(range(1,epochs+1),loss_list) \n",
        "plt.plot(range(1,epochs+1),acc_list) \n",
        "plt.title('Model loss & accuracy')\n",
        "plt.ylabel('Accuracy (%)')\n",
        "plt.xlabel('Epoch')\n",
        "plt.legend(['loss', 'accuracy'], loc='center left')"
      ],
      "execution_count": 97,
      "outputs": [
        {
          "output_type": "execute_result",
          "data": {
            "text/plain": [
              "<matplotlib.legend.Legend at 0x7facf3cad160>"
            ]
          },
          "metadata": {
            "tags": []
          },
          "execution_count": 97
        },
        {
          "output_type": "display_data",
          "data": {
            "image/png": "[encoded data removed]",
            "text/plain": [
              "<Figure size 432x288 with 1 Axes>"
            ]
          },
          "metadata": {
            "tags": [],
            "needs_background": "light"
          }
        }
      ]
    },
    {
      "cell_type": "code",
      "metadata": {
        "id": "JV3ObwLw3MOy"
      },
      "source": [
        "vloss_list = [100 * i for i in hist.history['val_loss']]\n",
        "vacc_list = [100 * i for i in hist.history['val_accuracy']]"
      ],
      "execution_count": 98,
      "outputs": []
    },
    {
      "cell_type": "code",
      "metadata": {
        "colab": {
          "base_uri": "https://localhost:8080/",
          "height": 295
        },
        "id": "3ZbxQBXX3Pkf",
        "outputId": "85129538-362c-4adf-9c3f-89f2e04ee8d8"
      },
      "source": [
        "plt.plot(range(1,epochs+1),vloss_list)  \n",
        "plt.plot(range(1,epochs+1),vacc_list)  \n",
        "plt.title('Model val_loss & val_accuracy')\n",
        "plt.ylabel('Accuracy (%)')\n",
        "plt.xlabel('Epoch')\n",
        "plt.legend(['val_loss', 'val_accuracy'], loc='center left')"
      ],
      "execution_count": 99,
      "outputs": [
        {
          "output_type": "display_data",
          "data": {
            "image/png": "[encoded data removed]",
            "text/plain": [
              "<Figure size 432x288 with 1 Axes>"
            ]
          },
          "metadata": {
            "tags": [],
            "needs_background": "light"
          }
        }
      ]
    },
    {
      "cell_type": "code",
      "metadata": {
        "colab": {
          "base_uri": "https://localhost:8080/"
        },
        "id": "x-MLAKcZ3S1n",
        "outputId": "88dc9dba-52b6-4b0d-e814-675b3932f248"
      },
      "source": [
        "np.argmax(np.array(vacc_list))"
      ],
      "execution_count": 100,
      "outputs": [
        {
          "output_type": "execute_result",
          "data": {
            "text/plain": [
              "13"
            ]
          },
          "metadata": {
            "tags": []
          },
          "execution_count": 100
        }
      ]
    },
    {
      "cell_type": "code",
      "metadata": {
        "colab": {
          "base_uri": "https://localhost:8080/"
        },
        "id": "mR31NXWG3W4D",
        "outputId": "6cac047c-4f01-4b47-a3e7-1535ea51ed09"
      },
      "source": [
        "vacc_list[np.argmax(np.array(vacc_list))]"
      ],
      "execution_count": 101,
      "outputs": [
        {
          "output_type": "execute_result",
          "data": {
            "text/plain": [
              "92.51999855041504"
            ]
          },
          "metadata": {
            "tags": []
          },
          "execution_count": 101
        }
      ]
    },
    {
      "cell_type": "code",
      "metadata": {
        "colab": {
          "base_uri": "https://localhost:8080/",
          "height": 313
        },
        "id": "IRM9RTIl3ZAL",
        "outputId": "7f2d199c-09d0-4c45-b86a-db6d1f9d61a7"
      },
      "source": [
        "plt.plot(range(1,epochs+1),acc_list)  \n",
        "plt.plot(range(1,epochs+1),vacc_list)  \n",
        "plt.title('accuracy vs. val_accuracy')\n",
        "plt.ylabel('Accuracy (%)')\n",
        "plt.xlabel('Epoch')\n",
        "plt.legend(['accuracy','val_accuracy'], loc='center')\n",
        "plt.plot(np.argmax(np.array(vacc_list))+1,vacc_list[np.argmax(np.array(vacc_list))], 'r*') "
      ],
      "execution_count": 102,
      "outputs": [
        {
          "output_type": "execute_result",
          "data": {
            "text/plain": [
              "[<matplotlib.lines.Line2D at 0x7facf58ba4e0>]"
            ]
          },
          "metadata": {
            "tags": []
          },
          "execution_count": 102
        },
        {
          "output_type": "display_data",
          "data": {
            "image/png": "[encoded data removed]",
            "text/plain": [
              "<Figure size 432x288 with 1 Axes>"
            ]
          },
          "metadata": {
            "tags": [],
            "needs_background": "light"
          }
        }
      ]
    },
    {
      "cell_type": "code",
      "metadata": {
        "id": "QbZISGiF3eY_"
      },
      "source": [
        "fmm.save('fmm.hdf5')"
      ],
      "execution_count": 103,
      "outputs": []
    },
    {
      "cell_type": "code",
      "metadata": {
        "colab": {
          "base_uri": "https://localhost:8080/"
        },
        "id": "OSXfqhEk3idN",
        "outputId": "8a44138d-6e80-406d-93fa-4a47e789bf77"
      },
      "source": [
        "from keras.models import load_model\n",
        "\n",
        "model = load_model('fmm.014-0.9252.hdf5')\n",
        "model.evaluate(X_test, y_test, batch_size=32)"
      ],
      "execution_count": 104,
      "outputs": [
        {
          "output_type": "stream",
          "text": [
            "313/313 [==============================] - 1s 4ms/step - loss: 0.2900 - accuracy: 0.9252\n"
          ],
          "name": "stdout"
        },
        {
          "output_type": "execute_result",
          "data": {
            "text/plain": [
              "[0.290009081363678, 0.9251999855041504]"
            ]
          },
          "metadata": {
            "tags": []
          },
          "execution_count": 104
        }
      ]
    }
  ]
}