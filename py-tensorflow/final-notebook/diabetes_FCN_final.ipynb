{
  "nbformat": 4,
  "nbformat_minor": 0,
  "metadata": {
    "kernelspec": {
      "display_name": "Python 3",
      "language": "python",
      "name": "python3"
    },
    "language_info": {
      "codemirror_mode": {
        "name": "ipython",
        "version": 3
      },
      "file_extension": ".py",
      "mimetype": "text/x-python",
      "name": "python",
      "nbconvert_exporter": "python",
      "pygments_lexer": "ipython3",
      "version": "3.6.5"
    },
    "colab": {
      "name": "diabetes_FCN_final.ipynb",
      "provenance": [],
      "collapsed_sections": []
    }
  },
  "cells": [
    {
      "cell_type": "code",
      "metadata": {
        "_cell_guid": "8e27055d-7b00-49f6-b0e8-f53ff433ddca",
        "_uuid": "1e1e2b84-2d40-497b-92bd-f238f939cfa8",
        "id": "WUOW3NKRkWDd",
        "colab": {
          "base_uri": "https://localhost:8080/"
        },
        "outputId": "dc23bbbf-1eb3-42d4-dc6a-98d3c33277f9"
      },
      "source": [
        "# Load the required packages \n",
        "import numpy as np\n",
        "import tensorflow as tf\n",
        "from tensorflow import keras\n",
        "import pandas as pd\n",
        "from pandas import read_csv\n",
        "import matplotlib.pyplot as plt\n",
        "%matplotlib inline\n",
        "\n",
        "tf.random.set_seed(0)\n",
        "\n",
        "print(tf.__version__)"
      ],
      "execution_count": null,
      "outputs": [
        {
          "output_type": "stream",
          "text": [
            "2.3.0\n"
          ],
          "name": "stdout"
        }
      ]
    },
    {
      "cell_type": "markdown",
      "metadata": {
        "id": "TcfPniN2kWDg"
      },
      "source": [
        "**Load CSV file using Pandas**"
      ]
    },
    {
      "cell_type": "code",
      "metadata": {
        "id": "Ahd9x_NVkWDg",
        "colab": {
          "base_uri": "https://localhost:8080/"
        },
        "outputId": "82136504-c5a6-4904-cb43-8e8bef9a86a5"
      },
      "source": [
        "# Specify the file name \n",
        "url = \"https://github.com/Redwoods/Py/raw/master/pdm2020/my-note/py-pandas/data/diabetes.csv\"\n",
        "filename = url\n",
        "# filename = 'diabetes.csv'  # access to local file\n",
        "\n",
        "# Read the data \n",
        "data = read_csv(filename) \n",
        "\n",
        "# Print the shape \n",
        "data.shape"
      ],
      "execution_count": null,
      "outputs": [
        {
          "output_type": "execute_result",
          "data": {
            "text/plain": [
              "(768, 9)"
            ]
          },
          "metadata": {
            "tags": []
          },
          "execution_count": 2
        }
      ]
    },
    {
      "cell_type": "code",
      "metadata": {
        "id": "q_g68MTvkWDi",
        "colab": {
          "base_uri": "https://localhost:8080/",
          "height": 204
        },
        "outputId": "0c2b19fc-8a7d-4ee2-af81-087e53b4ca18"
      },
      "source": [
        "# Print the first 5 rows \n",
        "data.head()"
      ],
      "execution_count": null,
      "outputs": [
        {
          "output_type": "execute_result",
          "data": {
            "text/html": [
              "<div>\n",
              "<style scoped>\n",
              "    .dataframe tbody tr th:only-of-type {\n",
              "        vertical-align: middle;\n",
              "    }\n",
              "\n",
              "    .dataframe tbody tr th {\n",
              "        vertical-align: top;\n",
              "    }\n",
              "\n",
              "    .dataframe thead th {\n",
              "        text-align: right;\n",
              "    }\n",
              "</style>\n",
              "<table border=\"1\" class=\"dataframe\">\n",
              "  <thead>\n",
              "    <tr style=\"text-align: right;\">\n",
              "      <th></th>\n",
              "      <th>Pregnancies</th>\n",
              "      <th>Glucose</th>\n",
              "      <th>BloodPressure</th>\n",
              "      <th>SkinThickness</th>\n",
              "      <th>Insulin</th>\n",
              "      <th>BMI</th>\n",
              "      <th>DiabetesPedigreeFunction</th>\n",
              "      <th>Age</th>\n",
              "      <th>Outcome</th>\n",
              "    </tr>\n",
              "  </thead>\n",
              "  <tbody>\n",
              "    <tr>\n",
              "      <th>0</th>\n",
              "      <td>6</td>\n",
              "      <td>148</td>\n",
              "      <td>72</td>\n",
              "      <td>35</td>\n",
              "      <td>0</td>\n",
              "      <td>33.6</td>\n",
              "      <td>0.627</td>\n",
              "      <td>50</td>\n",
              "      <td>1</td>\n",
              "    </tr>\n",
              "    <tr>\n",
              "      <th>1</th>\n",
              "      <td>1</td>\n",
              "      <td>85</td>\n",
              "      <td>66</td>\n",
              "      <td>29</td>\n",
              "      <td>0</td>\n",
              "      <td>26.6</td>\n",
              "      <td>0.351</td>\n",
              "      <td>31</td>\n",
              "      <td>0</td>\n",
              "    </tr>\n",
              "    <tr>\n",
              "      <th>2</th>\n",
              "      <td>8</td>\n",
              "      <td>183</td>\n",
              "      <td>64</td>\n",
              "      <td>0</td>\n",
              "      <td>0</td>\n",
              "      <td>23.3</td>\n",
              "      <td>0.672</td>\n",
              "      <td>32</td>\n",
              "      <td>1</td>\n",
              "    </tr>\n",
              "    <tr>\n",
              "      <th>3</th>\n",
              "      <td>1</td>\n",
              "      <td>89</td>\n",
              "      <td>66</td>\n",
              "      <td>23</td>\n",
              "      <td>94</td>\n",
              "      <td>28.1</td>\n",
              "      <td>0.167</td>\n",
              "      <td>21</td>\n",
              "      <td>0</td>\n",
              "    </tr>\n",
              "    <tr>\n",
              "      <th>4</th>\n",
              "      <td>0</td>\n",
              "      <td>137</td>\n",
              "      <td>40</td>\n",
              "      <td>35</td>\n",
              "      <td>168</td>\n",
              "      <td>43.1</td>\n",
              "      <td>2.288</td>\n",
              "      <td>33</td>\n",
              "      <td>1</td>\n",
              "    </tr>\n",
              "  </tbody>\n",
              "</table>\n",
              "</div>"
            ],
            "text/plain": [
              "   Pregnancies  Glucose  BloodPressure  ...  DiabetesPedigreeFunction  Age  Outcome\n",
              "0            6      148             72  ...                     0.627   50        1\n",
              "1            1       85             66  ...                     0.351   31        0\n",
              "2            8      183             64  ...                     0.672   32        1\n",
              "3            1       89             66  ...                     0.167   21        0\n",
              "4            0      137             40  ...                     2.288   33        1\n",
              "\n",
              "[5 rows x 9 columns]"
            ]
          },
          "metadata": {
            "tags": []
          },
          "execution_count": 3
        }
      ]
    },
    {
      "cell_type": "code",
      "metadata": {
        "id": "wAFYD041Xb1A"
      },
      "source": [
        "# import TF2 submodules\n",
        "from tensorflow.keras import layers, models, callbacks\n",
        "from keras.models import Sequential\n",
        "from keras.layers import Dense, Conv2D, MaxPool2D, Flatten\n",
        "from keras.callbacks import ModelCheckpoint, EarlyStopping"
      ],
      "execution_count": null,
      "outputs": []
    },
    {
      "cell_type": "code",
      "metadata": {
        "colab": {
          "base_uri": "https://localhost:8080/"
        },
        "id": "Xr_Qs9rnW3Bu",
        "outputId": "415efa7a-4330-4be4-c74c-c92e1964514e"
      },
      "source": [
        "# Split dataset to train & test set\n",
        "X_train = data.iloc[:600,0:8] # 600\n",
        "y_train = data.iloc[:600,8]\n",
        "X_test = data.iloc[600:,0:8] # 168\n",
        "y_test = data.iloc[600:,8]\n",
        "X_train.shape,y_train.shape,X_test.shape,y_test.shape"
      ],
      "execution_count": null,
      "outputs": [
        {
          "output_type": "execute_result",
          "data": {
            "text/plain": [
              "((600, 8), (600,), (168, 8), (168,))"
            ]
          },
          "metadata": {
            "tags": []
          },
          "execution_count": 10
        }
      ]
    },
    {
      "cell_type": "code",
      "metadata": {
        "id": "0B5Xc0atXtuC"
      },
      "source": [
        "# define the keras model\n",
        "model = Sequential()\n",
        "model.add(Dense(12, input_dim=8, activation='relu'))\n",
        "model.add(Dense(8, activation='relu'))\n",
        "model.add(Dense(1, activation='sigmoid'))  # softmaX\n",
        "# compile the keras model\n",
        "model.compile(loss='binary_crossentropy', \n",
        "              optimizer='adam', \n",
        "              metrics=['accuracy'])\n"
      ],
      "execution_count": null,
      "outputs": []
    },
    {
      "cell_type": "code",
      "metadata": {
        "colab": {
          "base_uri": "https://localhost:8080/"
        },
        "id": "ROjU8SG-X2XU",
        "outputId": "8a4eba4f-2813-4c92-bc80-6cb8e8420983"
      },
      "source": [
        "# fit the keras model on the dataset\n",
        "hist = model.fit(X_train, y_train, epochs=150, batch_size=10, verbose=1, \n",
        "                 validation_data=(X_test, y_test))\n"
      ],
      "execution_count": null,
      "outputs": [
        {
          "output_type": "stream",
          "text": [
            "Epoch 1/150\n",
            "60/60 [==============================] - 0s 4ms/step - loss: 1.7049 - accuracy: 0.5667 - val_loss: 1.4584 - val_accuracy: 0.5655\n",
            "Epoch 2/150\n",
            "60/60 [==============================] - 0s 1ms/step - loss: 1.2137 - accuracy: 0.5983 - val_loss: 1.2956 - val_accuracy: 0.5536\n",
            "Epoch 3/150\n",
            "60/60 [==============================] - 0s 1ms/step - loss: 1.0445 - accuracy: 0.5850 - val_loss: 1.1351 - val_accuracy: 0.5060\n",
            "Epoch 4/150\n",
            "60/60 [==============================] - 0s 1ms/step - loss: 0.9286 - accuracy: 0.6117 - val_loss: 1.0198 - val_accuracy: 0.5179\n",
            "Epoch 5/150\n",
            "60/60 [==============================] - 0s 1ms/step - loss: 0.8564 - accuracy: 0.6017 - val_loss: 1.0168 - val_accuracy: 0.4821\n",
            "Epoch 6/150\n",
            "60/60 [==============================] - 0s 2ms/step - loss: 0.8059 - accuracy: 0.6267 - val_loss: 0.9190 - val_accuracy: 0.5476\n",
            "Epoch 7/150\n",
            "60/60 [==============================] - 0s 2ms/step - loss: 0.7743 - accuracy: 0.6250 - val_loss: 0.9229 - val_accuracy: 0.5179\n",
            "Epoch 8/150\n",
            "60/60 [==============================] - 0s 1ms/step - loss: 0.7385 - accuracy: 0.6517 - val_loss: 0.8450 - val_accuracy: 0.5417\n",
            "Epoch 9/150\n",
            "60/60 [==============================] - 0s 1ms/step - loss: 0.7272 - accuracy: 0.6517 - val_loss: 0.8153 - val_accuracy: 0.5298\n",
            "Epoch 10/150\n",
            "60/60 [==============================] - 0s 1ms/step - loss: 0.6991 - accuracy: 0.6483 - val_loss: 0.8402 - val_accuracy: 0.6071\n",
            "Epoch 11/150\n",
            "60/60 [==============================] - 0s 1ms/step - loss: 0.6907 - accuracy: 0.6683 - val_loss: 0.7867 - val_accuracy: 0.5655\n",
            "Epoch 12/150\n",
            "60/60 [==============================] - 0s 1ms/step - loss: 0.6700 - accuracy: 0.6667 - val_loss: 0.7731 - val_accuracy: 0.5893\n",
            "Epoch 13/150\n",
            "60/60 [==============================] - 0s 1ms/step - loss: 0.6582 - accuracy: 0.6783 - val_loss: 0.7648 - val_accuracy: 0.6071\n",
            "Epoch 14/150\n",
            "60/60 [==============================] - 0s 1ms/step - loss: 0.6399 - accuracy: 0.6617 - val_loss: 0.8152 - val_accuracy: 0.5774\n",
            "Epoch 15/150\n",
            "60/60 [==============================] - 0s 1ms/step - loss: 0.6454 - accuracy: 0.6783 - val_loss: 0.7354 - val_accuracy: 0.5655\n",
            "Epoch 16/150\n",
            "60/60 [==============================] - 0s 2ms/step - loss: 0.6168 - accuracy: 0.6800 - val_loss: 0.7402 - val_accuracy: 0.5952\n",
            "Epoch 17/150\n",
            "60/60 [==============================] - 0s 2ms/step - loss: 0.6248 - accuracy: 0.6883 - val_loss: 0.7045 - val_accuracy: 0.6369\n",
            "Epoch 18/150\n",
            "60/60 [==============================] - 0s 1ms/step - loss: 0.6023 - accuracy: 0.7083 - val_loss: 0.6988 - val_accuracy: 0.6131\n",
            "Epoch 19/150\n",
            "60/60 [==============================] - 0s 1ms/step - loss: 0.6032 - accuracy: 0.7050 - val_loss: 0.7193 - val_accuracy: 0.5714\n",
            "Epoch 20/150\n",
            "60/60 [==============================] - 0s 1ms/step - loss: 0.5889 - accuracy: 0.7017 - val_loss: 0.7076 - val_accuracy: 0.6190\n",
            "Epoch 21/150\n",
            "60/60 [==============================] - 0s 1ms/step - loss: 0.5931 - accuracy: 0.7067 - val_loss: 0.6897 - val_accuracy: 0.6488\n",
            "Epoch 22/150\n",
            "60/60 [==============================] - 0s 1ms/step - loss: 0.5970 - accuracy: 0.7117 - val_loss: 0.7406 - val_accuracy: 0.6250\n",
            "Epoch 23/150\n",
            "60/60 [==============================] - 0s 1ms/step - loss: 0.5804 - accuracy: 0.7133 - val_loss: 0.7472 - val_accuracy: 0.6190\n",
            "Epoch 24/150\n",
            "60/60 [==============================] - 0s 1ms/step - loss: 0.5870 - accuracy: 0.7250 - val_loss: 0.7134 - val_accuracy: 0.6250\n",
            "Epoch 25/150\n",
            "60/60 [==============================] - 0s 1ms/step - loss: 0.5770 - accuracy: 0.7150 - val_loss: 0.7143 - val_accuracy: 0.6071\n",
            "Epoch 26/150\n",
            "60/60 [==============================] - 0s 1ms/step - loss: 0.5791 - accuracy: 0.6967 - val_loss: 0.7716 - val_accuracy: 0.5774\n",
            "Epoch 27/150\n",
            "60/60 [==============================] - 0s 1ms/step - loss: 0.5994 - accuracy: 0.6900 - val_loss: 0.7330 - val_accuracy: 0.6429\n",
            "Epoch 28/150\n",
            "60/60 [==============================] - 0s 2ms/step - loss: 0.5749 - accuracy: 0.7033 - val_loss: 0.6974 - val_accuracy: 0.6548\n",
            "Epoch 29/150\n",
            "60/60 [==============================] - 0s 1ms/step - loss: 0.5763 - accuracy: 0.7083 - val_loss: 0.7059 - val_accuracy: 0.6905\n",
            "Epoch 30/150\n",
            "60/60 [==============================] - 0s 1ms/step - loss: 0.5681 - accuracy: 0.7133 - val_loss: 0.7026 - val_accuracy: 0.6548\n",
            "Epoch 31/150\n",
            "60/60 [==============================] - 0s 2ms/step - loss: 0.5746 - accuracy: 0.7200 - val_loss: 0.6765 - val_accuracy: 0.6667\n",
            "Epoch 32/150\n",
            "60/60 [==============================] - 0s 2ms/step - loss: 0.5650 - accuracy: 0.7133 - val_loss: 0.7608 - val_accuracy: 0.5714\n",
            "Epoch 33/150\n",
            "60/60 [==============================] - 0s 2ms/step - loss: 0.5829 - accuracy: 0.7083 - val_loss: 0.6882 - val_accuracy: 0.6429\n",
            "Epoch 34/150\n",
            "60/60 [==============================] - 0s 2ms/step - loss: 0.5596 - accuracy: 0.7350 - val_loss: 0.6969 - val_accuracy: 0.6071\n",
            "Epoch 35/150\n",
            "60/60 [==============================] - 0s 1ms/step - loss: 0.5658 - accuracy: 0.7200 - val_loss: 0.7182 - val_accuracy: 0.5833\n",
            "Epoch 36/150\n",
            "60/60 [==============================] - 0s 1ms/step - loss: 0.5743 - accuracy: 0.7050 - val_loss: 0.6773 - val_accuracy: 0.6429\n",
            "Epoch 37/150\n",
            "60/60 [==============================] - 0s 1ms/step - loss: 0.5565 - accuracy: 0.7217 - val_loss: 0.6693 - val_accuracy: 0.6726\n",
            "Epoch 38/150\n",
            "60/60 [==============================] - 0s 2ms/step - loss: 0.5541 - accuracy: 0.7250 - val_loss: 0.7211 - val_accuracy: 0.6071\n",
            "Epoch 39/150\n",
            "60/60 [==============================] - 0s 1ms/step - loss: 0.5648 - accuracy: 0.7167 - val_loss: 0.6685 - val_accuracy: 0.6131\n",
            "Epoch 40/150\n",
            "60/60 [==============================] - 0s 1ms/step - loss: 0.5650 - accuracy: 0.7517 - val_loss: 0.7011 - val_accuracy: 0.6250\n",
            "Epoch 41/150\n",
            "60/60 [==============================] - 0s 1ms/step - loss: 0.5608 - accuracy: 0.7250 - val_loss: 0.7091 - val_accuracy: 0.6310\n",
            "Epoch 42/150\n",
            "60/60 [==============================] - 0s 1ms/step - loss: 0.5548 - accuracy: 0.7283 - val_loss: 0.6696 - val_accuracy: 0.6250\n",
            "Epoch 43/150\n",
            "60/60 [==============================] - 0s 1ms/step - loss: 0.5502 - accuracy: 0.7383 - val_loss: 0.6911 - val_accuracy: 0.6369\n",
            "Epoch 44/150\n",
            "60/60 [==============================] - 0s 1ms/step - loss: 0.5490 - accuracy: 0.7417 - val_loss: 0.6753 - val_accuracy: 0.6250\n",
            "Epoch 45/150\n",
            "60/60 [==============================] - 0s 2ms/step - loss: 0.5620 - accuracy: 0.7233 - val_loss: 0.6611 - val_accuracy: 0.6310\n",
            "Epoch 46/150\n",
            "60/60 [==============================] - 0s 1ms/step - loss: 0.5539 - accuracy: 0.7167 - val_loss: 0.6398 - val_accuracy: 0.6786\n",
            "Epoch 47/150\n",
            "60/60 [==============================] - 0s 1ms/step - loss: 0.5507 - accuracy: 0.7433 - val_loss: 0.7103 - val_accuracy: 0.6488\n",
            "Epoch 48/150\n",
            "60/60 [==============================] - 0s 1ms/step - loss: 0.5498 - accuracy: 0.7283 - val_loss: 0.6636 - val_accuracy: 0.6964\n",
            "Epoch 49/150\n",
            "60/60 [==============================] - 0s 1ms/step - loss: 0.5577 - accuracy: 0.7233 - val_loss: 0.6585 - val_accuracy: 0.6250\n",
            "Epoch 50/150\n",
            "60/60 [==============================] - 0s 1ms/step - loss: 0.5423 - accuracy: 0.7300 - val_loss: 0.6419 - val_accuracy: 0.7262\n",
            "Epoch 51/150\n",
            "60/60 [==============================] - 0s 1ms/step - loss: 0.5559 - accuracy: 0.7200 - val_loss: 0.6443 - val_accuracy: 0.6488\n",
            "Epoch 52/150\n",
            "60/60 [==============================] - 0s 1ms/step - loss: 0.5683 - accuracy: 0.7183 - val_loss: 0.6733 - val_accuracy: 0.7024\n",
            "Epoch 53/150\n",
            "60/60 [==============================] - 0s 1ms/step - loss: 0.5312 - accuracy: 0.7500 - val_loss: 0.6650 - val_accuracy: 0.6488\n",
            "Epoch 54/150\n",
            "60/60 [==============================] - 0s 1ms/step - loss: 0.5357 - accuracy: 0.7500 - val_loss: 0.6594 - val_accuracy: 0.6845\n",
            "Epoch 55/150\n",
            "60/60 [==============================] - 0s 2ms/step - loss: 0.5412 - accuracy: 0.7400 - val_loss: 0.6961 - val_accuracy: 0.6667\n",
            "Epoch 56/150\n",
            "60/60 [==============================] - 0s 1ms/step - loss: 0.5478 - accuracy: 0.7350 - val_loss: 0.6797 - val_accuracy: 0.6310\n",
            "Epoch 57/150\n",
            "60/60 [==============================] - 0s 1ms/step - loss: 0.5401 - accuracy: 0.7433 - val_loss: 0.6723 - val_accuracy: 0.6250\n",
            "Epoch 58/150\n",
            "60/60 [==============================] - 0s 1ms/step - loss: 0.5322 - accuracy: 0.7483 - val_loss: 0.6712 - val_accuracy: 0.6548\n",
            "Epoch 59/150\n",
            "60/60 [==============================] - 0s 1ms/step - loss: 0.5370 - accuracy: 0.7450 - val_loss: 0.6747 - val_accuracy: 0.6250\n",
            "Epoch 60/150\n",
            "60/60 [==============================] - 0s 1ms/step - loss: 0.5402 - accuracy: 0.7233 - val_loss: 0.6472 - val_accuracy: 0.6548\n",
            "Epoch 61/150\n",
            "60/60 [==============================] - 0s 1ms/step - loss: 0.5515 - accuracy: 0.7200 - val_loss: 0.6635 - val_accuracy: 0.6726\n",
            "Epoch 62/150\n",
            "60/60 [==============================] - 0s 1ms/step - loss: 0.5223 - accuracy: 0.7467 - val_loss: 0.6533 - val_accuracy: 0.6607\n",
            "Epoch 63/150\n",
            "60/60 [==============================] - 0s 1ms/step - loss: 0.5195 - accuracy: 0.7583 - val_loss: 0.6617 - val_accuracy: 0.6548\n",
            "Epoch 64/150\n",
            "60/60 [==============================] - 0s 1ms/step - loss: 0.5271 - accuracy: 0.7533 - val_loss: 0.6451 - val_accuracy: 0.6786\n",
            "Epoch 65/150\n",
            "60/60 [==============================] - 0s 1ms/step - loss: 0.5265 - accuracy: 0.7283 - val_loss: 0.6636 - val_accuracy: 0.6429\n",
            "Epoch 66/150\n",
            "60/60 [==============================] - 0s 1ms/step - loss: 0.5297 - accuracy: 0.7233 - val_loss: 0.6362 - val_accuracy: 0.7024\n",
            "Epoch 67/150\n",
            "60/60 [==============================] - 0s 2ms/step - loss: 0.5260 - accuracy: 0.7450 - val_loss: 0.6501 - val_accuracy: 0.6667\n",
            "Epoch 68/150\n",
            "60/60 [==============================] - 0s 1ms/step - loss: 0.5316 - accuracy: 0.7467 - val_loss: 0.6959 - val_accuracy: 0.6429\n",
            "Epoch 69/150\n",
            "60/60 [==============================] - 0s 2ms/step - loss: 0.5394 - accuracy: 0.7433 - val_loss: 0.6383 - val_accuracy: 0.7143\n",
            "Epoch 70/150\n",
            "60/60 [==============================] - 0s 1ms/step - loss: 0.5403 - accuracy: 0.7517 - val_loss: 0.6769 - val_accuracy: 0.6488\n",
            "Epoch 71/150\n",
            "60/60 [==============================] - 0s 2ms/step - loss: 0.5432 - accuracy: 0.7333 - val_loss: 0.6458 - val_accuracy: 0.6667\n",
            "Epoch 72/150\n",
            "60/60 [==============================] - 0s 1ms/step - loss: 0.5149 - accuracy: 0.7450 - val_loss: 0.6449 - val_accuracy: 0.6429\n",
            "Epoch 73/150\n",
            "60/60 [==============================] - 0s 1ms/step - loss: 0.5271 - accuracy: 0.7500 - val_loss: 0.6623 - val_accuracy: 0.6369\n",
            "Epoch 74/150\n",
            "60/60 [==============================] - 0s 1ms/step - loss: 0.5198 - accuracy: 0.7433 - val_loss: 0.6460 - val_accuracy: 0.6905\n",
            "Epoch 75/150\n",
            "60/60 [==============================] - 0s 1ms/step - loss: 0.5123 - accuracy: 0.7433 - val_loss: 0.7142 - val_accuracy: 0.6607\n",
            "Epoch 76/150\n",
            "60/60 [==============================] - 0s 1ms/step - loss: 0.5355 - accuracy: 0.7300 - val_loss: 0.6731 - val_accuracy: 0.6369\n",
            "Epoch 77/150\n",
            "60/60 [==============================] - 0s 2ms/step - loss: 0.5130 - accuracy: 0.7583 - val_loss: 0.6486 - val_accuracy: 0.6964\n",
            "Epoch 78/150\n",
            "60/60 [==============================] - 0s 2ms/step - loss: 0.5246 - accuracy: 0.7500 - val_loss: 0.6420 - val_accuracy: 0.6786\n",
            "Epoch 79/150\n",
            "60/60 [==============================] - 0s 1ms/step - loss: 0.5176 - accuracy: 0.7517 - val_loss: 0.6994 - val_accuracy: 0.6488\n",
            "Epoch 80/150\n",
            "60/60 [==============================] - 0s 1ms/step - loss: 0.5207 - accuracy: 0.7483 - val_loss: 0.6503 - val_accuracy: 0.6845\n",
            "Epoch 81/150\n",
            "60/60 [==============================] - 0s 1ms/step - loss: 0.5126 - accuracy: 0.7550 - val_loss: 0.6286 - val_accuracy: 0.7024\n",
            "Epoch 82/150\n",
            "60/60 [==============================] - 0s 1ms/step - loss: 0.5250 - accuracy: 0.7583 - val_loss: 0.6300 - val_accuracy: 0.6964\n",
            "Epoch 83/150\n",
            "60/60 [==============================] - 0s 2ms/step - loss: 0.5221 - accuracy: 0.7467 - val_loss: 0.6158 - val_accuracy: 0.7262\n",
            "Epoch 84/150\n",
            "60/60 [==============================] - 0s 2ms/step - loss: 0.5179 - accuracy: 0.7450 - val_loss: 0.6540 - val_accuracy: 0.6786\n",
            "Epoch 85/150\n",
            "60/60 [==============================] - 0s 1ms/step - loss: 0.5175 - accuracy: 0.7483 - val_loss: 0.6598 - val_accuracy: 0.6845\n",
            "Epoch 86/150\n",
            "60/60 [==============================] - 0s 1ms/step - loss: 0.5133 - accuracy: 0.7517 - val_loss: 0.6157 - val_accuracy: 0.7083\n",
            "Epoch 87/150\n",
            "60/60 [==============================] - 0s 2ms/step - loss: 0.5072 - accuracy: 0.7500 - val_loss: 0.6800 - val_accuracy: 0.6488\n",
            "Epoch 88/150\n",
            "60/60 [==============================] - 0s 2ms/step - loss: 0.5159 - accuracy: 0.7467 - val_loss: 0.6521 - val_accuracy: 0.7143\n",
            "Epoch 89/150\n",
            "60/60 [==============================] - 0s 2ms/step - loss: 0.5219 - accuracy: 0.7483 - val_loss: 0.6584 - val_accuracy: 0.6845\n",
            "Epoch 90/150\n",
            "60/60 [==============================] - 0s 2ms/step - loss: 0.5114 - accuracy: 0.7550 - val_loss: 0.6220 - val_accuracy: 0.7440\n",
            "Epoch 91/150\n",
            "60/60 [==============================] - 0s 1ms/step - loss: 0.4994 - accuracy: 0.7783 - val_loss: 0.6435 - val_accuracy: 0.6548\n",
            "Epoch 92/150\n",
            "60/60 [==============================] - 0s 1ms/step - loss: 0.5042 - accuracy: 0.7567 - val_loss: 0.6242 - val_accuracy: 0.6964\n",
            "Epoch 93/150\n",
            "60/60 [==============================] - 0s 1ms/step - loss: 0.5214 - accuracy: 0.7517 - val_loss: 0.6390 - val_accuracy: 0.6905\n",
            "Epoch 94/150\n",
            "60/60 [==============================] - 0s 2ms/step - loss: 0.5080 - accuracy: 0.7600 - val_loss: 0.6529 - val_accuracy: 0.6726\n",
            "Epoch 95/150\n",
            "60/60 [==============================] - 0s 2ms/step - loss: 0.4946 - accuracy: 0.7567 - val_loss: 0.6681 - val_accuracy: 0.6667\n",
            "Epoch 96/150\n",
            "60/60 [==============================] - 0s 2ms/step - loss: 0.5279 - accuracy: 0.7650 - val_loss: 0.6451 - val_accuracy: 0.7024\n",
            "Epoch 97/150\n",
            "60/60 [==============================] - 0s 2ms/step - loss: 0.5103 - accuracy: 0.7467 - val_loss: 0.6375 - val_accuracy: 0.7083\n",
            "Epoch 98/150\n",
            "60/60 [==============================] - 0s 2ms/step - loss: 0.5070 - accuracy: 0.7567 - val_loss: 0.6086 - val_accuracy: 0.6905\n",
            "Epoch 99/150\n",
            "60/60 [==============================] - 0s 2ms/step - loss: 0.5169 - accuracy: 0.7533 - val_loss: 0.6386 - val_accuracy: 0.6667\n",
            "Epoch 100/150\n",
            "60/60 [==============================] - 0s 1ms/step - loss: 0.5196 - accuracy: 0.7367 - val_loss: 0.6313 - val_accuracy: 0.6726\n",
            "Epoch 101/150\n",
            "60/60 [==============================] - 0s 2ms/step - loss: 0.5094 - accuracy: 0.7533 - val_loss: 0.6360 - val_accuracy: 0.6726\n",
            "Epoch 102/150\n",
            "60/60 [==============================] - 0s 1ms/step - loss: 0.5092 - accuracy: 0.7533 - val_loss: 0.6405 - val_accuracy: 0.6845\n",
            "Epoch 103/150\n",
            "60/60 [==============================] - 0s 2ms/step - loss: 0.5027 - accuracy: 0.7550 - val_loss: 0.6319 - val_accuracy: 0.6726\n",
            "Epoch 104/150\n",
            "60/60 [==============================] - 0s 1ms/step - loss: 0.5101 - accuracy: 0.7500 - val_loss: 0.6071 - val_accuracy: 0.7202\n",
            "Epoch 105/150\n",
            "60/60 [==============================] - 0s 2ms/step - loss: 0.4961 - accuracy: 0.7617 - val_loss: 0.6451 - val_accuracy: 0.6964\n",
            "Epoch 106/150\n",
            "60/60 [==============================] - 0s 1ms/step - loss: 0.5048 - accuracy: 0.7583 - val_loss: 0.6298 - val_accuracy: 0.7083\n",
            "Epoch 107/150\n",
            "60/60 [==============================] - 0s 1ms/step - loss: 0.5096 - accuracy: 0.7617 - val_loss: 0.6120 - val_accuracy: 0.7321\n",
            "Epoch 108/150\n",
            "60/60 [==============================] - 0s 1ms/step - loss: 0.4995 - accuracy: 0.7550 - val_loss: 0.6090 - val_accuracy: 0.7202\n",
            "Epoch 109/150\n",
            "60/60 [==============================] - 0s 2ms/step - loss: 0.4922 - accuracy: 0.7683 - val_loss: 0.6343 - val_accuracy: 0.7083\n",
            "Epoch 110/150\n",
            "60/60 [==============================] - 0s 2ms/step - loss: 0.4988 - accuracy: 0.7700 - val_loss: 0.6436 - val_accuracy: 0.6905\n",
            "Epoch 111/150\n",
            "60/60 [==============================] - 0s 1ms/step - loss: 0.5068 - accuracy: 0.7517 - val_loss: 0.6222 - val_accuracy: 0.7440\n",
            "Epoch 112/150\n",
            "60/60 [==============================] - 0s 2ms/step - loss: 0.5009 - accuracy: 0.7683 - val_loss: 0.6203 - val_accuracy: 0.7321\n",
            "Epoch 113/150\n",
            "60/60 [==============================] - 0s 1ms/step - loss: 0.4987 - accuracy: 0.7600 - val_loss: 0.6367 - val_accuracy: 0.7024\n",
            "Epoch 114/150\n",
            "60/60 [==============================] - 0s 1ms/step - loss: 0.4972 - accuracy: 0.7700 - val_loss: 0.6747 - val_accuracy: 0.6667\n",
            "Epoch 115/150\n",
            "60/60 [==============================] - 0s 2ms/step - loss: 0.5034 - accuracy: 0.7617 - val_loss: 0.6214 - val_accuracy: 0.6964\n",
            "Epoch 116/150\n",
            "60/60 [==============================] - 0s 1ms/step - loss: 0.4950 - accuracy: 0.7617 - val_loss: 0.6504 - val_accuracy: 0.7083\n",
            "Epoch 117/150\n",
            "60/60 [==============================] - 0s 1ms/step - loss: 0.5000 - accuracy: 0.7600 - val_loss: 0.6221 - val_accuracy: 0.7262\n",
            "Epoch 118/150\n",
            "60/60 [==============================] - 0s 2ms/step - loss: 0.5055 - accuracy: 0.7433 - val_loss: 0.6331 - val_accuracy: 0.6845\n",
            "Epoch 119/150\n",
            "60/60 [==============================] - 0s 2ms/step - loss: 0.4960 - accuracy: 0.7667 - val_loss: 0.6152 - val_accuracy: 0.7143\n",
            "Epoch 120/150\n",
            "60/60 [==============================] - 0s 2ms/step - loss: 0.5265 - accuracy: 0.7417 - val_loss: 0.6146 - val_accuracy: 0.7262\n",
            "Epoch 121/150\n",
            "60/60 [==============================] - 0s 2ms/step - loss: 0.5298 - accuracy: 0.7550 - val_loss: 0.6108 - val_accuracy: 0.7202\n",
            "Epoch 122/150\n",
            "60/60 [==============================] - 0s 1ms/step - loss: 0.5003 - accuracy: 0.7600 - val_loss: 0.6175 - val_accuracy: 0.7202\n",
            "Epoch 123/150\n",
            "60/60 [==============================] - 0s 2ms/step - loss: 0.4927 - accuracy: 0.7667 - val_loss: 0.6199 - val_accuracy: 0.7083\n",
            "Epoch 124/150\n",
            "60/60 [==============================] - 0s 1ms/step - loss: 0.5072 - accuracy: 0.7500 - val_loss: 0.6344 - val_accuracy: 0.6845\n",
            "Epoch 125/150\n",
            "60/60 [==============================] - 0s 1ms/step - loss: 0.4896 - accuracy: 0.7633 - val_loss: 0.6244 - val_accuracy: 0.6845\n",
            "Epoch 126/150\n",
            "60/60 [==============================] - 0s 1ms/step - loss: 0.4976 - accuracy: 0.7683 - val_loss: 0.6202 - val_accuracy: 0.7440\n",
            "Epoch 127/150\n",
            "60/60 [==============================] - 0s 2ms/step - loss: 0.4931 - accuracy: 0.7683 - val_loss: 0.6084 - val_accuracy: 0.7024\n",
            "Epoch 128/150\n",
            "60/60 [==============================] - 0s 1ms/step - loss: 0.4910 - accuracy: 0.7633 - val_loss: 0.5960 - val_accuracy: 0.7500\n",
            "Epoch 129/150\n",
            "60/60 [==============================] - 0s 2ms/step - loss: 0.4834 - accuracy: 0.7600 - val_loss: 0.6164 - val_accuracy: 0.7619\n",
            "Epoch 130/150\n",
            "60/60 [==============================] - 0s 1ms/step - loss: 0.4854 - accuracy: 0.7617 - val_loss: 0.6117 - val_accuracy: 0.7262\n",
            "Epoch 131/150\n",
            "60/60 [==============================] - 0s 2ms/step - loss: 0.4923 - accuracy: 0.7667 - val_loss: 0.6211 - val_accuracy: 0.7202\n",
            "Epoch 132/150\n",
            "60/60 [==============================] - 0s 2ms/step - loss: 0.5007 - accuracy: 0.7667 - val_loss: 0.6242 - val_accuracy: 0.7202\n",
            "Epoch 133/150\n",
            "60/60 [==============================] - 0s 1ms/step - loss: 0.4843 - accuracy: 0.7683 - val_loss: 0.6294 - val_accuracy: 0.6964\n",
            "Epoch 134/150\n",
            "60/60 [==============================] - 0s 2ms/step - loss: 0.4976 - accuracy: 0.7667 - val_loss: 0.6361 - val_accuracy: 0.7083\n",
            "Epoch 135/150\n",
            "60/60 [==============================] - 0s 1ms/step - loss: 0.4871 - accuracy: 0.7650 - val_loss: 0.6046 - val_accuracy: 0.7262\n",
            "Epoch 136/150\n",
            "60/60 [==============================] - 0s 1ms/step - loss: 0.4809 - accuracy: 0.7683 - val_loss: 0.6159 - val_accuracy: 0.7202\n",
            "Epoch 137/150\n",
            "60/60 [==============================] - 0s 2ms/step - loss: 0.4880 - accuracy: 0.7550 - val_loss: 0.6214 - val_accuracy: 0.6726\n",
            "Epoch 138/150\n",
            "60/60 [==============================] - 0s 1ms/step - loss: 0.4899 - accuracy: 0.7633 - val_loss: 0.6174 - val_accuracy: 0.6845\n",
            "Epoch 139/150\n",
            "60/60 [==============================] - 0s 2ms/step - loss: 0.5020 - accuracy: 0.7567 - val_loss: 0.6078 - val_accuracy: 0.7024\n",
            "Epoch 140/150\n",
            "60/60 [==============================] - 0s 2ms/step - loss: 0.4965 - accuracy: 0.7600 - val_loss: 0.6241 - val_accuracy: 0.7262\n",
            "Epoch 141/150\n",
            "60/60 [==============================] - 0s 2ms/step - loss: 0.4893 - accuracy: 0.7667 - val_loss: 0.6176 - val_accuracy: 0.7083\n",
            "Epoch 142/150\n",
            "60/60 [==============================] - 0s 2ms/step - loss: 0.4847 - accuracy: 0.7650 - val_loss: 0.6210 - val_accuracy: 0.6905\n",
            "Epoch 143/150\n",
            "60/60 [==============================] - 0s 2ms/step - loss: 0.4990 - accuracy: 0.7683 - val_loss: 0.6321 - val_accuracy: 0.7381\n",
            "Epoch 144/150\n",
            "60/60 [==============================] - 0s 1ms/step - loss: 0.4970 - accuracy: 0.7583 - val_loss: 0.6596 - val_accuracy: 0.6548\n",
            "Epoch 145/150\n",
            "60/60 [==============================] - 0s 1ms/step - loss: 0.4954 - accuracy: 0.7583 - val_loss: 0.6049 - val_accuracy: 0.7024\n",
            "Epoch 146/150\n",
            "60/60 [==============================] - 0s 2ms/step - loss: 0.4872 - accuracy: 0.7600 - val_loss: 0.5998 - val_accuracy: 0.7440\n",
            "Epoch 147/150\n",
            "60/60 [==============================] - 0s 2ms/step - loss: 0.4844 - accuracy: 0.7767 - val_loss: 0.6281 - val_accuracy: 0.7024\n",
            "Epoch 148/150\n",
            "60/60 [==============================] - 0s 1ms/step - loss: 0.4817 - accuracy: 0.7650 - val_loss: 0.6022 - val_accuracy: 0.7500\n",
            "Epoch 149/150\n",
            "60/60 [==============================] - 0s 2ms/step - loss: 0.4983 - accuracy: 0.7650 - val_loss: 0.6130 - val_accuracy: 0.7321\n",
            "Epoch 150/150\n",
            "60/60 [==============================] - 0s 2ms/step - loss: 0.4975 - accuracy: 0.7717 - val_loss: 0.6432 - val_accuracy: 0.6845\n"
          ],
          "name": "stdout"
        }
      ]
    },
    {
      "cell_type": "code",
      "metadata": {
        "colab": {
          "base_uri": "https://localhost:8080/",
          "height": 313
        },
        "id": "31lyImw0oLoB",
        "outputId": "c2b8101f-e10f-41b8-8dba-e47ace09b513"
      },
      "source": [
        "epochs = 150\n",
        "\n",
        "acc_list = [100 * i for i in hist.history['accuracy']]\n",
        "vacc_list = [100 * i for i in hist.history['val_accuracy']]\n",
        "loss_list = hist.history['loss'] #[100 * i for i in history.history['loss']]\n",
        "vloss_list = hist.history['val_loss'] #[100 * i for i in history.history['val_loss']]\n",
        "\n",
        "\n",
        "plt.plot(range(1,epochs+1),acc_list)  \n",
        "plt.plot(range(1,epochs+1),vacc_list)  \n",
        "plt.plot(np.argmax(np.array(vacc_list))+1,vacc_list[np.argmax(np.array(vacc_list))], 'r*')\n",
        "plt.title('DL of diabetes: Model accuracy')\n",
        "plt.ylabel('Accuracy (%)')\n",
        "plt.xlabel('Epoch')\n",
        "plt.legend(['accuracy','val_accuracy','best'], loc='best')\n",
        "\n",
        "\n"
      ],
      "execution_count": null,
      "outputs": [
        {
          "output_type": "execute_result",
          "data": {
            "text/plain": [
              "<matplotlib.legend.Legend at 0x7fb12d2c0160>"
            ]
          },
          "metadata": {
            "tags": []
          },
          "execution_count": 18
        },
        {
          "output_type": "display_data",
          "data": {
            "image/png": "[encoded data removed]",
            "text/plain": [
              "<Figure size 432x288 with 1 Axes>"
            ]
          },
          "metadata": {
            "tags": [],
            "needs_background": "light"
          }
        }
      ]
    },
    {
      "cell_type": "code",
      "metadata": {
        "colab": {
          "base_uri": "https://localhost:8080/"
        },
        "id": "i-owBe_-nLfL",
        "outputId": "66b884b5-5bd0-46ee-b55f-185ee6042138"
      },
      "source": [
        "# model performance\n",
        "model.evaluate(X_test, y_test)"
      ],
      "execution_count": null,
      "outputs": [
        {
          "output_type": "stream",
          "text": [
            "6/6 [==============================] - 0s 1ms/step - loss: 0.6432 - accuracy: 0.6845\n"
          ],
          "name": "stdout"
        },
        {
          "output_type": "execute_result",
          "data": {
            "text/plain": [
              "[0.6431992650032043, 0.6845238208770752]"
            ]
          },
          "metadata": {
            "tags": []
          },
          "execution_count": 19
        }
      ]
    },
    {
      "cell_type": "code",
      "metadata": {
        "colab": {
          "base_uri": "https://localhost:8080/"
        },
        "id": "cv0lPPtdbZIt",
        "outputId": "75b27c83-41aa-4da2-8dc5-494268b4a911"
      },
      "source": [
        "y_train[:5],y_train.shape"
      ],
      "execution_count": null,
      "outputs": [
        {
          "output_type": "execute_result",
          "data": {
            "text/plain": [
              "(0    1\n",
              " 1    0\n",
              " 2    1\n",
              " 3    0\n",
              " 4    1\n",
              " Name: Outcome, dtype: int64, (600,))"
            ]
          },
          "metadata": {
            "tags": []
          },
          "execution_count": 20
        }
      ]
    },
    {
      "cell_type": "code",
      "metadata": {
        "colab": {
          "base_uri": "https://localhost:8080/"
        },
        "id": "u10xb1P7b-QT",
        "outputId": "24c5b985-b1e2-4c90-ece6-e0dc889336b1"
      },
      "source": [
        "model.predict(X_train)[0:5],[int(np.round(prob)) for prob in model.predict(X_train)[0:5]]"
      ],
      "execution_count": null,
      "outputs": [
        {
          "output_type": "execute_result",
          "data": {
            "text/plain": [
              "(array([[0.43217665],\n",
              "        [0.11309642],\n",
              "        [0.39556456],\n",
              "        [0.14861685],\n",
              "        [0.599962  ]], dtype=float32), [0, 0, 0, 0, 1])"
            ]
          },
          "metadata": {
            "tags": []
          },
          "execution_count": 21
        }
      ]
    },
    {
      "cell_type": "code",
      "metadata": {
        "colab": {
          "base_uri": "https://localhost:8080/"
        },
        "id": "p88uIn2gdA_E",
        "outputId": "6d99c3ab-7dd2-45a3-f483-95ee2ebefaf9"
      },
      "source": [
        "# the first data in trainset\n",
        "X_train.iloc[0].tolist()"
      ],
      "execution_count": null,
      "outputs": [
        {
          "output_type": "execute_result",
          "data": {
            "text/plain": [
              "[6.0, 148.0, 72.0, 35.0, 0.0, 33.6, 0.627, 50.0]"
            ]
          },
          "metadata": {
            "tags": []
          },
          "execution_count": 22
        }
      ]
    },
    {
      "cell_type": "code",
      "metadata": {
        "colab": {
          "base_uri": "https://localhost:8080/"
        },
        "id": "9hu9yuFijM30",
        "outputId": "ca89fe58-f488-4647-f81d-937226349aae"
      },
      "source": [
        "X_test.shape"
      ],
      "execution_count": null,
      "outputs": [
        {
          "output_type": "execute_result",
          "data": {
            "text/plain": [
              "(168, 8)"
            ]
          },
          "metadata": {
            "tags": []
          },
          "execution_count": 23
        }
      ]
    },
    {
      "cell_type": "code",
      "metadata": {
        "colab": {
          "base_uri": "https://localhost:8080/"
        },
        "id": "-QBxuYwBje4t",
        "outputId": "c634e810-a3c0-4f2e-9b26-7f168070abc0"
      },
      "source": [
        "y_test[:10].values"
      ],
      "execution_count": null,
      "outputs": [
        {
          "output_type": "execute_result",
          "data": {
            "text/plain": [
              "array([0, 0, 0, 1, 1, 0, 1, 0, 0, 0])"
            ]
          },
          "metadata": {
            "tags": []
          },
          "execution_count": 26
        }
      ]
    },
    {
      "cell_type": "code",
      "metadata": {
        "colab": {
          "base_uri": "https://localhost:8080/"
        },
        "id": "0qKhHR2BkDj1",
        "outputId": "0d76e873-55af-4372-bbfe-aad8477a0b13"
      },
      "source": [
        "X_test.iloc[0].values.tolist(),y_test.iloc[0]"
      ],
      "execution_count": null,
      "outputs": [
        {
          "output_type": "execute_result",
          "data": {
            "text/plain": [
              "([1.0, 108.0, 88.0, 19.0, 0.0, 27.1, 0.4, 24.0], 0)"
            ]
          },
          "metadata": {
            "tags": []
          },
          "execution_count": 27
        }
      ]
    },
    {
      "cell_type": "code",
      "metadata": {
        "colab": {
          "base_uri": "https://localhost:8080/"
        },
        "id": "8C7SkexxkS5c",
        "outputId": "2a0afba1-d33d-4d2b-9c06-a54edf08878a"
      },
      "source": [
        "# make class predictions for test data with the model\n",
        "predictions = [int(np.round(prob)) for prob in model.predict(X_test)]\n",
        "predictions[:10]"
      ],
      "execution_count": null,
      "outputs": [
        {
          "output_type": "execute_result",
          "data": {
            "text/plain": [
              "[0, 0, 0, 0, 1, 0, 1, 0, 0, 0]"
            ]
          },
          "metadata": {
            "tags": []
          },
          "execution_count": 28
        }
      ]
    },
    {
      "cell_type": "code",
      "metadata": {
        "colab": {
          "base_uri": "https://localhost:8080/"
        },
        "id": "-l8Or1_8YV8H",
        "outputId": "baa86d42-0fc2-4583-b41d-4ace370e6ca7"
      },
      "source": [
        "# summarize the first 10 cases in testset\n",
        "for i in range(10):\n",
        "   print('%s => %d (expected %d)' % (X_test.iloc[i].values.tolist(), predictions[i], y_test.iloc[i]))"
      ],
      "execution_count": null,
      "outputs": [
        {
          "output_type": "stream",
          "text": [
            "[1.0, 108.0, 88.0, 19.0, 0.0, 27.1, 0.4, 24.0] => 0 (expected 0)\n",
            "[6.0, 96.0, 0.0, 0.0, 0.0, 23.7, 0.19, 28.0] => 0 (expected 0)\n",
            "[1.0, 124.0, 74.0, 36.0, 0.0, 27.8, 0.1, 30.0] => 0 (expected 0)\n",
            "[7.0, 150.0, 78.0, 29.0, 126.0, 35.2, 0.6920000000000001, 54.0] => 0 (expected 1)\n",
            "[4.0, 183.0, 0.0, 0.0, 0.0, 28.4, 0.212, 36.0] => 1 (expected 1)\n",
            "[1.0, 124.0, 60.0, 32.0, 0.0, 35.8, 0.514, 21.0] => 0 (expected 0)\n",
            "[1.0, 181.0, 78.0, 42.0, 293.0, 40.0, 1.258, 22.0] => 1 (expected 1)\n",
            "[1.0, 92.0, 62.0, 25.0, 41.0, 19.5, 0.48200000000000004, 25.0] => 0 (expected 0)\n",
            "[0.0, 152.0, 82.0, 39.0, 272.0, 41.5, 0.27, 27.0] => 0 (expected 0)\n",
            "[1.0, 111.0, 62.0, 13.0, 182.0, 24.0, 0.138, 23.0] => 0 (expected 0)\n"
          ],
          "name": "stdout"
        }
      ]
    },
    {
      "cell_type": "markdown",
      "metadata": {
        "id": "zCh-95EO_-17"
      },
      "source": [
        "### Confusion matrix"
      ]
    },
    {
      "cell_type": "code",
      "metadata": {
        "id": "i4QJwcVvADpU"
      },
      "source": [
        "import seaborn as sns\n",
        "from sklearn.metrics import confusion_matrix"
      ],
      "execution_count": null,
      "outputs": []
    },
    {
      "cell_type": "code",
      "metadata": {
        "id": "hiPMQeYXt12l"
      },
      "source": [
        "cm = confusion_matrix(y_test, predictions)"
      ],
      "execution_count": null,
      "outputs": []
    },
    {
      "cell_type": "code",
      "metadata": {
        "id": "YITaGwYjvatc"
      },
      "source": [
        "class_names = ['noDM','DM']"
      ],
      "execution_count": null,
      "outputs": []
    },
    {
      "cell_type": "code",
      "metadata": {
        "id": "2qGHMNU3u8ut",
        "colab": {
          "base_uri": "https://localhost:8080/",
          "height": 334
        },
        "outputId": "fc524624-57ff-47d6-d1c5-e2162852d2e1"
      },
      "source": [
        "plt.figure(figsize=(5,5))\n",
        "sns.heatmap(cm, cbar=False, xticklabels=class_names, yticklabels=class_names, fmt='d', annot=True, cmap=plt.cm.coolwarm)\n",
        "plt.xlabel('Predicted')\n",
        "plt.ylabel('Actual')\n",
        "plt.show()"
      ],
      "execution_count": null,
      "outputs": [
        {
          "output_type": "display_data",
          "data": {
            "image/png": "[encoded data removed]",
            "text/plain": [
              "<Figure size 360x360 with 1 Axes>"
            ]
          },
          "metadata": {
            "tags": [],
            "needs_background": "light"
          }
        }
      ]
    },
    {
      "cell_type": "markdown",
      "metadata": {
        "id": "xG6RmEh-rECP"
      },
      "source": [
        "## [DIY-1] Save the best model\n",
        "- hdf5 file"
      ]
    },
    {
      "cell_type": "code",
      "metadata": {
        "id": "UVgMnQNMrqL4"
      },
      "source": [
        "# define the keras model\n",
        "model2 = Sequential([\n",
        "    Dense(16, input_dim=8, activation='relu'),\n",
        "    Dense(8, activation='relu'), \n",
        "    Dense(1, activation='sigmoid')                 \n",
        "])\n",
        "# compile the keras model\n",
        "model2.compile(loss='binary_crossentropy', \n",
        "              optimizer='adam', \n",
        "              metrics=['accuracy'])\n"
      ],
      "execution_count": null,
      "outputs": []
    },
    {
      "cell_type": "markdown",
      "metadata": {
        "id": "JjB5zR4vsUHw"
      },
      "source": [
        "### callbacks"
      ]
    },
    {
      "cell_type": "code",
      "metadata": {
        "id": "V20fWcM4sTAk"
      },
      "source": [
        "cp_callback = callbacks.ModelCheckpoint(filepath=\"./diabetes_DL_best_weights.{epoch:03d}-{val_accuracy:.4f}.hdf5\", \n",
        "                              monitor='val_accuracy', verbose=0, save_best_only=True)\n",
        "es_callback = callbacks.EarlyStopping(monitor='val_accuracy', \n",
        "                            mode='max', verbose=1, patience=50)    # patience=10, 20, 50"
      ],
      "execution_count": null,
      "outputs": []
    },
    {
      "cell_type": "code",
      "metadata": {
        "colab": {
          "base_uri": "https://localhost:8080/"
        },
        "id": "hjNTHDcurqL5",
        "outputId": "1835a021-f26a-4de7-b5f1-8e782fa49eeb"
      },
      "source": [
        "# fit the keras model on the dataset\n",
        "hist = model2.fit(X_train, y_train, epochs=500, batch_size=10, verbose=1, \n",
        "                  callbacks=[cp_callback, es_callback], \n",
        "                  validation_data=(X_test, y_test))\n"
      ],
      "execution_count": null,
      "outputs": [
        {
          "output_type": "stream",
          "text": [
            "Epoch 1/500\n",
            "60/60 [==============================] - 0s 6ms/step - loss: 8.8504 - accuracy: 0.6533 - val_loss: 2.5537 - val_accuracy: 0.6429\n",
            "Epoch 2/500\n",
            "60/60 [==============================] - 0s 2ms/step - loss: 1.4828 - accuracy: 0.6450 - val_loss: 0.8275 - val_accuracy: 0.6548\n",
            "Epoch 3/500\n",
            "60/60 [==============================] - 0s 1ms/step - loss: 0.7452 - accuracy: 0.5317 - val_loss: 0.6846 - val_accuracy: 0.5536\n",
            "Epoch 4/500\n",
            "60/60 [==============================] - 0s 1ms/step - loss: 0.6963 - accuracy: 0.5067 - val_loss: 0.6791 - val_accuracy: 0.5655\n",
            "Epoch 5/500\n",
            "60/60 [==============================] - 0s 1ms/step - loss: 0.6885 - accuracy: 0.5367 - val_loss: 0.6782 - val_accuracy: 0.5833\n",
            "Epoch 6/500\n",
            "60/60 [==============================] - 0s 1ms/step - loss: 0.6857 - accuracy: 0.5733 - val_loss: 0.6766 - val_accuracy: 0.6190\n",
            "Epoch 7/500\n",
            "60/60 [==============================] - 0s 1ms/step - loss: 0.6837 - accuracy: 0.6350 - val_loss: 0.6757 - val_accuracy: 0.6429\n",
            "Epoch 8/500\n",
            "60/60 [==============================] - 0s 1ms/step - loss: 0.6791 - accuracy: 0.6100 - val_loss: 0.6720 - val_accuracy: 0.6429\n",
            "Epoch 9/500\n",
            "60/60 [==============================] - 0s 1ms/step - loss: 0.6768 - accuracy: 0.6533 - val_loss: 0.6702 - val_accuracy: 0.6429\n",
            "Epoch 10/500\n",
            "60/60 [==============================] - 0s 1ms/step - loss: 0.6748 - accuracy: 0.6533 - val_loss: 0.6703 - val_accuracy: 0.6429\n",
            "Epoch 11/500\n",
            "60/60 [==============================] - 0s 1ms/step - loss: 0.6733 - accuracy: 0.6533 - val_loss: 0.6663 - val_accuracy: 0.6429\n",
            "Epoch 12/500\n",
            "60/60 [==============================] - 0s 2ms/step - loss: 0.6692 - accuracy: 0.6600 - val_loss: 0.6664 - val_accuracy: 0.6429\n",
            "Epoch 13/500\n",
            "60/60 [==============================] - 0s 1ms/step - loss: 0.6701 - accuracy: 0.6550 - val_loss: 0.6641 - val_accuracy: 0.6429\n",
            "Epoch 14/500\n",
            "60/60 [==============================] - 0s 1ms/step - loss: 0.6663 - accuracy: 0.6533 - val_loss: 0.6655 - val_accuracy: 0.6429\n",
            "Epoch 15/500\n",
            "60/60 [==============================] - 0s 1ms/step - loss: 0.6635 - accuracy: 0.6483 - val_loss: 0.6609 - val_accuracy: 0.6429\n",
            "Epoch 16/500\n",
            "60/60 [==============================] - 0s 2ms/step - loss: 0.6605 - accuracy: 0.6533 - val_loss: 0.6598 - val_accuracy: 0.6429\n",
            "Epoch 17/500\n",
            "60/60 [==============================] - 0s 1ms/step - loss: 0.6643 - accuracy: 0.6483 - val_loss: 0.6714 - val_accuracy: 0.6071\n",
            "Epoch 18/500\n",
            "60/60 [==============================] - 0s 1ms/step - loss: 0.6560 - accuracy: 0.6583 - val_loss: 0.6578 - val_accuracy: 0.6429\n",
            "Epoch 19/500\n",
            "60/60 [==============================] - 0s 1ms/step - loss: 0.6589 - accuracy: 0.6483 - val_loss: 0.6568 - val_accuracy: 0.6429\n",
            "Epoch 20/500\n",
            "60/60 [==============================] - 0s 1ms/step - loss: 0.6520 - accuracy: 0.6550 - val_loss: 0.6583 - val_accuracy: 0.6548\n",
            "Epoch 21/500\n",
            "60/60 [==============================] - 0s 2ms/step - loss: 0.6562 - accuracy: 0.6567 - val_loss: 0.6544 - val_accuracy: 0.6429\n",
            "Epoch 22/500\n",
            "60/60 [==============================] - 0s 2ms/step - loss: 0.6517 - accuracy: 0.6517 - val_loss: 0.6600 - val_accuracy: 0.6607\n",
            "Epoch 23/500\n",
            "60/60 [==============================] - 0s 1ms/step - loss: 0.6517 - accuracy: 0.6633 - val_loss: 0.6624 - val_accuracy: 0.6488\n",
            "Epoch 24/500\n",
            "60/60 [==============================] - 0s 1ms/step - loss: 0.6488 - accuracy: 0.6567 - val_loss: 0.6539 - val_accuracy: 0.6429\n",
            "Epoch 25/500\n",
            "60/60 [==============================] - 0s 2ms/step - loss: 0.6470 - accuracy: 0.6517 - val_loss: 0.6569 - val_accuracy: 0.6488\n",
            "Epoch 26/500\n",
            "60/60 [==============================] - 0s 1ms/step - loss: 0.6455 - accuracy: 0.6617 - val_loss: 0.6529 - val_accuracy: 0.6548\n",
            "Epoch 27/500\n",
            "60/60 [==============================] - 0s 1ms/step - loss: 0.6443 - accuracy: 0.6467 - val_loss: 0.6524 - val_accuracy: 0.6607\n",
            "Epoch 28/500\n",
            "60/60 [==============================] - 0s 1ms/step - loss: 0.6417 - accuracy: 0.6550 - val_loss: 0.6506 - val_accuracy: 0.6429\n",
            "Epoch 29/500\n",
            "60/60 [==============================] - 0s 1ms/step - loss: 0.6422 - accuracy: 0.6550 - val_loss: 0.6525 - val_accuracy: 0.6488\n",
            "Epoch 30/500\n",
            "60/60 [==============================] - 0s 2ms/step - loss: 0.6402 - accuracy: 0.6533 - val_loss: 0.6513 - val_accuracy: 0.6488\n",
            "Epoch 31/500\n",
            "60/60 [==============================] - 0s 1ms/step - loss: 0.6393 - accuracy: 0.6467 - val_loss: 0.6513 - val_accuracy: 0.6488\n",
            "Epoch 32/500\n",
            "60/60 [==============================] - 0s 1ms/step - loss: 0.6399 - accuracy: 0.6500 - val_loss: 0.6480 - val_accuracy: 0.6548\n",
            "Epoch 33/500\n",
            "60/60 [==============================] - 0s 2ms/step - loss: 0.6367 - accuracy: 0.6583 - val_loss: 0.6497 - val_accuracy: 0.6488\n",
            "Epoch 34/500\n",
            "60/60 [==============================] - 0s 2ms/step - loss: 0.6367 - accuracy: 0.6633 - val_loss: 0.6502 - val_accuracy: 0.6488\n",
            "Epoch 35/500\n",
            "60/60 [==============================] - 0s 1ms/step - loss: 0.6351 - accuracy: 0.6550 - val_loss: 0.6486 - val_accuracy: 0.6488\n",
            "Epoch 36/500\n",
            "60/60 [==============================] - 0s 1ms/step - loss: 0.6344 - accuracy: 0.6700 - val_loss: 0.6463 - val_accuracy: 0.6607\n",
            "Epoch 37/500\n",
            "60/60 [==============================] - 0s 2ms/step - loss: 0.6344 - accuracy: 0.6583 - val_loss: 0.6452 - val_accuracy: 0.6548\n",
            "Epoch 38/500\n",
            "60/60 [==============================] - 0s 1ms/step - loss: 0.6323 - accuracy: 0.6550 - val_loss: 0.6457 - val_accuracy: 0.6548\n",
            "Epoch 39/500\n",
            "60/60 [==============================] - 0s 1ms/step - loss: 0.6326 - accuracy: 0.6567 - val_loss: 0.6448 - val_accuracy: 0.6488\n",
            "Epoch 40/500\n",
            "60/60 [==============================] - 0s 2ms/step - loss: 0.6295 - accuracy: 0.6583 - val_loss: 0.6435 - val_accuracy: 0.6607\n",
            "Epoch 41/500\n",
            "60/60 [==============================] - 0s 2ms/step - loss: 0.6319 - accuracy: 0.6567 - val_loss: 0.6428 - val_accuracy: 0.6607\n",
            "Epoch 42/500\n",
            "60/60 [==============================] - 0s 2ms/step - loss: 0.6295 - accuracy: 0.6633 - val_loss: 0.6424 - val_accuracy: 0.6607\n",
            "Epoch 43/500\n",
            "60/60 [==============================] - 0s 2ms/step - loss: 0.6264 - accuracy: 0.6633 - val_loss: 0.6443 - val_accuracy: 0.6667\n",
            "Epoch 44/500\n",
            "60/60 [==============================] - 0s 2ms/step - loss: 0.6241 - accuracy: 0.6750 - val_loss: 0.6391 - val_accuracy: 0.6548\n",
            "Epoch 45/500\n",
            "60/60 [==============================] - 0s 1ms/step - loss: 0.6227 - accuracy: 0.6567 - val_loss: 0.6378 - val_accuracy: 0.6548\n",
            "Epoch 46/500\n",
            "60/60 [==============================] - 0s 1ms/step - loss: 0.6204 - accuracy: 0.6733 - val_loss: 0.6349 - val_accuracy: 0.6548\n",
            "Epoch 47/500\n",
            "60/60 [==============================] - 0s 2ms/step - loss: 0.6174 - accuracy: 0.6700 - val_loss: 0.6314 - val_accuracy: 0.6726\n",
            "Epoch 48/500\n",
            "60/60 [==============================] - 0s 2ms/step - loss: 0.6148 - accuracy: 0.6650 - val_loss: 0.6264 - val_accuracy: 0.6786\n",
            "Epoch 49/500\n",
            "60/60 [==============================] - 0s 1ms/step - loss: 0.6075 - accuracy: 0.6917 - val_loss: 0.6197 - val_accuracy: 0.6786\n",
            "Epoch 50/500\n",
            "60/60 [==============================] - 0s 2ms/step - loss: 0.6044 - accuracy: 0.7083 - val_loss: 0.6129 - val_accuracy: 0.6845\n",
            "Epoch 51/500\n",
            "60/60 [==============================] - 0s 2ms/step - loss: 0.6084 - accuracy: 0.7050 - val_loss: 0.6085 - val_accuracy: 0.6726\n",
            "Epoch 52/500\n",
            "60/60 [==============================] - 0s 1ms/step - loss: 0.5978 - accuracy: 0.7117 - val_loss: 0.5983 - val_accuracy: 0.6845\n",
            "Epoch 53/500\n",
            "60/60 [==============================] - 0s 2ms/step - loss: 0.5945 - accuracy: 0.7150 - val_loss: 0.5991 - val_accuracy: 0.6845\n",
            "Epoch 54/500\n",
            "60/60 [==============================] - 0s 2ms/step - loss: 0.5924 - accuracy: 0.7200 - val_loss: 0.5957 - val_accuracy: 0.7024\n",
            "Epoch 55/500\n",
            "60/60 [==============================] - 0s 1ms/step - loss: 0.5941 - accuracy: 0.6967 - val_loss: 0.5992 - val_accuracy: 0.7024\n",
            "Epoch 56/500\n",
            "60/60 [==============================] - 0s 2ms/step - loss: 0.5857 - accuracy: 0.7150 - val_loss: 0.5806 - val_accuracy: 0.7202\n",
            "Epoch 57/500\n",
            "60/60 [==============================] - 0s 2ms/step - loss: 0.5878 - accuracy: 0.7133 - val_loss: 0.5871 - val_accuracy: 0.7321\n",
            "Epoch 58/500\n",
            "60/60 [==============================] - 0s 2ms/step - loss: 0.5870 - accuracy: 0.7067 - val_loss: 0.5872 - val_accuracy: 0.7024\n",
            "Epoch 59/500\n",
            "60/60 [==============================] - 0s 1ms/step - loss: 0.5844 - accuracy: 0.7283 - val_loss: 0.5769 - val_accuracy: 0.7083\n",
            "Epoch 60/500\n",
            "60/60 [==============================] - 0s 2ms/step - loss: 0.5867 - accuracy: 0.7167 - val_loss: 0.5859 - val_accuracy: 0.6905\n",
            "Epoch 61/500\n",
            "60/60 [==============================] - 0s 1ms/step - loss: 0.5808 - accuracy: 0.7150 - val_loss: 0.5619 - val_accuracy: 0.6905\n",
            "Epoch 62/500\n",
            "60/60 [==============================] - 0s 1ms/step - loss: 0.5745 - accuracy: 0.7183 - val_loss: 0.5621 - val_accuracy: 0.6964\n",
            "Epoch 63/500\n",
            "60/60 [==============================] - 0s 2ms/step - loss: 0.5727 - accuracy: 0.7183 - val_loss: 0.5862 - val_accuracy: 0.7143\n",
            "Epoch 64/500\n",
            "60/60 [==============================] - 0s 1ms/step - loss: 0.5751 - accuracy: 0.7117 - val_loss: 0.5788 - val_accuracy: 0.7083\n",
            "Epoch 65/500\n",
            "60/60 [==============================] - 0s 2ms/step - loss: 0.5809 - accuracy: 0.7083 - val_loss: 0.5784 - val_accuracy: 0.7143\n",
            "Epoch 66/500\n",
            "60/60 [==============================] - 0s 2ms/step - loss: 0.5829 - accuracy: 0.7100 - val_loss: 0.5877 - val_accuracy: 0.7202\n",
            "Epoch 67/500\n",
            "60/60 [==============================] - 0s 1ms/step - loss: 0.5782 - accuracy: 0.7233 - val_loss: 0.5704 - val_accuracy: 0.7024\n",
            "Epoch 68/500\n",
            "60/60 [==============================] - 0s 1ms/step - loss: 0.5712 - accuracy: 0.7083 - val_loss: 0.5687 - val_accuracy: 0.7024\n",
            "Epoch 69/500\n",
            "60/60 [==============================] - 0s 2ms/step - loss: 0.5664 - accuracy: 0.7117 - val_loss: 0.5608 - val_accuracy: 0.7202\n",
            "Epoch 70/500\n",
            "60/60 [==============================] - 0s 2ms/step - loss: 0.5634 - accuracy: 0.7167 - val_loss: 0.5422 - val_accuracy: 0.7143\n",
            "Epoch 71/500\n",
            "60/60 [==============================] - 0s 2ms/step - loss: 0.5703 - accuracy: 0.7200 - val_loss: 0.5633 - val_accuracy: 0.7024\n",
            "Epoch 72/500\n",
            "60/60 [==============================] - 0s 1ms/step - loss: 0.5612 - accuracy: 0.7283 - val_loss: 0.5426 - val_accuracy: 0.7202\n",
            "Epoch 73/500\n",
            "60/60 [==============================] - 0s 2ms/step - loss: 0.5695 - accuracy: 0.7217 - val_loss: 0.5692 - val_accuracy: 0.6905\n",
            "Epoch 74/500\n",
            "60/60 [==============================] - 0s 1ms/step - loss: 0.5651 - accuracy: 0.7167 - val_loss: 0.5521 - val_accuracy: 0.6905\n",
            "Epoch 75/500\n",
            "60/60 [==============================] - 0s 1ms/step - loss: 0.5598 - accuracy: 0.7250 - val_loss: 0.5710 - val_accuracy: 0.6845\n",
            "Epoch 76/500\n",
            "60/60 [==============================] - 0s 1ms/step - loss: 0.5904 - accuracy: 0.7150 - val_loss: 0.5771 - val_accuracy: 0.6964\n",
            "Epoch 77/500\n",
            "60/60 [==============================] - 0s 1ms/step - loss: 0.5685 - accuracy: 0.7367 - val_loss: 0.5763 - val_accuracy: 0.6964\n",
            "Epoch 78/500\n",
            "60/60 [==============================] - 0s 2ms/step - loss: 0.5665 - accuracy: 0.7350 - val_loss: 0.5762 - val_accuracy: 0.6964\n",
            "Epoch 79/500\n",
            "60/60 [==============================] - 0s 2ms/step - loss: 0.5641 - accuracy: 0.7317 - val_loss: 0.5644 - val_accuracy: 0.7024\n",
            "Epoch 80/500\n",
            "60/60 [==============================] - 0s 2ms/step - loss: 0.5623 - accuracy: 0.7167 - val_loss: 0.5625 - val_accuracy: 0.7143\n",
            "Epoch 81/500\n",
            "60/60 [==============================] - 0s 2ms/step - loss: 0.5564 - accuracy: 0.7450 - val_loss: 0.5524 - val_accuracy: 0.7321\n",
            "Epoch 82/500\n",
            "60/60 [==============================] - 0s 2ms/step - loss: 0.5580 - accuracy: 0.7250 - val_loss: 0.5611 - val_accuracy: 0.7143\n",
            "Epoch 83/500\n",
            "60/60 [==============================] - 0s 2ms/step - loss: 0.5550 - accuracy: 0.7333 - val_loss: 0.5526 - val_accuracy: 0.7024\n",
            "Epoch 84/500\n",
            "60/60 [==============================] - 0s 2ms/step - loss: 0.5539 - accuracy: 0.7317 - val_loss: 0.5594 - val_accuracy: 0.6905\n",
            "Epoch 85/500\n",
            "60/60 [==============================] - 0s 1ms/step - loss: 0.5511 - accuracy: 0.7283 - val_loss: 0.5485 - val_accuracy: 0.7024\n",
            "Epoch 86/500\n",
            "60/60 [==============================] - 0s 2ms/step - loss: 0.5483 - accuracy: 0.7233 - val_loss: 0.5474 - val_accuracy: 0.7024\n",
            "Epoch 87/500\n",
            "60/60 [==============================] - 0s 2ms/step - loss: 0.5456 - accuracy: 0.7450 - val_loss: 0.5378 - val_accuracy: 0.7440\n",
            "Epoch 88/500\n",
            "60/60 [==============================] - 0s 1ms/step - loss: 0.5480 - accuracy: 0.7350 - val_loss: 0.5584 - val_accuracy: 0.6905\n",
            "Epoch 89/500\n",
            "60/60 [==============================] - 0s 1ms/step - loss: 0.5444 - accuracy: 0.7267 - val_loss: 0.5333 - val_accuracy: 0.7262\n",
            "Epoch 90/500\n",
            "60/60 [==============================] - 0s 2ms/step - loss: 0.5475 - accuracy: 0.7250 - val_loss: 0.5556 - val_accuracy: 0.7024\n",
            "Epoch 91/500\n",
            "60/60 [==============================] - 0s 2ms/step - loss: 0.5429 - accuracy: 0.7417 - val_loss: 0.5360 - val_accuracy: 0.7321\n",
            "Epoch 92/500\n",
            "60/60 [==============================] - 0s 2ms/step - loss: 0.5435 - accuracy: 0.7250 - val_loss: 0.5525 - val_accuracy: 0.7321\n",
            "Epoch 93/500\n",
            "60/60 [==============================] - 0s 2ms/step - loss: 0.5442 - accuracy: 0.7317 - val_loss: 0.5507 - val_accuracy: 0.7440\n",
            "Epoch 94/500\n",
            "60/60 [==============================] - 0s 1ms/step - loss: 0.5378 - accuracy: 0.7333 - val_loss: 0.5410 - val_accuracy: 0.7262\n",
            "Epoch 95/500\n",
            "60/60 [==============================] - 0s 2ms/step - loss: 0.5394 - accuracy: 0.7350 - val_loss: 0.5340 - val_accuracy: 0.7679\n",
            "Epoch 96/500\n",
            "60/60 [==============================] - 0s 2ms/step - loss: 0.5441 - accuracy: 0.7333 - val_loss: 0.5541 - val_accuracy: 0.7381\n",
            "Epoch 97/500\n",
            "60/60 [==============================] - 0s 2ms/step - loss: 0.5423 - accuracy: 0.7400 - val_loss: 0.5441 - val_accuracy: 0.7083\n",
            "Epoch 98/500\n",
            "60/60 [==============================] - 0s 1ms/step - loss: 0.5365 - accuracy: 0.7267 - val_loss: 0.5352 - val_accuracy: 0.7321\n",
            "Epoch 99/500\n",
            "60/60 [==============================] - 0s 2ms/step - loss: 0.5349 - accuracy: 0.7367 - val_loss: 0.5371 - val_accuracy: 0.7262\n",
            "Epoch 100/500\n",
            "60/60 [==============================] - 0s 2ms/step - loss: 0.5397 - accuracy: 0.7267 - val_loss: 0.5480 - val_accuracy: 0.6905\n",
            "Epoch 101/500\n",
            "60/60 [==============================] - 0s 2ms/step - loss: 0.5351 - accuracy: 0.7367 - val_loss: 0.5468 - val_accuracy: 0.7202\n",
            "Epoch 102/500\n",
            "60/60 [==============================] - 0s 2ms/step - loss: 0.5341 - accuracy: 0.7333 - val_loss: 0.5434 - val_accuracy: 0.7024\n",
            "Epoch 103/500\n",
            "60/60 [==============================] - 0s 2ms/step - loss: 0.5306 - accuracy: 0.7433 - val_loss: 0.5463 - val_accuracy: 0.7321\n",
            "Epoch 104/500\n",
            "60/60 [==============================] - 0s 1ms/step - loss: 0.5448 - accuracy: 0.7267 - val_loss: 0.5501 - val_accuracy: 0.7143\n",
            "Epoch 105/500\n",
            "60/60 [==============================] - 0s 1ms/step - loss: 0.5328 - accuracy: 0.7450 - val_loss: 0.5573 - val_accuracy: 0.7262\n",
            "Epoch 106/500\n",
            "60/60 [==============================] - 0s 2ms/step - loss: 0.5319 - accuracy: 0.7383 - val_loss: 0.5330 - val_accuracy: 0.7560\n",
            "Epoch 107/500\n",
            "60/60 [==============================] - 0s 1ms/step - loss: 0.5355 - accuracy: 0.7333 - val_loss: 0.5409 - val_accuracy: 0.7262\n",
            "Epoch 108/500\n",
            "60/60 [==============================] - 0s 1ms/step - loss: 0.5338 - accuracy: 0.7417 - val_loss: 0.5260 - val_accuracy: 0.7262\n",
            "Epoch 109/500\n",
            "60/60 [==============================] - 0s 2ms/step - loss: 0.5266 - accuracy: 0.7567 - val_loss: 0.5534 - val_accuracy: 0.7202\n",
            "Epoch 110/500\n",
            "60/60 [==============================] - 0s 2ms/step - loss: 0.5375 - accuracy: 0.7483 - val_loss: 0.5593 - val_accuracy: 0.7083\n",
            "Epoch 111/500\n",
            "60/60 [==============================] - 0s 2ms/step - loss: 0.5326 - accuracy: 0.7317 - val_loss: 0.5438 - val_accuracy: 0.7321\n",
            "Epoch 112/500\n",
            "60/60 [==============================] - 0s 2ms/step - loss: 0.5287 - accuracy: 0.7467 - val_loss: 0.5313 - val_accuracy: 0.7381\n",
            "Epoch 113/500\n",
            "60/60 [==============================] - 0s 2ms/step - loss: 0.5302 - accuracy: 0.7483 - val_loss: 0.5339 - val_accuracy: 0.7381\n",
            "Epoch 114/500\n",
            "60/60 [==============================] - 0s 1ms/step - loss: 0.5292 - accuracy: 0.7500 - val_loss: 0.5395 - val_accuracy: 0.7143\n",
            "Epoch 115/500\n",
            "60/60 [==============================] - 0s 2ms/step - loss: 0.5256 - accuracy: 0.7367 - val_loss: 0.5289 - val_accuracy: 0.7500\n",
            "Epoch 116/500\n",
            "60/60 [==============================] - 0s 2ms/step - loss: 0.5277 - accuracy: 0.7350 - val_loss: 0.5352 - val_accuracy: 0.7381\n",
            "Epoch 117/500\n",
            "60/60 [==============================] - 0s 1ms/step - loss: 0.5246 - accuracy: 0.7333 - val_loss: 0.5413 - val_accuracy: 0.7321\n",
            "Epoch 118/500\n",
            "60/60 [==============================] - 0s 1ms/step - loss: 0.5289 - accuracy: 0.7483 - val_loss: 0.5339 - val_accuracy: 0.7560\n",
            "Epoch 119/500\n",
            "60/60 [==============================] - 0s 2ms/step - loss: 0.5236 - accuracy: 0.7517 - val_loss: 0.5320 - val_accuracy: 0.7619\n",
            "Epoch 120/500\n",
            "60/60 [==============================] - 0s 2ms/step - loss: 0.5280 - accuracy: 0.7467 - val_loss: 0.5338 - val_accuracy: 0.7381\n",
            "Epoch 121/500\n",
            "60/60 [==============================] - 0s 2ms/step - loss: 0.5358 - accuracy: 0.7450 - val_loss: 0.5445 - val_accuracy: 0.7143\n",
            "Epoch 122/500\n",
            "60/60 [==============================] - 0s 2ms/step - loss: 0.5305 - accuracy: 0.7350 - val_loss: 0.5464 - val_accuracy: 0.7321\n",
            "Epoch 123/500\n",
            "60/60 [==============================] - 0s 2ms/step - loss: 0.5257 - accuracy: 0.7433 - val_loss: 0.5440 - val_accuracy: 0.7381\n",
            "Epoch 124/500\n",
            "60/60 [==============================] - 0s 2ms/step - loss: 0.5237 - accuracy: 0.7517 - val_loss: 0.5350 - val_accuracy: 0.7202\n",
            "Epoch 125/500\n",
            "60/60 [==============================] - 0s 1ms/step - loss: 0.5213 - accuracy: 0.7517 - val_loss: 0.5283 - val_accuracy: 0.7381\n",
            "Epoch 126/500\n",
            "60/60 [==============================] - 0s 1ms/step - loss: 0.5188 - accuracy: 0.7517 - val_loss: 0.5229 - val_accuracy: 0.7500\n",
            "Epoch 127/500\n",
            "60/60 [==============================] - 0s 2ms/step - loss: 0.5190 - accuracy: 0.7467 - val_loss: 0.5383 - val_accuracy: 0.7440\n",
            "Epoch 128/500\n",
            "60/60 [==============================] - 0s 2ms/step - loss: 0.5172 - accuracy: 0.7583 - val_loss: 0.5329 - val_accuracy: 0.7202\n",
            "Epoch 129/500\n",
            "60/60 [==============================] - 0s 2ms/step - loss: 0.5182 - accuracy: 0.7533 - val_loss: 0.5299 - val_accuracy: 0.7321\n",
            "Epoch 130/500\n",
            "60/60 [==============================] - 0s 1ms/step - loss: 0.5181 - accuracy: 0.7483 - val_loss: 0.5314 - val_accuracy: 0.7321\n",
            "Epoch 131/500\n",
            "60/60 [==============================] - 0s 2ms/step - loss: 0.5215 - accuracy: 0.7567 - val_loss: 0.5495 - val_accuracy: 0.7083\n",
            "Epoch 132/500\n",
            "60/60 [==============================] - 0s 2ms/step - loss: 0.5253 - accuracy: 0.7433 - val_loss: 0.5282 - val_accuracy: 0.7262\n",
            "Epoch 133/500\n",
            "60/60 [==============================] - 0s 2ms/step - loss: 0.5116 - accuracy: 0.7633 - val_loss: 0.5333 - val_accuracy: 0.7321\n",
            "Epoch 134/500\n",
            "60/60 [==============================] - 0s 1ms/step - loss: 0.5175 - accuracy: 0.7500 - val_loss: 0.5441 - val_accuracy: 0.7262\n",
            "Epoch 135/500\n",
            "60/60 [==============================] - 0s 2ms/step - loss: 0.5122 - accuracy: 0.7533 - val_loss: 0.5426 - val_accuracy: 0.7500\n",
            "Epoch 136/500\n",
            "60/60 [==============================] - 0s 1ms/step - loss: 0.5194 - accuracy: 0.7650 - val_loss: 0.5242 - val_accuracy: 0.7560\n",
            "Epoch 137/500\n",
            "60/60 [==============================] - 0s 2ms/step - loss: 0.5160 - accuracy: 0.7533 - val_loss: 0.5386 - val_accuracy: 0.7262\n",
            "Epoch 138/500\n",
            "60/60 [==============================] - 0s 2ms/step - loss: 0.5103 - accuracy: 0.7500 - val_loss: 0.5407 - val_accuracy: 0.7440\n",
            "Epoch 139/500\n",
            "60/60 [==============================] - 0s 2ms/step - loss: 0.5152 - accuracy: 0.7500 - val_loss: 0.5371 - val_accuracy: 0.7202\n",
            "Epoch 140/500\n",
            "60/60 [==============================] - 0s 1ms/step - loss: 0.5165 - accuracy: 0.7550 - val_loss: 0.5298 - val_accuracy: 0.7500\n",
            "Epoch 141/500\n",
            "60/60 [==============================] - 0s 2ms/step - loss: 0.5100 - accuracy: 0.7517 - val_loss: 0.5365 - val_accuracy: 0.7381\n",
            "Epoch 142/500\n",
            "60/60 [==============================] - 0s 2ms/step - loss: 0.5117 - accuracy: 0.7550 - val_loss: 0.5179 - val_accuracy: 0.7500\n",
            "Epoch 143/500\n",
            "60/60 [==============================] - 0s 2ms/step - loss: 0.5190 - accuracy: 0.7367 - val_loss: 0.5289 - val_accuracy: 0.7262\n",
            "Epoch 144/500\n",
            "60/60 [==============================] - 0s 1ms/step - loss: 0.5169 - accuracy: 0.7550 - val_loss: 0.5598 - val_accuracy: 0.7143\n",
            "Epoch 145/500\n",
            "60/60 [==============================] - 0s 2ms/step - loss: 0.5183 - accuracy: 0.7500 - val_loss: 0.5278 - val_accuracy: 0.7500\n",
            "Epoch 00145: early stopping\n"
          ],
          "name": "stdout"
        }
      ]
    },
    {
      "cell_type": "code",
      "metadata": {
        "colab": {
          "base_uri": "https://localhost:8080/",
          "height": 313
        },
        "id": "7cTBmcNAuIDs",
        "outputId": "d808720b-0520-4e42-bc5a-a42cff6949b1"
      },
      "source": [
        "epochs = 145\n",
        "\n",
        "acc_list = [100 * i for i in hist.history['accuracy']]\n",
        "vacc_list = [100 * i for i in hist.history['val_accuracy']]\n",
        "loss_list = hist.history['loss'] #[100 * i for i in history.history['loss']]\n",
        "vloss_list = hist.history['val_loss'] #[100 * i for i in history.history['val_loss']]\n",
        "\n",
        "\n",
        "plt.plot(range(1,epochs+1),acc_list)  \n",
        "plt.plot(range(1,epochs+1),vacc_list)  \n",
        "plt.plot(np.argmax(np.array(vacc_list))+1,vacc_list[np.argmax(np.array(vacc_list))], 'r*')\n",
        "plt.title('DL of diabetes: Model accuracy')\n",
        "plt.ylabel('Accuracy (%)')\n",
        "plt.xlabel('Epoch')\n",
        "plt.legend(['accuracy','val_accuracy','best'], loc='best')\n",
        "\n",
        "\n"
      ],
      "execution_count": null,
      "outputs": [
        {
          "output_type": "execute_result",
          "data": {
            "text/plain": [
              "<matplotlib.legend.Legend at 0x7fb134494860>"
            ]
          },
          "metadata": {
            "tags": []
          },
          "execution_count": 44
        },
        {
          "output_type": "display_data",
          "data": {
            "image/png": "[encoded data removed]",
            "text/plain": [
              "<Figure size 432x288 with 1 Axes>"
            ]
          },
          "metadata": {
            "tags": [],
            "needs_background": "light"
          }
        }
      ]
    },
    {
      "cell_type": "markdown",
      "metadata": {
        "id": "mfpDVTp9tp0T"
      },
      "source": [
        "### best model\n",
        "> diabetes_DL_best_weights.161-0.7619.hdf5\n",
        "\n",
        "> diabetes_DL_best_weights.176-0.7917.hdf5"
      ]
    },
    {
      "cell_type": "code",
      "metadata": {
        "colab": {
          "base_uri": "https://localhost:8080/"
        },
        "id": "7XICED9Jt5ls",
        "outputId": "61dbe1bb-2146-427a-a5fd-28c57123e5d8"
      },
      "source": [
        "# model2 performance\n",
        "model2.evaluate(X_test, y_test)"
      ],
      "execution_count": null,
      "outputs": [
        {
          "output_type": "stream",
          "text": [
            "6/6 [==============================] - 0s 1ms/step - loss: 0.5278 - accuracy: 0.7500\n"
          ],
          "name": "stdout"
        },
        {
          "output_type": "execute_result",
          "data": {
            "text/plain": [
              "[0.5278037190437317, 0.75]"
            ]
          },
          "metadata": {
            "tags": []
          },
          "execution_count": 47
        }
      ]
    },
    {
      "cell_type": "code",
      "metadata": {
        "colab": {
          "base_uri": "https://localhost:8080/"
        },
        "id": "qdp3G_DcZ1Ek",
        "outputId": "5ded1bc2-fcf8-4b86-b3f5-5956a681ee93"
      },
      "source": [
        "from keras.models import load_model\n",
        "\n",
        "# model = load_model('your_best_model.hdf5')\n",
        "model2_best = load_model('diabetes_DL_best_weights.095-0.7679.hdf5')\n",
        "model2_best.evaluate(X_test, y_test)"
      ],
      "execution_count": null,
      "outputs": [
        {
          "output_type": "stream",
          "text": [
            "6/6 [==============================] - 0s 1ms/step - loss: 0.5340 - accuracy: 0.7679\n"
          ],
          "name": "stdout"
        },
        {
          "output_type": "execute_result",
          "data": {
            "text/plain": [
              "[0.5339667201042175, 0.7678571343421936]"
            ]
          },
          "metadata": {
            "tags": []
          },
          "execution_count": 48
        }
      ]
    },
    {
      "cell_type": "markdown",
      "metadata": {
        "id": "U2YW92VvKSFy"
      },
      "source": [
        "### Confusion matrix"
      ]
    },
    {
      "cell_type": "code",
      "metadata": {
        "id": "eOGyXaBDKSFy"
      },
      "source": [
        "import seaborn as sns\n",
        "from sklearn.metrics import confusion_matrix"
      ],
      "execution_count": null,
      "outputs": []
    },
    {
      "cell_type": "code",
      "metadata": {
        "id": "zV4a7GS5Kfl_"
      },
      "source": [
        "predictions = [int(np.round(prob)) for prob in model2_best.predict(X_test)]"
      ],
      "execution_count": null,
      "outputs": []
    },
    {
      "cell_type": "code",
      "metadata": {
        "id": "qVaJYNBTKSFy"
      },
      "source": [
        "cm = confusion_matrix(y_test, predictions)"
      ],
      "execution_count": null,
      "outputs": []
    },
    {
      "cell_type": "code",
      "metadata": {
        "id": "al2-9UelKSFy"
      },
      "source": [
        "class_names = ['noDM','DM']"
      ],
      "execution_count": null,
      "outputs": []
    },
    {
      "cell_type": "code",
      "metadata": {
        "colab": {
          "base_uri": "https://localhost:8080/",
          "height": 334
        },
        "id": "w1ZpQBPqKSFy",
        "outputId": "85c0d942-a2a1-4157-9d32-28e149aec61c"
      },
      "source": [
        "plt.figure(figsize=(5,5))\n",
        "sns.heatmap(cm, cbar=False, xticklabels=class_names, yticklabels=class_names, fmt='d', annot=True, cmap=plt.cm.coolwarm)\n",
        "plt.xlabel('Predicted')\n",
        "plt.ylabel('Actual')\n",
        "plt.show()"
      ],
      "execution_count": null,
      "outputs": [
        {
          "output_type": "display_data",
          "data": {
            "image/png": "[encoded data removed]",
            "text/plain": [
              "<Figure size 360x360 with 1 Axes>"
            ]
          },
          "metadata": {
            "tags": [],
            "needs_background": "light"
          }
        }
      ]
    },
    {
      "cell_type": "markdown",
      "metadata": {
        "id": "ICOiTafiyl7b"
      },
      "source": [
        "***"
      ]
    },
    {
      "cell_type": "markdown",
      "metadata": {
        "id": "s_NsDYVbyc1_"
      },
      "source": [
        "## [DIY-2] 데이터 전처리 후 딥러닝 모델 만들어서 평가"
      ]
    },
    {
      "cell_type": "markdown",
      "metadata": {
        "id": "rWoRa2VqSkHI"
      },
      "source": [
        "## Check data\n",
        "- null\n",
        "- NaN"
      ]
    },
    {
      "cell_type": "code",
      "metadata": {
        "id": "whrqReP4mOhl",
        "colab": {
          "base_uri": "https://localhost:8080/"
        },
        "outputId": "7fdf6682-865e-4b07-c4d4-244799ac200e"
      },
      "source": [
        "# Check NaN\n",
        "data.isna().sum()\n",
        "# data.isnull().sum()"
      ],
      "execution_count": null,
      "outputs": [
        {
          "output_type": "execute_result",
          "data": {
            "text/plain": [
              "Pregnancies                 0\n",
              "Glucose                     0\n",
              "BloodPressure               0\n",
              "SkinThickness               0\n",
              "Insulin                     0\n",
              "BMI                         0\n",
              "DiabetesPedigreeFunction    0\n",
              "Age                         0\n",
              "Outcome                     0\n",
              "dtype: int64"
            ]
          },
          "metadata": {
            "tags": []
          },
          "execution_count": 54
        }
      ]
    },
    {
      "cell_type": "markdown",
      "metadata": {
        "id": "h--H_58sxzEz"
      },
      "source": [
        "### 과연 diabetes 데이터는 문제가 없는가?\n",
        "\n",
        "- 각 항목에서 0이 허용되지 않는 경우에 0이 있다면 => 문제 있는 데이터!\n",
        "- Pregnancies, Outcome은 0이 가능한 값이므로 제외하고 0이 있는 항목(column) 조사"
      ]
    },
    {
      "cell_type": "code",
      "metadata": {
        "colab": {
          "base_uri": "https://localhost:8080/",
          "height": 359
        },
        "id": "9ETrQATux_Wt",
        "outputId": "8e3eaec8-cb41-4d49-d08b-e0ddd3702bd4"
      },
      "source": [
        "data.head(10)"
      ],
      "execution_count": null,
      "outputs": [
        {
          "output_type": "execute_result",
          "data": {
            "text/html": [
              "<div>\n",
              "<style scoped>\n",
              "    .dataframe tbody tr th:only-of-type {\n",
              "        vertical-align: middle;\n",
              "    }\n",
              "\n",
              "    .dataframe tbody tr th {\n",
              "        vertical-align: top;\n",
              "    }\n",
              "\n",
              "    .dataframe thead th {\n",
              "        text-align: right;\n",
              "    }\n",
              "</style>\n",
              "<table border=\"1\" class=\"dataframe\">\n",
              "  <thead>\n",
              "    <tr style=\"text-align: right;\">\n",
              "      <th></th>\n",
              "      <th>Pregnancies</th>\n",
              "      <th>Glucose</th>\n",
              "      <th>BloodPressure</th>\n",
              "      <th>SkinThickness</th>\n",
              "      <th>Insulin</th>\n",
              "      <th>BMI</th>\n",
              "      <th>DiabetesPedigreeFunction</th>\n",
              "      <th>Age</th>\n",
              "      <th>Outcome</th>\n",
              "    </tr>\n",
              "  </thead>\n",
              "  <tbody>\n",
              "    <tr>\n",
              "      <th>0</th>\n",
              "      <td>6</td>\n",
              "      <td>148</td>\n",
              "      <td>72</td>\n",
              "      <td>35</td>\n",
              "      <td>0</td>\n",
              "      <td>33.6</td>\n",
              "      <td>0.627</td>\n",
              "      <td>50</td>\n",
              "      <td>1</td>\n",
              "    </tr>\n",
              "    <tr>\n",
              "      <th>1</th>\n",
              "      <td>1</td>\n",
              "      <td>85</td>\n",
              "      <td>66</td>\n",
              "      <td>29</td>\n",
              "      <td>0</td>\n",
              "      <td>26.6</td>\n",
              "      <td>0.351</td>\n",
              "      <td>31</td>\n",
              "      <td>0</td>\n",
              "    </tr>\n",
              "    <tr>\n",
              "      <th>2</th>\n",
              "      <td>8</td>\n",
              "      <td>183</td>\n",
              "      <td>64</td>\n",
              "      <td>0</td>\n",
              "      <td>0</td>\n",
              "      <td>23.3</td>\n",
              "      <td>0.672</td>\n",
              "      <td>32</td>\n",
              "      <td>1</td>\n",
              "    </tr>\n",
              "    <tr>\n",
              "      <th>3</th>\n",
              "      <td>1</td>\n",
              "      <td>89</td>\n",
              "      <td>66</td>\n",
              "      <td>23</td>\n",
              "      <td>94</td>\n",
              "      <td>28.1</td>\n",
              "      <td>0.167</td>\n",
              "      <td>21</td>\n",
              "      <td>0</td>\n",
              "    </tr>\n",
              "    <tr>\n",
              "      <th>4</th>\n",
              "      <td>0</td>\n",
              "      <td>137</td>\n",
              "      <td>40</td>\n",
              "      <td>35</td>\n",
              "      <td>168</td>\n",
              "      <td>43.1</td>\n",
              "      <td>2.288</td>\n",
              "      <td>33</td>\n",
              "      <td>1</td>\n",
              "    </tr>\n",
              "    <tr>\n",
              "      <th>5</th>\n",
              "      <td>5</td>\n",
              "      <td>116</td>\n",
              "      <td>74</td>\n",
              "      <td>0</td>\n",
              "      <td>0</td>\n",
              "      <td>25.6</td>\n",
              "      <td>0.201</td>\n",
              "      <td>30</td>\n",
              "      <td>0</td>\n",
              "    </tr>\n",
              "    <tr>\n",
              "      <th>6</th>\n",
              "      <td>3</td>\n",
              "      <td>78</td>\n",
              "      <td>50</td>\n",
              "      <td>32</td>\n",
              "      <td>88</td>\n",
              "      <td>31.0</td>\n",
              "      <td>0.248</td>\n",
              "      <td>26</td>\n",
              "      <td>1</td>\n",
              "    </tr>\n",
              "    <tr>\n",
              "      <th>7</th>\n",
              "      <td>10</td>\n",
              "      <td>115</td>\n",
              "      <td>0</td>\n",
              "      <td>0</td>\n",
              "      <td>0</td>\n",
              "      <td>35.3</td>\n",
              "      <td>0.134</td>\n",
              "      <td>29</td>\n",
              "      <td>0</td>\n",
              "    </tr>\n",
              "    <tr>\n",
              "      <th>8</th>\n",
              "      <td>2</td>\n",
              "      <td>197</td>\n",
              "      <td>70</td>\n",
              "      <td>45</td>\n",
              "      <td>543</td>\n",
              "      <td>30.5</td>\n",
              "      <td>0.158</td>\n",
              "      <td>53</td>\n",
              "      <td>1</td>\n",
              "    </tr>\n",
              "    <tr>\n",
              "      <th>9</th>\n",
              "      <td>8</td>\n",
              "      <td>125</td>\n",
              "      <td>96</td>\n",
              "      <td>0</td>\n",
              "      <td>0</td>\n",
              "      <td>0.0</td>\n",
              "      <td>0.232</td>\n",
              "      <td>54</td>\n",
              "      <td>1</td>\n",
              "    </tr>\n",
              "  </tbody>\n",
              "</table>\n",
              "</div>"
            ],
            "text/plain": [
              "   Pregnancies  Glucose  BloodPressure  ...  DiabetesPedigreeFunction  Age  Outcome\n",
              "0            6      148             72  ...                     0.627   50        1\n",
              "1            1       85             66  ...                     0.351   31        0\n",
              "2            8      183             64  ...                     0.672   32        1\n",
              "3            1       89             66  ...                     0.167   21        0\n",
              "4            0      137             40  ...                     2.288   33        1\n",
              "5            5      116             74  ...                     0.201   30        0\n",
              "6            3       78             50  ...                     0.248   26        1\n",
              "7           10      115              0  ...                     0.134   29        0\n",
              "8            2      197             70  ...                     0.158   53        1\n",
              "9            8      125             96  ...                     0.232   54        1\n",
              "\n",
              "[10 rows x 9 columns]"
            ]
          },
          "metadata": {
            "tags": []
          },
          "execution_count": 55
        }
      ]
    },
    {
      "cell_type": "code",
      "metadata": {
        "colab": {
          "base_uri": "https://localhost:8080/"
        },
        "id": "UN8Ub9s-y7RM",
        "outputId": "635a0b48-7b90-4a81-eb22-91cff5922738"
      },
      "source": [
        "# Pregnancies, Outcome은 0이 가능한 값이므로 제외하고 0이 있는 항목(column) 조사\n",
        "columns_with_zero = data.columns[(data==0).sum() > 0][1:-1]\n",
        "columns_with_zero"
      ],
      "execution_count": null,
      "outputs": [
        {
          "output_type": "execute_result",
          "data": {
            "text/plain": [
              "Index(['Glucose', 'BloodPressure', 'SkinThickness', 'Insulin', 'BMI'], dtype='object')"
            ]
          },
          "metadata": {
            "tags": []
          },
          "execution_count": 56
        }
      ]
    },
    {
      "cell_type": "code",
      "metadata": {
        "id": "jYGrj7udx6mk"
      },
      "source": [
        "# Clean the data : zero2median()\n",
        "# 1. Check zeros in features with Pregnancies, Outcome excluded.\n",
        "# 2. Replace zero with NaN \n",
        "# 3. Replace NaN with the median of the corresponding featurs\n",
        "def zero2median(df):\n",
        "    columns_with_zero = df.columns[(df==0).sum() > 0][1:-1]\n",
        "    # Index(['Glucose', 'BloodPressure', 'SkinThickness', 'Insulin', 'BMI'], dtype='object')\n",
        "    df[columns_with_zero]=df[columns_with_zero].replace(0,np.nan)\n",
        "    for feature in columns_with_zero:\n",
        "        df[feature].fillna(df[feature].median(),inplace=True)\n",
        "    \n",
        "    return df\n",
        "\n",
        "# Make clean dataframe, data2 from data\n",
        "data2 = zero2median(data)"
      ],
      "execution_count": null,
      "outputs": []
    },
    {
      "cell_type": "code",
      "metadata": {
        "colab": {
          "base_uri": "https://localhost:8080/",
          "height": 359
        },
        "id": "jUBEg3S0zxQv",
        "outputId": "919b2d1f-28d0-4854-dae0-2d1d65f7e2ee"
      },
      "source": [
        "data2.head(10)"
      ],
      "execution_count": null,
      "outputs": [
        {
          "output_type": "execute_result",
          "data": {
            "text/html": [
              "<div>\n",
              "<style scoped>\n",
              "    .dataframe tbody tr th:only-of-type {\n",
              "        vertical-align: middle;\n",
              "    }\n",
              "\n",
              "    .dataframe tbody tr th {\n",
              "        vertical-align: top;\n",
              "    }\n",
              "\n",
              "    .dataframe thead th {\n",
              "        text-align: right;\n",
              "    }\n",
              "</style>\n",
              "<table border=\"1\" class=\"dataframe\">\n",
              "  <thead>\n",
              "    <tr style=\"text-align: right;\">\n",
              "      <th></th>\n",
              "      <th>Pregnancies</th>\n",
              "      <th>Glucose</th>\n",
              "      <th>BloodPressure</th>\n",
              "      <th>SkinThickness</th>\n",
              "      <th>Insulin</th>\n",
              "      <th>BMI</th>\n",
              "      <th>DiabetesPedigreeFunction</th>\n",
              "      <th>Age</th>\n",
              "      <th>Outcome</th>\n",
              "    </tr>\n",
              "  </thead>\n",
              "  <tbody>\n",
              "    <tr>\n",
              "      <th>0</th>\n",
              "      <td>6</td>\n",
              "      <td>148.0</td>\n",
              "      <td>72.0</td>\n",
              "      <td>35.0</td>\n",
              "      <td>125.0</td>\n",
              "      <td>33.6</td>\n",
              "      <td>0.627</td>\n",
              "      <td>50</td>\n",
              "      <td>1</td>\n",
              "    </tr>\n",
              "    <tr>\n",
              "      <th>1</th>\n",
              "      <td>1</td>\n",
              "      <td>85.0</td>\n",
              "      <td>66.0</td>\n",
              "      <td>29.0</td>\n",
              "      <td>125.0</td>\n",
              "      <td>26.6</td>\n",
              "      <td>0.351</td>\n",
              "      <td>31</td>\n",
              "      <td>0</td>\n",
              "    </tr>\n",
              "    <tr>\n",
              "      <th>2</th>\n",
              "      <td>8</td>\n",
              "      <td>183.0</td>\n",
              "      <td>64.0</td>\n",
              "      <td>29.0</td>\n",
              "      <td>125.0</td>\n",
              "      <td>23.3</td>\n",
              "      <td>0.672</td>\n",
              "      <td>32</td>\n",
              "      <td>1</td>\n",
              "    </tr>\n",
              "    <tr>\n",
              "      <th>3</th>\n",
              "      <td>1</td>\n",
              "      <td>89.0</td>\n",
              "      <td>66.0</td>\n",
              "      <td>23.0</td>\n",
              "      <td>94.0</td>\n",
              "      <td>28.1</td>\n",
              "      <td>0.167</td>\n",
              "      <td>21</td>\n",
              "      <td>0</td>\n",
              "    </tr>\n",
              "    <tr>\n",
              "      <th>4</th>\n",
              "      <td>0</td>\n",
              "      <td>137.0</td>\n",
              "      <td>40.0</td>\n",
              "      <td>35.0</td>\n",
              "      <td>168.0</td>\n",
              "      <td>43.1</td>\n",
              "      <td>2.288</td>\n",
              "      <td>33</td>\n",
              "      <td>1</td>\n",
              "    </tr>\n",
              "    <tr>\n",
              "      <th>5</th>\n",
              "      <td>5</td>\n",
              "      <td>116.0</td>\n",
              "      <td>74.0</td>\n",
              "      <td>29.0</td>\n",
              "      <td>125.0</td>\n",
              "      <td>25.6</td>\n",
              "      <td>0.201</td>\n",
              "      <td>30</td>\n",
              "      <td>0</td>\n",
              "    </tr>\n",
              "    <tr>\n",
              "      <th>6</th>\n",
              "      <td>3</td>\n",
              "      <td>78.0</td>\n",
              "      <td>50.0</td>\n",
              "      <td>32.0</td>\n",
              "      <td>88.0</td>\n",
              "      <td>31.0</td>\n",
              "      <td>0.248</td>\n",
              "      <td>26</td>\n",
              "      <td>1</td>\n",
              "    </tr>\n",
              "    <tr>\n",
              "      <th>7</th>\n",
              "      <td>10</td>\n",
              "      <td>115.0</td>\n",
              "      <td>72.0</td>\n",
              "      <td>29.0</td>\n",
              "      <td>125.0</td>\n",
              "      <td>35.3</td>\n",
              "      <td>0.134</td>\n",
              "      <td>29</td>\n",
              "      <td>0</td>\n",
              "    </tr>\n",
              "    <tr>\n",
              "      <th>8</th>\n",
              "      <td>2</td>\n",
              "      <td>197.0</td>\n",
              "      <td>70.0</td>\n",
              "      <td>45.0</td>\n",
              "      <td>543.0</td>\n",
              "      <td>30.5</td>\n",
              "      <td>0.158</td>\n",
              "      <td>53</td>\n",
              "      <td>1</td>\n",
              "    </tr>\n",
              "    <tr>\n",
              "      <th>9</th>\n",
              "      <td>8</td>\n",
              "      <td>125.0</td>\n",
              "      <td>96.0</td>\n",
              "      <td>29.0</td>\n",
              "      <td>125.0</td>\n",
              "      <td>32.3</td>\n",
              "      <td>0.232</td>\n",
              "      <td>54</td>\n",
              "      <td>1</td>\n",
              "    </tr>\n",
              "  </tbody>\n",
              "</table>\n",
              "</div>"
            ],
            "text/plain": [
              "   Pregnancies  Glucose  BloodPressure  ...  DiabetesPedigreeFunction  Age  Outcome\n",
              "0            6    148.0           72.0  ...                     0.627   50        1\n",
              "1            1     85.0           66.0  ...                     0.351   31        0\n",
              "2            8    183.0           64.0  ...                     0.672   32        1\n",
              "3            1     89.0           66.0  ...                     0.167   21        0\n",
              "4            0    137.0           40.0  ...                     2.288   33        1\n",
              "5            5    116.0           74.0  ...                     0.201   30        0\n",
              "6            3     78.0           50.0  ...                     0.248   26        1\n",
              "7           10    115.0           72.0  ...                     0.134   29        0\n",
              "8            2    197.0           70.0  ...                     0.158   53        1\n",
              "9            8    125.0           96.0  ...                     0.232   54        1\n",
              "\n",
              "[10 rows x 9 columns]"
            ]
          },
          "metadata": {
            "tags": []
          },
          "execution_count": 58
        }
      ]
    },
    {
      "cell_type": "markdown",
      "metadata": {
        "id": "Ares-U3O0bIm"
      },
      "source": [
        "## [DIY] 전처리된 데이터프레임 data2를 이용해서 FCN으로 best model을 찾으시오.\n",
        "- best model: hdf5 file\n",
        "- Accuracy graph\n",
        "- Confusion matrix graph"
      ]
    },
    {
      "cell_type": "code",
      "metadata": {
        "colab": {
          "base_uri": "https://localhost:8080/"
        },
        "id": "uUVRqf8UefQI",
        "outputId": "d54450f9-52dc-4171-e279-9d19761855c1"
      },
      "source": [
        "# Your code here\n",
        "# Split dataset to train & test set\n",
        "X_train = data2.iloc[:600,0:8] # 600\n",
        "y_train = data2.iloc[:600,8]\n",
        "X_test = data2.iloc[600:,0:8] # 168\n",
        "y_test = data2.iloc[600:,8]\n",
        "X_train.shape,y_train.shape,X_test.shape,y_test.shape"
      ],
      "execution_count": null,
      "outputs": [
        {
          "output_type": "execute_result",
          "data": {
            "text/plain": [
              "((600, 8), (600,), (168, 8), (168,))"
            ]
          },
          "metadata": {
            "tags": []
          },
          "execution_count": 60
        }
      ]
    },
    {
      "cell_type": "code",
      "metadata": {
        "id": "KaKX5XtOefQM"
      },
      "source": [
        "# define the keras model\n",
        "model = Sequential()\n",
        "model.add(Dense(12, input_dim=8, activation='relu'))\n",
        "model.add(Dense(8, activation='relu'))\n",
        "model.add(Dense(1, activation='sigmoid'))  # softmaX\n",
        "# compile the keras model\n",
        "model.compile(loss='binary_crossentropy', \n",
        "              optimizer='adam', \n",
        "              metrics=['accuracy'])\n"
      ],
      "execution_count": null,
      "outputs": []
    },
    {
      "cell_type": "code",
      "metadata": {
        "colab": {
          "base_uri": "https://localhost:8080/"
        },
        "id": "UvgIVBaqefQM",
        "outputId": "d1784d7c-1f67-4062-85a0-d4f27937e9c4"
      },
      "source": [
        "# fit the keras model on the dataset\n",
        "hist = model.fit(X_train, y_train, epochs=150, batch_size=10, verbose=1, \n",
        "                 validation_data=(X_test, y_test))\n"
      ],
      "execution_count": null,
      "outputs": [
        {
          "output_type": "stream",
          "text": [
            "Epoch 1/150\n",
            "60/60 [==============================] - 0s 4ms/step - loss: 5.3401 - accuracy: 0.5100 - val_loss: 2.6385 - val_accuracy: 0.4524\n",
            "Epoch 2/150\n",
            "60/60 [==============================] - 0s 1ms/step - loss: 2.1363 - accuracy: 0.5050 - val_loss: 2.0640 - val_accuracy: 0.3810\n",
            "Epoch 3/150\n",
            "60/60 [==============================] - 0s 1ms/step - loss: 1.6184 - accuracy: 0.4900 - val_loss: 1.6138 - val_accuracy: 0.4048\n",
            "Epoch 4/150\n",
            "60/60 [==============================] - 0s 2ms/step - loss: 1.3122 - accuracy: 0.5067 - val_loss: 1.5399 - val_accuracy: 0.3155\n",
            "Epoch 5/150\n",
            "60/60 [==============================] - 0s 2ms/step - loss: 1.1562 - accuracy: 0.4717 - val_loss: 1.2079 - val_accuracy: 0.3988\n",
            "Epoch 6/150\n",
            "60/60 [==============================] - 0s 2ms/step - loss: 1.0221 - accuracy: 0.5050 - val_loss: 1.1386 - val_accuracy: 0.5536\n",
            "Epoch 7/150\n",
            "60/60 [==============================] - 0s 2ms/step - loss: 0.9671 - accuracy: 0.4950 - val_loss: 1.0986 - val_accuracy: 0.3869\n",
            "Epoch 8/150\n",
            "60/60 [==============================] - 0s 2ms/step - loss: 0.8855 - accuracy: 0.5300 - val_loss: 0.9640 - val_accuracy: 0.4583\n",
            "Epoch 9/150\n",
            "60/60 [==============================] - 0s 1ms/step - loss: 0.8664 - accuracy: 0.5200 - val_loss: 0.8999 - val_accuracy: 0.5060\n",
            "Epoch 10/150\n",
            "60/60 [==============================] - 0s 2ms/step - loss: 0.8209 - accuracy: 0.5650 - val_loss: 0.8597 - val_accuracy: 0.5833\n",
            "Epoch 11/150\n",
            "60/60 [==============================] - 0s 2ms/step - loss: 0.7835 - accuracy: 0.5600 - val_loss: 0.8184 - val_accuracy: 0.5060\n",
            "Epoch 12/150\n",
            "60/60 [==============================] - 0s 1ms/step - loss: 0.7635 - accuracy: 0.5617 - val_loss: 0.8242 - val_accuracy: 0.4940\n",
            "Epoch 13/150\n",
            "60/60 [==============================] - 0s 1ms/step - loss: 0.7329 - accuracy: 0.5867 - val_loss: 0.7484 - val_accuracy: 0.5536\n",
            "Epoch 14/150\n",
            "60/60 [==============================] - 0s 1ms/step - loss: 0.7007 - accuracy: 0.6133 - val_loss: 0.7531 - val_accuracy: 0.5238\n",
            "Epoch 15/150\n",
            "60/60 [==============================] - 0s 1ms/step - loss: 0.6990 - accuracy: 0.6367 - val_loss: 0.7820 - val_accuracy: 0.5119\n",
            "Epoch 16/150\n",
            "60/60 [==============================] - 0s 1ms/step - loss: 0.6815 - accuracy: 0.6433 - val_loss: 0.6880 - val_accuracy: 0.6310\n",
            "Epoch 17/150\n",
            "60/60 [==============================] - 0s 1ms/step - loss: 0.6495 - accuracy: 0.6600 - val_loss: 0.6751 - val_accuracy: 0.6667\n",
            "Epoch 18/150\n",
            "60/60 [==============================] - 0s 1ms/step - loss: 0.6570 - accuracy: 0.6433 - val_loss: 0.6584 - val_accuracy: 0.6190\n",
            "Epoch 19/150\n",
            "60/60 [==============================] - 0s 1ms/step - loss: 0.6438 - accuracy: 0.6833 - val_loss: 0.6705 - val_accuracy: 0.5536\n",
            "Epoch 20/150\n",
            "60/60 [==============================] - 0s 1ms/step - loss: 0.6287 - accuracy: 0.6767 - val_loss: 0.6405 - val_accuracy: 0.6786\n",
            "Epoch 21/150\n",
            "60/60 [==============================] - 0s 2ms/step - loss: 0.6080 - accuracy: 0.7100 - val_loss: 0.6220 - val_accuracy: 0.6726\n",
            "Epoch 22/150\n",
            "60/60 [==============================] - 0s 2ms/step - loss: 0.6376 - accuracy: 0.6517 - val_loss: 0.6270 - val_accuracy: 0.6845\n",
            "Epoch 23/150\n",
            "60/60 [==============================] - 0s 2ms/step - loss: 0.6060 - accuracy: 0.6833 - val_loss: 0.5995 - val_accuracy: 0.6786\n",
            "Epoch 24/150\n",
            "60/60 [==============================] - 0s 2ms/step - loss: 0.5958 - accuracy: 0.7217 - val_loss: 0.5980 - val_accuracy: 0.6964\n",
            "Epoch 25/150\n",
            "60/60 [==============================] - 0s 1ms/step - loss: 0.5952 - accuracy: 0.7067 - val_loss: 0.5945 - val_accuracy: 0.6726\n",
            "Epoch 26/150\n",
            "60/60 [==============================] - 0s 1ms/step - loss: 0.6030 - accuracy: 0.6917 - val_loss: 0.5786 - val_accuracy: 0.7083\n",
            "Epoch 27/150\n",
            "60/60 [==============================] - 0s 1ms/step - loss: 0.5931 - accuracy: 0.7050 - val_loss: 0.6286 - val_accuracy: 0.6786\n",
            "Epoch 28/150\n",
            "60/60 [==============================] - 0s 1ms/step - loss: 0.6098 - accuracy: 0.6817 - val_loss: 0.5677 - val_accuracy: 0.7083\n",
            "Epoch 29/150\n",
            "60/60 [==============================] - 0s 1ms/step - loss: 0.5857 - accuracy: 0.7117 - val_loss: 0.5800 - val_accuracy: 0.6964\n",
            "Epoch 30/150\n",
            "60/60 [==============================] - 0s 1ms/step - loss: 0.5855 - accuracy: 0.7067 - val_loss: 0.6010 - val_accuracy: 0.6845\n",
            "Epoch 31/150\n",
            "60/60 [==============================] - 0s 1ms/step - loss: 0.6148 - accuracy: 0.6817 - val_loss: 0.6695 - val_accuracy: 0.6726\n",
            "Epoch 32/150\n",
            "60/60 [==============================] - 0s 2ms/step - loss: 0.5904 - accuracy: 0.6883 - val_loss: 0.5848 - val_accuracy: 0.6845\n",
            "Epoch 33/150\n",
            "60/60 [==============================] - 0s 1ms/step - loss: 0.6001 - accuracy: 0.6867 - val_loss: 0.5965 - val_accuracy: 0.6726\n",
            "Epoch 34/150\n",
            "60/60 [==============================] - 0s 2ms/step - loss: 0.5821 - accuracy: 0.7083 - val_loss: 0.5545 - val_accuracy: 0.7202\n",
            "Epoch 35/150\n",
            "60/60 [==============================] - 0s 2ms/step - loss: 0.5877 - accuracy: 0.6933 - val_loss: 0.5770 - val_accuracy: 0.6905\n",
            "Epoch 36/150\n",
            "60/60 [==============================] - 0s 1ms/step - loss: 0.6083 - accuracy: 0.6833 - val_loss: 0.5551 - val_accuracy: 0.7024\n",
            "Epoch 37/150\n",
            "60/60 [==============================] - 0s 1ms/step - loss: 0.6009 - accuracy: 0.6833 - val_loss: 0.5503 - val_accuracy: 0.7262\n",
            "Epoch 38/150\n",
            "60/60 [==============================] - 0s 1ms/step - loss: 0.5711 - accuracy: 0.7250 - val_loss: 0.5701 - val_accuracy: 0.6964\n",
            "Epoch 39/150\n",
            "60/60 [==============================] - 0s 2ms/step - loss: 0.5841 - accuracy: 0.7233 - val_loss: 0.5748 - val_accuracy: 0.6905\n",
            "Epoch 40/150\n",
            "60/60 [==============================] - 0s 1ms/step - loss: 0.5822 - accuracy: 0.6933 - val_loss: 0.5485 - val_accuracy: 0.7262\n",
            "Epoch 41/150\n",
            "60/60 [==============================] - 0s 2ms/step - loss: 0.5643 - accuracy: 0.7133 - val_loss: 0.5479 - val_accuracy: 0.7321\n",
            "Epoch 42/150\n",
            "60/60 [==============================] - 0s 2ms/step - loss: 0.5840 - accuracy: 0.6850 - val_loss: 0.5647 - val_accuracy: 0.7083\n",
            "Epoch 43/150\n",
            "60/60 [==============================] - 0s 2ms/step - loss: 0.5614 - accuracy: 0.7100 - val_loss: 0.5577 - val_accuracy: 0.7143\n",
            "Epoch 44/150\n",
            "60/60 [==============================] - 0s 1ms/step - loss: 0.5674 - accuracy: 0.6950 - val_loss: 0.6207 - val_accuracy: 0.6726\n",
            "Epoch 45/150\n",
            "60/60 [==============================] - 0s 1ms/step - loss: 0.5832 - accuracy: 0.7067 - val_loss: 0.5883 - val_accuracy: 0.6905\n",
            "Epoch 46/150\n",
            "60/60 [==============================] - 0s 1ms/step - loss: 0.5619 - accuracy: 0.6983 - val_loss: 0.5683 - val_accuracy: 0.7202\n",
            "Epoch 47/150\n",
            "60/60 [==============================] - 0s 2ms/step - loss: 0.5672 - accuracy: 0.7000 - val_loss: 0.5535 - val_accuracy: 0.7262\n",
            "Epoch 48/150\n",
            "60/60 [==============================] - 0s 2ms/step - loss: 0.5956 - accuracy: 0.6817 - val_loss: 0.6079 - val_accuracy: 0.6429\n",
            "Epoch 49/150\n",
            "60/60 [==============================] - 0s 2ms/step - loss: 0.5781 - accuracy: 0.7233 - val_loss: 0.5583 - val_accuracy: 0.7202\n",
            "Epoch 50/150\n",
            "60/60 [==============================] - 0s 2ms/step - loss: 0.5627 - accuracy: 0.6983 - val_loss: 0.5630 - val_accuracy: 0.7143\n",
            "Epoch 51/150\n",
            "60/60 [==============================] - 0s 1ms/step - loss: 0.5608 - accuracy: 0.7233 - val_loss: 0.5674 - val_accuracy: 0.7143\n",
            "Epoch 52/150\n",
            "60/60 [==============================] - 0s 2ms/step - loss: 0.5765 - accuracy: 0.6950 - val_loss: 0.5807 - val_accuracy: 0.7083\n",
            "Epoch 53/150\n",
            "60/60 [==============================] - 0s 2ms/step - loss: 0.5786 - accuracy: 0.7017 - val_loss: 0.5467 - val_accuracy: 0.7262\n",
            "Epoch 54/150\n",
            "60/60 [==============================] - 0s 1ms/step - loss: 0.5706 - accuracy: 0.7100 - val_loss: 0.5524 - val_accuracy: 0.7143\n",
            "Epoch 55/150\n",
            "60/60 [==============================] - 0s 2ms/step - loss: 0.5644 - accuracy: 0.7150 - val_loss: 0.5446 - val_accuracy: 0.7440\n",
            "Epoch 56/150\n",
            "60/60 [==============================] - 0s 2ms/step - loss: 0.5668 - accuracy: 0.6967 - val_loss: 0.5496 - val_accuracy: 0.7262\n",
            "Epoch 57/150\n",
            "60/60 [==============================] - 0s 1ms/step - loss: 0.5879 - accuracy: 0.7150 - val_loss: 0.5797 - val_accuracy: 0.6964\n",
            "Epoch 58/150\n",
            "60/60 [==============================] - 0s 1ms/step - loss: 0.5491 - accuracy: 0.7350 - val_loss: 0.5596 - val_accuracy: 0.7143\n",
            "Epoch 59/150\n",
            "60/60 [==============================] - 0s 2ms/step - loss: 0.5588 - accuracy: 0.7200 - val_loss: 0.6200 - val_accuracy: 0.6310\n",
            "Epoch 60/150\n",
            "60/60 [==============================] - 0s 2ms/step - loss: 0.5738 - accuracy: 0.7017 - val_loss: 0.5438 - val_accuracy: 0.7262\n",
            "Epoch 61/150\n",
            "60/60 [==============================] - 0s 1ms/step - loss: 0.6020 - accuracy: 0.6733 - val_loss: 0.5592 - val_accuracy: 0.7143\n",
            "Epoch 62/150\n",
            "60/60 [==============================] - 0s 1ms/step - loss: 0.5554 - accuracy: 0.7200 - val_loss: 0.5467 - val_accuracy: 0.7440\n",
            "Epoch 63/150\n",
            "60/60 [==============================] - 0s 2ms/step - loss: 0.5637 - accuracy: 0.7050 - val_loss: 0.5613 - val_accuracy: 0.7143\n",
            "Epoch 64/150\n",
            "60/60 [==============================] - 0s 1ms/step - loss: 0.5564 - accuracy: 0.7250 - val_loss: 0.5372 - val_accuracy: 0.7619\n",
            "Epoch 65/150\n",
            "60/60 [==============================] - 0s 1ms/step - loss: 0.5770 - accuracy: 0.7000 - val_loss: 0.5420 - val_accuracy: 0.7321\n",
            "Epoch 66/150\n",
            "60/60 [==============================] - 0s 2ms/step - loss: 0.5783 - accuracy: 0.6983 - val_loss: 0.5631 - val_accuracy: 0.7143\n",
            "Epoch 67/150\n",
            "60/60 [==============================] - 0s 2ms/step - loss: 0.5605 - accuracy: 0.7117 - val_loss: 0.5383 - val_accuracy: 0.7560\n",
            "Epoch 68/150\n",
            "60/60 [==============================] - 0s 1ms/step - loss: 0.5476 - accuracy: 0.7250 - val_loss: 0.6948 - val_accuracy: 0.6488\n",
            "Epoch 69/150\n",
            "60/60 [==============================] - 0s 1ms/step - loss: 0.5813 - accuracy: 0.7067 - val_loss: 0.5644 - val_accuracy: 0.7143\n",
            "Epoch 70/150\n",
            "60/60 [==============================] - 0s 1ms/step - loss: 0.5728 - accuracy: 0.6983 - val_loss: 0.6571 - val_accuracy: 0.6726\n",
            "Epoch 71/150\n",
            "60/60 [==============================] - 0s 1ms/step - loss: 0.5665 - accuracy: 0.7183 - val_loss: 0.6174 - val_accuracy: 0.6845\n",
            "Epoch 72/150\n",
            "60/60 [==============================] - 0s 2ms/step - loss: 0.5543 - accuracy: 0.7150 - val_loss: 0.5356 - val_accuracy: 0.7381\n",
            "Epoch 73/150\n",
            "60/60 [==============================] - 0s 2ms/step - loss: 0.5663 - accuracy: 0.7167 - val_loss: 0.5666 - val_accuracy: 0.7143\n",
            "Epoch 74/150\n",
            "60/60 [==============================] - 0s 2ms/step - loss: 0.5568 - accuracy: 0.7217 - val_loss: 0.5529 - val_accuracy: 0.7262\n",
            "Epoch 75/150\n",
            "60/60 [==============================] - 0s 2ms/step - loss: 0.5452 - accuracy: 0.7183 - val_loss: 0.6015 - val_accuracy: 0.6905\n",
            "Epoch 76/150\n",
            "60/60 [==============================] - 0s 1ms/step - loss: 0.5790 - accuracy: 0.7200 - val_loss: 0.5503 - val_accuracy: 0.7143\n",
            "Epoch 77/150\n",
            "60/60 [==============================] - 0s 1ms/step - loss: 0.5394 - accuracy: 0.7200 - val_loss: 0.5344 - val_accuracy: 0.7440\n",
            "Epoch 78/150\n",
            "60/60 [==============================] - 0s 2ms/step - loss: 0.5453 - accuracy: 0.7233 - val_loss: 0.5611 - val_accuracy: 0.7202\n",
            "Epoch 79/150\n",
            "60/60 [==============================] - 0s 1ms/step - loss: 0.5515 - accuracy: 0.7217 - val_loss: 0.5340 - val_accuracy: 0.7500\n",
            "Epoch 80/150\n",
            "60/60 [==============================] - 0s 2ms/step - loss: 0.5505 - accuracy: 0.7267 - val_loss: 0.5353 - val_accuracy: 0.7500\n",
            "Epoch 81/150\n",
            "60/60 [==============================] - 0s 1ms/step - loss: 0.5463 - accuracy: 0.7067 - val_loss: 0.5484 - val_accuracy: 0.7202\n",
            "Epoch 82/150\n",
            "60/60 [==============================] - 0s 1ms/step - loss: 0.5367 - accuracy: 0.7300 - val_loss: 0.5347 - val_accuracy: 0.7619\n",
            "Epoch 83/150\n",
            "60/60 [==============================] - 0s 1ms/step - loss: 0.5549 - accuracy: 0.7117 - val_loss: 0.5606 - val_accuracy: 0.7262\n",
            "Epoch 84/150\n",
            "60/60 [==============================] - 0s 2ms/step - loss: 0.5439 - accuracy: 0.7200 - val_loss: 0.5434 - val_accuracy: 0.7440\n",
            "Epoch 85/150\n",
            "60/60 [==============================] - 0s 1ms/step - loss: 0.5442 - accuracy: 0.7317 - val_loss: 0.5360 - val_accuracy: 0.7381\n",
            "Epoch 86/150\n",
            "60/60 [==============================] - 0s 2ms/step - loss: 0.5440 - accuracy: 0.7183 - val_loss: 0.5490 - val_accuracy: 0.7619\n",
            "Epoch 87/150\n",
            "60/60 [==============================] - 0s 2ms/step - loss: 0.5677 - accuracy: 0.7150 - val_loss: 0.5337 - val_accuracy: 0.7321\n",
            "Epoch 88/150\n",
            "60/60 [==============================] - 0s 1ms/step - loss: 0.5398 - accuracy: 0.7183 - val_loss: 0.5396 - val_accuracy: 0.7440\n",
            "Epoch 89/150\n",
            "60/60 [==============================] - 0s 2ms/step - loss: 0.5514 - accuracy: 0.7200 - val_loss: 0.5360 - val_accuracy: 0.7381\n",
            "Epoch 90/150\n",
            "60/60 [==============================] - 0s 1ms/step - loss: 0.5506 - accuracy: 0.7467 - val_loss: 0.5688 - val_accuracy: 0.7321\n",
            "Epoch 91/150\n",
            "60/60 [==============================] - 0s 2ms/step - loss: 0.5465 - accuracy: 0.7250 - val_loss: 0.5578 - val_accuracy: 0.7321\n",
            "Epoch 92/150\n",
            "60/60 [==============================] - 0s 2ms/step - loss: 0.5389 - accuracy: 0.7150 - val_loss: 0.5368 - val_accuracy: 0.7500\n",
            "Epoch 93/150\n",
            "60/60 [==============================] - 0s 1ms/step - loss: 0.5443 - accuracy: 0.7350 - val_loss: 0.5435 - val_accuracy: 0.7262\n",
            "Epoch 94/150\n",
            "60/60 [==============================] - 0s 2ms/step - loss: 0.5516 - accuracy: 0.7200 - val_loss: 0.5506 - val_accuracy: 0.7321\n",
            "Epoch 95/150\n",
            "60/60 [==============================] - 0s 1ms/step - loss: 0.5436 - accuracy: 0.7300 - val_loss: 0.5277 - val_accuracy: 0.7560\n",
            "Epoch 96/150\n",
            "60/60 [==============================] - 0s 2ms/step - loss: 0.5419 - accuracy: 0.7367 - val_loss: 0.5499 - val_accuracy: 0.7321\n",
            "Epoch 97/150\n",
            "60/60 [==============================] - 0s 1ms/step - loss: 0.5467 - accuracy: 0.7150 - val_loss: 0.5758 - val_accuracy: 0.6964\n",
            "Epoch 98/150\n",
            "60/60 [==============================] - 0s 2ms/step - loss: 0.5396 - accuracy: 0.7150 - val_loss: 0.5672 - val_accuracy: 0.7083\n",
            "Epoch 99/150\n",
            "60/60 [==============================] - 0s 1ms/step - loss: 0.5715 - accuracy: 0.7200 - val_loss: 0.5704 - val_accuracy: 0.7202\n",
            "Epoch 100/150\n",
            "60/60 [==============================] - 0s 1ms/step - loss: 0.5674 - accuracy: 0.7167 - val_loss: 0.6127 - val_accuracy: 0.6845\n",
            "Epoch 101/150\n",
            "60/60 [==============================] - 0s 2ms/step - loss: 0.5492 - accuracy: 0.7233 - val_loss: 0.5248 - val_accuracy: 0.7560\n",
            "Epoch 102/150\n",
            "60/60 [==============================] - 0s 2ms/step - loss: 0.5373 - accuracy: 0.7250 - val_loss: 0.5289 - val_accuracy: 0.7500\n",
            "Epoch 103/150\n",
            "60/60 [==============================] - 0s 2ms/step - loss: 0.5309 - accuracy: 0.7233 - val_loss: 0.5290 - val_accuracy: 0.7381\n",
            "Epoch 104/150\n",
            "60/60 [==============================] - 0s 2ms/step - loss: 0.5353 - accuracy: 0.7400 - val_loss: 0.5326 - val_accuracy: 0.7679\n",
            "Epoch 105/150\n",
            "60/60 [==============================] - 0s 1ms/step - loss: 0.5342 - accuracy: 0.7417 - val_loss: 0.5326 - val_accuracy: 0.7440\n",
            "Epoch 106/150\n",
            "60/60 [==============================] - 0s 2ms/step - loss: 0.5334 - accuracy: 0.7200 - val_loss: 0.5337 - val_accuracy: 0.7381\n",
            "Epoch 107/150\n",
            "60/60 [==============================] - 0s 1ms/step - loss: 0.5331 - accuracy: 0.7183 - val_loss: 0.5233 - val_accuracy: 0.7679\n",
            "Epoch 108/150\n",
            "60/60 [==============================] - 0s 2ms/step - loss: 0.5240 - accuracy: 0.7367 - val_loss: 0.5457 - val_accuracy: 0.7262\n",
            "Epoch 109/150\n",
            "60/60 [==============================] - 0s 2ms/step - loss: 0.5337 - accuracy: 0.7317 - val_loss: 0.5251 - val_accuracy: 0.7500\n",
            "Epoch 110/150\n",
            "60/60 [==============================] - 0s 2ms/step - loss: 0.5395 - accuracy: 0.7283 - val_loss: 0.5250 - val_accuracy: 0.7381\n",
            "Epoch 111/150\n",
            "60/60 [==============================] - 0s 2ms/step - loss: 0.5450 - accuracy: 0.7183 - val_loss: 0.5297 - val_accuracy: 0.7440\n",
            "Epoch 112/150\n",
            "60/60 [==============================] - 0s 2ms/step - loss: 0.5299 - accuracy: 0.7400 - val_loss: 0.5656 - val_accuracy: 0.7262\n",
            "Epoch 113/150\n",
            "60/60 [==============================] - 0s 2ms/step - loss: 0.5238 - accuracy: 0.7317 - val_loss: 0.5594 - val_accuracy: 0.7202\n",
            "Epoch 114/150\n",
            "60/60 [==============================] - 0s 2ms/step - loss: 0.5255 - accuracy: 0.7383 - val_loss: 0.5369 - val_accuracy: 0.7500\n",
            "Epoch 115/150\n",
            "60/60 [==============================] - 0s 2ms/step - loss: 0.5263 - accuracy: 0.7300 - val_loss: 0.5753 - val_accuracy: 0.7202\n",
            "Epoch 116/150\n",
            "60/60 [==============================] - 0s 2ms/step - loss: 0.5635 - accuracy: 0.7317 - val_loss: 0.5295 - val_accuracy: 0.7679\n",
            "Epoch 117/150\n",
            "60/60 [==============================] - 0s 1ms/step - loss: 0.5627 - accuracy: 0.7050 - val_loss: 0.5172 - val_accuracy: 0.7679\n",
            "Epoch 118/150\n",
            "60/60 [==============================] - 0s 1ms/step - loss: 0.5770 - accuracy: 0.7100 - val_loss: 0.5534 - val_accuracy: 0.7262\n",
            "Epoch 119/150\n",
            "60/60 [==============================] - 0s 2ms/step - loss: 0.5247 - accuracy: 0.7300 - val_loss: 0.5894 - val_accuracy: 0.7024\n",
            "Epoch 120/150\n",
            "60/60 [==============================] - 0s 1ms/step - loss: 0.5431 - accuracy: 0.7200 - val_loss: 0.6398 - val_accuracy: 0.6607\n",
            "Epoch 121/150\n",
            "60/60 [==============================] - 0s 2ms/step - loss: 0.5194 - accuracy: 0.7433 - val_loss: 0.5281 - val_accuracy: 0.7560\n",
            "Epoch 122/150\n",
            "60/60 [==============================] - 0s 2ms/step - loss: 0.5412 - accuracy: 0.7500 - val_loss: 0.5395 - val_accuracy: 0.7679\n",
            "Epoch 123/150\n",
            "60/60 [==============================] - 0s 2ms/step - loss: 0.5327 - accuracy: 0.7517 - val_loss: 0.5525 - val_accuracy: 0.7262\n",
            "Epoch 124/150\n",
            "60/60 [==============================] - 0s 2ms/step - loss: 0.5287 - accuracy: 0.7483 - val_loss: 0.5254 - val_accuracy: 0.7381\n",
            "Epoch 125/150\n",
            "60/60 [==============================] - 0s 1ms/step - loss: 0.5249 - accuracy: 0.7300 - val_loss: 0.5353 - val_accuracy: 0.7440\n",
            "Epoch 126/150\n",
            "60/60 [==============================] - 0s 1ms/step - loss: 0.5192 - accuracy: 0.7417 - val_loss: 0.5366 - val_accuracy: 0.7321\n",
            "Epoch 127/150\n",
            "60/60 [==============================] - 0s 2ms/step - loss: 0.5309 - accuracy: 0.7250 - val_loss: 0.5263 - val_accuracy: 0.7560\n",
            "Epoch 128/150\n",
            "60/60 [==============================] - 0s 2ms/step - loss: 0.5272 - accuracy: 0.7383 - val_loss: 0.5864 - val_accuracy: 0.6964\n",
            "Epoch 129/150\n",
            "60/60 [==============================] - 0s 1ms/step - loss: 0.5223 - accuracy: 0.7400 - val_loss: 0.5234 - val_accuracy: 0.7798\n",
            "Epoch 130/150\n",
            "60/60 [==============================] - 0s 2ms/step - loss: 0.5180 - accuracy: 0.7367 - val_loss: 0.5326 - val_accuracy: 0.7500\n",
            "Epoch 131/150\n",
            "60/60 [==============================] - 0s 2ms/step - loss: 0.5411 - accuracy: 0.7333 - val_loss: 0.5190 - val_accuracy: 0.7738\n",
            "Epoch 132/150\n",
            "60/60 [==============================] - 0s 2ms/step - loss: 0.5200 - accuracy: 0.7517 - val_loss: 0.5298 - val_accuracy: 0.7560\n",
            "Epoch 133/150\n",
            "60/60 [==============================] - 0s 2ms/step - loss: 0.5333 - accuracy: 0.7200 - val_loss: 0.6346 - val_accuracy: 0.6667\n",
            "Epoch 134/150\n",
            "60/60 [==============================] - 0s 2ms/step - loss: 0.5309 - accuracy: 0.7500 - val_loss: 0.5516 - val_accuracy: 0.7262\n",
            "Epoch 135/150\n",
            "60/60 [==============================] - 0s 1ms/step - loss: 0.5288 - accuracy: 0.7267 - val_loss: 0.5239 - val_accuracy: 0.7619\n",
            "Epoch 136/150\n",
            "60/60 [==============================] - 0s 2ms/step - loss: 0.5201 - accuracy: 0.7400 - val_loss: 0.5226 - val_accuracy: 0.7560\n",
            "Epoch 137/150\n",
            "60/60 [==============================] - 0s 2ms/step - loss: 0.5280 - accuracy: 0.7283 - val_loss: 0.5232 - val_accuracy: 0.7500\n",
            "Epoch 138/150\n",
            "60/60 [==============================] - 0s 2ms/step - loss: 0.5073 - accuracy: 0.7633 - val_loss: 0.5412 - val_accuracy: 0.7619\n",
            "Epoch 139/150\n",
            "60/60 [==============================] - 0s 2ms/step - loss: 0.5210 - accuracy: 0.7383 - val_loss: 0.5579 - val_accuracy: 0.7202\n",
            "Epoch 140/150\n",
            "60/60 [==============================] - 0s 2ms/step - loss: 0.5298 - accuracy: 0.7283 - val_loss: 0.5333 - val_accuracy: 0.7560\n",
            "Epoch 141/150\n",
            "60/60 [==============================] - 0s 2ms/step - loss: 0.5263 - accuracy: 0.7517 - val_loss: 0.5272 - val_accuracy: 0.7440\n",
            "Epoch 142/150\n",
            "60/60 [==============================] - 0s 1ms/step - loss: 0.5100 - accuracy: 0.7517 - val_loss: 0.5933 - val_accuracy: 0.6905\n",
            "Epoch 143/150\n",
            "60/60 [==============================] - 0s 2ms/step - loss: 0.5510 - accuracy: 0.7317 - val_loss: 0.5328 - val_accuracy: 0.7738\n",
            "Epoch 144/150\n",
            "60/60 [==============================] - 0s 2ms/step - loss: 0.5257 - accuracy: 0.7267 - val_loss: 0.5652 - val_accuracy: 0.7321\n",
            "Epoch 145/150\n",
            "60/60 [==============================] - 0s 1ms/step - loss: 0.5287 - accuracy: 0.7367 - val_loss: 0.5334 - val_accuracy: 0.7262\n",
            "Epoch 146/150\n",
            "60/60 [==============================] - 0s 2ms/step - loss: 0.5122 - accuracy: 0.7633 - val_loss: 0.5150 - val_accuracy: 0.7738\n",
            "Epoch 147/150\n",
            "60/60 [==============================] - 0s 2ms/step - loss: 0.5215 - accuracy: 0.7583 - val_loss: 0.5292 - val_accuracy: 0.7619\n",
            "Epoch 148/150\n",
            "60/60 [==============================] - 0s 2ms/step - loss: 0.5136 - accuracy: 0.7400 - val_loss: 0.5345 - val_accuracy: 0.7619\n",
            "Epoch 149/150\n",
            "60/60 [==============================] - 0s 1ms/step - loss: 0.5178 - accuracy: 0.7483 - val_loss: 0.5342 - val_accuracy: 0.7619\n",
            "Epoch 150/150\n",
            "60/60 [==============================] - 0s 2ms/step - loss: 0.5338 - accuracy: 0.7317 - val_loss: 0.5601 - val_accuracy: 0.6964\n"
          ],
          "name": "stdout"
        }
      ]
    },
    {
      "cell_type": "code",
      "metadata": {
        "colab": {
          "base_uri": "https://localhost:8080/",
          "height": 313
        },
        "id": "N9HjRksBefQN",
        "outputId": "8e7753a9-e436-476d-c840-00f072536770"
      },
      "source": [
        "epochs = 150\n",
        "\n",
        "acc_list = [100 * i for i in hist.history['accuracy']]\n",
        "vacc_list = [100 * i for i in hist.history['val_accuracy']]\n",
        "loss_list = hist.history['loss'] #[100 * i for i in history.history['loss']]\n",
        "vloss_list = hist.history['val_loss'] #[100 * i for i in history.history['val_loss']]\n",
        "\n",
        "\n",
        "plt.plot(range(1,epochs+1),acc_list)  \n",
        "plt.plot(range(1,epochs+1),vacc_list)  \n",
        "plt.plot(np.argmax(np.array(vacc_list))+1,vacc_list[np.argmax(np.array(vacc_list))], 'r*')\n",
        "plt.title('DL of diabetes: Model accuracy')\n",
        "plt.ylabel('Accuracy (%)')\n",
        "plt.xlabel('Epoch')\n",
        "plt.legend(['accuracy','val_accuracy','best'], loc='best')\n",
        "\n",
        "\n"
      ],
      "execution_count": null,
      "outputs": [
        {
          "output_type": "execute_result",
          "data": {
            "text/plain": [
              "<matplotlib.legend.Legend at 0x7fb11f773e10>"
            ]
          },
          "metadata": {
            "tags": []
          },
          "execution_count": 64
        },
        {
          "output_type": "display_data",
          "data": {
            "image/png": "[encoded data removed]",
            "text/plain": [
              "<Figure size 432x288 with 1 Axes>"
            ]
          },
          "metadata": {
            "tags": [],
            "needs_background": "light"
          }
        }
      ]
    },
    {
      "cell_type": "code",
      "metadata": {
        "colab": {
          "base_uri": "https://localhost:8080/"
        },
        "id": "bsfvuir6efQN",
        "outputId": "79581c30-5852-4fbb-83d4-6a8083aab70f"
      },
      "source": [
        "# model performance\n",
        "model.evaluate(X_test, y_test)"
      ],
      "execution_count": null,
      "outputs": [
        {
          "output_type": "stream",
          "text": [
            "6/6 [==============================] - 0s 1ms/step - loss: 0.5601 - accuracy: 0.6964\n"
          ],
          "name": "stdout"
        },
        {
          "output_type": "execute_result",
          "data": {
            "text/plain": [
              "[0.5601302981376648, 0.6964285969734192]"
            ]
          },
          "metadata": {
            "tags": []
          },
          "execution_count": 65
        }
      ]
    },
    {
      "cell_type": "code",
      "metadata": {
        "colab": {
          "base_uri": "https://localhost:8080/"
        },
        "id": "AeiYjj4defQO",
        "outputId": "a89cf4bd-39ee-4885-8f1f-049a4be5a3ab"
      },
      "source": [
        "y_train[:5],y_train.shape"
      ],
      "execution_count": null,
      "outputs": [
        {
          "output_type": "execute_result",
          "data": {
            "text/plain": [
              "(0    1\n",
              " 1    0\n",
              " 2    1\n",
              " 3    0\n",
              " 4    1\n",
              " Name: Outcome, dtype: int64, (600,))"
            ]
          },
          "metadata": {
            "tags": []
          },
          "execution_count": 66
        }
      ]
    },
    {
      "cell_type": "code",
      "metadata": {
        "colab": {
          "base_uri": "https://localhost:8080/"
        },
        "id": "B7uhMFtDefQO",
        "outputId": "5c70ab66-765d-45cb-f688-c46ddc8552ff"
      },
      "source": [
        "model.predict(X_train)[0:5],[int(np.round(prob)) for prob in model.predict(X_train)[0:5]]"
      ],
      "execution_count": null,
      "outputs": [
        {
          "output_type": "execute_result",
          "data": {
            "text/plain": [
              "(array([[0.40216544],\n",
              "        [0.09287611],\n",
              "        [0.63646847],\n",
              "        [0.10549268],\n",
              "        [0.6793421 ]], dtype=float32), [0, 0, 1, 0, 1])"
            ]
          },
          "metadata": {
            "tags": []
          },
          "execution_count": 67
        }
      ]
    },
    {
      "cell_type": "code",
      "metadata": {
        "colab": {
          "base_uri": "https://localhost:8080/"
        },
        "id": "f4uyCj3pefQO",
        "outputId": "8266bc0b-2796-41c0-955e-d50f213e1886"
      },
      "source": [
        "# the first data in trainset\n",
        "X_train.iloc[0].tolist()"
      ],
      "execution_count": null,
      "outputs": [
        {
          "output_type": "execute_result",
          "data": {
            "text/plain": [
              "[6.0, 148.0, 72.0, 35.0, 125.0, 33.6, 0.627, 50.0]"
            ]
          },
          "metadata": {
            "tags": []
          },
          "execution_count": 68
        }
      ]
    },
    {
      "cell_type": "code",
      "metadata": {
        "colab": {
          "base_uri": "https://localhost:8080/"
        },
        "id": "Fu01GvVuefQO",
        "outputId": "de675209-4e34-4d96-920f-bb46708ee35a"
      },
      "source": [
        "X_test.shape"
      ],
      "execution_count": null,
      "outputs": [
        {
          "output_type": "execute_result",
          "data": {
            "text/plain": [
              "(168, 8)"
            ]
          },
          "metadata": {
            "tags": []
          },
          "execution_count": 69
        }
      ]
    },
    {
      "cell_type": "code",
      "metadata": {
        "colab": {
          "base_uri": "https://localhost:8080/"
        },
        "id": "dSpTxMHaefQP",
        "outputId": "1595a019-b050-4496-a28b-38828831dba2"
      },
      "source": [
        "y_test[:10].values"
      ],
      "execution_count": null,
      "outputs": [
        {
          "output_type": "execute_result",
          "data": {
            "text/plain": [
              "array([0, 0, 0, 1, 1, 0, 1, 0, 0, 0])"
            ]
          },
          "metadata": {
            "tags": []
          },
          "execution_count": 70
        }
      ]
    },
    {
      "cell_type": "code",
      "metadata": {
        "colab": {
          "base_uri": "https://localhost:8080/"
        },
        "id": "_nCx8xufefQP",
        "outputId": "e670dd19-f9bc-46f9-da08-05cb13cdf671"
      },
      "source": [
        "X_test.iloc[0].values.tolist(),y_test.iloc[0]"
      ],
      "execution_count": null,
      "outputs": [
        {
          "output_type": "execute_result",
          "data": {
            "text/plain": [
              "([1.0, 108.0, 88.0, 19.0, 125.0, 27.1, 0.4, 24.0], 0)"
            ]
          },
          "metadata": {
            "tags": []
          },
          "execution_count": 71
        }
      ]
    },
    {
      "cell_type": "code",
      "metadata": {
        "colab": {
          "base_uri": "https://localhost:8080/"
        },
        "id": "XBc0ljWRefQP",
        "outputId": "4ccb652c-196a-4f13-d0c2-d9f86c6c8d68"
      },
      "source": [
        "# make class predictions for test data with the model\n",
        "predictions = [int(np.round(prob)) for prob in model.predict(X_test)]\n",
        "predictions[:10]"
      ],
      "execution_count": null,
      "outputs": [
        {
          "output_type": "execute_result",
          "data": {
            "text/plain": [
              "[0, 0, 0, 0, 0, 0, 1, 0, 0, 0]"
            ]
          },
          "metadata": {
            "tags": []
          },
          "execution_count": 72
        }
      ]
    },
    {
      "cell_type": "code",
      "metadata": {
        "colab": {
          "base_uri": "https://localhost:8080/"
        },
        "id": "hTvxGfR_efQQ",
        "outputId": "40426ebb-78ef-42a0-f11d-9eb900ea22d3"
      },
      "source": [
        "# summarize the first 10 cases in testset\n",
        "for i in range(10):\n",
        "   print('%s => %d (expected %d)' % (X_test.iloc[i].values.tolist(), predictions[i], y_test.iloc[i]))"
      ],
      "execution_count": null,
      "outputs": [
        {
          "output_type": "stream",
          "text": [
            "[1.0, 108.0, 88.0, 19.0, 125.0, 27.1, 0.4, 24.0] => 0 (expected 0)\n",
            "[6.0, 96.0, 72.0, 29.0, 125.0, 23.7, 0.19, 28.0] => 0 (expected 0)\n",
            "[1.0, 124.0, 74.0, 36.0, 125.0, 27.8, 0.1, 30.0] => 0 (expected 0)\n",
            "[7.0, 150.0, 78.0, 29.0, 126.0, 35.2, 0.6920000000000001, 54.0] => 0 (expected 1)\n",
            "[4.0, 183.0, 72.0, 29.0, 125.0, 28.4, 0.212, 36.0] => 0 (expected 1)\n",
            "[1.0, 124.0, 60.0, 32.0, 125.0, 35.8, 0.514, 21.0] => 0 (expected 0)\n",
            "[1.0, 181.0, 78.0, 42.0, 293.0, 40.0, 1.258, 22.0] => 1 (expected 1)\n",
            "[1.0, 92.0, 62.0, 25.0, 41.0, 19.5, 0.48200000000000004, 25.0] => 0 (expected 0)\n",
            "[0.0, 152.0, 82.0, 39.0, 272.0, 41.5, 0.27, 27.0] => 0 (expected 0)\n",
            "[1.0, 111.0, 62.0, 13.0, 182.0, 24.0, 0.138, 23.0] => 0 (expected 0)\n"
          ],
          "name": "stdout"
        }
      ]
    },
    {
      "cell_type": "code",
      "metadata": {
        "id": "GQpc4GLrefQQ"
      },
      "source": [
        "import seaborn as sns\n",
        "from sklearn.metrics import confusion_matrix"
      ],
      "execution_count": null,
      "outputs": []
    },
    {
      "cell_type": "code",
      "metadata": {
        "id": "sRhAtElcefQQ"
      },
      "source": [
        "cm = confusion_matrix(y_test, predictions)"
      ],
      "execution_count": null,
      "outputs": []
    },
    {
      "cell_type": "code",
      "metadata": {
        "id": "qfG8LFKoefQQ"
      },
      "source": [
        "class_names = ['noDM','DM']"
      ],
      "execution_count": null,
      "outputs": []
    },
    {
      "cell_type": "code",
      "metadata": {
        "colab": {
          "base_uri": "https://localhost:8080/",
          "height": 334
        },
        "id": "LvHuMgEcefQQ",
        "outputId": "2500ac75-76db-4ea4-ad97-1f09e16c5703"
      },
      "source": [
        "plt.figure(figsize=(5,5))\n",
        "sns.heatmap(cm, cbar=False, xticklabels=class_names, yticklabels=class_names, fmt='d', annot=True, cmap=plt.cm.coolwarm)\n",
        "plt.xlabel('Predicted')\n",
        "plt.ylabel('Actual')\n",
        "plt.show()"
      ],
      "execution_count": null,
      "outputs": [
        {
          "output_type": "display_data",
          "data": {
            "image/png": "[encoded data removed]",
            "text/plain": [
              "<Figure size 360x360 with 1 Axes>"
            ]
          },
          "metadata": {
            "tags": [],
            "needs_background": "light"
          }
        }
      ]
    },
    {
      "cell_type": "code",
      "metadata": {
        "id": "Z2sfl-mWefQR"
      },
      "source": [
        "# define the keras model\n",
        "model2 = Sequential([\n",
        "    Dense(16, input_dim=8, activation='relu'),\n",
        "    Dense(8, activation='relu'), \n",
        "    Dense(1, activation='sigmoid')                 \n",
        "])\n",
        "# compile the keras model\n",
        "model2.compile(loss='binary_crossentropy', \n",
        "              optimizer='adam', \n",
        "              metrics=['accuracy'])\n"
      ],
      "execution_count": null,
      "outputs": []
    },
    {
      "cell_type": "code",
      "metadata": {
        "id": "ZyaO-1vqefQR"
      },
      "source": [
        "cp_callback = callbacks.ModelCheckpoint(filepath=\"./diabetes2_DL_best_weights.{epoch:03d}-{val_accuracy:.4f}.hdf5\", \n",
        "                              monitor='val_accuracy', verbose=0, save_best_only=True)\n",
        "es_callback = callbacks.EarlyStopping(monitor='val_accuracy', \n",
        "                            mode='max', verbose=1, patience=50)    # patience=10, 20, 50"
      ],
      "execution_count": null,
      "outputs": []
    },
    {
      "cell_type": "code",
      "metadata": {
        "colab": {
          "base_uri": "https://localhost:8080/"
        },
        "id": "2qd-QPnuefQS",
        "outputId": "adf05e65-7ebb-45e3-9862-501ffb7a8822"
      },
      "source": [
        "# fit the keras model on the dataset\n",
        "hist = model2.fit(X_train, y_train, epochs=500, batch_size=10, verbose=1, \n",
        "                  callbacks=[cp_callback, es_callback], \n",
        "                  validation_data=(X_test, y_test))\n"
      ],
      "execution_count": null,
      "outputs": [
        {
          "output_type": "stream",
          "text": [
            "Epoch 1/500\n",
            "60/60 [==============================] - 0s 2ms/step - loss: 0.5272 - accuracy: 0.7383 - val_loss: 0.6073 - val_accuracy: 0.7083\n",
            "Epoch 2/500\n",
            "60/60 [==============================] - 0s 1ms/step - loss: 0.5231 - accuracy: 0.7283 - val_loss: 0.6169 - val_accuracy: 0.6964\n",
            "Epoch 3/500\n",
            "60/60 [==============================] - 0s 2ms/step - loss: 0.5367 - accuracy: 0.7200 - val_loss: 0.5544 - val_accuracy: 0.7381\n",
            "Epoch 4/500\n",
            "60/60 [==============================] - 0s 1ms/step - loss: 0.5243 - accuracy: 0.7333 - val_loss: 0.5496 - val_accuracy: 0.7381\n",
            "Epoch 5/500\n",
            "60/60 [==============================] - 0s 1ms/step - loss: 0.5156 - accuracy: 0.7383 - val_loss: 0.5501 - val_accuracy: 0.7381\n",
            "Epoch 6/500\n",
            "60/60 [==============================] - 0s 2ms/step - loss: 0.5062 - accuracy: 0.7400 - val_loss: 0.5724 - val_accuracy: 0.7143\n",
            "Epoch 7/500\n",
            "60/60 [==============================] - 0s 1ms/step - loss: 0.5186 - accuracy: 0.7367 - val_loss: 0.5596 - val_accuracy: 0.7500\n",
            "Epoch 8/500\n",
            "60/60 [==============================] - 0s 2ms/step - loss: 0.5064 - accuracy: 0.7500 - val_loss: 0.5568 - val_accuracy: 0.7381\n",
            "Epoch 9/500\n",
            "60/60 [==============================] - 0s 1ms/step - loss: 0.5261 - accuracy: 0.7333 - val_loss: 0.5556 - val_accuracy: 0.7321\n",
            "Epoch 10/500\n",
            "60/60 [==============================] - 0s 1ms/step - loss: 0.5105 - accuracy: 0.7433 - val_loss: 0.5563 - val_accuracy: 0.7440\n",
            "Epoch 11/500\n",
            "60/60 [==============================] - 0s 2ms/step - loss: 0.5288 - accuracy: 0.7300 - val_loss: 0.5428 - val_accuracy: 0.7619\n",
            "Epoch 12/500\n",
            "60/60 [==============================] - 0s 1ms/step - loss: 0.5100 - accuracy: 0.7583 - val_loss: 0.5610 - val_accuracy: 0.7500\n",
            "Epoch 13/500\n",
            "60/60 [==============================] - 0s 2ms/step - loss: 0.5074 - accuracy: 0.7383 - val_loss: 0.5406 - val_accuracy: 0.7560\n",
            "Epoch 14/500\n",
            "60/60 [==============================] - 0s 2ms/step - loss: 0.4972 - accuracy: 0.7617 - val_loss: 0.5700 - val_accuracy: 0.7321\n",
            "Epoch 15/500\n",
            "60/60 [==============================] - 0s 2ms/step - loss: 0.5133 - accuracy: 0.7517 - val_loss: 0.5622 - val_accuracy: 0.7560\n",
            "Epoch 16/500\n",
            "60/60 [==============================] - 0s 2ms/step - loss: 0.5049 - accuracy: 0.7483 - val_loss: 0.5493 - val_accuracy: 0.7440\n",
            "Epoch 17/500\n",
            "60/60 [==============================] - 0s 1ms/step - loss: 0.5038 - accuracy: 0.7417 - val_loss: 0.5492 - val_accuracy: 0.7262\n",
            "Epoch 18/500\n",
            "60/60 [==============================] - 0s 1ms/step - loss: 0.5040 - accuracy: 0.7517 - val_loss: 0.5571 - val_accuracy: 0.7321\n",
            "Epoch 19/500\n",
            "60/60 [==============================] - 0s 2ms/step - loss: 0.5161 - accuracy: 0.7483 - val_loss: 0.5811 - val_accuracy: 0.7143\n",
            "Epoch 20/500\n",
            "60/60 [==============================] - 0s 2ms/step - loss: 0.5048 - accuracy: 0.7517 - val_loss: 0.5656 - val_accuracy: 0.7321\n",
            "Epoch 21/500\n",
            "60/60 [==============================] - 0s 1ms/step - loss: 0.4957 - accuracy: 0.7600 - val_loss: 0.5500 - val_accuracy: 0.7560\n",
            "Epoch 22/500\n",
            "60/60 [==============================] - 0s 1ms/step - loss: 0.5110 - accuracy: 0.7333 - val_loss: 0.5555 - val_accuracy: 0.7321\n",
            "Epoch 23/500\n",
            "60/60 [==============================] - 0s 2ms/step - loss: 0.5037 - accuracy: 0.7483 - val_loss: 0.5546 - val_accuracy: 0.7500\n",
            "Epoch 24/500\n",
            "60/60 [==============================] - 0s 2ms/step - loss: 0.4981 - accuracy: 0.7517 - val_loss: 0.5717 - val_accuracy: 0.7262\n",
            "Epoch 25/500\n",
            "60/60 [==============================] - 0s 1ms/step - loss: 0.5017 - accuracy: 0.7433 - val_loss: 0.5473 - val_accuracy: 0.7440\n",
            "Epoch 26/500\n",
            "60/60 [==============================] - 0s 2ms/step - loss: 0.5094 - accuracy: 0.7483 - val_loss: 0.5691 - val_accuracy: 0.7321\n",
            "Epoch 27/500\n",
            "60/60 [==============================] - 0s 1ms/step - loss: 0.5041 - accuracy: 0.7483 - val_loss: 0.5788 - val_accuracy: 0.7262\n",
            "Epoch 28/500\n",
            "60/60 [==============================] - 0s 2ms/step - loss: 0.5154 - accuracy: 0.7383 - val_loss: 0.5485 - val_accuracy: 0.7679\n",
            "Epoch 29/500\n",
            "60/60 [==============================] - 0s 2ms/step - loss: 0.4989 - accuracy: 0.7733 - val_loss: 0.6043 - val_accuracy: 0.7143\n",
            "Epoch 30/500\n",
            "60/60 [==============================] - 0s 1ms/step - loss: 0.4942 - accuracy: 0.7550 - val_loss: 0.5818 - val_accuracy: 0.7262\n",
            "Epoch 31/500\n",
            "60/60 [==============================] - 0s 1ms/step - loss: 0.5002 - accuracy: 0.7433 - val_loss: 0.5560 - val_accuracy: 0.7440\n",
            "Epoch 32/500\n",
            "60/60 [==============================] - 0s 1ms/step - loss: 0.4983 - accuracy: 0.7600 - val_loss: 0.5919 - val_accuracy: 0.7202\n",
            "Epoch 33/500\n",
            "60/60 [==============================] - 0s 2ms/step - loss: 0.5320 - accuracy: 0.7233 - val_loss: 0.5573 - val_accuracy: 0.7083\n",
            "Epoch 34/500\n",
            "60/60 [==============================] - 0s 2ms/step - loss: 0.5050 - accuracy: 0.7433 - val_loss: 0.5553 - val_accuracy: 0.7321\n",
            "Epoch 35/500\n",
            "60/60 [==============================] - 0s 1ms/step - loss: 0.4913 - accuracy: 0.7567 - val_loss: 0.5687 - val_accuracy: 0.7381\n",
            "Epoch 36/500\n",
            "60/60 [==============================] - 0s 1ms/step - loss: 0.5056 - accuracy: 0.7517 - val_loss: 0.5490 - val_accuracy: 0.7440\n",
            "Epoch 37/500\n",
            "60/60 [==============================] - 0s 2ms/step - loss: 0.4993 - accuracy: 0.7583 - val_loss: 0.5457 - val_accuracy: 0.7440\n",
            "Epoch 38/500\n",
            "60/60 [==============================] - 0s 1ms/step - loss: 0.4901 - accuracy: 0.7667 - val_loss: 0.5529 - val_accuracy: 0.7500\n",
            "Epoch 39/500\n",
            "60/60 [==============================] - 0s 1ms/step - loss: 0.4983 - accuracy: 0.7600 - val_loss: 0.5449 - val_accuracy: 0.7440\n",
            "Epoch 40/500\n",
            "60/60 [==============================] - 0s 1ms/step - loss: 0.4973 - accuracy: 0.7550 - val_loss: 0.5633 - val_accuracy: 0.7262\n",
            "Epoch 41/500\n",
            "60/60 [==============================] - 0s 1ms/step - loss: 0.4887 - accuracy: 0.7583 - val_loss: 0.5489 - val_accuracy: 0.7560\n",
            "Epoch 42/500\n",
            "60/60 [==============================] - 0s 2ms/step - loss: 0.4984 - accuracy: 0.7533 - val_loss: 0.5466 - val_accuracy: 0.7500\n",
            "Epoch 43/500\n",
            "60/60 [==============================] - 0s 2ms/step - loss: 0.4938 - accuracy: 0.7617 - val_loss: 0.5460 - val_accuracy: 0.7500\n",
            "Epoch 44/500\n",
            "60/60 [==============================] - 0s 2ms/step - loss: 0.4985 - accuracy: 0.7583 - val_loss: 0.5599 - val_accuracy: 0.7381\n",
            "Epoch 45/500\n",
            "60/60 [==============================] - 0s 1ms/step - loss: 0.4931 - accuracy: 0.7600 - val_loss: 0.5426 - val_accuracy: 0.7500\n",
            "Epoch 46/500\n",
            "60/60 [==============================] - 0s 2ms/step - loss: 0.4910 - accuracy: 0.7567 - val_loss: 0.5424 - val_accuracy: 0.7500\n",
            "Epoch 47/500\n",
            "60/60 [==============================] - 0s 1ms/step - loss: 0.4926 - accuracy: 0.7600 - val_loss: 0.5845 - val_accuracy: 0.7262\n",
            "Epoch 48/500\n",
            "60/60 [==============================] - 0s 1ms/step - loss: 0.5221 - accuracy: 0.7483 - val_loss: 0.5554 - val_accuracy: 0.7440\n",
            "Epoch 49/500\n",
            "60/60 [==============================] - 0s 2ms/step - loss: 0.5215 - accuracy: 0.7533 - val_loss: 0.5403 - val_accuracy: 0.7560\n",
            "Epoch 50/500\n",
            "60/60 [==============================] - 0s 1ms/step - loss: 0.4917 - accuracy: 0.7600 - val_loss: 0.5514 - val_accuracy: 0.7440\n",
            "Epoch 51/500\n",
            "60/60 [==============================] - 0s 1ms/step - loss: 0.4992 - accuracy: 0.7467 - val_loss: 0.5603 - val_accuracy: 0.7500\n",
            "Epoch 52/500\n",
            "60/60 [==============================] - 0s 1ms/step - loss: 0.5137 - accuracy: 0.7433 - val_loss: 0.6373 - val_accuracy: 0.6845\n",
            "Epoch 53/500\n",
            "60/60 [==============================] - 0s 1ms/step - loss: 0.4947 - accuracy: 0.7600 - val_loss: 0.5409 - val_accuracy: 0.7560\n",
            "Epoch 54/500\n",
            "60/60 [==============================] - 0s 1ms/step - loss: 0.4892 - accuracy: 0.7617 - val_loss: 0.5436 - val_accuracy: 0.7560\n",
            "Epoch 55/500\n",
            "60/60 [==============================] - 0s 2ms/step - loss: 0.4874 - accuracy: 0.7683 - val_loss: 0.5485 - val_accuracy: 0.7202\n",
            "Epoch 56/500\n",
            "60/60 [==============================] - 0s 2ms/step - loss: 0.4874 - accuracy: 0.7500 - val_loss: 0.5567 - val_accuracy: 0.7440\n",
            "Epoch 57/500\n",
            "60/60 [==============================] - 0s 1ms/step - loss: 0.5015 - accuracy: 0.7483 - val_loss: 0.5579 - val_accuracy: 0.7560\n",
            "Epoch 58/500\n",
            "60/60 [==============================] - 0s 1ms/step - loss: 0.4953 - accuracy: 0.7533 - val_loss: 0.5459 - val_accuracy: 0.7321\n",
            "Epoch 59/500\n",
            "60/60 [==============================] - 0s 2ms/step - loss: 0.4843 - accuracy: 0.7633 - val_loss: 0.5681 - val_accuracy: 0.7321\n",
            "Epoch 60/500\n",
            "60/60 [==============================] - 0s 2ms/step - loss: 0.4890 - accuracy: 0.7667 - val_loss: 0.5346 - val_accuracy: 0.7679\n",
            "Epoch 61/500\n",
            "60/60 [==============================] - 0s 2ms/step - loss: 0.5056 - accuracy: 0.7533 - val_loss: 0.5667 - val_accuracy: 0.7321\n",
            "Epoch 62/500\n",
            "60/60 [==============================] - 0s 1ms/step - loss: 0.4777 - accuracy: 0.7617 - val_loss: 0.5433 - val_accuracy: 0.7381\n",
            "Epoch 63/500\n",
            "60/60 [==============================] - 0s 1ms/step - loss: 0.4788 - accuracy: 0.7633 - val_loss: 0.5428 - val_accuracy: 0.7500\n",
            "Epoch 64/500\n",
            "60/60 [==============================] - 0s 2ms/step - loss: 0.4831 - accuracy: 0.7650 - val_loss: 0.5490 - val_accuracy: 0.7440\n",
            "Epoch 65/500\n",
            "60/60 [==============================] - 0s 2ms/step - loss: 0.4870 - accuracy: 0.7633 - val_loss: 0.5396 - val_accuracy: 0.7500\n",
            "Epoch 66/500\n",
            "60/60 [==============================] - 0s 1ms/step - loss: 0.4921 - accuracy: 0.7517 - val_loss: 0.5438 - val_accuracy: 0.7500\n",
            "Epoch 67/500\n",
            "60/60 [==============================] - 0s 2ms/step - loss: 0.4922 - accuracy: 0.7600 - val_loss: 0.5419 - val_accuracy: 0.7560\n",
            "Epoch 68/500\n",
            "60/60 [==============================] - 0s 2ms/step - loss: 0.4890 - accuracy: 0.7617 - val_loss: 0.6213 - val_accuracy: 0.7143\n",
            "Epoch 69/500\n",
            "60/60 [==============================] - 0s 1ms/step - loss: 0.4905 - accuracy: 0.7600 - val_loss: 0.5746 - val_accuracy: 0.7381\n",
            "Epoch 70/500\n",
            "60/60 [==============================] - 0s 2ms/step - loss: 0.4937 - accuracy: 0.7600 - val_loss: 0.5739 - val_accuracy: 0.7321\n",
            "Epoch 71/500\n",
            "60/60 [==============================] - 0s 1ms/step - loss: 0.5028 - accuracy: 0.7567 - val_loss: 0.5719 - val_accuracy: 0.7321\n",
            "Epoch 72/500\n",
            "60/60 [==============================] - 0s 1ms/step - loss: 0.4776 - accuracy: 0.7617 - val_loss: 0.5375 - val_accuracy: 0.7679\n",
            "Epoch 73/500\n",
            "60/60 [==============================] - 0s 2ms/step - loss: 0.4847 - accuracy: 0.7683 - val_loss: 0.5989 - val_accuracy: 0.7262\n",
            "Epoch 74/500\n",
            "60/60 [==============================] - 0s 2ms/step - loss: 0.4757 - accuracy: 0.7650 - val_loss: 0.5433 - val_accuracy: 0.7560\n",
            "Epoch 75/500\n",
            "60/60 [==============================] - 0s 2ms/step - loss: 0.4702 - accuracy: 0.7750 - val_loss: 0.6255 - val_accuracy: 0.7202\n",
            "Epoch 76/500\n",
            "60/60 [==============================] - 0s 1ms/step - loss: 0.4955 - accuracy: 0.7567 - val_loss: 0.5591 - val_accuracy: 0.7262\n",
            "Epoch 77/500\n",
            "60/60 [==============================] - 0s 1ms/step - loss: 0.4762 - accuracy: 0.7633 - val_loss: 0.5403 - val_accuracy: 0.7440\n",
            "Epoch 78/500\n",
            "60/60 [==============================] - 0s 1ms/step - loss: 0.4761 - accuracy: 0.7767 - val_loss: 0.5467 - val_accuracy: 0.7560\n",
            "Epoch 00078: early stopping\n"
          ],
          "name": "stdout"
        }
      ]
    },
    {
      "cell_type": "code",
      "metadata": {
        "colab": {
          "base_uri": "https://localhost:8080/",
          "height": 313
        },
        "id": "-QlAOQbUefQS",
        "outputId": "d08a62e0-a810-4f15-bd98-5ff9e5ca4c0b"
      },
      "source": [
        "epochs = 78\n",
        "\n",
        "acc_list = [100 * i for i in hist.history['accuracy']]\n",
        "vacc_list = [100 * i for i in hist.history['val_accuracy']]\n",
        "loss_list = hist.history['loss'] #[100 * i for i in history.history['loss']]\n",
        "vloss_list = hist.history['val_loss'] #[100 * i for i in history.history['val_loss']]\n",
        "\n",
        "\n",
        "plt.plot(range(1,epochs+1),acc_list)  \n",
        "plt.plot(range(1,epochs+1),vacc_list)  \n",
        "plt.plot(np.argmax(np.array(vacc_list))+1,vacc_list[np.argmax(np.array(vacc_list))], 'r*')\n",
        "plt.title('DL of diabetes: Model accuracy')\n",
        "plt.ylabel('Accuracy (%)')\n",
        "plt.xlabel('Epoch')\n",
        "plt.legend(['accuracy','val_accuracy','best'], loc='best')\n",
        "\n",
        "\n"
      ],
      "execution_count": null,
      "outputs": [
        {
          "output_type": "execute_result",
          "data": {
            "text/plain": [
              "<matplotlib.legend.Legend at 0x7fb131e1d550>"
            ]
          },
          "metadata": {
            "tags": []
          },
          "execution_count": 100
        },
        {
          "output_type": "display_data",
          "data": {
            "image/png": "[encoded data removed]",
            "text/plain": [
              "<Figure size 432x288 with 1 Axes>"
            ]
          },
          "metadata": {
            "tags": [],
            "needs_background": "light"
          }
        }
      ]
    },
    {
      "cell_type": "code",
      "metadata": {
        "colab": {
          "base_uri": "https://localhost:8080/"
        },
        "id": "DnQGgZaDefQS",
        "outputId": "054938ea-a793-4278-db7e-4e46c58f2888"
      },
      "source": [
        "# model2 performance\n",
        "model2.evaluate(X_test, y_test)"
      ],
      "execution_count": null,
      "outputs": [
        {
          "output_type": "stream",
          "text": [
            "6/6 [==============================] - 0s 1ms/step - loss: 0.5467 - accuracy: 0.7560\n"
          ],
          "name": "stdout"
        },
        {
          "output_type": "execute_result",
          "data": {
            "text/plain": [
              "[0.5467398166656494, 0.7559523582458496]"
            ]
          },
          "metadata": {
            "tags": []
          },
          "execution_count": 101
        }
      ]
    },
    {
      "cell_type": "code",
      "metadata": {
        "colab": {
          "base_uri": "https://localhost:8080/"
        },
        "id": "3oHP07ilefQS",
        "outputId": "b73ce7d1-ad8f-46cc-d453-80d50bb35952"
      },
      "source": [
        "from keras.models import load_model\n",
        "\n",
        "# model = load_model('your_best_model.hdf5')\n",
        "model2_best = load_model('diabetes2_DL_best_weights.028-0.7679.hdf5')\n",
        "model2_best.evaluate(X_test, y_test)"
      ],
      "execution_count": null,
      "outputs": [
        {
          "output_type": "stream",
          "text": [
            "6/6 [==============================] - 0s 2ms/step - loss: 0.5485 - accuracy: 0.7679\n"
          ],
          "name": "stdout"
        },
        {
          "output_type": "execute_result",
          "data": {
            "text/plain": [
              "[0.5484973192214966, 0.7678571343421936]"
            ]
          },
          "metadata": {
            "tags": []
          },
          "execution_count": 103
        }
      ]
    },
    {
      "cell_type": "code",
      "metadata": {
        "id": "6f0DQrMfefQT"
      },
      "source": [
        "import seaborn as sns\n",
        "from sklearn.metrics import confusion_matrix"
      ],
      "execution_count": null,
      "outputs": []
    },
    {
      "cell_type": "code",
      "metadata": {
        "id": "nXz03JDfefQT"
      },
      "source": [
        "predictions = [int(np.round(prob)) for prob in model2_best.predict(X_test)]"
      ],
      "execution_count": null,
      "outputs": []
    },
    {
      "cell_type": "code",
      "metadata": {
        "id": "3_QaBcgzefQT"
      },
      "source": [
        "cm = confusion_matrix(y_test, predictions)"
      ],
      "execution_count": null,
      "outputs": []
    },
    {
      "cell_type": "code",
      "metadata": {
        "id": "N-cRHnmGefQT"
      },
      "source": [
        "class_names = ['noDM','DM']"
      ],
      "execution_count": null,
      "outputs": []
    },
    {
      "cell_type": "code",
      "metadata": {
        "colab": {
          "base_uri": "https://localhost:8080/",
          "height": 334
        },
        "id": "f2wNxVRVefQT",
        "outputId": "782c719d-9284-41f6-d2e0-1f56fb0e8ac3"
      },
      "source": [
        "plt.figure(figsize=(5,5))\n",
        "sns.heatmap(cm, cbar=False, xticklabels=class_names, yticklabels=class_names, fmt='d', annot=True, cmap=plt.cm.coolwarm)\n",
        "plt.xlabel('Predicted')\n",
        "plt.ylabel('Actual')\n",
        "plt.show()"
      ],
      "execution_count": null,
      "outputs": [
        {
          "output_type": "display_data",
          "data": {
            "image/png": "[encoded data removed]",
            "text/plain": [
              "<Figure size 360x360 with 1 Axes>"
            ]
          },
          "metadata": {
            "tags": [],
            "needs_background": "light"
          }
        }
      ]
    },
    {
      "cell_type": "markdown",
      "metadata": {
        "id": "HrG2XpXqL_sI"
      },
      "source": [
        "# 기말고사 안내  \n",
        "\n",
        "1. mnist, fmnist, cifar10 순으로 간단한 CNN 모델의 성능(정확도)이 낮아지는 이유를 설명하시오.\n",
        "cifar10_final.ipynb 파일 앞 부분에 설명을 추가.\n",
        "\n",
        "2. cifar10 데이터에 대한 분류 정확도가 높은 모델을 만드는 방법과 최적 모델을 구하시오.\n",
        "\n",
        "* 다음 세 개의 파일을 이메일로 압축해서 보내시오. 12월13일(일) 자정(24:00) 기한\n",
        "0. 압축파일명: pdmnn_final.zip\n",
        "1. diabetes_FCN_final.ipynb\n",
        "2. cifar10_final.ipynb\n",
        "3. cifar10_best.hdf5\n",
        "\n",
        "* email: chaos21c@gmail.com\n",
        "\n",
        "* 12월14일(월) 정오(12:00) 기한\n",
        "- py-tensorflow 안에 final-notebook 폴더를 만들고 위의 세 개의 파일을 올리시오.\n"
      ]
    },
    {
      "cell_type": "code",
      "metadata": {
        "id": "sxvR5omqMEUQ"
      },
      "source": [
        ""
      ],
      "execution_count": null,
      "outputs": []
    }
  ]
}