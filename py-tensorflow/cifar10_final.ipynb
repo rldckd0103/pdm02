{
  "nbformat": 4,
  "nbformat_minor": 0,
  "metadata": {
    "colab": {
      "name": "cifar10_final.ipynb",
      "provenance": [],
      "collapsed_sections": [],
      "include_colab_link": true
    },
    "kernelspec": {
      "name": "python3",
      "display_name": "Python 3"
    },
    "accelerator": "GPU"
  },
  "cells": [
    {
      "cell_type": "markdown",
      "metadata": {
        "id": "view-in-github",
        "colab_type": "text"
      },
      "source": [
        "<a href=\"https://colab.research.google.com/github/rldckd0103/pdm02/blob/master/py-tensorflow/cifar10_final.ipynb\" target=\"_parent\"><img src=\"https://colab.research.google.com/assets/colab-badge.svg\" alt=\"Open In Colab\"/></a>"
      ]
    },
    {
      "cell_type": "code",
      "metadata": {
        "id": "8GgGzPXPVyfa",
        "colab": {
          "base_uri": "https://localhost:8080/"
        },
        "outputId": "38151b3d-24b6-4545-c8c1-af2ac79c9f5e"
      },
      "source": [
        "import numpy as np\n",
        "import tensorflow as tf\n",
        "from tensorflow import keras\n",
        "import pandas as pd\n",
        "import matplotlib.pyplot as plt\n",
        "%matplotlib inline\n",
        "\n",
        "tf.random.set_seed(0)\n",
        "\n",
        "print(tf.__version__)"
      ],
      "execution_count": 1,
      "outputs": [
        {
          "output_type": "stream",
          "text": [
            "2.3.0\n"
          ],
          "name": "stdout"
        }
      ]
    },
    {
      "cell_type": "code",
      "metadata": {
        "id": "nMZqMpIvIlwf"
      },
      "source": [
        "# import TF2 submodules\n",
        "from tensorflow.keras import layers, models, callbacks"
      ],
      "execution_count": 2,
      "outputs": []
    },
    {
      "cell_type": "markdown",
      "metadata": {
        "id": "-0IOOUM14Jk1"
      },
      "source": [
        "## **데이터 로딩, 정규화**"
      ]
    },
    {
      "cell_type": "code",
      "metadata": {
        "id": "N1ogJ7I64Fz-",
        "colab": {
          "base_uri": "https://localhost:8080/"
        },
        "outputId": "da35b393-c6fe-4a09-a4fc-4971e59b7bc9"
      },
      "source": [
        "from keras.datasets import cifar10\n",
        "\n",
        "(X_train0, y_train0), (X_test0, y_test0) = cifar10.load_data()\n",
        "\n",
        "# Reshape\n",
        "# X_train = X_train0.reshape(60000,28,28,1)\n",
        "# X_test = X_test0.reshape(10000,28,28,1)\n",
        "\n",
        "# Normalization\n",
        "X_train, X_test = X_train0/255.0, X_test0/255.0 # 정규화\n",
        "\n",
        "print(\"X_train={0}\".format(X_train.shape))\n",
        "print(\"y_train={0}\".format(y_train0.shape)) \n",
        "print(\"X_test={0}\".format(X_test.shape))\n",
        "print(\"y_test={0}\".format(y_test0.shape))"
      ],
      "execution_count": 3,
      "outputs": [
        {
          "output_type": "stream",
          "text": [
            "Downloading data from https://www.cs.toronto.edu/~kriz/cifar-10-python.tar.gz\n",
            "170500096/170498071 [==============================] - 2s 0us/step\n",
            "X_train=(50000, 32, 32, 3)\n",
            "y_train=(50000, 1)\n",
            "X_test=(10000, 32, 32, 3)\n",
            "y_test=(10000, 1)\n"
          ],
          "name": "stdout"
        }
      ]
    },
    {
      "cell_type": "code",
      "metadata": {
        "id": "F46-QZqJHiQ6",
        "colab": {
          "base_uri": "https://localhost:8080/"
        },
        "outputId": "2e0cb6e2-6aa5-405d-9285-bf396f6adfc7"
      },
      "source": [
        "# One-Hot-Encoding\n",
        "# Use function to_categorical() to do One-Hot-Encoding\n",
        "# tf.keras.utils.to_categorical\n",
        "from keras.utils import to_categorical\n",
        "\n",
        "y_train = to_categorical(y_train0, 10)\n",
        "y_test = to_categorical(y_test0, 10)\n",
        "y_train.shape,y_test.shape"
      ],
      "execution_count": null,
      "outputs": [
        {
          "output_type": "execute_result",
          "data": {
            "text/plain": [
              "((50000, 10), (10000, 10))"
            ]
          },
          "metadata": {
            "tags": []
          },
          "execution_count": 4
        }
      ]
    },
    {
      "cell_type": "code",
      "metadata": {
        "id": "eZ3OfP5PkEkL",
        "colab": {
          "base_uri": "https://localhost:8080/"
        },
        "outputId": "6e524f2c-bbc6-4b98-8366-9ad971e54736"
      },
      "source": [
        "# y_train0.shape vs. y_train.shape\n",
        "y_train0.shape, y_train.shape"
      ],
      "execution_count": null,
      "outputs": [
        {
          "output_type": "execute_result",
          "data": {
            "text/plain": [
              "((50000, 1), (50000, 10))"
            ]
          },
          "metadata": {
            "tags": []
          },
          "execution_count": 5
        }
      ]
    },
    {
      "cell_type": "markdown",
      "metadata": {
        "id": "5z7SozStigmF"
      },
      "source": [
        "### Display images in CIFAR-10\n",
        "- one random image\n",
        "- 10 representative images"
      ]
    },
    {
      "cell_type": "code",
      "metadata": {
        "id": "IK7XT3XoirSL",
        "colab": {
          "base_uri": "https://localhost:8080/",
          "height": 286
        },
        "outputId": "fb156883-84c9-4c21-c725-f939a82fb1a2"
      },
      "source": [
        "# Code here!\n",
        "# display one random image from the training set:\n",
        "class_names =  ['airplane', 'automobile', 'bird', 'cat', 'deer', 'dog', 'frog', 'horse', 'ship', 'truck']\n",
        "\n",
        "idx = np.random.randint(0, X_train0.shape[0])\n",
        "print(idx)\n",
        "image = X_train0[idx]\n",
        "plt.imshow(image) #, cmap=plt.get_cmap('gray'))\n",
        "plt.title(class_names[y_train0[idx][0]])\n",
        "plt.xticks([])\n",
        "plt.yticks([])\n",
        "plt.show()"
      ],
      "execution_count": null,
      "outputs": [
        {
          "output_type": "stream",
          "text": [
            "33917\n"
          ],
          "name": "stdout"
        },
        {
          "output_type": "display_data",
          "data": {
            "image/png": "[encoded data removed]",
            "text/plain": [
              "<Figure size 432x288 with 1 Axes>"
            ]
          },
          "metadata": {
            "tags": []
          }
        }
      ]
    },
    {
      "cell_type": "code",
      "metadata": {
        "id": "LzhD5pcukau7",
        "colab": {
          "base_uri": "https://localhost:8080/",
          "height": 325
        },
        "outputId": "b590d957-83e7-464c-ae5a-66afc82dbdc5"
      },
      "source": [
        "fig = plt.figure(figsize=(10,6))\n",
        "num0_9 = np.unique(y_train0, return_index=True)[1]\n",
        "images = X_train[num0_9]\n",
        "for i in range(10):\n",
        "    plt.subplot(2, 5, i+1)\n",
        "    # num0_9 = X_train0[y_train0 == i]\n",
        "    \n",
        "    # print(num0_9.shape)\n",
        "    # plt.imshow(num0_9[0]) \n",
        "    plt.imshow(images[i])\n",
        "    plt.title(\"Class %d\" % (i))\n",
        "    plt.xticks([])\n",
        "    plt.yticks([])"
      ],
      "execution_count": null,
      "outputs": [
        {
          "output_type": "display_data",
          "data": {
            "image/png": "[encoded data removed]",
            "text/plain": [
              "<Figure size 720x432 with 10 Axes>"
            ]
          },
          "metadata": {
            "tags": []
          }
        }
      ]
    },
    {
      "cell_type": "markdown",
      "metadata": {
        "id": "55DYVfFXi0WR"
      },
      "source": [
        "# Design CNN"
      ]
    },
    {
      "cell_type": "markdown",
      "metadata": {
        "id": "iPcLIcUCcsiG"
      },
      "source": [
        "### import models, layers, callbacks\n",
        "- models: Sequential\n",
        "- layers: Conv2D, MaxPool2D, Flatten\n",
        "- callbacks: ModelCheckpoint, EarlyStopping"
      ]
    },
    {
      "cell_type": "code",
      "metadata": {
        "id": "NzqMC4Xtc3ZE"
      },
      "source": [
        "from keras.models import Sequential\n",
        "from keras.layers import Conv2D, MaxPool2D, Flatten\n",
        "from keras.callbacks import ModelCheckpoint, EarlyStopping"
      ],
      "execution_count": null,
      "outputs": []
    },
    {
      "cell_type": "markdown",
      "metadata": {
        "id": "7Z6DJJUCei-s"
      },
      "source": [
        "## **CNN2 + FCN2**"
      ]
    },
    {
      "cell_type": "code",
      "metadata": {
        "id": "pV3NFglM7P65"
      },
      "source": [
        "c2f2 = keras.models.Sequential([ \n",
        "    Conv2D(input_shape=(32,32,3),kernel_size=(3,3),strides=(1,1),filters= 32,padding='same',activation='relu'),\n",
        "    MaxPool2D(pool_size=(2,2), strides=(2,2)), \n",
        "    Conv2D(kernel_size=(3,3),strides=(1,1),filters= 64,padding='same',activation='relu'),\n",
        "    MaxPool2D(pool_size=(2,2), strides=(2,2)),\n",
        "    Flatten(), \n",
        "    keras.layers.Dense(128, activation='relu'),  \n",
        "    keras.layers.Dropout(0.25), \n",
        "    keras.layers.Dense(10, activation='softmax')\n",
        "])\n",
        "\n",
        "c2f2.compile(optimizer='adam',\n",
        "              loss='categorical_crossentropy',\n",
        "              metrics=['accuracy']) "
      ],
      "execution_count": null,
      "outputs": []
    },
    {
      "cell_type": "code",
      "metadata": {
        "id": "OGtCiKy57YkR",
        "colab": {
          "base_uri": "https://localhost:8080/"
        },
        "outputId": "b60c009f-e7e5-4e51-be74-cf2a22cafb91"
      },
      "source": [
        "c2f2.summary()"
      ],
      "execution_count": null,
      "outputs": [
        {
          "output_type": "stream",
          "text": [
            "Model: \"sequential\"\n",
            "_________________________________________________________________\n",
            "Layer (type)                 Output Shape              Param #   \n",
            "=================================================================\n",
            "conv2d (Conv2D)              (None, 32, 32, 32)        896       \n",
            "_________________________________________________________________\n",
            "max_pooling2d (MaxPooling2D) (None, 16, 16, 32)        0         \n",
            "_________________________________________________________________\n",
            "conv2d_1 (Conv2D)            (None, 16, 16, 64)        18496     \n",
            "_________________________________________________________________\n",
            "max_pooling2d_1 (MaxPooling2 (None, 8, 8, 64)          0         \n",
            "_________________________________________________________________\n",
            "flatten (Flatten)            (None, 4096)              0         \n",
            "_________________________________________________________________\n",
            "dense (Dense)                (None, 128)               524416    \n",
            "_________________________________________________________________\n",
            "dropout (Dropout)            (None, 128)               0         \n",
            "_________________________________________________________________\n",
            "dense_1 (Dense)              (None, 10)                1290      \n",
            "=================================================================\n",
            "Total params: 545,098\n",
            "Trainable params: 545,098\n",
            "Non-trainable params: 0\n",
            "_________________________________________________________________\n"
          ],
          "name": "stdout"
        }
      ]
    },
    {
      "cell_type": "code",
      "metadata": {
        "id": "zw_pQPBdJmU8"
      },
      "source": [
        "cp_callback = callbacks.ModelCheckpoint(filepath=\"./cifar10_c2f2_best_weights.{epoch:03d}-{val_accuracy:.4f}.hdf5\", \n",
        "                              monitor='val_accuracy', verbose=0, save_best_only=True)\n",
        "es_callback = callbacks.EarlyStopping(monitor='val_accuracy', \n",
        "                            mode='max', verbose=1, patience=25)    # patience=10, 25, 50"
      ],
      "execution_count": null,
      "outputs": []
    },
    {
      "cell_type": "code",
      "metadata": {
        "id": "94GWWQt-7eRS",
        "colab": {
          "base_uri": "https://localhost:8080/"
        },
        "outputId": "33190bfd-f03a-484d-d1c3-ed91a46a818f"
      },
      "source": [
        "hist = c2f2.fit(X_train, y_train, epochs = 500 , batch_size =32, \n",
        "         callbacks=[cp_callback, es_callback], \n",
        "         validation_data=(X_test,y_test))"
      ],
      "execution_count": null,
      "outputs": [
        {
          "output_type": "stream",
          "text": [
            "Epoch 1/500\n",
            "1563/1563 [==============================] - 6s 4ms/step - loss: 1.5090 - accuracy: 0.4545 - val_loss: 1.1979 - val_accuracy: 0.5805\n",
            "Epoch 2/500\n",
            "1563/1563 [==============================] - 5s 3ms/step - loss: 1.1757 - accuracy: 0.5826 - val_loss: 1.0356 - val_accuracy: 0.6355\n",
            "Epoch 3/500\n",
            "1563/1563 [==============================] - 5s 3ms/step - loss: 1.0418 - accuracy: 0.6335 - val_loss: 0.9883 - val_accuracy: 0.6556\n",
            "Epoch 4/500\n",
            "1563/1563 [==============================] - 5s 3ms/step - loss: 0.9510 - accuracy: 0.6654 - val_loss: 0.9092 - val_accuracy: 0.6852\n",
            "Epoch 5/500\n",
            "1563/1563 [==============================] - 5s 3ms/step - loss: 0.8826 - accuracy: 0.6889 - val_loss: 0.8748 - val_accuracy: 0.6917\n",
            "Epoch 6/500\n",
            "1563/1563 [==============================] - 5s 3ms/step - loss: 0.8104 - accuracy: 0.7118 - val_loss: 0.8431 - val_accuracy: 0.7016\n",
            "Epoch 7/500\n",
            "1563/1563 [==============================] - 5s 3ms/step - loss: 0.7615 - accuracy: 0.7281 - val_loss: 0.8735 - val_accuracy: 0.6945\n",
            "Epoch 8/500\n",
            "1563/1563 [==============================] - 5s 3ms/step - loss: 0.7084 - accuracy: 0.7475 - val_loss: 0.8320 - val_accuracy: 0.7125\n",
            "Epoch 9/500\n",
            "1563/1563 [==============================] - 5s 3ms/step - loss: 0.6575 - accuracy: 0.7650 - val_loss: 0.8449 - val_accuracy: 0.7087\n",
            "Epoch 10/500\n",
            "1563/1563 [==============================] - 5s 3ms/step - loss: 0.6187 - accuracy: 0.7763 - val_loss: 0.8534 - val_accuracy: 0.7149\n",
            "Epoch 11/500\n",
            "1563/1563 [==============================] - 5s 3ms/step - loss: 0.5761 - accuracy: 0.7898 - val_loss: 0.9128 - val_accuracy: 0.7039\n",
            "Epoch 12/500\n",
            "1563/1563 [==============================] - 5s 3ms/step - loss: 0.5367 - accuracy: 0.8040 - val_loss: 0.8889 - val_accuracy: 0.7183\n",
            "Epoch 13/500\n",
            "1563/1563 [==============================] - 5s 3ms/step - loss: 0.5135 - accuracy: 0.8132 - val_loss: 0.9242 - val_accuracy: 0.7099\n",
            "Epoch 14/500\n",
            "1563/1563 [==============================] - 5s 3ms/step - loss: 0.4775 - accuracy: 0.8255 - val_loss: 0.9422 - val_accuracy: 0.7139\n",
            "Epoch 15/500\n",
            "1563/1563 [==============================] - 6s 4ms/step - loss: 0.4541 - accuracy: 0.8339 - val_loss: 1.0045 - val_accuracy: 0.7045\n",
            "Epoch 16/500\n",
            "1563/1563 [==============================] - 6s 4ms/step - loss: 0.4259 - accuracy: 0.8429 - val_loss: 1.0299 - val_accuracy: 0.7034\n",
            "Epoch 17/500\n",
            "1563/1563 [==============================] - 5s 3ms/step - loss: 0.4104 - accuracy: 0.8497 - val_loss: 1.0376 - val_accuracy: 0.7058\n",
            "Epoch 18/500\n",
            "1563/1563 [==============================] - 5s 3ms/step - loss: 0.3851 - accuracy: 0.8582 - val_loss: 1.1114 - val_accuracy: 0.7077\n",
            "Epoch 19/500\n",
            "1563/1563 [==============================] - 5s 3ms/step - loss: 0.3642 - accuracy: 0.8628 - val_loss: 1.1267 - val_accuracy: 0.7070\n",
            "Epoch 20/500\n",
            "1563/1563 [==============================] - 5s 3ms/step - loss: 0.3543 - accuracy: 0.8687 - val_loss: 1.1612 - val_accuracy: 0.7096\n",
            "Epoch 21/500\n",
            "1563/1563 [==============================] - 5s 3ms/step - loss: 0.3385 - accuracy: 0.8755 - val_loss: 1.1527 - val_accuracy: 0.7123\n",
            "Epoch 22/500\n",
            "1563/1563 [==============================] - 5s 4ms/step - loss: 0.3256 - accuracy: 0.8813 - val_loss: 1.2343 - val_accuracy: 0.7132\n",
            "Epoch 23/500\n",
            "1563/1563 [==============================] - 5s 3ms/step - loss: 0.3120 - accuracy: 0.8850 - val_loss: 1.1989 - val_accuracy: 0.7036\n",
            "Epoch 24/500\n",
            "1563/1563 [==============================] - 5s 3ms/step - loss: 0.3018 - accuracy: 0.8887 - val_loss: 1.2650 - val_accuracy: 0.7010\n",
            "Epoch 25/500\n",
            "1563/1563 [==============================] - 5s 3ms/step - loss: 0.2887 - accuracy: 0.8932 - val_loss: 1.2742 - val_accuracy: 0.6992\n",
            "Epoch 26/500\n",
            "1563/1563 [==============================] - 5s 3ms/step - loss: 0.2825 - accuracy: 0.8955 - val_loss: 1.3306 - val_accuracy: 0.7052\n",
            "Epoch 27/500\n",
            "1563/1563 [==============================] - 5s 3ms/step - loss: 0.2757 - accuracy: 0.8989 - val_loss: 1.3036 - val_accuracy: 0.7005\n",
            "Epoch 28/500\n",
            "1563/1563 [==============================] - 5s 3ms/step - loss: 0.2664 - accuracy: 0.9026 - val_loss: 1.3472 - val_accuracy: 0.7035\n",
            "Epoch 29/500\n",
            "1563/1563 [==============================] - 5s 3ms/step - loss: 0.2564 - accuracy: 0.9062 - val_loss: 1.4341 - val_accuracy: 0.7030\n",
            "Epoch 30/500\n",
            "1563/1563 [==============================] - 5s 3ms/step - loss: 0.2549 - accuracy: 0.9067 - val_loss: 1.5113 - val_accuracy: 0.7060\n",
            "Epoch 31/500\n",
            "1563/1563 [==============================] - 5s 3ms/step - loss: 0.2474 - accuracy: 0.9094 - val_loss: 1.4353 - val_accuracy: 0.7080\n",
            "Epoch 32/500\n",
            "1563/1563 [==============================] - 5s 3ms/step - loss: 0.2409 - accuracy: 0.9119 - val_loss: 1.4740 - val_accuracy: 0.7006\n",
            "Epoch 33/500\n",
            "1563/1563 [==============================] - 5s 3ms/step - loss: 0.2352 - accuracy: 0.9137 - val_loss: 1.5656 - val_accuracy: 0.7033\n",
            "Epoch 34/500\n",
            "1563/1563 [==============================] - 5s 4ms/step - loss: 0.2344 - accuracy: 0.9151 - val_loss: 1.5016 - val_accuracy: 0.6993\n",
            "Epoch 35/500\n",
            "1563/1563 [==============================] - 5s 3ms/step - loss: 0.2226 - accuracy: 0.9189 - val_loss: 1.5532 - val_accuracy: 0.7010\n",
            "Epoch 36/500\n",
            "1563/1563 [==============================] - 6s 4ms/step - loss: 0.2249 - accuracy: 0.9179 - val_loss: 1.5720 - val_accuracy: 0.6998\n",
            "Epoch 37/500\n",
            "1563/1563 [==============================] - 5s 3ms/step - loss: 0.2136 - accuracy: 0.9221 - val_loss: 1.6065 - val_accuracy: 0.6949\n",
            "Epoch 00037: early stopping\n"
          ],
          "name": "stdout"
        }
      ]
    },
    {
      "cell_type": "code",
      "metadata": {
        "id": "0-7is2U49A6Z",
        "colab": {
          "base_uri": "https://localhost:8080/"
        },
        "outputId": "1d596347-c48b-4287-ff78-0c829ff1b59b"
      },
      "source": [
        "c2f2.evaluate(X_test, y_test, batch_size =32)"
      ],
      "execution_count": null,
      "outputs": [
        {
          "output_type": "stream",
          "text": [
            "313/313 [==============================] - 1s 2ms/step - loss: 1.6065 - accuracy: 0.6949\n"
          ],
          "name": "stdout"
        },
        {
          "output_type": "execute_result",
          "data": {
            "text/plain": [
              "[1.6065300703048706, 0.6948999762535095]"
            ]
          },
          "metadata": {
            "tags": []
          },
          "execution_count": 18
        }
      ]
    },
    {
      "cell_type": "markdown",
      "metadata": {
        "id": "SUJxRQtafihM"
      },
      "source": [
        "## **CNN2 + FCN3**"
      ]
    },
    {
      "cell_type": "code",
      "metadata": {
        "id": "Nl5CyAymAB34"
      },
      "source": [
        "c2f3 = keras.models.Sequential([ \n",
        "    Conv2D(input_shape=(32,32,3),kernel_size=(3,3),strides=(1,1),filters= 32,padding='same',activation='relu'),\n",
        "    MaxPool2D(pool_size=(2,2), strides=(2,2)), \n",
        "    Conv2D(kernel_size=(3,3),strides=(1,1),filters= 64,padding='same',activation='relu'),\n",
        "    MaxPool2D(pool_size=(2,2), strides=(2,2)),\n",
        "    Flatten(), \n",
        "    keras.layers.Dense(128, activation='relu'),  \n",
        "    keras.layers.Dropout(0.25), \n",
        "    keras.layers.Dense(64, activation='relu'),  \n",
        "    keras.layers.Dropout(0.25), \n",
        "    keras.layers.Dense(10, activation='softmax')\n",
        "])\n",
        "\n",
        "c2f3.compile(optimizer='adam',\n",
        "              loss='categorical_crossentropy',\n",
        "              metrics=['accuracy']) "
      ],
      "execution_count": null,
      "outputs": []
    },
    {
      "cell_type": "code",
      "metadata": {
        "id": "gYxuGW_2ANL8",
        "colab": {
          "base_uri": "https://localhost:8080/"
        },
        "outputId": "d8864372-5540-431d-8b42-33c3d353d615"
      },
      "source": [
        "c2f3.summary()"
      ],
      "execution_count": null,
      "outputs": [
        {
          "output_type": "stream",
          "text": [
            "Model: \"sequential_2\"\n",
            "_________________________________________________________________\n",
            "Layer (type)                 Output Shape              Param #   \n",
            "=================================================================\n",
            "conv2d_4 (Conv2D)            (None, 32, 32, 32)        896       \n",
            "_________________________________________________________________\n",
            "max_pooling2d_4 (MaxPooling2 (None, 16, 16, 32)        0         \n",
            "_________________________________________________________________\n",
            "conv2d_5 (Conv2D)            (None, 16, 16, 64)        18496     \n",
            "_________________________________________________________________\n",
            "max_pooling2d_5 (MaxPooling2 (None, 8, 8, 64)          0         \n",
            "_________________________________________________________________\n",
            "flatten_2 (Flatten)          (None, 4096)              0         \n",
            "_________________________________________________________________\n",
            "dense_5 (Dense)              (None, 128)               524416    \n",
            "_________________________________________________________________\n",
            "dropout_3 (Dropout)          (None, 128)               0         \n",
            "_________________________________________________________________\n",
            "dense_6 (Dense)              (None, 64)                8256      \n",
            "_________________________________________________________________\n",
            "dropout_4 (Dropout)          (None, 64)                0         \n",
            "_________________________________________________________________\n",
            "dense_7 (Dense)              (None, 10)                650       \n",
            "=================================================================\n",
            "Total params: 552,714\n",
            "Trainable params: 552,714\n",
            "Non-trainable params: 0\n",
            "_________________________________________________________________\n"
          ],
          "name": "stdout"
        }
      ]
    },
    {
      "cell_type": "code",
      "metadata": {
        "id": "KMsTuhO2x61z"
      },
      "source": [
        "cp_callback = callbacks.ModelCheckpoint(filepath=\"./cifar10_c2f3_best_weights.{epoch:03d}-{val_accuracy:.4f}.hdf5\", \n",
        "                              monitor='val_accuracy', verbose=0, save_best_only=True)\n",
        "es_callback = callbacks.EarlyStopping(monitor='val_accuracy', \n",
        "                            mode='max', verbose=1, patience=25)    # patience=10, 25, 50"
      ],
      "execution_count": null,
      "outputs": []
    },
    {
      "cell_type": "code",
      "metadata": {
        "id": "lO1of4AOAQlV",
        "colab": {
          "base_uri": "https://localhost:8080/"
        },
        "outputId": "b36a2138-8069-4cc8-ddc1-b6862fc04f5e"
      },
      "source": [
        "c2f3.fit(X_train, y_train, epochs=500, batch_size =32, \n",
        "         callbacks=[cp_callback, es_callback], \n",
        "         validation_data=(X_test,y_test))"
      ],
      "execution_count": null,
      "outputs": [
        {
          "output_type": "stream",
          "text": [
            "Epoch 1/500\n",
            "1563/1563 [==============================] - 6s 4ms/step - loss: 1.5639 - accuracy: 0.4295 - val_loss: 1.2319 - val_accuracy: 0.5638\n",
            "Epoch 2/500\n",
            "1563/1563 [==============================] - 6s 4ms/step - loss: 1.2061 - accuracy: 0.5738 - val_loss: 1.0416 - val_accuracy: 0.6308\n",
            "Epoch 3/500\n",
            "1563/1563 [==============================] - 6s 4ms/step - loss: 1.0658 - accuracy: 0.6254 - val_loss: 0.9653 - val_accuracy: 0.6670\n",
            "Epoch 4/500\n",
            "1563/1563 [==============================] - 6s 4ms/step - loss: 0.9790 - accuracy: 0.6573 - val_loss: 0.9642 - val_accuracy: 0.6622\n",
            "Epoch 5/500\n",
            "1563/1563 [==============================] - 6s 4ms/step - loss: 0.9097 - accuracy: 0.6830 - val_loss: 0.8957 - val_accuracy: 0.6919\n",
            "Epoch 6/500\n",
            "1563/1563 [==============================] - 6s 4ms/step - loss: 0.8480 - accuracy: 0.7046 - val_loss: 0.8663 - val_accuracy: 0.7015\n",
            "Epoch 7/500\n",
            "1563/1563 [==============================] - 6s 4ms/step - loss: 0.8017 - accuracy: 0.7201 - val_loss: 0.8841 - val_accuracy: 0.6955\n",
            "Epoch 8/500\n",
            "1563/1563 [==============================] - 6s 4ms/step - loss: 0.7514 - accuracy: 0.7363 - val_loss: 0.9021 - val_accuracy: 0.7027\n",
            "Epoch 9/500\n",
            "1563/1563 [==============================] - 6s 4ms/step - loss: 0.7141 - accuracy: 0.7527 - val_loss: 0.8860 - val_accuracy: 0.7077\n",
            "Epoch 10/500\n",
            "1563/1563 [==============================] - 6s 4ms/step - loss: 0.6697 - accuracy: 0.7644 - val_loss: 0.8596 - val_accuracy: 0.7156\n",
            "Epoch 11/500\n",
            "1563/1563 [==============================] - 6s 4ms/step - loss: 0.6406 - accuracy: 0.7764 - val_loss: 0.8867 - val_accuracy: 0.7117\n",
            "Epoch 12/500\n",
            "1563/1563 [==============================] - 6s 4ms/step - loss: 0.6081 - accuracy: 0.7865 - val_loss: 0.9222 - val_accuracy: 0.7007\n",
            "Epoch 13/500\n",
            "1563/1563 [==============================] - 6s 4ms/step - loss: 0.5839 - accuracy: 0.7962 - val_loss: 0.8779 - val_accuracy: 0.7210\n",
            "Epoch 14/500\n",
            "1563/1563 [==============================] - 6s 4ms/step - loss: 0.5585 - accuracy: 0.8028 - val_loss: 0.9175 - val_accuracy: 0.7085\n",
            "Epoch 15/500\n",
            "1563/1563 [==============================] - 6s 4ms/step - loss: 0.5314 - accuracy: 0.8127 - val_loss: 0.9557 - val_accuracy: 0.7079\n",
            "Epoch 16/500\n",
            "1563/1563 [==============================] - 6s 4ms/step - loss: 0.5119 - accuracy: 0.8207 - val_loss: 0.9439 - val_accuracy: 0.7065\n",
            "Epoch 17/500\n",
            "1563/1563 [==============================] - 6s 4ms/step - loss: 0.4948 - accuracy: 0.8242 - val_loss: 0.9352 - val_accuracy: 0.7096\n",
            "Epoch 18/500\n",
            "1563/1563 [==============================] - 6s 4ms/step - loss: 0.4723 - accuracy: 0.8333 - val_loss: 1.0017 - val_accuracy: 0.7043\n",
            "Epoch 19/500\n",
            "1563/1563 [==============================] - 6s 4ms/step - loss: 0.4542 - accuracy: 0.8409 - val_loss: 1.0665 - val_accuracy: 0.7088\n",
            "Epoch 20/500\n",
            "1563/1563 [==============================] - 6s 4ms/step - loss: 0.4409 - accuracy: 0.8445 - val_loss: 1.0491 - val_accuracy: 0.7065\n",
            "Epoch 21/500\n",
            "1563/1563 [==============================] - 6s 4ms/step - loss: 0.4230 - accuracy: 0.8524 - val_loss: 1.0314 - val_accuracy: 0.7130\n",
            "Epoch 22/500\n",
            "1563/1563 [==============================] - 6s 4ms/step - loss: 0.4121 - accuracy: 0.8558 - val_loss: 1.0901 - val_accuracy: 0.7044\n",
            "Epoch 23/500\n",
            "1563/1563 [==============================] - 6s 4ms/step - loss: 0.3932 - accuracy: 0.8616 - val_loss: 1.1138 - val_accuracy: 0.7065\n",
            "Epoch 24/500\n",
            "1563/1563 [==============================] - 6s 4ms/step - loss: 0.3844 - accuracy: 0.8659 - val_loss: 1.0811 - val_accuracy: 0.7126\n",
            "Epoch 25/500\n",
            "1563/1563 [==============================] - 6s 4ms/step - loss: 0.3749 - accuracy: 0.8687 - val_loss: 1.1138 - val_accuracy: 0.7104\n",
            "Epoch 26/500\n",
            "1563/1563 [==============================] - 6s 4ms/step - loss: 0.3640 - accuracy: 0.8712 - val_loss: 1.1775 - val_accuracy: 0.7085\n",
            "Epoch 27/500\n",
            "1563/1563 [==============================] - 6s 4ms/step - loss: 0.3517 - accuracy: 0.8774 - val_loss: 1.1644 - val_accuracy: 0.7032\n",
            "Epoch 28/500\n",
            "1563/1563 [==============================] - 6s 4ms/step - loss: 0.3441 - accuracy: 0.8783 - val_loss: 1.1840 - val_accuracy: 0.7123\n",
            "Epoch 29/500\n",
            "1563/1563 [==============================] - 6s 4ms/step - loss: 0.3372 - accuracy: 0.8829 - val_loss: 1.2195 - val_accuracy: 0.7083\n",
            "Epoch 30/500\n",
            "1563/1563 [==============================] - 6s 4ms/step - loss: 0.3281 - accuracy: 0.8863 - val_loss: 1.2546 - val_accuracy: 0.7108\n",
            "Epoch 31/500\n",
            "1563/1563 [==============================] - 6s 4ms/step - loss: 0.3241 - accuracy: 0.8882 - val_loss: 1.2558 - val_accuracy: 0.7040\n",
            "Epoch 32/500\n",
            "1563/1563 [==============================] - 6s 4ms/step - loss: 0.3033 - accuracy: 0.8950 - val_loss: 1.3046 - val_accuracy: 0.7060\n",
            "Epoch 33/500\n",
            "1563/1563 [==============================] - 6s 4ms/step - loss: 0.2975 - accuracy: 0.8954 - val_loss: 1.3373 - val_accuracy: 0.7041\n",
            "Epoch 34/500\n",
            "1563/1563 [==============================] - 6s 4ms/step - loss: 0.2963 - accuracy: 0.8974 - val_loss: 1.3330 - val_accuracy: 0.7094\n",
            "Epoch 35/500\n",
            "1563/1563 [==============================] - 6s 4ms/step - loss: 0.2875 - accuracy: 0.8997 - val_loss: 1.3264 - val_accuracy: 0.7089\n",
            "Epoch 36/500\n",
            "1563/1563 [==============================] - 6s 4ms/step - loss: 0.2896 - accuracy: 0.8988 - val_loss: 1.3377 - val_accuracy: 0.7126\n",
            "Epoch 37/500\n",
            "1563/1563 [==============================] - 6s 4ms/step - loss: 0.2784 - accuracy: 0.9026 - val_loss: 1.3925 - val_accuracy: 0.7100\n",
            "Epoch 38/500\n",
            "1563/1563 [==============================] - 6s 4ms/step - loss: 0.2744 - accuracy: 0.9051 - val_loss: 1.4054 - val_accuracy: 0.7054\n",
            "Epoch 00038: early stopping\n"
          ],
          "name": "stdout"
        },
        {
          "output_type": "execute_result",
          "data": {
            "text/plain": [
              "<tensorflow.python.keras.callbacks.History at 0x7f9614fda518>"
            ]
          },
          "metadata": {
            "tags": []
          },
          "execution_count": 22
        }
      ]
    },
    {
      "cell_type": "code",
      "metadata": {
        "id": "W-eIxCasDBil",
        "colab": {
          "base_uri": "https://localhost:8080/"
        },
        "outputId": "b5072073-d30b-473c-a3b8-c256f2ce7787"
      },
      "source": [
        " c2f3.evaluate(X_test, y_test, batch_size = 32)"
      ],
      "execution_count": null,
      "outputs": [
        {
          "output_type": "stream",
          "text": [
            "313/313 [==============================] - 1s 2ms/step - loss: 1.4054 - accuracy: 0.7054\n"
          ],
          "name": "stdout"
        },
        {
          "output_type": "execute_result",
          "data": {
            "text/plain": [
              "[1.405439853668213, 0.7053999900817871]"
            ]
          },
          "metadata": {
            "tags": []
          },
          "execution_count": 23
        }
      ]
    },
    {
      "cell_type": "markdown",
      "metadata": {
        "id": "5XYSVtC-DVsz"
      },
      "source": [
        "# **[DIY] Hidden layer에 따른 정확도**"
      ]
    },
    {
      "cell_type": "code",
      "metadata": {
        "id": "OiCc_UO2rGmp",
        "colab": {
          "base_uri": "https://localhost:8080/"
        },
        "outputId": "be5a3350-9b43-40d8-f367-d2a867dfd505"
      },
      "source": [
        "score1=c2f2.evaluate(X_test, y_test, batch_size = 32)\n",
        "score2=c2f3.evaluate(X_test, y_test, batch_size = 32)\n",
        "losses = [score1[0],score2[0]]\n",
        "accuracies= [score1[1],score2[1]]\n",
        "losses,accuracies"
      ],
      "execution_count": null,
      "outputs": [
        {
          "output_type": "stream",
          "text": [
            "313/313 [==============================] - 1s 2ms/step - loss: 1.6065 - accuracy: 0.6949\n",
            "313/313 [==============================] - 1s 2ms/step - loss: 1.4054 - accuracy: 0.7054\n"
          ],
          "name": "stdout"
        },
        {
          "output_type": "execute_result",
          "data": {
            "text/plain": [
              "([1.6065300703048706, 1.405439853668213],\n",
              " [0.6948999762535095, 0.7053999900817871])"
            ]
          },
          "metadata": {
            "tags": []
          },
          "execution_count": 24
        }
      ]
    },
    {
      "cell_type": "code",
      "metadata": {
        "id": "vZv6a2aVRw9j",
        "colab": {
          "base_uri": "https://localhost:8080/",
          "height": 269
        },
        "outputId": "9f4aa3a1-3e79-4c50-a367-0d9169748626"
      },
      "source": [
        "x = np.arange(2)\n",
        "cnns = ['C2F2','C2F3']\n",
        "\n",
        "plt.bar(x, accuracies)\n",
        "plt.xticks(x, cnns)\n",
        "plt.ylim((.5,1.0))\n",
        "plt.show()"
      ],
      "execution_count": null,
      "outputs": [
        {
          "output_type": "display_data",
          "data": {
            "image/png": "[encoded data removed]",
            "text/plain": [
              "<Figure size 432x288 with 1 Axes>"
            ]
          },
          "metadata": {
            "tags": [],
            "needs_background": "light"
          }
        }
      ]
    },
    {
      "cell_type": "markdown",
      "metadata": {
        "id": "63oPbpPejqOj"
      },
      "source": [
        "## Complex model\n",
        "- C4F5 model\n",
        "\n",
        "![cnn_c4f5.png](https://raw.githubusercontent.com/Redwoods/Py/master//pdm2020/my-note/py-tensorflow/images/cnn_c4f5.png)"
      ]
    },
    {
      "cell_type": "code",
      "metadata": {
        "id": "kSN8pq8DkQ6B"
      },
      "source": [
        "c4f5 = keras.models.Sequential([ \n",
        "    Conv2D(input_shape=(32,32,3),kernel_size=(3,3),strides=(1,1),filters= 64,padding='same',activation='relu'),\n",
        "    MaxPool2D(pool_size=(2,2), strides=(2,2)), \n",
        "    Conv2D(kernel_size=(3,3),strides=(1,1),filters= 128,padding='same',activation='relu'),\n",
        "    MaxPool2D(pool_size=(2,2), strides=(2,2)),\n",
        "    Conv2D(kernel_size=(3,3),strides=(1,1),filters= 256,padding='same',activation='relu'),\n",
        "    MaxPool2D(pool_size=(2,2), strides=(2,2)),\n",
        "    Conv2D(kernel_size=(3,3),strides=(1,1),filters= 512,padding='same',activation='relu'),\n",
        "    MaxPool2D(pool_size=(2,2), strides=(2,2)),\n",
        "    Flatten(), \n",
        "    keras.layers.Dense(128, activation='relu'),  \n",
        "    keras.layers.Dropout(0.25), \n",
        "    keras.layers.Dense(256, activation='relu'),  \n",
        "    keras.layers.Dropout(0.25), \n",
        "    keras.layers.Dense(512, activation='relu'),  \n",
        "    keras.layers.Dropout(0.25), \n",
        "    keras.layers.Dense(1024, activation='relu'),  \n",
        "    keras.layers.Dropout(0.25), \n",
        "    keras.layers.Dense(10, activation='softmax')\n",
        "])\n",
        "\n",
        "c4f5.compile(optimizer='adam',\n",
        "              loss='categorical_crossentropy',\n",
        "              metrics=['accuracy']) "
      ],
      "execution_count": null,
      "outputs": []
    },
    {
      "cell_type": "code",
      "metadata": {
        "colab": {
          "base_uri": "https://localhost:8080/"
        },
        "id": "k7qWzpLRkQ6C",
        "outputId": "f8b432cb-02ce-433f-9432-d20834b1f37e"
      },
      "source": [
        "c4f5.summary()"
      ],
      "execution_count": null,
      "outputs": [
        {
          "output_type": "stream",
          "text": [
            "Model: \"sequential_3\"\n",
            "_________________________________________________________________\n",
            "Layer (type)                 Output Shape              Param #   \n",
            "=================================================================\n",
            "conv2d_6 (Conv2D)            (None, 32, 32, 64)        1792      \n",
            "_________________________________________________________________\n",
            "max_pooling2d_6 (MaxPooling2 (None, 16, 16, 64)        0         \n",
            "_________________________________________________________________\n",
            "conv2d_7 (Conv2D)            (None, 16, 16, 128)       73856     \n",
            "_________________________________________________________________\n",
            "max_pooling2d_7 (MaxPooling2 (None, 8, 8, 128)         0         \n",
            "_________________________________________________________________\n",
            "conv2d_8 (Conv2D)            (None, 8, 8, 256)         295168    \n",
            "_________________________________________________________________\n",
            "max_pooling2d_8 (MaxPooling2 (None, 4, 4, 256)         0         \n",
            "_________________________________________________________________\n",
            "conv2d_9 (Conv2D)            (None, 4, 4, 512)         1180160   \n",
            "_________________________________________________________________\n",
            "max_pooling2d_9 (MaxPooling2 (None, 2, 2, 512)         0         \n",
            "_________________________________________________________________\n",
            "flatten_3 (Flatten)          (None, 2048)              0         \n",
            "_________________________________________________________________\n",
            "dense_8 (Dense)              (None, 128)               262272    \n",
            "_________________________________________________________________\n",
            "dropout_5 (Dropout)          (None, 128)               0         \n",
            "_________________________________________________________________\n",
            "dense_9 (Dense)              (None, 256)               33024     \n",
            "_________________________________________________________________\n",
            "dropout_6 (Dropout)          (None, 256)               0         \n",
            "_________________________________________________________________\n",
            "dense_10 (Dense)             (None, 512)               131584    \n",
            "_________________________________________________________________\n",
            "dropout_7 (Dropout)          (None, 512)               0         \n",
            "_________________________________________________________________\n",
            "dense_11 (Dense)             (None, 1024)              525312    \n",
            "_________________________________________________________________\n",
            "dropout_8 (Dropout)          (None, 1024)              0         \n",
            "_________________________________________________________________\n",
            "dense_12 (Dense)             (None, 10)                10250     \n",
            "=================================================================\n",
            "Total params: 2,513,418\n",
            "Trainable params: 2,513,418\n",
            "Non-trainable params: 0\n",
            "_________________________________________________________________\n"
          ],
          "name": "stdout"
        }
      ]
    },
    {
      "cell_type": "code",
      "metadata": {
        "id": "-pKJWy-2kQ6C"
      },
      "source": [
        "cp_callback = callbacks.ModelCheckpoint(filepath=\"./cifar10_c4f5_best_weights.{epoch:03d}-{val_accuracy:.4f}.hdf5\", \n",
        "                              monitor='val_accuracy', verbose=0, save_best_only=True)\n",
        "es_callback = callbacks.EarlyStopping(monitor='val_accuracy', \n",
        "                            mode='max', verbose=1, patience=25)    # patience=10, 25, 50"
      ],
      "execution_count": null,
      "outputs": []
    },
    {
      "cell_type": "code",
      "metadata": {
        "colab": {
          "base_uri": "https://localhost:8080/"
        },
        "id": "wKdgr9EskQ6C",
        "outputId": "5b0a5086-9dc8-423d-905c-ec84e58aa61b"
      },
      "source": [
        "c4f5.fit(X_train, y_train, epochs=500, batch_size =32, \n",
        "         callbacks=[cp_callback, es_callback], \n",
        "         validation_data=(X_test,y_test))"
      ],
      "execution_count": null,
      "outputs": [
        {
          "output_type": "stream",
          "text": [
            "Epoch 1/500\n",
            "1563/1563 [==============================] - 11s 7ms/step - loss: 1.7331 - accuracy: 0.3314 - val_loss: 1.3966 - val_accuracy: 0.4716\n",
            "Epoch 2/500\n",
            "1563/1563 [==============================] - 11s 7ms/step - loss: 1.2673 - accuracy: 0.5403 - val_loss: 1.1300 - val_accuracy: 0.5993\n",
            "Epoch 3/500\n",
            "1563/1563 [==============================] - 11s 7ms/step - loss: 1.0590 - accuracy: 0.6311 - val_loss: 0.9907 - val_accuracy: 0.6603\n",
            "Epoch 4/500\n",
            "1563/1563 [==============================] - 11s 7ms/step - loss: 0.9388 - accuracy: 0.6793 - val_loss: 0.9546 - val_accuracy: 0.6813\n",
            "Epoch 5/500\n",
            "1563/1563 [==============================] - 11s 7ms/step - loss: 0.8468 - accuracy: 0.7159 - val_loss: 0.8800 - val_accuracy: 0.7032\n",
            "Epoch 6/500\n",
            "1563/1563 [==============================] - 11s 7ms/step - loss: 0.7801 - accuracy: 0.7400 - val_loss: 0.9727 - val_accuracy: 0.6834\n",
            "Epoch 7/500\n",
            "1563/1563 [==============================] - 11s 7ms/step - loss: 0.7169 - accuracy: 0.7612 - val_loss: 0.8672 - val_accuracy: 0.7171\n",
            "Epoch 8/500\n",
            "1563/1563 [==============================] - 11s 7ms/step - loss: 0.6676 - accuracy: 0.7783 - val_loss: 0.8530 - val_accuracy: 0.7179\n",
            "Epoch 9/500\n",
            "1563/1563 [==============================] - 11s 7ms/step - loss: 0.6235 - accuracy: 0.7949 - val_loss: 0.8446 - val_accuracy: 0.7183\n",
            "Epoch 10/500\n",
            "1563/1563 [==============================] - 11s 7ms/step - loss: 0.5866 - accuracy: 0.8058 - val_loss: 0.9381 - val_accuracy: 0.7029\n",
            "Epoch 11/500\n",
            "1563/1563 [==============================] - 11s 7ms/step - loss: 0.5558 - accuracy: 0.8170 - val_loss: 0.8635 - val_accuracy: 0.7184\n",
            "Epoch 12/500\n",
            "1563/1563 [==============================] - 11s 7ms/step - loss: 0.5243 - accuracy: 0.8296 - val_loss: 0.8578 - val_accuracy: 0.7267\n",
            "Epoch 13/500\n",
            "1563/1563 [==============================] - 11s 7ms/step - loss: 0.5075 - accuracy: 0.8364 - val_loss: 0.9344 - val_accuracy: 0.7080\n",
            "Epoch 14/500\n",
            "1563/1563 [==============================] - 11s 7ms/step - loss: 0.4890 - accuracy: 0.8447 - val_loss: 0.8415 - val_accuracy: 0.7315\n",
            "Epoch 15/500\n",
            "1563/1563 [==============================] - 11s 7ms/step - loss: 0.4458 - accuracy: 0.8582 - val_loss: 0.8555 - val_accuracy: 0.7336\n",
            "Epoch 16/500\n",
            "1563/1563 [==============================] - 11s 7ms/step - loss: 0.4390 - accuracy: 0.8604 - val_loss: 1.0010 - val_accuracy: 0.7205\n",
            "Epoch 17/500\n",
            "1563/1563 [==============================] - 11s 7ms/step - loss: 0.4212 - accuracy: 0.8674 - val_loss: 0.9776 - val_accuracy: 0.7003\n",
            "Epoch 18/500\n",
            "1563/1563 [==============================] - 11s 7ms/step - loss: 0.4103 - accuracy: 0.8719 - val_loss: 0.9696 - val_accuracy: 0.7112\n",
            "Epoch 19/500\n",
            "1563/1563 [==============================] - 11s 7ms/step - loss: 0.3940 - accuracy: 0.8781 - val_loss: 0.9290 - val_accuracy: 0.7370\n",
            "Epoch 20/500\n",
            "1563/1563 [==============================] - 11s 7ms/step - loss: 0.3816 - accuracy: 0.8821 - val_loss: 0.9597 - val_accuracy: 0.7341\n",
            "Epoch 21/500\n",
            "1563/1563 [==============================] - 11s 7ms/step - loss: 0.3777 - accuracy: 0.8837 - val_loss: 0.9415 - val_accuracy: 0.7309\n",
            "Epoch 22/500\n",
            "1563/1563 [==============================] - 11s 7ms/step - loss: 0.3602 - accuracy: 0.8911 - val_loss: 0.9511 - val_accuracy: 0.7401\n",
            "Epoch 23/500\n",
            "1563/1563 [==============================] - 11s 7ms/step - loss: 0.3624 - accuracy: 0.8922 - val_loss: 0.9541 - val_accuracy: 0.7355\n",
            "Epoch 24/500\n",
            "1563/1563 [==============================] - 11s 7ms/step - loss: 0.3435 - accuracy: 0.8969 - val_loss: 0.9857 - val_accuracy: 0.7245\n",
            "Epoch 25/500\n",
            "1563/1563 [==============================] - 11s 7ms/step - loss: 0.3507 - accuracy: 0.8943 - val_loss: 0.9648 - val_accuracy: 0.7336\n",
            "Epoch 26/500\n",
            "1563/1563 [==============================] - 11s 7ms/step - loss: 0.3283 - accuracy: 0.9020 - val_loss: 0.9785 - val_accuracy: 0.7251\n",
            "Epoch 27/500\n",
            "1563/1563 [==============================] - 11s 7ms/step - loss: 0.3097 - accuracy: 0.9075 - val_loss: 0.9034 - val_accuracy: 0.7337\n",
            "Epoch 28/500\n",
            "1563/1563 [==============================] - 11s 7ms/step - loss: 0.3350 - accuracy: 0.9023 - val_loss: 0.9122 - val_accuracy: 0.7340\n",
            "Epoch 29/500\n",
            "1563/1563 [==============================] - 11s 7ms/step - loss: 0.3254 - accuracy: 0.9057 - val_loss: 1.0792 - val_accuracy: 0.7318\n",
            "Epoch 30/500\n",
            "1563/1563 [==============================] - 11s 7ms/step - loss: 0.3357 - accuracy: 0.9045 - val_loss: 0.9948 - val_accuracy: 0.7311\n",
            "Epoch 31/500\n",
            "1563/1563 [==============================] - 11s 7ms/step - loss: 0.3327 - accuracy: 0.9052 - val_loss: 0.9787 - val_accuracy: 0.7404\n",
            "Epoch 32/500\n",
            "1563/1563 [==============================] - 11s 7ms/step - loss: 0.3147 - accuracy: 0.9100 - val_loss: 1.0141 - val_accuracy: 0.7370\n",
            "Epoch 33/500\n",
            "1563/1563 [==============================] - 11s 7ms/step - loss: 0.2940 - accuracy: 0.9170 - val_loss: 1.0591 - val_accuracy: 0.7239\n",
            "Epoch 34/500\n",
            "1563/1563 [==============================] - 11s 7ms/step - loss: 0.3002 - accuracy: 0.9153 - val_loss: 1.0680 - val_accuracy: 0.7266\n",
            "Epoch 35/500\n",
            "1563/1563 [==============================] - 11s 7ms/step - loss: 0.3035 - accuracy: 0.9110 - val_loss: 1.0717 - val_accuracy: 0.7264\n",
            "Epoch 36/500\n",
            "1563/1563 [==============================] - 11s 7ms/step - loss: 0.2983 - accuracy: 0.9150 - val_loss: 1.1127 - val_accuracy: 0.7231\n",
            "Epoch 37/500\n",
            "1563/1563 [==============================] - 11s 7ms/step - loss: 0.2894 - accuracy: 0.9184 - val_loss: 1.0485 - val_accuracy: 0.7420\n",
            "Epoch 38/500\n",
            "1563/1563 [==============================] - 11s 7ms/step - loss: 0.3543 - accuracy: 0.9008 - val_loss: 1.1669 - val_accuracy: 0.7078\n",
            "Epoch 39/500\n",
            "1563/1563 [==============================] - 11s 7ms/step - loss: 0.2683 - accuracy: 0.9232 - val_loss: 1.0376 - val_accuracy: 0.7327\n",
            "Epoch 40/500\n",
            "1563/1563 [==============================] - 11s 7ms/step - loss: 0.2750 - accuracy: 0.9238 - val_loss: 1.0319 - val_accuracy: 0.7340\n",
            "Epoch 41/500\n",
            "1563/1563 [==============================] - 11s 7ms/step - loss: 0.2816 - accuracy: 0.9230 - val_loss: 0.9883 - val_accuracy: 0.7388\n",
            "Epoch 42/500\n",
            "1563/1563 [==============================] - 11s 7ms/step - loss: 0.2833 - accuracy: 0.9210 - val_loss: 1.1315 - val_accuracy: 0.7213\n",
            "Epoch 43/500\n",
            "1563/1563 [==============================] - 11s 7ms/step - loss: 0.3220 - accuracy: 0.9134 - val_loss: 1.0441 - val_accuracy: 0.7376\n",
            "Epoch 44/500\n",
            "1563/1563 [==============================] - 11s 7ms/step - loss: 0.2738 - accuracy: 0.9245 - val_loss: 0.9913 - val_accuracy: 0.7331\n",
            "Epoch 45/500\n",
            "1563/1563 [==============================] - 11s 7ms/step - loss: 0.3307 - accuracy: 0.9090 - val_loss: 1.0698 - val_accuracy: 0.7375\n",
            "Epoch 46/500\n",
            "1563/1563 [==============================] - 11s 7ms/step - loss: 0.2558 - accuracy: 0.9298 - val_loss: 1.0545 - val_accuracy: 0.7385\n",
            "Epoch 47/500\n",
            "1563/1563 [==============================] - 11s 7ms/step - loss: 0.2666 - accuracy: 0.9278 - val_loss: 1.0398 - val_accuracy: 0.7274\n",
            "Epoch 48/500\n",
            "1563/1563 [==============================] - 11s 7ms/step - loss: 0.2629 - accuracy: 0.9276 - val_loss: 1.1098 - val_accuracy: 0.7422\n",
            "Epoch 49/500\n",
            "1563/1563 [==============================] - 11s 7ms/step - loss: 0.2425 - accuracy: 0.9350 - val_loss: 1.1395 - val_accuracy: 0.7318\n",
            "Epoch 50/500\n",
            "1563/1563 [==============================] - 11s 7ms/step - loss: 0.2729 - accuracy: 0.9269 - val_loss: 1.0963 - val_accuracy: 0.7376\n",
            "Epoch 51/500\n",
            "1563/1563 [==============================] - 11s 7ms/step - loss: 0.2967 - accuracy: 0.9223 - val_loss: 1.0784 - val_accuracy: 0.7343\n",
            "Epoch 52/500\n",
            "1563/1563 [==============================] - 11s 7ms/step - loss: 0.2436 - accuracy: 0.9357 - val_loss: 1.1139 - val_accuracy: 0.7305\n",
            "Epoch 53/500\n",
            "1563/1563 [==============================] - 11s 7ms/step - loss: 0.4674 - accuracy: 0.8852 - val_loss: 1.4306 - val_accuracy: 0.5300\n",
            "Epoch 54/500\n",
            "1563/1563 [==============================] - 11s 7ms/step - loss: 0.5417 - accuracy: 0.8442 - val_loss: 1.0101 - val_accuracy: 0.7226\n",
            "Epoch 55/500\n",
            "1563/1563 [==============================] - 11s 7ms/step - loss: 0.2667 - accuracy: 0.9280 - val_loss: 1.0926 - val_accuracy: 0.7412\n",
            "Epoch 56/500\n",
            "1563/1563 [==============================] - 11s 7ms/step - loss: 0.2514 - accuracy: 0.9347 - val_loss: 1.0867 - val_accuracy: 0.7373\n",
            "Epoch 57/500\n",
            "1563/1563 [==============================] - 11s 7ms/step - loss: 0.2463 - accuracy: 0.9344 - val_loss: 1.0644 - val_accuracy: 0.7356\n",
            "Epoch 58/500\n",
            "1563/1563 [==============================] - 11s 7ms/step - loss: 0.2562 - accuracy: 0.9326 - val_loss: 1.1449 - val_accuracy: 0.7274\n",
            "Epoch 59/500\n",
            "1563/1563 [==============================] - 11s 7ms/step - loss: 0.2687 - accuracy: 0.9308 - val_loss: 1.1613 - val_accuracy: 0.7269\n",
            "Epoch 60/500\n",
            "1563/1563 [==============================] - 11s 7ms/step - loss: 0.2802 - accuracy: 0.9279 - val_loss: 1.2112 - val_accuracy: 0.7007\n",
            "Epoch 61/500\n",
            "1563/1563 [==============================] - 11s 7ms/step - loss: 0.4504 - accuracy: 0.8865 - val_loss: 1.0723 - val_accuracy: 0.6679\n",
            "Epoch 62/500\n",
            "1563/1563 [==============================] - 11s 7ms/step - loss: 0.3418 - accuracy: 0.9096 - val_loss: 1.0931 - val_accuracy: 0.7347\n",
            "Epoch 63/500\n",
            "1563/1563 [==============================] - 11s 7ms/step - loss: 0.2384 - accuracy: 0.9381 - val_loss: 1.3049 - val_accuracy: 0.7301\n",
            "Epoch 64/500\n",
            "1563/1563 [==============================] - 11s 7ms/step - loss: 0.2145 - accuracy: 0.9445 - val_loss: 1.2235 - val_accuracy: 0.7321\n",
            "Epoch 65/500\n",
            "1563/1563 [==============================] - 11s 7ms/step - loss: 0.2565 - accuracy: 0.9341 - val_loss: 1.0797 - val_accuracy: 0.7292\n",
            "Epoch 66/500\n",
            "1563/1563 [==============================] - 11s 7ms/step - loss: 0.2378 - accuracy: 0.9390 - val_loss: 1.2336 - val_accuracy: 0.7153\n",
            "Epoch 67/500\n",
            "1563/1563 [==============================] - 11s 7ms/step - loss: 0.2680 - accuracy: 0.9327 - val_loss: 1.1146 - val_accuracy: 0.7396\n",
            "Epoch 68/500\n",
            "1563/1563 [==============================] - 11s 7ms/step - loss: 0.2534 - accuracy: 0.9352 - val_loss: 1.1444 - val_accuracy: 0.7331\n",
            "Epoch 69/500\n",
            "1563/1563 [==============================] - 11s 7ms/step - loss: 0.2827 - accuracy: 0.9301 - val_loss: 1.1230 - val_accuracy: 0.7279\n",
            "Epoch 70/500\n",
            "1563/1563 [==============================] - 11s 7ms/step - loss: 0.2731 - accuracy: 0.9309 - val_loss: 1.2094 - val_accuracy: 0.7278\n",
            "Epoch 71/500\n",
            "1563/1563 [==============================] - 11s 7ms/step - loss: 0.2651 - accuracy: 0.9353 - val_loss: 1.1859 - val_accuracy: 0.7223\n",
            "Epoch 72/500\n",
            "1563/1563 [==============================] - 11s 7ms/step - loss: 0.2545 - accuracy: 0.9374 - val_loss: 1.1013 - val_accuracy: 0.7313\n",
            "Epoch 73/500\n",
            "1563/1563 [==============================] - 11s 7ms/step - loss: 0.2311 - accuracy: 0.9412 - val_loss: 1.1923 - val_accuracy: 0.7352\n",
            "Epoch 00073: early stopping\n"
          ],
          "name": "stdout"
        },
        {
          "output_type": "execute_result",
          "data": {
            "text/plain": [
              "<tensorflow.python.keras.callbacks.History at 0x7f96145b0a58>"
            ]
          },
          "metadata": {
            "tags": []
          },
          "execution_count": 29
        }
      ]
    },
    {
      "cell_type": "code",
      "metadata": {
        "colab": {
          "base_uri": "https://localhost:8080/"
        },
        "id": "jfwYHBexkQ6D",
        "outputId": "eff6b101-c3c5-44ff-f3af-40507d59f6cd"
      },
      "source": [
        " c4f5.evaluate(X_test, y_test, batch_size = 32)"
      ],
      "execution_count": null,
      "outputs": [
        {
          "output_type": "stream",
          "text": [
            "313/313 [==============================] - 1s 3ms/step - loss: 1.1923 - accuracy: 0.7352\n"
          ],
          "name": "stdout"
        },
        {
          "output_type": "execute_result",
          "data": {
            "text/plain": [
              "[1.1922858953475952, 0.7351999878883362]"
            ]
          },
          "metadata": {
            "tags": []
          },
          "execution_count": 30
        }
      ]
    },
    {
      "cell_type": "markdown",
      "metadata": {
        "id": "3Ub3qGnjs4EI"
      },
      "source": [
        "## Graph of loss and accuracy\n",
        "- model: C4f5"
      ]
    },
    {
      "cell_type": "code",
      "metadata": {
        "id": "NiSAsgsNtUte"
      },
      "source": [
        "c4f5 = keras.models.Sequential([ \n",
        "    Conv2D(input_shape=(32,32,3),kernel_size=(3,3),strides=(1,1),filters= 64,padding='same',activation='relu'),\n",
        "    MaxPool2D(pool_size=(2,2), strides=(2,2)), \n",
        "    Conv2D(kernel_size=(3,3),strides=(1,1),filters= 128,padding='same',activation='relu'),\n",
        "    MaxPool2D(pool_size=(2,2), strides=(2,2)),\n",
        "    Conv2D(kernel_size=(3,3),strides=(1,1),filters= 256,padding='same',activation='relu'),\n",
        "    MaxPool2D(pool_size=(2,2), strides=(2,2)),\n",
        "    Conv2D(kernel_size=(3,3),strides=(1,1),filters= 512,padding='same',activation='relu'),\n",
        "    MaxPool2D(pool_size=(2,2), strides=(2,2)),\n",
        "    Flatten(), \n",
        "    keras.layers.Dense(128, activation='relu'),  \n",
        "    keras.layers.Dropout(0.25), \n",
        "    keras.layers.Dense(256, activation='relu'),  \n",
        "    keras.layers.Dropout(0.25), \n",
        "    keras.layers.Dense(512, activation='relu'),  \n",
        "    keras.layers.Dropout(0.25), \n",
        "    keras.layers.Dense(1024, activation='relu'),  \n",
        "    keras.layers.Dropout(0.25), \n",
        "    keras.layers.Dense(10, activation='softmax')\n",
        "])\n",
        "\n",
        "c4f5.compile(optimizer='adam',\n",
        "              loss='categorical_crossentropy',\n",
        "              metrics=['accuracy'])"
      ],
      "execution_count": null,
      "outputs": []
    },
    {
      "cell_type": "code",
      "metadata": {
        "id": "-Yfqv2AqtUtz",
        "colab": {
          "base_uri": "https://localhost:8080/"
        },
        "outputId": "9a82e3f8-4c5c-4b05-8c91-8df77bce4d14"
      },
      "source": [
        "epoch = 44\n",
        "hist = c4f5.fit(X_train, y_train, \n",
        "         epochs = epoch, \n",
        "         batch_size =32, \n",
        "         validation_data=(X_test,y_test))"
      ],
      "execution_count": null,
      "outputs": [
        {
          "output_type": "stream",
          "text": [
            "Epoch 1/44\n",
            "1563/1563 [==============================] - 11s 7ms/step - loss: 1.6608 - accuracy: 0.3695 - val_loss: 1.2661 - val_accuracy: 0.5373\n",
            "Epoch 2/44\n",
            "1563/1563 [==============================] - 11s 7ms/step - loss: 1.2240 - accuracy: 0.5677 - val_loss: 1.0392 - val_accuracy: 0.6337\n",
            "Epoch 3/44\n",
            "1563/1563 [==============================] - 11s 7ms/step - loss: 1.0268 - accuracy: 0.6462 - val_loss: 1.0165 - val_accuracy: 0.6534\n",
            "Epoch 4/44\n",
            "1563/1563 [==============================] - 11s 7ms/step - loss: 0.9153 - accuracy: 0.6900 - val_loss: 0.9215 - val_accuracy: 0.6880\n",
            "Epoch 5/44\n",
            "1563/1563 [==============================] - 11s 7ms/step - loss: 0.8201 - accuracy: 0.7250 - val_loss: 0.8902 - val_accuracy: 0.6957\n",
            "Epoch 6/44\n",
            "1563/1563 [==============================] - 11s 7ms/step - loss: 0.7525 - accuracy: 0.7500 - val_loss: 0.9397 - val_accuracy: 0.6900\n",
            "Epoch 7/44\n",
            "1563/1563 [==============================] - 11s 7ms/step - loss: 0.6958 - accuracy: 0.7698 - val_loss: 0.8759 - val_accuracy: 0.7048\n",
            "Epoch 8/44\n",
            "1563/1563 [==============================] - 11s 7ms/step - loss: 0.6373 - accuracy: 0.7903 - val_loss: 0.8885 - val_accuracy: 0.7121\n",
            "Epoch 9/44\n",
            "1563/1563 [==============================] - 11s 7ms/step - loss: 0.5981 - accuracy: 0.8046 - val_loss: 0.8788 - val_accuracy: 0.7166\n",
            "Epoch 10/44\n",
            "1563/1563 [==============================] - 11s 7ms/step - loss: 0.5640 - accuracy: 0.8177 - val_loss: 0.8679 - val_accuracy: 0.7218\n",
            "Epoch 11/44\n",
            "1563/1563 [==============================] - 11s 7ms/step - loss: 0.5284 - accuracy: 0.8303 - val_loss: 0.8349 - val_accuracy: 0.7288\n",
            "Epoch 12/44\n",
            "1563/1563 [==============================] - 11s 7ms/step - loss: 0.5033 - accuracy: 0.8389 - val_loss: 0.8595 - val_accuracy: 0.7299\n",
            "Epoch 13/44\n",
            "1563/1563 [==============================] - 11s 7ms/step - loss: 0.4814 - accuracy: 0.8483 - val_loss: 0.8947 - val_accuracy: 0.7292\n",
            "Epoch 14/44\n",
            "1563/1563 [==============================] - 11s 7ms/step - loss: 0.4482 - accuracy: 0.8578 - val_loss: 0.8814 - val_accuracy: 0.7337\n",
            "Epoch 15/44\n",
            "1563/1563 [==============================] - 11s 7ms/step - loss: 0.4357 - accuracy: 0.8608 - val_loss: 0.9179 - val_accuracy: 0.7305\n",
            "Epoch 16/44\n",
            "1563/1563 [==============================] - 11s 7ms/step - loss: 0.4121 - accuracy: 0.8710 - val_loss: 0.8889 - val_accuracy: 0.7419\n",
            "Epoch 17/44\n",
            "1563/1563 [==============================] - 11s 7ms/step - loss: 0.4061 - accuracy: 0.8734 - val_loss: 0.9202 - val_accuracy: 0.7314\n",
            "Epoch 18/44\n",
            "1563/1563 [==============================] - 11s 7ms/step - loss: 0.3817 - accuracy: 0.8840 - val_loss: 0.8835 - val_accuracy: 0.7326\n",
            "Epoch 19/44\n",
            "1563/1563 [==============================] - 11s 7ms/step - loss: 0.3768 - accuracy: 0.8856 - val_loss: 1.0082 - val_accuracy: 0.7187\n",
            "Epoch 20/44\n",
            "1563/1563 [==============================] - 11s 7ms/step - loss: 0.3653 - accuracy: 0.8902 - val_loss: 0.9418 - val_accuracy: 0.7288\n",
            "Epoch 21/44\n",
            "1563/1563 [==============================] - 11s 7ms/step - loss: 0.3370 - accuracy: 0.8987 - val_loss: 1.0080 - val_accuracy: 0.7045\n",
            "Epoch 22/44\n",
            "1563/1563 [==============================] - 11s 7ms/step - loss: 0.3457 - accuracy: 0.8958 - val_loss: 0.9456 - val_accuracy: 0.7314\n",
            "Epoch 23/44\n",
            "1563/1563 [==============================] - 11s 7ms/step - loss: 0.3340 - accuracy: 0.9000 - val_loss: 0.9542 - val_accuracy: 0.7432\n",
            "Epoch 24/44\n",
            "1563/1563 [==============================] - 11s 7ms/step - loss: 0.3262 - accuracy: 0.9036 - val_loss: 0.9794 - val_accuracy: 0.7348\n",
            "Epoch 25/44\n",
            "1563/1563 [==============================] - 11s 7ms/step - loss: 0.3013 - accuracy: 0.9137 - val_loss: 0.9572 - val_accuracy: 0.7380\n",
            "Epoch 26/44\n",
            "1563/1563 [==============================] - 11s 7ms/step - loss: 0.2951 - accuracy: 0.9139 - val_loss: 0.9946 - val_accuracy: 0.7323\n",
            "Epoch 27/44\n",
            "1563/1563 [==============================] - 11s 7ms/step - loss: 0.3017 - accuracy: 0.9128 - val_loss: 1.0446 - val_accuracy: 0.7266\n",
            "Epoch 28/44\n",
            "1563/1563 [==============================] - 11s 7ms/step - loss: 0.2947 - accuracy: 0.9142 - val_loss: 0.9978 - val_accuracy: 0.7382\n",
            "Epoch 29/44\n",
            "1563/1563 [==============================] - 11s 7ms/step - loss: 0.2934 - accuracy: 0.9141 - val_loss: 1.0277 - val_accuracy: 0.7221\n",
            "Epoch 30/44\n",
            "1563/1563 [==============================] - 11s 7ms/step - loss: 0.2770 - accuracy: 0.9201 - val_loss: 1.0313 - val_accuracy: 0.7297\n",
            "Epoch 31/44\n",
            "1563/1563 [==============================] - 11s 7ms/step - loss: 0.2701 - accuracy: 0.9227 - val_loss: 0.9619 - val_accuracy: 0.7197\n",
            "Epoch 32/44\n",
            "1563/1563 [==============================] - 11s 7ms/step - loss: 0.2551 - accuracy: 0.9266 - val_loss: 1.0508 - val_accuracy: 0.7265\n",
            "Epoch 33/44\n",
            "1563/1563 [==============================] - 11s 7ms/step - loss: 0.2713 - accuracy: 0.9250 - val_loss: 1.0797 - val_accuracy: 0.7336\n",
            "Epoch 34/44\n",
            "1563/1563 [==============================] - 11s 7ms/step - loss: 0.2645 - accuracy: 0.9263 - val_loss: 1.0516 - val_accuracy: 0.7349\n",
            "Epoch 35/44\n",
            "1563/1563 [==============================] - 11s 7ms/step - loss: 0.2568 - accuracy: 0.9289 - val_loss: 1.1276 - val_accuracy: 0.7331\n",
            "Epoch 36/44\n",
            "1563/1563 [==============================] - 11s 7ms/step - loss: 0.2443 - accuracy: 0.9329 - val_loss: 1.0445 - val_accuracy: 0.7207\n",
            "Epoch 37/44\n",
            "1563/1563 [==============================] - 11s 7ms/step - loss: 0.2545 - accuracy: 0.9295 - val_loss: 1.1876 - val_accuracy: 0.7373\n",
            "Epoch 38/44\n",
            "1563/1563 [==============================] - 11s 7ms/step - loss: 0.2584 - accuracy: 0.9292 - val_loss: 1.0704 - val_accuracy: 0.7303\n",
            "Epoch 39/44\n",
            "1563/1563 [==============================] - 11s 7ms/step - loss: 0.2543 - accuracy: 0.9307 - val_loss: 1.0157 - val_accuracy: 0.7368\n",
            "Epoch 40/44\n",
            "1563/1563 [==============================] - 11s 7ms/step - loss: 0.2646 - accuracy: 0.9294 - val_loss: 1.0455 - val_accuracy: 0.7331\n",
            "Epoch 41/44\n",
            "1563/1563 [==============================] - 11s 7ms/step - loss: 0.2427 - accuracy: 0.9344 - val_loss: 1.0234 - val_accuracy: 0.7419\n",
            "Epoch 42/44\n",
            "1563/1563 [==============================] - 11s 7ms/step - loss: 0.2756 - accuracy: 0.9254 - val_loss: 0.9869 - val_accuracy: 0.7390\n",
            "Epoch 43/44\n",
            "1563/1563 [==============================] - 11s 7ms/step - loss: 0.2681 - accuracy: 0.9276 - val_loss: 1.0785 - val_accuracy: 0.7368\n",
            "Epoch 44/44\n",
            "1563/1563 [==============================] - 11s 7ms/step - loss: 0.2121 - accuracy: 0.9436 - val_loss: 1.1786 - val_accuracy: 0.7263\n"
          ],
          "name": "stdout"
        }
      ]
    },
    {
      "cell_type": "code",
      "metadata": {
        "id": "WNmXXLhvWUiK",
        "colab": {
          "base_uri": "https://localhost:8080/",
          "height": 313
        },
        "outputId": "a6056746-aa71-41e4-b044-9905072838d9"
      },
      "source": [
        "# Plot loass and accuracy\n",
        "# Plot training & validation accuracy values\n",
        "epochs = epoch\n",
        "loss_list = [100 * i for i in hist.history['loss']]\n",
        "acc_list = [100 * i for i in hist.history['accuracy']]\n",
        "plt.plot(range(1,epochs+1),loss_list) \n",
        "plt.plot(range(1,epochs+1),acc_list) \n",
        "plt.title('Model loss & accuracy')\n",
        "plt.ylabel('Accuracy (%)')\n",
        "plt.xlabel('Epoch')\n",
        "plt.legend(['loss', 'accuracy'], loc='center left')"
      ],
      "execution_count": null,
      "outputs": [
        {
          "output_type": "execute_result",
          "data": {
            "text/plain": [
              "<matplotlib.legend.Legend at 0x7f9679a1c4a8>"
            ]
          },
          "metadata": {
            "tags": []
          },
          "execution_count": 34
        },
        {
          "output_type": "display_data",
          "data": {
            "image/png": "[encoded data removed]",
            "text/plain": [
              "<Figure size 432x288 with 1 Axes>"
            ]
          },
          "metadata": {
            "tags": [],
            "needs_background": "light"
          }
        }
      ]
    },
    {
      "cell_type": "code",
      "metadata": {
        "id": "0wNssVPhu_8m"
      },
      "source": [
        "vloss_list = [100 * i for i in hist.history['val_loss']]\n",
        "vacc_list = [100 * i for i in hist.history['val_accuracy']]"
      ],
      "execution_count": null,
      "outputs": []
    },
    {
      "cell_type": "code",
      "metadata": {
        "id": "TX5Uzro4vjaY",
        "colab": {
          "base_uri": "https://localhost:8080/",
          "height": 313
        },
        "outputId": "32431650-7e6f-473c-d9ab-d4fee6c89ec5"
      },
      "source": [
        "plt.plot(range(1,epochs+1),vloss_list)  \n",
        "plt.plot(range(1,epochs+1),vacc_list)  \n",
        "plt.title('Model val_loss & val_accuracy')\n",
        "plt.ylabel('Accuracy (%)')\n",
        "plt.xlabel('Epoch')\n",
        "plt.legend(['val_loss', 'val_accuracy'], loc='center left')"
      ],
      "execution_count": null,
      "outputs": [
        {
          "output_type": "execute_result",
          "data": {
            "text/plain": [
              "<matplotlib.legend.Legend at 0x7f9614344e10>"
            ]
          },
          "metadata": {
            "tags": []
          },
          "execution_count": 36
        },
        {
          "output_type": "display_data",
          "data": {
            "image/png": "[encoded data removed]",
            "text/plain": [
              "<Figure size 432x288 with 1 Axes>"
            ]
          },
          "metadata": {
            "tags": [],
            "needs_background": "light"
          }
        }
      ]
    },
    {
      "cell_type": "code",
      "metadata": {
        "id": "blALTNdyvjVK",
        "colab": {
          "base_uri": "https://localhost:8080/",
          "height": 313
        },
        "outputId": "e4149ded-ee5c-4db5-9b3d-40d5c00d702b"
      },
      "source": [
        "plt.plot(range(1,epochs+1),acc_list)  \n",
        "plt.plot(range(1,epochs+1),vacc_list)  \n",
        "plt.plot(np.argmax(np.array(vacc_list))+1,vacc_list[np.argmax(np.array(vacc_list))], 'r*') \n",
        "plt.title('accuracy vs. val_accuracy, best = ' +str(vacc_list[np.argmax(np.array(vacc_list))]))\n",
        "plt.ylabel('Accuracy (%)')\n",
        "plt.xlabel('Epoch')\n",
        "plt.legend(['accuracy','val_accuracy','best']) #, loc='center bottom')\n"
      ],
      "execution_count": null,
      "outputs": [
        {
          "output_type": "execute_result",
          "data": {
            "text/plain": [
              "<matplotlib.legend.Legend at 0x7f961432abe0>"
            ]
          },
          "metadata": {
            "tags": []
          },
          "execution_count": 37
        },
        {
          "output_type": "display_data",
          "data": {
            "image/png": "[encoded data removed]",
            "text/plain": [
              "<Figure size 432x288 with 1 Axes>"
            ]
          },
          "metadata": {
            "tags": [],
            "needs_background": "light"
          }
        }
      ]
    },
    {
      "cell_type": "markdown",
      "metadata": {
        "id": "SQ3M6vRVXG78"
      },
      "source": [
        "## cifar10 모델 학습\n",
        "> https://gruuuuu.github.io/machine-learning/cifar10-cnn/#"
      ]
    },
    {
      "cell_type": "markdown",
      "metadata": {
        "id": "gBPKMI4y3fsa"
      },
      "source": [
        "## 모형의 저장\n",
        "\n",
        "- 트레이닝이 끝난 모형은 save 메서드로 가중치와 함께 hdf5 형식으로 저장\n",
        "- load 명령으로 불러 사용"
      ]
    },
    {
      "cell_type": "code",
      "metadata": {
        "id": "KCfbQl2v3fsa"
      },
      "source": [
        "# c4f5.save('fmnist_cnn_best.hdf5')"
      ],
      "execution_count": null,
      "outputs": []
    },
    {
      "cell_type": "code",
      "metadata": {
        "id": "b7-ysIVy3fse",
        "colab": {
          "base_uri": "https://localhost:8080/"
        },
        "outputId": "9fe703e0-2808-412d-fbe8-ba00a97a90b9"
      },
      "source": [
        "from keras.models import load_model\n",
        "\n",
        "model = load_model('cifar10_c4f5_best_weights.037-0.7420.hdf5')\n",
        "model.evaluate(X_test, y_test, batch_size=32)"
      ],
      "execution_count": null,
      "outputs": [
        {
          "output_type": "stream",
          "text": [
            "313/313 [==============================] - 1s 4ms/step - loss: 1.0485 - accuracy: 0.7420\n"
          ],
          "name": "stdout"
        },
        {
          "output_type": "execute_result",
          "data": {
            "text/plain": [
              "[1.0485432147979736, 0.7419999837875366]"
            ]
          },
          "metadata": {
            "tags": []
          },
          "execution_count": 39
        }
      ]
    },
    {
      "cell_type": "markdown",
      "metadata": {
        "id": "KF3UzDJotZrh"
      },
      "source": [
        "## Confusion matrix"
      ]
    },
    {
      "cell_type": "code",
      "metadata": {
        "id": "RV1IaOyeu6Em"
      },
      "source": [
        "from sklearn.metrics import confusion_matrix\n",
        "import seaborn as sns"
      ],
      "execution_count": null,
      "outputs": []
    },
    {
      "cell_type": "code",
      "metadata": {
        "id": "Bxs1eC-cuO0Y"
      },
      "source": [
        "predictions = model.predict(X_test)"
      ],
      "execution_count": null,
      "outputs": []
    },
    {
      "cell_type": "code",
      "metadata": {
        "colab": {
          "base_uri": "https://localhost:8080/"
        },
        "id": "6Tqhg-UJujo5",
        "outputId": "4c2223b3-b0f5-4d18-d196-bd1e140413d0"
      },
      "source": [
        "predictions.shape"
      ],
      "execution_count": null,
      "outputs": [
        {
          "output_type": "execute_result",
          "data": {
            "text/plain": [
              "(10000, 10)"
            ]
          },
          "metadata": {
            "tags": []
          },
          "execution_count": 42
        }
      ]
    },
    {
      "cell_type": "code",
      "metadata": {
        "colab": {
          "base_uri": "https://localhost:8080/"
        },
        "id": "nZch1JFSufoR",
        "outputId": "e5dcce62-29c6-40d9-c071-ccc64a367942"
      },
      "source": [
        "predictions0 = np.argmax(predictions, axis=1)\n",
        "predictions0.shape"
      ],
      "execution_count": null,
      "outputs": [
        {
          "output_type": "execute_result",
          "data": {
            "text/plain": [
              "(10000,)"
            ]
          },
          "metadata": {
            "tags": []
          },
          "execution_count": 43
        }
      ]
    },
    {
      "cell_type": "code",
      "metadata": {
        "id": "hiPMQeYXt12l"
      },
      "source": [
        "cm = confusion_matrix(y_test0, predictions0)"
      ],
      "execution_count": null,
      "outputs": []
    },
    {
      "cell_type": "code",
      "metadata": {
        "id": "YITaGwYjvatc"
      },
      "source": [
        "class_names = ['airplane', 'automobile', 'bird', 'cat', 'deer', 'dog', 'frog', 'horse', 'ship', 'truck']"
      ],
      "execution_count": null,
      "outputs": []
    },
    {
      "cell_type": "code",
      "metadata": {
        "colab": {
          "base_uri": "https://localhost:8080/",
          "height": 551
        },
        "id": "2qGHMNU3u8ut",
        "outputId": "569dcd6b-9500-4262-cdb3-c5d9d5ce4862"
      },
      "source": [
        "plt.figure(figsize=(9,9))\n",
        "sns.heatmap(cm, cbar=False, xticklabels=class_names, yticklabels=class_names, fmt='d', annot=True, cmap=plt.cm.coolwarm)\n",
        "plt.xlabel('Predicted')\n",
        "plt.ylabel('Actual')\n",
        "plt.show()"
      ],
      "execution_count": null,
      "outputs": [
        {
          "output_type": "display_data",
          "data": {
            "image/png": "[encoded data removed]",
            "text/plain": [
              "<Figure size 648x648 with 1 Axes>"
            ]
          },
          "metadata": {
            "tags": [],
            "needs_background": "light"
          }
        }
      ]
    },
    {
      "cell_type": "markdown",
      "metadata": {
        "id": "0n2PfCMBh2ju"
      },
      "source": [
        "# State of current scores of cifar-10\n",
        "\n",
        "> https://paperswithcode.com/sota/image-classification-on-cifar-10"
      ]
    },
    {
      "cell_type": "markdown",
      "metadata": {
        "id": "7abyx_2n0_7d"
      },
      "source": [
        "## Transfer learning on cifar-10\n",
        "\n",
        "- https://medium.com/@andrew.dabydeen/transfer-learning-using-resnet50-and-cifar-10-6242ed4b4245\n",
        "\n",
        "- https://medium.com/swlh/comparative-analysis-of-cifar-10-image-classification-transfer-learning-vs-user-defined-cnns-e673685d925e\n",
        "\n",
        "- https://medium.com/swlh/hands-on-the-cifar-10-dataset-with-transfer-learning-2e768fd6c318\n",
        "\n",
        "- https://medium.com/analytics-vidhya/the-transfer-learning-experience-with-vgg16-and-cifar-10-dataset-9b25b306a23f"
      ]
    },
    {
      "cell_type": "code",
      "metadata": {
        "id": "o5iFioeMiAHE"
      },
      "source": [
        ""
      ],
      "execution_count": null,
      "outputs": []
    }
  ]
}