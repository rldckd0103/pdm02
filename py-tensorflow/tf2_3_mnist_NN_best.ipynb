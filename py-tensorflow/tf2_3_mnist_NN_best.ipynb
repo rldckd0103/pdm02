{
  "nbformat": 4,
  "nbformat_minor": 0,
  "metadata": {
    "colab": {
      "name": "tf2_3_mnist_NN_best.ipynb",
      "provenance": [],
      "collapsed_sections": [],
      "include_colab_link": true
    },
    "kernelspec": {
      "name": "python3",
      "display_name": "Python 3"
    },
    "accelerator": "GPU"
  },
  "cells": [
    {
      "cell_type": "markdown",
      "metadata": {
        "id": "view-in-github",
        "colab_type": "text"
      },
      "source": [
        "<a href=\"https://colab.research.google.com/github/rldckd0103/pdm02/blob/master/py-tensorflow/tf2_3_mnist_NN_best.ipynb\" target=\"_parent\"><img src=\"https://colab.research.google.com/assets/colab-badge.svg\" alt=\"Open In Colab\"/></a>"
      ]
    },
    {
      "cell_type": "markdown",
      "metadata": {
        "id": "gq81W1V3PkOY"
      },
      "source": [
        "## Keras example: mnist analysisby simple NN (Neural network)\n",
        "\n",
        "- Keras was designed to easily use the famous deep-learning frameworks; tensorflow, tenano. \n",
        "- Keras provides an easy and convenient way to build deep learning models.\n",
        "\n",
        "    - Keras is an open source python library that enables you to easily build Deep Neural Networks. \n",
        "    - This library is implemented in TensorFlow 2.0.\n",
        "    - Tensorflow and Pytorch are the most used numerical platforms in Python to build Deep Learning algorithms.\n"
      ]
    },
    {
      "cell_type": "code",
      "metadata": {
        "id": "8GgGzPXPVyfa",
        "colab": {
          "base_uri": "https://localhost:8080/"
        },
        "outputId": "90bec5fe-b2ae-41a5-db36-f146230950c8"
      },
      "source": [
        "import numpy as np\n",
        "import tensorflow as tf\n",
        "from tensorflow import keras\n",
        "import pandas as pd\n",
        "import matplotlib.pyplot as plt\n",
        "%matplotlib inline\n",
        "\n",
        "print(tf.__version__)"
      ],
      "execution_count": 3,
      "outputs": [
        {
          "output_type": "stream",
          "text": [
            "2.3.0\n"
          ],
          "name": "stdout"
        }
      ]
    },
    {
      "cell_type": "code",
      "metadata": {
        "id": "BDbYHPtT3fqH",
        "colab": {
          "base_uri": "https://localhost:8080/"
        },
        "outputId": "efb2e981-337e-49f8-9deb-ae1125bd3ab3"
      },
      "source": [
        "%%time\n",
        "from keras.datasets import mnist\n",
        "(X_train0, y_train0), (X_test0, y_test0) = mnist.load_data()"
      ],
      "execution_count": 1,
      "outputs": [
        {
          "output_type": "stream",
          "text": [
            "Downloading data from https://storage.googleapis.com/tensorflow/tf-keras-datasets/mnist.npz\n",
            "11493376/11490434 [==============================] - 0s 0us/step\n",
            "CPU times: user 1.76 s, sys: 235 ms, total: 1.99 s\n",
            "Wall time: 2.31 s\n"
          ],
          "name": "stdout"
        }
      ]
    },
    {
      "cell_type": "code",
      "metadata": {
        "id": "Z12GoOpw3fqW",
        "colab": {
          "base_uri": "https://localhost:8080/"
        },
        "outputId": "aea3cf43-a706-4c52-baa8-d8c2d0c86e0e"
      },
      "source": [
        "print(X_train0.shape, X_train0.dtype)\n",
        "print(y_train0.shape, y_train0.dtype)\n",
        "print(X_test0.shape, X_test0.dtype)\n",
        "print(y_test0.shape, y_test0.dtype)"
      ],
      "execution_count": 2,
      "outputs": [
        {
          "output_type": "stream",
          "text": [
            "(60000, 28, 28) uint8\n",
            "(60000,) uint8\n",
            "(10000, 28, 28) uint8\n",
            "(10000,) uint8\n"
          ],
          "name": "stdout"
        }
      ]
    },
    {
      "cell_type": "code",
      "metadata": {
        "id": "_NuYHtvPPWNE",
        "colab": {
          "base_uri": "https://localhost:8080/",
          "height": 286
        },
        "outputId": "b3504b70-9be0-4e32-c18c-73e815c3cbb6"
      },
      "source": [
        "# display one random image from the training set:\n",
        "class_names = [\"0\",\"1\",\"2\",\"3\",\"4\",\"5\",\"6\",\"7\",\"8\",\"9\"]\n",
        "\n",
        "idx = np.random.randint(0, X_train0.shape[0])\n",
        "print(idx)\n",
        "image = X_train0[idx]\n",
        "plt.imshow(image) #, cmap=plt.get_cmap('gray'))\n",
        "plt.title(class_names[y_train0[idx]])\n",
        "plt.xticks([])\n",
        "plt.yticks([])\n",
        "plt.show()"
      ],
      "execution_count": 4,
      "outputs": [
        {
          "output_type": "stream",
          "text": [
            "23010\n"
          ],
          "name": "stdout"
        },
        {
          "output_type": "display_data",
          "data": {
            "image/png": "[encoded data removed]",
            "text/plain": [
              "<Figure size 432x288 with 1 Axes>"
            ]
          },
          "metadata": {
            "tags": []
          }
        }
      ]
    },
    {
      "cell_type": "markdown",
      "metadata": {
        "id": "b_DqSJl3PWNH"
      },
      "source": [
        "### Show images of numbers"
      ]
    },
    {
      "cell_type": "code",
      "metadata": {
        "id": "C1JAXeMzPWNI",
        "colab": {
          "base_uri": "https://localhost:8080/",
          "height": 505
        },
        "outputId": "e9521c50-73bf-4ce7-d7eb-69464a747f74"
      },
      "source": [
        "fig = plt.figure(figsize=(10,6))\n",
        "for i in range(10):\n",
        "    plt.subplot(2, 5, i+1)\n",
        "    num0_9 = X_train0[y_train0 == i]\n",
        "    print(num0_9.shape)\n",
        "    plt.imshow(num0_9[0]) #, cmap='gray') #, interpolation='none')\n",
        "    plt.title(\"Class %d\" % (i))\n",
        "    plt.xticks([])\n",
        "    plt.yticks([])\n"
      ],
      "execution_count": 5,
      "outputs": [
        {
          "output_type": "stream",
          "text": [
            "(5923, 28, 28)\n",
            "(6742, 28, 28)\n",
            "(5958, 28, 28)\n",
            "(6131, 28, 28)\n",
            "(5842, 28, 28)\n",
            "(5421, 28, 28)\n",
            "(5918, 28, 28)\n",
            "(6265, 28, 28)\n",
            "(5851, 28, 28)\n",
            "(5949, 28, 28)\n"
          ],
          "name": "stdout"
        },
        {
          "output_type": "display_data",
          "data": {
            "image/png": "[encoded data removed]",
            "text/plain": [
              "<Figure size 720x432 with 10 Axes>"
            ]
          },
          "metadata": {
            "tags": []
          }
        }
      ]
    },
    {
      "cell_type": "markdown",
      "metadata": {
        "id": "7bxCq_2fPWNO"
      },
      "source": [
        "### 데이터를 float 타입으로 바꾸고 스케일링한다.\n",
        "- 2차원 영상을 1차원 벡터로 변환\n",
        "- (28,28) => (784,)\n",
        "- Scaling: (0 ~ 255)/255.0"
      ]
    },
    {
      "cell_type": "code",
      "metadata": {
        "id": "W-VqQgXvPWNP",
        "colab": {
          "base_uri": "https://localhost:8080/"
        },
        "outputId": "ae1217a0-e4d5-4df5-e505-763fe075303b"
      },
      "source": [
        "X_train = X_train0.reshape(60000, 784).astype('float32') / 255.0\n",
        "X_test = X_test0.reshape(10000, 784).astype('float32') / 255.0\n",
        "print(X_train.shape, X_train.dtype)\n",
        "print(X_test.shape, X_test.dtype)"
      ],
      "execution_count": 6,
      "outputs": [
        {
          "output_type": "stream",
          "text": [
            "(60000, 784) float32\n",
            "(10000, 784) float32\n"
          ],
          "name": "stdout"
        }
      ]
    },
    {
      "cell_type": "code",
      "metadata": {
        "id": "DQun3xjytOba",
        "colab": {
          "base_uri": "https://localhost:8080/"
        },
        "outputId": "142c6410-cbde-4924-cc36-339bff1cce58"
      },
      "source": [
        "print(X_train0.shape, X_train.shape)"
      ],
      "execution_count": 7,
      "outputs": [
        {
          "output_type": "stream",
          "text": [
            "(60000, 28, 28) (60000, 784)\n"
          ],
          "name": "stdout"
        }
      ]
    },
    {
      "cell_type": "markdown",
      "metadata": {
        "id": "RC7TUw7YPWNS"
      },
      "source": [
        "### y 데이터는 One-Hot-Encoding 을 한다."
      ]
    },
    {
      "cell_type": "code",
      "metadata": {
        "id": "SNVNKtOWPWNT",
        "colab": {
          "base_uri": "https://localhost:8080/"
        },
        "outputId": "5dfa0bd6-5da9-4701-f954-2a910f1c4e83"
      },
      "source": [
        "y_train0[:5]"
      ],
      "execution_count": 8,
      "outputs": [
        {
          "output_type": "execute_result",
          "data": {
            "text/plain": [
              "array([5, 0, 4, 1, 9], dtype=uint8)"
            ]
          },
          "metadata": {
            "tags": []
          },
          "execution_count": 8
        }
      ]
    },
    {
      "cell_type": "code",
      "metadata": {
        "id": "jVlBVEPGPWNW",
        "colab": {
          "base_uri": "https://localhost:8080/"
        },
        "outputId": "eaa9c5e4-5337-495f-af5b-69cdf8087cb2"
      },
      "source": [
        "# Use function to_categorical() to do One-Hot-Encoding\n",
        "# tf.keras.utils.to_categorical\n",
        "from keras.utils import to_categorical\n",
        "\n",
        "y_train = to_categorical(y_train0, 10)\n",
        "y_test = to_categorical(y_test0, 10)\n",
        "y_train[:5]"
      ],
      "execution_count": 9,
      "outputs": [
        {
          "output_type": "execute_result",
          "data": {
            "text/plain": [
              "array([[0., 0., 0., 0., 0., 1., 0., 0., 0., 0.],\n",
              "       [1., 0., 0., 0., 0., 0., 0., 0., 0., 0.],\n",
              "       [0., 0., 0., 0., 1., 0., 0., 0., 0., 0.],\n",
              "       [0., 1., 0., 0., 0., 0., 0., 0., 0., 0.],\n",
              "       [0., 0., 0., 0., 0., 0., 0., 0., 0., 1.]], dtype=float32)"
            ]
          },
          "metadata": {
            "tags": []
          },
          "execution_count": 9
        }
      ]
    },
    {
      "cell_type": "markdown",
      "metadata": {
        "id": "EWSIzXy8PWNe"
      },
      "source": [
        "> One-Hot-Encoding을 하는 이유\n",
        "- 머신러닝의 목표가 특정 숫자 그림의 숫자를 정확하게 맞추는 것이 아니다.\n",
        "    1. 일단, 0에서 9까지의 숫자로 판단될 10개의 확률을 계산한다.\n",
        "    2. 그리고 특정 숫자로 판단될 확률이 제일 큰 수로 결정한다.\n",
        "- 3개 이상의 클래스를 구분하는 지도학습의 경우 One-Hot-Encoding은 필요한 과정이다."
      ]
    },
    {
      "cell_type": "markdown",
      "metadata": {
        "id": "1ss3oajj6hlB"
      },
      "source": [
        "\n",
        "\n",
        "---\n",
        "\n",
        "\n",
        "\n",
        "---\n",
        "\n"
      ]
    },
    {
      "cell_type": "markdown",
      "metadata": {
        "id": "uxDb3nEL3frI"
      },
      "source": [
        "# 신경망 (Neural network)\n",
        "\n",
        "## 신경망 구현 순서\n",
        "\n",
        "### Keras 를 사용하면 다음과 같은 순서로 신경망을 구성할 수 있다.\n",
        "\n",
        "1. **모형 객체 생성**, Sequential 모형 클래스 객체 생성\n",
        "2. **신경망 구성**, layer 추가하여 구성\n",
        "    - Dense layer 가 가장 일반적인 신경망\n",
        "    - 입력단부터 순차적으로 추가한다.\n",
        "    - 레이어는 출력 뉴런 갯수를 첫번째 인수로 받는다.\n",
        "    - 최초의 레이어는 input_shape 인수로 입력 크기를 설정해야 한다.\n",
        "    - activation 인수로 activation 함수 설정\n",
        "3. **compile** 메서드로 모형 완성.\n",
        "    - loss 인수로 Loss 함수 설정\n",
        "    - optimizer 인수로 최적화 알고리즘 설정\n",
        "    - metrics 인수로 트레이닝 단계에서 기록할 성능 기준 설정\n",
        "4. **fit** 메서드로 트레이닝\n",
        "    - epochs로 트레이닝 횟수 설정\n",
        "    - batch_size 로 mini batch size 설정\n",
        "    - metrics 인수로 설정한 성능 기준 기록을 출력으로 반환"
      ]
    },
    {
      "cell_type": "code",
      "metadata": {
        "id": "jhpH9wM23frJ"
      },
      "source": [
        "from keras.models import Sequential\n",
        "from keras.layers import Dense, Dropout"
      ],
      "execution_count": 10,
      "outputs": []
    },
    {
      "cell_type": "markdown",
      "metadata": {
        "id": "g1a9ee5bZvYa"
      },
      "source": [
        "## Starting model\n",
        "> 784개의 입력을 받는 하나의 hidden layer(128 neurons)와 출력레이어(10 neurons)로 구성된 단순한 신경망.\n",
        "- Dropout"
      ]
    },
    {
      "cell_type": "code",
      "metadata": {
        "id": "GfgcaZSL3frM"
      },
      "source": [
        "# Configure model\n",
        "# np.random.seed(0)\n",
        "tf.random.set_seed(0)\n",
        "\n",
        "n_filters = 128\n",
        "model = Sequential()\n",
        "model.add(Dense(n_filters, input_dim=784, activation=\"relu\"))  # first layer\n",
        "model.add(Dropout(0.25))\n",
        "model.add(Dense(10, activation=\"softmax\")) # output layer"
      ],
      "execution_count": 12,
      "outputs": []
    },
    {
      "cell_type": "markdown",
      "metadata": {
        "id": "QI43K5ncKIsw"
      },
      "source": [
        "![mnist_NN_2_layers](https://raw.githubusercontent.com/Redwoods/Py/master/pdm2020/my-note/py-tensorflow/images/mnist_NN_2_layers.png)\n"
      ]
    },
    {
      "cell_type": "markdown",
      "metadata": {
        "id": "xL5MibkLECtt"
      },
      "source": [
        "### Model 정보 및 출력\n",
        "- summary()\n",
        "- plot_model()"
      ]
    },
    {
      "cell_type": "code",
      "metadata": {
        "id": "OEpkLD2pDn_l",
        "colab": {
          "base_uri": "https://localhost:8080/"
        },
        "outputId": "5eee7cb0-a782-4270-8941-f0a75b1f5bb0"
      },
      "source": [
        "# Summary of the model\n",
        "model.summary()"
      ],
      "execution_count": 13,
      "outputs": [
        {
          "output_type": "stream",
          "text": [
            "Model: \"sequential_1\"\n",
            "_________________________________________________________________\n",
            "Layer (type)                 Output Shape              Param #   \n",
            "=================================================================\n",
            "dense_2 (Dense)              (None, 128)               100480    \n",
            "_________________________________________________________________\n",
            "dropout_1 (Dropout)          (None, 128)               0         \n",
            "_________________________________________________________________\n",
            "dense_3 (Dense)              (None, 10)                1290      \n",
            "=================================================================\n",
            "Total params: 101,770\n",
            "Trainable params: 101,770\n",
            "Non-trainable params: 0\n",
            "_________________________________________________________________\n"
          ],
          "name": "stdout"
        }
      ]
    },
    {
      "cell_type": "code",
      "metadata": {
        "id": "X3dW6WW0Edzq",
        "colab": {
          "base_uri": "https://localhost:8080/"
        },
        "outputId": "8be3120b-8c43-400e-9ade-ce4d35902d94"
      },
      "source": [
        "# check parameters\n",
        "28*28*n_filters+n_filters, n_filters*10+10"
      ],
      "execution_count": 14,
      "outputs": [
        {
          "output_type": "execute_result",
          "data": {
            "text/plain": [
              "(100480, 1290)"
            ]
          },
          "metadata": {
            "tags": []
          },
          "execution_count": 14
        }
      ]
    },
    {
      "cell_type": "code",
      "metadata": {
        "id": "xqGrDLam3fro",
        "colab": {
          "base_uri": "https://localhost:8080/",
          "height": 369
        },
        "outputId": "e8e03b0c-fcb5-45c4-ba63-bc631d57dc49"
      },
      "source": [
        "from keras.utils import plot_model\n",
        "plot_model(model, to_file='best_model.png')"
      ],
      "execution_count": 15,
      "outputs": [
        {
          "output_type": "execute_result",
          "data": {
            "image/png": "[encoded data removed]",
            "text/plain": [
              "<IPython.core.display.Image object>"
            ]
          },
          "metadata": {
            "tags": []
          },
          "execution_count": 15
        }
      ]
    },
    {
      "cell_type": "markdown",
      "metadata": {
        "id": "GDPqfKFkE5Nf"
      },
      "source": [
        "### 모델의 구조 살펴 보기"
      ]
    },
    {
      "cell_type": "code",
      "metadata": {
        "id": "dQblMjW-MN7r",
        "colab": {
          "base_uri": "https://localhost:8080/"
        },
        "outputId": "8972a821-1c44-45af-ce58-e0921b473218"
      },
      "source": [
        "model"
      ],
      "execution_count": 16,
      "outputs": [
        {
          "output_type": "execute_result",
          "data": {
            "text/plain": [
              "<tensorflow.python.keras.engine.sequential.Sequential at 0x7f2e469c3d30>"
            ]
          },
          "metadata": {
            "tags": []
          },
          "execution_count": 16
        }
      ]
    },
    {
      "cell_type": "code",
      "metadata": {
        "id": "jM_MK74BNHYU",
        "colab": {
          "base_uri": "https://localhost:8080/"
        },
        "outputId": "86d3f766-a3ec-4618-c052-8222ea584257"
      },
      "source": [
        "model.get_config()"
      ],
      "execution_count": 17,
      "outputs": [
        {
          "output_type": "execute_result",
          "data": {
            "text/plain": [
              "{'layers': [{'class_name': 'InputLayer',\n",
              "   'config': {'batch_input_shape': (None, 784),\n",
              "    'dtype': 'float32',\n",
              "    'name': 'dense_2_input',\n",
              "    'ragged': False,\n",
              "    'sparse': False}},\n",
              "  {'class_name': 'Dense',\n",
              "   'config': {'activation': 'relu',\n",
              "    'activity_regularizer': None,\n",
              "    'batch_input_shape': (None, 784),\n",
              "    'bias_constraint': None,\n",
              "    'bias_initializer': {'class_name': 'Zeros', 'config': {}},\n",
              "    'bias_regularizer': None,\n",
              "    'dtype': 'float32',\n",
              "    'kernel_constraint': None,\n",
              "    'kernel_initializer': {'class_name': 'GlorotUniform',\n",
              "     'config': {'seed': None}},\n",
              "    'kernel_regularizer': None,\n",
              "    'name': 'dense_2',\n",
              "    'trainable': True,\n",
              "    'units': 128,\n",
              "    'use_bias': True}},\n",
              "  {'class_name': 'Dropout',\n",
              "   'config': {'dtype': 'float32',\n",
              "    'name': 'dropout_1',\n",
              "    'noise_shape': None,\n",
              "    'rate': 0.25,\n",
              "    'seed': None,\n",
              "    'trainable': True}},\n",
              "  {'class_name': 'Dense',\n",
              "   'config': {'activation': 'softmax',\n",
              "    'activity_regularizer': None,\n",
              "    'bias_constraint': None,\n",
              "    'bias_initializer': {'class_name': 'Zeros', 'config': {}},\n",
              "    'bias_regularizer': None,\n",
              "    'dtype': 'float32',\n",
              "    'kernel_constraint': None,\n",
              "    'kernel_initializer': {'class_name': 'GlorotUniform',\n",
              "     'config': {'seed': None}},\n",
              "    'kernel_regularizer': None,\n",
              "    'name': 'dense_3',\n",
              "    'trainable': True,\n",
              "    'units': 10,\n",
              "    'use_bias': True}}],\n",
              " 'name': 'sequential_1'}"
            ]
          },
          "metadata": {
            "tags": []
          },
          "execution_count": 17
        }
      ]
    },
    {
      "cell_type": "code",
      "metadata": {
        "id": "HKb0O8bz3frv"
      },
      "source": [
        "l1 = model.layers[0]\n",
        "l2 = model.layers[2]"
      ],
      "execution_count": 18,
      "outputs": []
    },
    {
      "cell_type": "code",
      "metadata": {
        "id": "WlN4UR333frx",
        "colab": {
          "base_uri": "https://localhost:8080/"
        },
        "outputId": "f4733836-9e39-4dd8-deeb-3d780e7167e9"
      },
      "source": [
        "l1.name, type(l1), l1.output_shape, l1.activation.__name__, l1.count_params()"
      ],
      "execution_count": 19,
      "outputs": [
        {
          "output_type": "execute_result",
          "data": {
            "text/plain": [
              "('dense_2',\n",
              " tensorflow.python.keras.layers.core.Dense,\n",
              " (None, 128),\n",
              " 'relu',\n",
              " 100480)"
            ]
          },
          "metadata": {
            "tags": []
          },
          "execution_count": 19
        }
      ]
    },
    {
      "cell_type": "code",
      "metadata": {
        "id": "2CsdAPqOWhgr",
        "colab": {
          "base_uri": "https://localhost:8080/"
        },
        "outputId": "87e22cf0-4433-45c9-d329-172c4c57f9a2"
      },
      "source": [
        "# number of parameters\n",
        "784*n_filters + n_filters"
      ],
      "execution_count": 20,
      "outputs": [
        {
          "output_type": "execute_result",
          "data": {
            "text/plain": [
              "100480"
            ]
          },
          "metadata": {
            "tags": []
          },
          "execution_count": 20
        }
      ]
    },
    {
      "cell_type": "code",
      "metadata": {
        "id": "StH9J4ID3fr0",
        "colab": {
          "base_uri": "https://localhost:8080/"
        },
        "outputId": "6f3552ae-35ae-40cd-8fbc-c31cfda8a14d"
      },
      "source": [
        "l2.name, type(l1), l2.output_shape, l2.activation.__name__, l2.count_params()"
      ],
      "execution_count": 21,
      "outputs": [
        {
          "output_type": "execute_result",
          "data": {
            "text/plain": [
              "('dense_3',\n",
              " tensorflow.python.keras.layers.core.Dense,\n",
              " (None, 10),\n",
              " 'softmax',\n",
              " 1290)"
            ]
          },
          "metadata": {
            "tags": []
          },
          "execution_count": 21
        }
      ]
    },
    {
      "cell_type": "code",
      "metadata": {
        "id": "_S7z0r6nWmRP",
        "colab": {
          "base_uri": "https://localhost:8080/"
        },
        "outputId": "665d25eb-6970-4da8-97a9-b366a6e95e85"
      },
      "source": [
        "# number of parameters\n",
        "n_filters*10 + 10  "
      ],
      "execution_count": 22,
      "outputs": [
        {
          "output_type": "execute_result",
          "data": {
            "text/plain": [
              "1290"
            ]
          },
          "metadata": {
            "tags": []
          },
          "execution_count": 22
        }
      ]
    },
    {
      "cell_type": "markdown",
      "metadata": {
        "id": "PfrTI1pL3fr3"
      },
      "source": [
        "## fit 메서드로 트레이닝"
      ]
    },
    {
      "cell_type": "code",
      "metadata": {
        "id": "WPFBcg5_3fr4"
      },
      "source": [
        "model.compile(optimizer='adam', loss='categorical_crossentropy', metrics=['accuracy'])"
      ],
      "execution_count": 23,
      "outputs": []
    },
    {
      "cell_type": "code",
      "metadata": {
        "id": "YbTI5EF23fr8",
        "colab": {
          "base_uri": "https://localhost:8080/"
        },
        "outputId": "99e9160e-e7b3-4ee4-dceb-794236b96974"
      },
      "source": [
        "%%time\n",
        "hist = model.fit(X_train, y_train, \n",
        "                 epochs=20, batch_size=100, \n",
        "                 validation_data=(X_test, y_test), \n",
        "                 verbose=1)\n",
        "\n",
        "\n",
        "# batch_size: 100 -> 60,000개의 트레이닝 데이터를 100개씩 600묶음으로 나눈 후, \n",
        "# 각 묶음에 대하어 forward, back propagation을 실시하면서 파라미터를 조정한다.\n",
        "# epochs: 전체 600개의 batch에 대하여 다 계산을 수행하면 epoch 1 종료.\n",
        "# validation_data: 테스트 데이터를 섞어서 검증한다."
      ],
      "execution_count": 24,
      "outputs": [
        {
          "output_type": "stream",
          "text": [
            "Epoch 1/20\n",
            "600/600 [==============================] - 2s 4ms/step - loss: 0.3875 - accuracy: 0.8892 - val_loss: 0.1758 - val_accuracy: 0.9496\n",
            "Epoch 2/20\n",
            "600/600 [==============================] - 2s 3ms/step - loss: 0.1821 - accuracy: 0.9470 - val_loss: 0.1233 - val_accuracy: 0.9634\n",
            "Epoch 3/20\n",
            "600/600 [==============================] - 2s 3ms/step - loss: 0.1385 - accuracy: 0.9601 - val_loss: 0.0988 - val_accuracy: 0.9699\n",
            "Epoch 4/20\n",
            "600/600 [==============================] - 2s 3ms/step - loss: 0.1158 - accuracy: 0.9653 - val_loss: 0.0945 - val_accuracy: 0.9716\n",
            "Epoch 5/20\n",
            "600/600 [==============================] - 2s 3ms/step - loss: 0.1001 - accuracy: 0.9694 - val_loss: 0.0799 - val_accuracy: 0.9754\n",
            "Epoch 6/20\n",
            "600/600 [==============================] - 2s 3ms/step - loss: 0.0893 - accuracy: 0.9737 - val_loss: 0.0778 - val_accuracy: 0.9755\n",
            "Epoch 7/20\n",
            "600/600 [==============================] - 2s 3ms/step - loss: 0.0787 - accuracy: 0.9759 - val_loss: 0.0695 - val_accuracy: 0.9782\n",
            "Epoch 8/20\n",
            "600/600 [==============================] - 2s 3ms/step - loss: 0.0714 - accuracy: 0.9779 - val_loss: 0.0697 - val_accuracy: 0.9783\n",
            "Epoch 9/20\n",
            "600/600 [==============================] - 2s 3ms/step - loss: 0.0648 - accuracy: 0.9793 - val_loss: 0.0670 - val_accuracy: 0.9786\n",
            "Epoch 10/20\n",
            "600/600 [==============================] - 2s 3ms/step - loss: 0.0612 - accuracy: 0.9805 - val_loss: 0.0694 - val_accuracy: 0.9783\n",
            "Epoch 11/20\n",
            "600/600 [==============================] - 2s 3ms/step - loss: 0.0567 - accuracy: 0.9823 - val_loss: 0.0668 - val_accuracy: 0.9791\n",
            "Epoch 12/20\n",
            "600/600 [==============================] - 2s 3ms/step - loss: 0.0521 - accuracy: 0.9839 - val_loss: 0.0651 - val_accuracy: 0.9801\n",
            "Epoch 13/20\n",
            "600/600 [==============================] - 2s 3ms/step - loss: 0.0497 - accuracy: 0.9840 - val_loss: 0.0652 - val_accuracy: 0.9799\n",
            "Epoch 14/20\n",
            "600/600 [==============================] - 2s 3ms/step - loss: 0.0460 - accuracy: 0.9848 - val_loss: 0.0623 - val_accuracy: 0.9813\n",
            "Epoch 15/20\n",
            "600/600 [==============================] - 2s 3ms/step - loss: 0.0432 - accuracy: 0.9860 - val_loss: 0.0654 - val_accuracy: 0.9808\n",
            "Epoch 16/20\n",
            "600/600 [==============================] - 2s 3ms/step - loss: 0.0409 - accuracy: 0.9869 - val_loss: 0.0673 - val_accuracy: 0.9807\n",
            "Epoch 17/20\n",
            "600/600 [==============================] - 2s 3ms/step - loss: 0.0383 - accuracy: 0.9876 - val_loss: 0.0657 - val_accuracy: 0.9810\n",
            "Epoch 18/20\n",
            "600/600 [==============================] - 2s 3ms/step - loss: 0.0365 - accuracy: 0.9876 - val_loss: 0.0660 - val_accuracy: 0.9803\n",
            "Epoch 19/20\n",
            "600/600 [==============================] - 2s 3ms/step - loss: 0.0367 - accuracy: 0.9872 - val_loss: 0.0702 - val_accuracy: 0.9802\n",
            "Epoch 20/20\n",
            "600/600 [==============================] - 2s 3ms/step - loss: 0.0346 - accuracy: 0.9885 - val_loss: 0.0654 - val_accuracy: 0.9814\n",
            "CPU times: user 42.2 s, sys: 8.36 s, total: 50.6 s\n",
            "Wall time: 41.8 s\n"
          ],
          "name": "stdout"
        }
      ]
    },
    {
      "cell_type": "markdown",
      "metadata": {
        "id": "7gvjGBmYYFI3"
      },
      "source": [
        "### Plot of performance and accuracy (모델 성능 및 정확도)"
      ]
    },
    {
      "cell_type": "code",
      "metadata": {
        "id": "FPeQByvA3fr_",
        "colab": {
          "base_uri": "https://localhost:8080/",
          "height": 266
        },
        "outputId": "efe8bdb1-09f3-4eb8-a4c7-816f57aac307"
      },
      "source": [
        "# Plot performance\n",
        "plt.plot(hist.history['loss'])\n",
        "plt.show()"
      ],
      "execution_count": 25,
      "outputs": [
        {
          "output_type": "display_data",
          "data": {
            "image/png": "[encoded data removed]",
            "text/plain": [
              "<Figure size 432x288 with 1 Axes>"
            ]
          },
          "metadata": {
            "tags": [],
            "needs_background": "light"
          }
        }
      ]
    },
    {
      "cell_type": "code",
      "metadata": {
        "id": "m5ForJ5k3fsD",
        "colab": {
          "base_uri": "https://localhost:8080/",
          "height": 265
        },
        "outputId": "d50ee406-a1b2-4e5e-c2cd-1e137ccc8b63"
      },
      "source": [
        "plt.plot(hist.history['accuracy'], 'b-', label=\"training\")\n",
        "plt.plot(hist.history['val_accuracy'], 'r:', label=\"test\")\n",
        "plt.legend()\n",
        "plt.show()"
      ],
      "execution_count": 26,
      "outputs": [
        {
          "output_type": "display_data",
          "data": {
            "image/png": "[encoded data removed]",
            "text/plain": [
              "<Figure size 432x288 with 1 Axes>"
            ]
          },
          "metadata": {
            "tags": [],
            "needs_background": "light"
          }
        }
      ]
    },
    {
      "cell_type": "markdown",
      "metadata": {
        "id": "R6pUmTTR3fsI"
      },
      "source": [
        "## 가중치 정보"
      ]
    },
    {
      "cell_type": "markdown",
      "metadata": {
        "id": "b6PeV3Yk3fsJ"
      },
      "source": [
        "> 트레이닝이 끝난 모형의 가중치 정보는 get_weights 메서드로 구할 수 있다. 이 메서드는 w 값과 b 값을 출력한다.\n",
        "- w: weights\n",
        "- b: bias"
      ]
    },
    {
      "cell_type": "code",
      "metadata": {
        "id": "ZWfw5Z_F3fsK",
        "colab": {
          "base_uri": "https://localhost:8080/"
        },
        "outputId": "5f1269ea-783d-4849-bfea-3193cce1f266"
      },
      "source": [
        "w1 = l1.get_weights()  # 784*n_filters + n_filters = ?\n",
        "w1[0].shape, w1[1].shape"
      ],
      "execution_count": 27,
      "outputs": [
        {
          "output_type": "execute_result",
          "data": {
            "text/plain": [
              "((784, 128), (128,))"
            ]
          },
          "metadata": {
            "tags": []
          },
          "execution_count": 27
        }
      ]
    },
    {
      "cell_type": "code",
      "metadata": {
        "id": "S9tVnYoX3fsN",
        "colab": {
          "base_uri": "https://localhost:8080/"
        },
        "outputId": "f4d62a8d-67e3-4e42-f1c5-f064b83cf272"
      },
      "source": [
        "w2 = l2.get_weights()  # n_filters*10 + 10 = ?\n",
        "w2[0].shape, w2[1].shape"
      ],
      "execution_count": 28,
      "outputs": [
        {
          "output_type": "execute_result",
          "data": {
            "text/plain": [
              "((128, 10), (10,))"
            ]
          },
          "metadata": {
            "tags": []
          },
          "execution_count": 28
        }
      ]
    },
    {
      "cell_type": "markdown",
      "metadata": {
        "id": "iaRWl02D3fsR"
      },
      "source": [
        "## 모형의 사용\n",
        "\n",
        "> 트레이닝이 끝난 모형은 predict 메서드로 y 값을 출력하거나 출력된 y값을 각 클래스에 대한 판별함수로 가정하고 predict_classes 메서드로 classification을 할 수 있다."
      ]
    },
    {
      "cell_type": "code",
      "metadata": {
        "id": "3-ShrKKV3fsS",
        "colab": {
          "base_uri": "https://localhost:8080/",
          "height": 143
        },
        "outputId": "5643d0eb-c460-4c27-e411-fb4e7f4a5b6d"
      },
      "source": [
        "plt.figure(figsize=(2, 2))\n",
        "plt.imshow(X_test0[0], cmap='gray')\n",
        "plt.grid(False)\n",
        "plt.xticks([])\n",
        "plt.yticks([])\n",
        "plt.show()"
      ],
      "execution_count": 29,
      "outputs": [
        {
          "output_type": "display_data",
          "data": {
            "image/png": "[encoded data removed]",
            "text/plain": [
              "<Figure size 144x144 with 1 Axes>"
            ]
          },
          "metadata": {
            "tags": []
          }
        }
      ]
    },
    {
      "cell_type": "code",
      "metadata": {
        "id": "sW4jz1rjPzgo",
        "colab": {
          "base_uri": "https://localhost:8080/"
        },
        "outputId": "f8bee18f-f3d3-488d-b7cb-6002a5e110ac"
      },
      "source": [
        "X_test[:1, :].shape"
      ],
      "execution_count": 30,
      "outputs": [
        {
          "output_type": "execute_result",
          "data": {
            "text/plain": [
              "(1, 784)"
            ]
          },
          "metadata": {
            "tags": []
          },
          "execution_count": 30
        }
      ]
    },
    {
      "cell_type": "code",
      "metadata": {
        "id": "n1SG0Okg3fsV",
        "colab": {
          "base_uri": "https://localhost:8080/"
        },
        "outputId": "43adec84-67e1-43c6-a7c9-da4da624a149"
      },
      "source": [
        "model.predict(X_test[:1, :])  # Probabilitic prediction viq one-hot encoding of labels"
      ],
      "execution_count": 31,
      "outputs": [
        {
          "output_type": "execute_result",
          "data": {
            "text/plain": [
              "array([[5.6724309e-10, 5.6483845e-11, 2.0185337e-07, 2.0273979e-04,\n",
              "        2.4808489e-14, 5.0732769e-09, 1.8429632e-18, 9.9979645e-01,\n",
              "        7.7002573e-09, 6.2639498e-07]], dtype=float32)"
            ]
          },
          "metadata": {
            "tags": []
          },
          "execution_count": 31
        }
      ]
    },
    {
      "cell_type": "code",
      "metadata": {
        "id": "J40aL4ts3fsY",
        "colab": {
          "base_uri": "https://localhost:8080/"
        },
        "outputId": "e1407601-879e-4665-fb15-a6ee2cf560c0"
      },
      "source": [
        "tf.argmax(model.predict(X_test[:1, :]),axis=1), np.argmax(model.predict(X_test[:1, :]),axis=1)"
      ],
      "execution_count": 32,
      "outputs": [
        {
          "output_type": "execute_result",
          "data": {
            "text/plain": [
              "(<tf.Tensor: shape=(1,), dtype=int64, numpy=array([7])>, array([7]))"
            ]
          },
          "metadata": {
            "tags": []
          },
          "execution_count": 32
        }
      ]
    },
    {
      "cell_type": "markdown",
      "metadata": {
        "id": "IlSTBslCPWN5"
      },
      "source": [
        "### 테스트 데이터에 대한 예측 정확도 계산 "
      ]
    },
    {
      "cell_type": "code",
      "metadata": {
        "id": "IKnsqRtKPWN6",
        "colab": {
          "base_uri": "https://localhost:8080/"
        },
        "outputId": "aa12e36d-e9f7-4fc4-9bde-39e3edb5f66f"
      },
      "source": [
        "y_pred0 = model.predict(X_test, verbose=1)\n",
        "y_pred0[:5]"
      ],
      "execution_count": 33,
      "outputs": [
        {
          "output_type": "stream",
          "text": [
            "313/313 [==============================] - 0s 1ms/step\n"
          ],
          "name": "stdout"
        },
        {
          "output_type": "execute_result",
          "data": {
            "text/plain": [
              "array([[5.67243086e-10, 5.64838454e-11, 2.01853567e-07, 2.02739189e-04,\n",
              "        2.48084431e-14, 5.07326670e-09, 1.84296316e-18, 9.99796450e-01,\n",
              "        7.70025732e-09, 6.26394410e-07],\n",
              "       [5.74250283e-12, 4.17638006e-07, 9.99999404e-01, 4.82569469e-08,\n",
              "        1.28967512e-22, 8.82484841e-08, 4.64613681e-09, 1.91949681e-18,\n",
              "        1.65208487e-08, 1.16695942e-18],\n",
              "       [3.45263595e-09, 9.99838948e-01, 4.84363663e-05, 1.11364535e-07,\n",
              "        6.79773336e-07, 1.31447933e-07, 3.14127249e-07, 1.03210259e-04,\n",
              "        8.20044806e-06, 1.21234289e-09],\n",
              "       [9.99938369e-01, 6.15963780e-10, 5.60220578e-05, 5.55150992e-09,\n",
              "        3.56881813e-09, 1.58394656e-07, 1.06274990e-06, 2.99704510e-08,\n",
              "        1.28260893e-07, 4.14809256e-06],\n",
              "       [1.49699076e-07, 4.45614552e-12, 2.11264620e-07, 1.00853181e-09,\n",
              "        9.92411911e-01, 2.80556489e-09, 1.80859359e-07, 1.69164173e-06,\n",
              "        2.86489699e-09, 7.58584170e-03]], dtype=float32)"
            ]
          },
          "metadata": {
            "tags": []
          },
          "execution_count": 33
        }
      ]
    },
    {
      "cell_type": "code",
      "metadata": {
        "id": "nZuSLtGuQ5Ds",
        "colab": {
          "base_uri": "https://localhost:8080/"
        },
        "outputId": "9931db67-526b-40c8-ce29-ad3759bbf106"
      },
      "source": [
        "np.argmax(y_pred0[:5],axis=1)"
      ],
      "execution_count": 35,
      "outputs": [
        {
          "output_type": "execute_result",
          "data": {
            "text/plain": [
              "array([7, 2, 1, 0, 4])"
            ]
          },
          "metadata": {
            "tags": []
          },
          "execution_count": 35
        }
      ]
    },
    {
      "cell_type": "code",
      "metadata": {
        "id": "DCPrM-b9RDuv"
      },
      "source": [
        "y_pred=np.argmax(y_pred0,axis=1)"
      ],
      "execution_count": 36,
      "outputs": []
    },
    {
      "cell_type": "code",
      "metadata": {
        "id": "TDAde7l2PWN9",
        "colab": {
          "base_uri": "https://localhost:8080/"
        },
        "outputId": "375908a4-ffb7-44bb-b0d7-268b06d59827"
      },
      "source": [
        "t_count = np.sum(y_pred == y_test0) # True positive\n",
        "f_count = np.sum(y_pred != y_test0) # False positive\n",
        "f_count==10000-t_count"
      ],
      "execution_count": 37,
      "outputs": [
        {
          "output_type": "execute_result",
          "data": {
            "text/plain": [
              "True"
            ]
          },
          "metadata": {
            "tags": []
          },
          "execution_count": 37
        }
      ]
    },
    {
      "cell_type": "code",
      "metadata": {
        "id": "UMIbHVooPWOB",
        "colab": {
          "base_uri": "https://localhost:8080/"
        },
        "outputId": "98fbfd43-cd33-4386-eeab-2fabf5dc1662"
      },
      "source": [
        "t_count,f_count"
      ],
      "execution_count": 38,
      "outputs": [
        {
          "output_type": "execute_result",
          "data": {
            "text/plain": [
              "(9814, 186)"
            ]
          },
          "metadata": {
            "tags": []
          },
          "execution_count": 38
        }
      ]
    },
    {
      "cell_type": "code",
      "metadata": {
        "id": "qHFIPhUmPWOE",
        "colab": {
          "base_uri": "https://localhost:8080/"
        },
        "outputId": "17b4319d-fd68-42f9-a297-e31387db7bd7"
      },
      "source": [
        "accuracy = t_count/10000*100\n",
        "accuracy"
      ],
      "execution_count": 39,
      "outputs": [
        {
          "output_type": "execute_result",
          "data": {
            "text/plain": [
              "98.14"
            ]
          },
          "metadata": {
            "tags": []
          },
          "execution_count": 39
        }
      ]
    },
    {
      "cell_type": "markdown",
      "metadata": {
        "id": "ErT2qfh8PWOH"
      },
      "source": [
        "### Accuracy of predicting test numbers is around 98% in NN (neural network).\n",
        "- Best!!"
      ]
    },
    {
      "cell_type": "code",
      "metadata": {
        "id": "jtN7Lee4Vo6q",
        "colab": {
          "base_uri": "https://localhost:8080/"
        },
        "outputId": "fb9cc18e-8a9d-4414-d715-a85c0b2c6e4a"
      },
      "source": [
        "# see which we predicted correctly and which not\n",
        "correct_indices = np.nonzero(y_pred == y_test0)[0]\n",
        "incorrect_indices = np.nonzero(y_pred != y_test0)[0]\n",
        "print()\n",
        "print(len(correct_indices),\" classified correctly\")\n",
        "print(len(incorrect_indices),\" classified incorrectly\")"
      ],
      "execution_count": 40,
      "outputs": [
        {
          "output_type": "stream",
          "text": [
            "\n",
            "9814  classified correctly\n",
            "186  classified incorrectly\n"
          ],
          "name": "stdout"
        }
      ]
    },
    {
      "cell_type": "code",
      "metadata": {
        "id": "j0RPUxR2WKx-",
        "colab": {
          "base_uri": "https://localhost:8080/",
          "height": 811
        },
        "outputId": "dcc616ac-faab-4406-fa64-c8d465b4cff2"
      },
      "source": [
        "# adapt figure size to accomodate 18 subplots\n",
        "plt.rcParams['figure.figsize'] = (7,14)\n",
        "\n",
        "figure_evaluation = plt.figure()\n",
        "\n",
        "# plot 9 correct predictions\n",
        "for i, correct in enumerate(correct_indices[:9]):\n",
        "    plt.subplot(6,3,i+1)\n",
        "    plt.imshow(X_test[correct].reshape(28,28), cmap='gray', interpolation='none')\n",
        "    plt.title(\n",
        "      \"Predicted: {}, Truth: {}\".format(y_pred[correct],\n",
        "                                        y_test0[correct]))\n",
        "    plt.xticks([])\n",
        "    plt.yticks([])\n",
        "\n",
        "# plot 9 incorrect predictions\n",
        "for i, incorrect in enumerate(incorrect_indices[:9]):\n",
        "    plt.subplot(6,3,i+10)\n",
        "    plt.imshow(X_test[incorrect].reshape(28,28), cmap='gray', interpolation='none')\n",
        "    plt.title(\n",
        "      \"Predicted {}, Truth: {}\".format(y_pred[incorrect], \n",
        "                                       y_test0[incorrect]))\n",
        "    plt.xticks([])\n",
        "    plt.yticks([])\n",
        "\n",
        "# figure_evaluation"
      ],
      "execution_count": 41,
      "outputs": [
        {
          "output_type": "display_data",
          "data": {
            "image/png": "[encoded data removed]",
            "text/plain": [
              "<Figure size 504x1008 with 18 Axes>"
            ]
          },
          "metadata": {
            "tags": []
          }
        }
      ]
    },
    {
      "cell_type": "markdown",
      "metadata": {
        "id": "gBPKMI4y3fsa"
      },
      "source": [
        "## 모형의 저장\n",
        "\n",
        ">  트레이닝이 끝난 모형은 save 메서드로 가중치와 함께 hdf5 형식으로 저장하였다가 나중에 load 명령으로 불러 사용할 수 있다."
      ]
    },
    {
      "cell_type": "code",
      "metadata": {
        "id": "KCfbQl2v3fsa"
      },
      "source": [
        "model.save('model_NN_2layers_best.hdf5')\n",
        "# del model"
      ],
      "execution_count": 42,
      "outputs": []
    },
    {
      "cell_type": "code",
      "metadata": {
        "id": "b7-ysIVy3fse",
        "colab": {
          "base_uri": "https://localhost:8080/"
        },
        "outputId": "2e716cc9-3a59-47bc-fb7f-9608369e9813"
      },
      "source": [
        "from keras.models import load_model\n",
        "\n",
        "model2 = load_model('model_NN_2layers_best.hdf5')\n",
        "model2.predict(X_test[:1, :], verbose=0)\n",
        "np.argmax(model2.predict(X_test[:1, :], verbose=0),axis=1)"
      ],
      "execution_count": 43,
      "outputs": [
        {
          "output_type": "execute_result",
          "data": {
            "text/plain": [
              "array([7])"
            ]
          },
          "metadata": {
            "tags": []
          },
          "execution_count": 43
        }
      ]
    },
    {
      "cell_type": "code",
      "metadata": {
        "id": "euLaPown3fsi",
        "colab": {
          "base_uri": "https://localhost:8080/"
        },
        "outputId": "9f3e87ed-9b3b-4f58-cf1c-3b52f369e336"
      },
      "source": [
        "# Predict of the first 10 test data\n",
        "np.argmax(model2.predict(X_test[:10, :], verbose=0),axis=1)"
      ],
      "execution_count": 44,
      "outputs": [
        {
          "output_type": "execute_result",
          "data": {
            "text/plain": [
              "array([7, 2, 1, 0, 4, 1, 4, 9, 5, 9])"
            ]
          },
          "metadata": {
            "tags": []
          },
          "execution_count": 44
        }
      ]
    },
    {
      "cell_type": "markdown",
      "metadata": {
        "id": "hRL0bcIk3fst"
      },
      "source": [
        "### 저장된 모형을 이용하여 테스트 데이터에 대한 예측 정확도 계산 "
      ]
    },
    {
      "cell_type": "code",
      "metadata": {
        "id": "KPIoiMZC3fst",
        "colab": {
          "base_uri": "https://localhost:8080/"
        },
        "outputId": "92392246-899d-4fea-bd34-b0ba6c3793a3"
      },
      "source": [
        "# Wrong prediction\n",
        "np.argmax(model2.predict(X_test[8:9, :], verbose=1),axis=1)"
      ],
      "execution_count": 45,
      "outputs": [
        {
          "output_type": "stream",
          "text": [
            "1/1 [==============================] - 0s 2ms/step\n"
          ],
          "name": "stdout"
        },
        {
          "output_type": "execute_result",
          "data": {
            "text/plain": [
              "array([5])"
            ]
          },
          "metadata": {
            "tags": []
          },
          "execution_count": 45
        }
      ]
    },
    {
      "cell_type": "code",
      "metadata": {
        "id": "1A0mpUeg3fsy",
        "colab": {
          "base_uri": "https://localhost:8080/"
        },
        "outputId": "f572879c-4d89-4a78-d3f2-f8019522c80c"
      },
      "source": [
        "y_test0[8]  # Compare the true value and the prediction."
      ],
      "execution_count": 46,
      "outputs": [
        {
          "output_type": "execute_result",
          "data": {
            "text/plain": [
              "5"
            ]
          },
          "metadata": {
            "tags": []
          },
          "execution_count": 46
        }
      ]
    },
    {
      "cell_type": "code",
      "metadata": {
        "id": "M9zDSNI13fs1",
        "colab": {
          "base_uri": "https://localhost:8080/"
        },
        "outputId": "e248baad-a3e2-43cb-87cd-f60f112793fd"
      },
      "source": [
        "# 전체 테스트 데이터에 대한 예측\n",
        "x_pred = np.argmax(model2.predict(X_test, verbose=1, batch_size=100), axis=1)"
      ],
      "execution_count": 47,
      "outputs": [
        {
          "output_type": "stream",
          "text": [
            "100/100 [==============================] - 0s 2ms/step\n"
          ],
          "name": "stdout"
        }
      ]
    },
    {
      "cell_type": "code",
      "metadata": {
        "id": "QNEtpmQL3fs3",
        "colab": {
          "base_uri": "https://localhost:8080/"
        },
        "outputId": "0de632e2-e31b-4433-9620-357f47ba36e1"
      },
      "source": [
        "t_count = np.sum(x_pred==y_test0) # True positive\n",
        "f_count = np.sum(x_pred!=y_test0) # False positive\n",
        "f_count==10000-t_count"
      ],
      "execution_count": 48,
      "outputs": [
        {
          "output_type": "execute_result",
          "data": {
            "text/plain": [
              "True"
            ]
          },
          "metadata": {
            "tags": []
          },
          "execution_count": 48
        }
      ]
    },
    {
      "cell_type": "code",
      "metadata": {
        "id": "YaKHTNi43fs8",
        "colab": {
          "base_uri": "https://localhost:8080/"
        },
        "outputId": "8091a7fb-d2eb-4826-9736-5c73e167d983"
      },
      "source": [
        "t_count,f_count"
      ],
      "execution_count": 49,
      "outputs": [
        {
          "output_type": "execute_result",
          "data": {
            "text/plain": [
              "(9814, 186)"
            ]
          },
          "metadata": {
            "tags": []
          },
          "execution_count": 49
        }
      ]
    },
    {
      "cell_type": "code",
      "metadata": {
        "id": "aiDlchVL3fs-"
      },
      "source": [
        "accuracy = t_count/10000*100\n",
        "accuracy"
      ],
      "execution_count": null,
      "outputs": []
    },
    {
      "cell_type": "markdown",
      "metadata": {
        "id": "oUuN3t9XTpzO"
      },
      "source": [
        "### 모델 성능 평가\n",
        "- model.evaluate(X_test, y_test, batch_size)"
      ]
    },
    {
      "cell_type": "code",
      "metadata": {
        "id": "Wv3TNre7TO7Q",
        "colab": {
          "base_uri": "https://localhost:8080/"
        },
        "outputId": "48027ed9-bd54-4cfc-fed5-68d8928c4f08"
      },
      "source": [
        "model.evaluate(X_test, y_test, batch_size=100)"
      ],
      "execution_count": 50,
      "outputs": [
        {
          "output_type": "stream",
          "text": [
            "100/100 [==============================] - 0s 3ms/step - loss: 0.0654 - accuracy: 0.9814\n"
          ],
          "name": "stdout"
        },
        {
          "output_type": "execute_result",
          "data": {
            "text/plain": [
              "[0.06544891744852066, 0.9814000129699707]"
            ]
          },
          "metadata": {
            "tags": []
          },
          "execution_count": 50
        }
      ]
    },
    {
      "cell_type": "code",
      "metadata": {
        "id": "-t9pu0IET_tZ",
        "colab": {
          "base_uri": "https://localhost:8080/"
        },
        "outputId": "f76e7fc7-2b3e-474e-e977-288617fdf35e"
      },
      "source": [
        "model2.evaluate(X_test, y_test, batch_size=100)"
      ],
      "execution_count": 51,
      "outputs": [
        {
          "output_type": "stream",
          "text": [
            "100/100 [==============================] - 0s 3ms/step - loss: 0.0654 - accuracy: 0.9814\n"
          ],
          "name": "stdout"
        },
        {
          "output_type": "execute_result",
          "data": {
            "text/plain": [
              "[0.06544891744852066, 0.9814000129699707]"
            ]
          },
          "metadata": {
            "tags": []
          },
          "execution_count": 51
        }
      ]
    },
    {
      "cell_type": "markdown",
      "metadata": {
        "id": "MRK6YRJd3ftC"
      },
      "source": [
        "### Accuracy of predicting test numbers is around 98% in the best neural network model.\n",
        "\n",
        "> How to improve this model to the best model?\n",
        "- Change loss function\n",
        "- Change optimizer\n",
        "- Change activation\n",
        "- Change the number of neurons \n",
        "- Add new layers\n",
        "- Apply Dropout\n",
        "- ..."
      ]
    },
    {
      "cell_type": "markdown",
      "metadata": {
        "id": "6x1DNMB_Yxey"
      },
      "source": [
        "\n",
        "\n",
        "---\n",
        "\n"
      ]
    },
    {
      "cell_type": "code",
      "metadata": {
        "id": "bMO71GJI3ftC"
      },
      "source": [
        ""
      ],
      "execution_count": null,
      "outputs": []
    }
  ]
}