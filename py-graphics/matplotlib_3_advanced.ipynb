{
  "nbformat": 4,
  "nbformat_minor": 0,
  "metadata": {
    "kernelspec": {
      "display_name": "Python 3",
      "language": "python",
      "name": "python3"
    },
    "language_info": {
      "codemirror_mode": {
        "name": "ipython",
        "version": 3
      },
      "file_extension": ".py",
      "mimetype": "text/x-python",
      "name": "python",
      "nbconvert_exporter": "python",
      "pygments_lexer": "ipython3",
      "version": "3.6.6"
    },
    "colab": {
      "name": "matplotlib_3_advanced.ipynb",
      "provenance": [],
      "collapsed_sections": [],
      "include_colab_link": true
    }
  },
  "cells": [
    {
      "cell_type": "markdown",
      "metadata": {
        "id": "view-in-github",
        "colab_type": "text"
      },
      "source": [
        "<a href=\"https://colab.research.google.com/github/rldckd0103/pdm02/blob/master/py-graphics/matplotlib_3_advanced.ipynb\" target=\"_parent\"><img src=\"https://colab.research.google.com/assets/colab-badge.svg\" alt=\"Open In Colab\"/></a>"
      ]
    },
    {
      "cell_type": "markdown",
      "metadata": {
        "id": "9Wej-7GZ4f3N"
      },
      "source": [
        "## Python module 2. **matplotlib**\n",
        "### Python graphics using matplotlib\n",
        "- save graph in file\n",
        "- application to simlple LR"
      ]
    },
    {
      "cell_type": "code",
      "metadata": {
        "id": "mYtejl4m4f3Q"
      },
      "source": [
        "import numpy as np\n",
        "import matplotlib.pyplot as plt\n",
        "# 노트북 셀 내에 그림 출력\n",
        "%matplotlib inline  "
      ],
      "execution_count": 1,
      "outputs": []
    },
    {
      "cell_type": "markdown",
      "metadata": {
        "id": "m8qJaoJU4f3s"
      },
      "source": [
        "### 그래프 저장 (Save graph)"
      ]
    },
    {
      "cell_type": "code",
      "metadata": {
        "id": "6S5o0_Aj4f3s",
        "outputId": "f2c5602a-b3b9-49d6-c71e-69e7a5f6e113",
        "colab": {
          "base_uri": "https://localhost:8080/",
          "height": 281
        }
      },
      "source": [
        "x = np.linspace(0, 4*np.pi, 100)\n",
        "plt.plot(x, np.sin(x), 'r')\n",
        "plt.title(\"sin(x)\")\n",
        "\n",
        "plt.savefig('sin4pi.png', dpi=100) # dpi = 50, 75, 100, 150, 300\n",
        "plt.savefig('sin4pi.pdf')\n",
        "\n",
        "plt.show()"
      ],
      "execution_count": 18,
      "outputs": [
        {
          "output_type": "display_data",
          "data": {
            "image/png": "[encoded data removed]",
            "text/plain": [
              "<Figure size 432x288 with 1 Axes>"
            ]
          },
          "metadata": {
            "tags": [],
            "needs_background": "light"
          }
        }
      ]
    },
    {
      "cell_type": "markdown",
      "metadata": {
        "id": "RDMgqK2u4f3u"
      },
      "source": [
        "### 문자를 삽입한다"
      ]
    },
    {
      "cell_type": "code",
      "metadata": {
        "id": "_oU-q4ve4f3v"
      },
      "source": [
        "# 표시용 폰트 지정\n",
        "import matplotlib.pyplot as plt\n",
        "plt.rcParams['font.family'] = 'AppleGothic'"
      ],
      "execution_count": 13,
      "outputs": []
    },
    {
      "cell_type": "code",
      "metadata": {
        "id": "LwFxuRE74f3x"
      },
      "source": [
        "# 시스템에서 사용 가능한 글꼴 목록을 표시\n",
        "import matplotlib.font_manager as fm\n",
        "fontsfamily = fm.findSystemFonts()"
      ],
      "execution_count": 14,
      "outputs": []
    },
    {
      "cell_type": "code",
      "metadata": {
        "id": "0KTFmgx24f3z",
        "outputId": "ae475b4a-6d96-4409-a869-fdfba4ab0035",
        "colab": {
          "base_uri": "https://localhost:8080/",
          "height": 107
        }
      },
      "source": [
        "fontsfamily[:5]  # font in linux cloud"
      ],
      "execution_count": 15,
      "outputs": [
        {
          "output_type": "execute_result",
          "data": {
            "text/plain": [
              "['/usr/share/fonts/truetype/liberation/LiberationSans-Bold.ttf',\n",
              " '/usr/share/fonts/truetype/liberation/LiberationMono-BoldItalic.ttf',\n",
              " '/usr/share/fonts/truetype/liberation/LiberationSansNarrow-Bold.ttf',\n",
              " '/usr/share/fonts/truetype/liberation/LiberationSerif-Italic.ttf',\n",
              " '/usr/share/fonts/truetype/liberation/LiberationMono-Regular.ttf']"
            ]
          },
          "metadata": {
            "tags": []
          },
          "execution_count": 15
        }
      ]
    },
    {
      "cell_type": "code",
      "metadata": {
        "id": "PBkZnCRh93A9",
        "outputId": "d99cc42f-d81a-4a8f-c377-bb1c2f3187b6",
        "colab": {
          "base_uri": "https://localhost:8080/",
          "height": 295
        }
      },
      "source": [
        "x = np.linspace(0, 4*np.pi, 100)\n",
        "plt.plot(x, np.sin(x), 'r-.')\n",
        "plt.title(\"function - sin(x)\")\n",
        "plt.xlabel(\"x\")\n",
        "plt.ylabel(\"f(x) = sin(x)\")\n",
        "\n",
        "plt.savefig('sin_function.png', dpi=75)\n",
        "\n",
        "plt.show() # savefig 밑에 있어야 됨"
      ],
      "execution_count": 19,
      "outputs": [
        {
          "output_type": "display_data",
          "data": {
            "image/png": "[encoded data removed]",
            "text/plain": [
              "<Figure size 432x288 with 1 Axes>"
            ]
          },
          "metadata": {
            "tags": [],
            "needs_background": "light"
          }
        }
      ]
    },
    {
      "cell_type": "markdown",
      "metadata": {
        "id": "TKBIJ1mS4f31"
      },
      "source": [
        "***"
      ]
    },
    {
      "cell_type": "markdown",
      "metadata": {
        "id": "Nk1rEr-z4f3p"
      },
      "source": [
        "### 그래픽 응용: 1차원 회기(regression)"
      ]
    },
    {
      "cell_type": "code",
      "metadata": {
        "id": "aDy_GFh14f3q",
        "outputId": "26d24020-1439-45d2-b7bc-ad60af2e627a",
        "colab": {
          "base_uri": "https://localhost:8080/",
          "height": 283
        }
      },
      "source": [
        "# 그래프 데이터 (x, y)\n",
        "x = np.array([1.628, 3.363, 5.145, 7.683, 9.855])\n",
        "y = np.array([1.257, 3.672, 5.841, 7.951, 9.775])\n",
        "\n",
        "# 그래프를 그림\n",
        "plt.plot(x, y, 'o', ms=12)   # 데이터를 그림\n"
      ],
      "execution_count": 21,
      "outputs": [
        {
          "output_type": "execute_result",
          "data": {
            "text/plain": [
              "[<matplotlib.lines.Line2D at 0x7efd64f86b70>]"
            ]
          },
          "metadata": {
            "tags": []
          },
          "execution_count": 21
        },
        {
          "output_type": "display_data",
          "data": {
            "image/png": "[encoded data removed]",
            "text/plain": [
              "<Figure size 432x288 with 1 Axes>"
            ]
          },
          "metadata": {
            "tags": [],
            "needs_background": "light"
          }
        }
      ]
    },
    {
      "cell_type": "code",
      "metadata": {
        "id": "8BoKF9nBFUmZ",
        "outputId": "b5088727-b70f-4b82-bbcd-5bb4c9f0bd7a",
        "colab": {
          "base_uri": "https://localhost:8080/",
          "height": 35
        }
      },
      "source": [
        "x.shape, y.shape"
      ],
      "execution_count": 22,
      "outputs": [
        {
          "output_type": "execute_result",
          "data": {
            "text/plain": [
              "((5,), (5,))"
            ]
          },
          "metadata": {
            "tags": []
          },
          "execution_count": 22
        }
      ]
    },
    {
      "cell_type": "code",
      "metadata": {
        "id": "p4qzUwRsl6zQ",
        "outputId": "c75b8480-9986-4381-85a2-70126c9f9e9b",
        "colab": {
          "base_uri": "https://localhost:8080/",
          "height": 107
        }
      },
      "source": [
        "# 최소 자승법(least square method)으로 데이터를 근사하는 직선을 구함\n",
        "a = np.array([x, np.ones(x.size)])\n",
        "a = a.T\n",
        "a,a.shape"
      ],
      "execution_count": 24,
      "outputs": [
        {
          "output_type": "execute_result",
          "data": {
            "text/plain": [
              "(array([[1.628, 1.   ],\n",
              "        [3.363, 1.   ],\n",
              "        [5.145, 1.   ],\n",
              "        [7.683, 1.   ],\n",
              "        [9.855, 1.   ]]), (5, 2))"
            ]
          },
          "metadata": {
            "tags": []
          },
          "execution_count": 24
        }
      ]
    },
    {
      "cell_type": "code",
      "metadata": {
        "id": "cY6y2SyvFFmu",
        "outputId": "20376244-04df-410a-d346-0aba9edf078a",
        "colab": {
          "base_uri": "https://localhost:8080/",
          "height": 339
        }
      },
      "source": [
        "# 최소 자승법(least square method)\n",
        "m, c = np.linalg.lstsq(a, y)[0]  # 일차원 선형회기 계수\n",
        "# m:기울기,c:bias(절편)\n",
        "\n",
        "# 그래프를 겹쳐서 그림\n",
        "# 데이터와 선형회기 근사직선을 동시에 그림.\n",
        "t = plt.plot(x, y, 'o', ms=12)   # 데이터를 그림\n",
        "t = plt.plot(x, (m*x+c))  # 근사직선을 그림, m:기울기,c:bias(절편)"
      ],
      "execution_count": 28,
      "outputs": [
        {
          "output_type": "stream",
          "text": [
            "/usr/local/lib/python3.6/dist-packages/ipykernel_launcher.py:2: FutureWarning: `rcond` parameter will change to the default of machine precision times ``max(M, N)`` where M and N are the input matrix dimensions.\n",
            "To use the future default and silence this warning we advise to pass `rcond=None`, to keep using the old, explicitly pass `rcond=-1`.\n",
            "  \n"
          ],
          "name": "stderr"
        },
        {
          "output_type": "display_data",
          "data": {
            "image/png": "[encoded data removed]",
            "text/plain": [
              "<Figure size 432x288 with 1 Axes>"
            ]
          },
          "metadata": {
            "tags": [],
            "needs_background": "light"
          }
        }
      ]
    },
    {
      "cell_type": "markdown",
      "metadata": {
        "id": "jSIZefgUq8PO"
      },
      "source": [
        "#### 겹침 그림을 그리고 저장하기"
      ]
    },
    {
      "cell_type": "code",
      "metadata": {
        "id": "wOwNjy0gmKUB",
        "outputId": "5ca103d6-78ed-4679-d087-55490979f372",
        "colab": {
          "base_uri": "https://localhost:8080/",
          "height": 265
        }
      },
      "source": [
        "plt.plot(x, (m*x+c), x, y, 'o', ms=12)   # 데이터와 근사직선을 동시에 그림\n",
        "plt.savefig('linear_regression.png', dpi=75)"
      ],
      "execution_count": 29,
      "outputs": [
        {
          "output_type": "display_data",
          "data": {
            "image/png": "[encoded data removed]",
            "text/plain": [
              "<Figure size 432x288 with 1 Axes>"
            ]
          },
          "metadata": {
            "tags": [],
            "needs_background": "light"
          }
        }
      ]
    },
    {
      "cell_type": "code",
      "metadata": {
        "id": "kTbMKw_KmYO4"
      },
      "source": [
        ""
      ],
      "execution_count": null,
      "outputs": []
    }
  ]
}