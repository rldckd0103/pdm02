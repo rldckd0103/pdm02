{
  "nbformat": 4,
  "nbformat_minor": 0,
  "metadata": {
    "colab": {
      "name": "st_1_intro.ipynb",
      "provenance": [],
      "collapsed_sections": [],
      "include_colab_link": true
    },
    "kernelspec": {
      "name": "python3",
      "display_name": "Python 3"
    }
  },
  "cells": [
    {
      "cell_type": "markdown",
      "metadata": {
        "id": "view-in-github",
        "colab_type": "text"
      },
      "source": [
        "<a href=\"https://colab.research.google.com/github/rldckd0103/pdm02/blob/master/py-streamlit/st_1_intro.ipynb\" target=\"_parent\"><img src=\"https://colab.research.google.com/assets/colab-badge.svg\" alt=\"Open In Colab\"/></a>"
      ]
    },
    {
      "cell_type": "markdown",
      "metadata": {
        "id": "O5Gq5ZnKOKpX"
      },
      "source": [
        "\n",
        "\n",
        "# streamlit\n",
        "\n",
        "- WebApp generation module => \n",
        "[streamlit-vs-dash-vs-shiny-vs-voila-vs-flask-vs-jupyter](https://towardsdatascience.com/streamlit-vs-dash-vs-shiny-vs-voila-vs-flask-vs-jupyter-24739ab5d569)\n",
        "- !pip install -q streamlit\n",
        "- !pip install pyngrok\n",
        "\n",
        "- Run webapp in Colab\n",
        "    * make streamlit python code\n",
        "    * !streamlit run *.py &>/dev/null&\n",
        "\n",
        "> [How to run streamlit app in colab?](https://mc.ai/how-to-run-and-share-your-deep-learning-web-app-on-colab-2/)"
      ]
    },
    {
      "cell_type": "code",
      "metadata": {
        "id": "R8l0okryNgBJ",
        "outputId": "7b20661c-ae4c-442c-ccf3-582a45d97412",
        "colab": {
          "base_uri": "https://localhost:8080/",
          "height": 323
        }
      },
      "source": [
        "!pip install -q streamlit"
      ],
      "execution_count": 1,
      "outputs": [
        {
          "output_type": "stream",
          "text": [
            "\u001b[K     |████████████████████████████████| 7.4MB 2.6MB/s \n",
            "\u001b[K     |████████████████████████████████| 133kB 47.6MB/s \n",
            "\u001b[K     |████████████████████████████████| 4.4MB 10.8MB/s \n",
            "\u001b[K     |████████████████████████████████| 6.7MB 50.5MB/s \n",
            "\u001b[K     |████████████████████████████████| 112kB 53.7MB/s \n",
            "\u001b[K     |████████████████████████████████| 102kB 9.9MB/s \n",
            "\u001b[K     |████████████████████████████████| 163kB 48.4MB/s \n",
            "\u001b[K     |████████████████████████████████| 71kB 7.3MB/s \n",
            "\u001b[K     |████████████████████████████████| 122kB 45.4MB/s \n",
            "\u001b[K     |████████████████████████████████| 133kB 52.9MB/s \n",
            "\u001b[K     |████████████████████████████████| 71kB 7.9MB/s \n",
            "\u001b[?25h  Building wheel for blinker (setup.py) ... \u001b[?25l\u001b[?25hdone\n",
            "  Building wheel for watchdog (setup.py) ... \u001b[?25l\u001b[?25hdone\n",
            "  Building wheel for pathtools (setup.py) ... \u001b[?25l\u001b[?25hdone\n",
            "\u001b[31mERROR: kaggle 1.5.8 has requirement urllib3<1.25,>=1.21.1, but you'll have urllib3 1.25.11 which is incompatible.\u001b[0m\n",
            "\u001b[31mERROR: google-colab 1.0.0 has requirement ipykernel~=4.10, but you'll have ipykernel 5.3.4 which is incompatible.\u001b[0m\n",
            "\u001b[31mERROR: datascience 0.10.6 has requirement folium==0.2.1, but you'll have folium 0.8.3 which is incompatible.\u001b[0m\n"
          ],
          "name": "stdout"
        }
      ]
    },
    {
      "cell_type": "code",
      "metadata": {
        "id": "7kz92O-cUf5v",
        "outputId": "839d9c87-15c8-41c8-febe-7f2cd6f58b53",
        "colab": {
          "base_uri": "https://localhost:8080/",
          "height": 235
        }
      },
      "source": [
        "!pip install pyngrok"
      ],
      "execution_count": 2,
      "outputs": [
        {
          "output_type": "stream",
          "text": [
            "Collecting pyngrok\n",
            "  Downloading https://files.pythonhosted.org/packages/b3/8a/3cfab0f9f2ac0daf459bf4e378b1e692956315328c7c219ab3e2f401ef1d/pyngrok-4.2.2.tar.gz\n",
            "Requirement already satisfied: future in /usr/local/lib/python3.6/dist-packages (from pyngrok) (0.16.0)\n",
            "Requirement already satisfied: PyYAML in /usr/local/lib/python3.6/dist-packages (from pyngrok) (3.13)\n",
            "Building wheels for collected packages: pyngrok\n",
            "  Building wheel for pyngrok (setup.py) ... \u001b[?25l\u001b[?25hdone\n",
            "  Created wheel for pyngrok: filename=pyngrok-4.2.2-cp36-none-any.whl size=18025 sha256=6d07e4ad8a08dd98de21e0416a48f555e7d95dc7f9658c08d7513c6f5f2f980b\n",
            "  Stored in directory: /root/.cache/pip/wheels/9c/d3/b5/502fbef4b2782a6142bc00c62ccde76ee04c9148fb43b1b2cd\n",
            "Successfully built pyngrok\n",
            "Installing collected packages: pyngrok\n",
            "Successfully installed pyngrok-4.2.2\n"
          ],
          "name": "stdout"
        }
      ]
    },
    {
      "cell_type": "markdown",
      "metadata": {
        "id": "9mVHZe30bbHZ"
      },
      "source": [
        "### st-app-01\n",
        "- text\n",
        "    * title\n",
        "    * header\n",
        "    * subheader\n",
        "- markdown\n",
        "    * heading\n",
        "    * list\n",
        "- latex\n",
        "\n",
        "> [streamlit 기초](https://medium.com/@lucaseo0147/kr-%ED%8C%8C%EC%9D%B4%EC%8D%AC-%EC%9B%B9%EC%96%B4%ED%94%8C%EB%A6%AC%EC%BC%80%EC%9D%B4%EC%85%98-%EB%A7%9B%EB%B3%B4%EA%B8%B0-feat-streamlit-846937a7438d)"
      ]
    },
    {
      "cell_type": "markdown",
      "metadata": {
        "id": "pCTDORsrvGlx"
      },
      "source": [
        "### streamlit code: st_01_start.py\n",
        "```\n",
        "import streamlit as st\n",
        "\n",
        "## Title\n",
        "st.title('Streamlit Tutorial: start')\n",
        "## Header/Subheader\n",
        "st.header('This is header')\n",
        "st.subheader('This is subheader')\n",
        "## Text\n",
        "st.text(\"Hello Streamlit! 이 글은 튜토리얼 입니다.\")\n",
        "\n",
        "# ## Markdown\n",
        "# st.header('Markdown')\n",
        "# st.markdown('# header-1')\n",
        "# st.markdown('## header-2')\n",
        "# st.markdown('###### header-6')\n",
        "\n",
        "# # list\n",
        "# st.header('List')\n",
        "# st.markdown('- list1')\n",
        "# st.markdown('- list2')\n",
        "# st.markdown('- list3\\n'\n",
        "#             '   * inner list1\\n'\n",
        "#             '   * inner list2\\n')\n",
        "\n",
        "# ## Latex\n",
        "# st.header('latex')\n",
        "# st.latex(r\"Y = \\alpha + \\beta X_i\")\n",
        "# ## Latex-inline\n",
        "# st.markdown(r\"회귀분석에서 오차는 다음과 같습니다 $e_i = y_i - \\hat{y}_i$\")\n",
        "# ## Mean squared error\n",
        "# st.subheader(\"Mean squared error\")\n",
        "# st.markdown(r\"$MSE = \\frac{1}{N} \\sum_{i=1}^N (y_i - \\hat{y}_i)^2$\")\n",
        "\n",
        "# ## Message\n",
        "# st.info(\"End of first note: **text, markdown, latex**!\")\n",
        "\n",
        "# ## streamlit messages\n",
        "# st.success(\"Successful\")\n",
        "# st.info(\"Information!\")\n",
        "# st.warning(\"This is a warning\")\n",
        "# st.error(\"This is an error!\")\n",
        "# st.exception(\"NameError('Error name is not defined')\")\n",
        "\n",
        "```"
      ]
    },
    {
      "cell_type": "code",
      "metadata": {
        "id": "Znh9TIehO2DC"
      },
      "source": [
        "!streamlit run st_01_start.py &>/dev/null&"
      ],
      "execution_count": 3,
      "outputs": []
    },
    {
      "cell_type": "code",
      "metadata": {
        "id": "qikO_JXpPF70",
        "outputId": "486e057d-2975-495e-b9ff-5242ad05772c",
        "colab": {
          "base_uri": "https://localhost:8080/",
          "height": 91
        }
      },
      "source": [
        "from pyngrok import ngrok\n",
        "# Setup a tunnel to the streamlit port 8501\n",
        "public_url = ngrok.connect(port='8501')\n",
        "public_url"
      ],
      "execution_count": 4,
      "outputs": [
        {
          "output_type": "stream",
          "text": [
            ""
          ],
          "name": "stdout"
        },
        {
          "output_type": "stream",
          "text": [
            "/usr/local/lib/python3.6/dist-packages/ipykernel_launcher.py:3: DeprecationWarning: Support for \"return_ngrok_tunnel\" as \"False\" is deprecated and will be removed in 5.0.0, when this method will return a NgrokTunnel instead of a str\n",
            "  This is separate from the ipykernel package so we can avoid doing imports until\n"
          ],
          "name": "stderr"
        },
        {
          "output_type": "execute_result",
          "data": {
            "application/vnd.google.colaboratory.intrinsic+json": {
              "type": "string"
            },
            "text/plain": [
              "'http://fa2069cdd536.ngrok.io'"
            ]
          },
          "metadata": {
            "tags": []
          },
          "execution_count": 4
        }
      ]
    },
    {
      "cell_type": "markdown",
      "metadata": {
        "id": "_ZJXFvMCwJU2"
      },
      "source": [
        "### streamlit cheat sheet\n",
        "- https://share.streamlit.io/daniellewisdl/streamlit-cheat-sheet/app.py"
      ]
    },
    {
      "cell_type": "code",
      "metadata": {
        "id": "x8FBPDxPwN8S"
      },
      "source": [
        ""
      ],
      "execution_count": null,
      "outputs": []
    }
  ]
}