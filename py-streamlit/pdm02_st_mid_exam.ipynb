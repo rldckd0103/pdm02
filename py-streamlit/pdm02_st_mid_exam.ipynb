{
  "nbformat": 4,
  "nbformat_minor": 0,
  "metadata": {
    "colab": {
      "name": "pdm02_st_mid_exam.ipynb",
      "provenance": [],
      "collapsed_sections": [],
      "include_colab_link": true
    },
    "kernelspec": {
      "name": "python3",
      "display_name": "Python 3"
    }
  },
  "cells": [
    {
      "cell_type": "markdown",
      "metadata": {
        "id": "view-in-github",
        "colab_type": "text"
      },
      "source": [
        "<a href=\"https://colab.research.google.com/github/rldckd0103/pdm02/blob/master/py-streamlit/pdm02_st_mid_exam.ipynb\" target=\"_parent\"><img src=\"https://colab.research.google.com/assets/colab-badge.svg\" alt=\"Open In Colab\"/></a>"
      ]
    },
    {
      "cell_type": "markdown",
      "metadata": {
        "id": "O5Gq5ZnKOKpX"
      },
      "source": [
        "\n",
        "\n",
        "# streamlit\n",
        "\n",
        "- WebApp generation module => \n",
        "[streamlit-vs-dash-vs-shiny-vs-voila-vs-flask-vs-jupyter](https://towardsdatascience.com/streamlit-vs-dash-vs-shiny-vs-voila-vs-flask-vs-jupyter-24739ab5d569)\n",
        "- !pip install -q streamlit\n",
        "- !pip install pyngrok\n",
        "\n",
        "- Run webapp in Colab\n",
        "    * make streamlit python code\n",
        "    * !streamlit run *.py &>/dev/null&\n",
        "\n",
        "> [How to run streamlit app in colab?](https://mc.ai/how-to-run-and-share-your-deep-learning-web-app-on-colab-2/)"
      ]
    },
    {
      "cell_type": "code",
      "metadata": {
        "id": "R8l0okryNgBJ",
        "outputId": "cd139bc5-661c-4693-98fd-262a81ce4774",
        "colab": {
          "base_uri": "https://localhost:8080/",
          "height": 323
        }
      },
      "source": [
        "!pip install -q streamlit"
      ],
      "execution_count": 1,
      "outputs": [
        {
          "output_type": "stream",
          "text": [
            "\u001b[K     |████████████████████████████████| 7.4MB 3.2MB/s \n",
            "\u001b[K     |████████████████████████████████| 4.4MB 39.9MB/s \n",
            "\u001b[K     |████████████████████████████████| 133kB 49.5MB/s \n",
            "\u001b[K     |████████████████████████████████| 6.7MB 51.2MB/s \n",
            "\u001b[K     |████████████████████████████████| 163kB 43.6MB/s \n",
            "\u001b[K     |████████████████████████████████| 112kB 45.6MB/s \n",
            "\u001b[K     |████████████████████████████████| 102kB 10.1MB/s \n",
            "\u001b[K     |████████████████████████████████| 122kB 49.4MB/s \n",
            "\u001b[K     |████████████████████████████████| 71kB 8.0MB/s \n",
            "\u001b[K     |████████████████████████████████| 133kB 52.1MB/s \n",
            "\u001b[K     |████████████████████████████████| 71kB 8.5MB/s \n",
            "\u001b[?25h  Building wheel for blinker (setup.py) ... \u001b[?25l\u001b[?25hdone\n",
            "  Building wheel for watchdog (setup.py) ... \u001b[?25l\u001b[?25hdone\n",
            "  Building wheel for pathtools (setup.py) ... \u001b[?25l\u001b[?25hdone\n",
            "\u001b[31mERROR: kaggle 1.5.8 has requirement urllib3<1.25,>=1.21.1, but you'll have urllib3 1.25.11 which is incompatible.\u001b[0m\n",
            "\u001b[31mERROR: google-colab 1.0.0 has requirement ipykernel~=4.10, but you'll have ipykernel 5.3.4 which is incompatible.\u001b[0m\n",
            "\u001b[31mERROR: datascience 0.10.6 has requirement folium==0.2.1, but you'll have folium 0.8.3 which is incompatible.\u001b[0m\n"
          ],
          "name": "stdout"
        }
      ]
    },
    {
      "cell_type": "code",
      "metadata": {
        "id": "7kz92O-cUf5v",
        "outputId": "fb89aefb-c6fa-4c84-f6b2-1e143391f4ca",
        "colab": {
          "base_uri": "https://localhost:8080/",
          "height": 235
        }
      },
      "source": [
        "!pip install pyngrok"
      ],
      "execution_count": 2,
      "outputs": [
        {
          "output_type": "stream",
          "text": [
            "Collecting pyngrok\n",
            "  Downloading https://files.pythonhosted.org/packages/b3/8a/3cfab0f9f2ac0daf459bf4e378b1e692956315328c7c219ab3e2f401ef1d/pyngrok-4.2.2.tar.gz\n",
            "Requirement already satisfied: future in /usr/local/lib/python3.6/dist-packages (from pyngrok) (0.16.0)\n",
            "Requirement already satisfied: PyYAML in /usr/local/lib/python3.6/dist-packages (from pyngrok) (3.13)\n",
            "Building wheels for collected packages: pyngrok\n",
            "  Building wheel for pyngrok (setup.py) ... \u001b[?25l\u001b[?25hdone\n",
            "  Created wheel for pyngrok: filename=pyngrok-4.2.2-cp36-none-any.whl size=18025 sha256=faf355b9cf44dc0d914baed9e31398d4d7ea2408f173140e5f9bf3c2e02f64a9\n",
            "  Stored in directory: /root/.cache/pip/wheels/9c/d3/b5/502fbef4b2782a6142bc00c62ccde76ee04c9148fb43b1b2cd\n",
            "Successfully built pyngrok\n",
            "Installing collected packages: pyngrok\n",
            "Successfully installed pyngrok-4.2.2\n"
          ],
          "name": "stdout"
        }
      ]
    },
    {
      "cell_type": "code",
      "metadata": {
        "id": "Znh9TIehO2DC"
      },
      "source": [
        "!streamlit pdm02_st_mid_exam.py &>/dev/null&"
      ],
      "execution_count": 3,
      "outputs": []
    },
    {
      "cell_type": "code",
      "metadata": {
        "id": "qikO_JXpPF70",
        "outputId": "3add8674-fb06-4f3e-e848-1dd8e45489b9",
        "colab": {
          "base_uri": "https://localhost:8080/",
          "height": 91
        }
      },
      "source": [
        "from pyngrok import ngrok\n",
        "# Setup a tunnel to the streamlit port 8501\n",
        "public_url = ngrok.connect(port='8501')\n",
        "public_url"
      ],
      "execution_count": 4,
      "outputs": [
        {
          "output_type": "stream",
          "text": [
            ""
          ],
          "name": "stdout"
        },
        {
          "output_type": "stream",
          "text": [
            "/usr/local/lib/python3.6/dist-packages/ipykernel_launcher.py:3: DeprecationWarning: Support for \"return_ngrok_tunnel\" as \"False\" is deprecated and will be removed in 5.0.0, when this method will return a NgrokTunnel instead of a str\n",
            "  This is separate from the ipykernel package so we can avoid doing imports until\n"
          ],
          "name": "stderr"
        },
        {
          "output_type": "execute_result",
          "data": {
            "application/vnd.google.colaboratory.intrinsic+json": {
              "type": "string"
            },
            "text/plain": [
              "'http://c046d0ffa909.ngrok.io'"
            ]
          },
          "metadata": {
            "tags": []
          },
          "execution_count": 4
        }
      ]
    },
    {
      "cell_type": "markdown",
      "metadata": {
        "id": "_ZJXFvMCwJU2"
      },
      "source": [
        "### streamlit cheat sheet\n",
        "- https://share.streamlit.io/daniellewisdl/streamlit-cheat-sheet/app.py"
      ]
    },
    {
      "cell_type": "code",
      "metadata": {
        "id": "x8FBPDxPwN8S"
      },
      "source": [
        ""
      ],
      "execution_count": null,
      "outputs": []
    }
  ]
}