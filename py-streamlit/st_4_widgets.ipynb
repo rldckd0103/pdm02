{
  "nbformat": 4,
  "nbformat_minor": 0,
  "metadata": {
    "colab": {
      "name": "st_4_widgets.ipynb",
      "provenance": [],
      "collapsed_sections": [],
      "include_colab_link": true
    },
    "kernelspec": {
      "name": "python3",
      "display_name": "Python 3"
    }
  },
  "cells": [
    {
      "cell_type": "markdown",
      "metadata": {
        "id": "view-in-github",
        "colab_type": "text"
      },
      "source": [
        "<a href=\"https://colab.research.google.com/github/rldckd0103/pdm02/blob/master/py-streamlit/st_4_widgets.ipynb\" target=\"_parent\"><img src=\"https://colab.research.google.com/assets/colab-badge.svg\" alt=\"Open In Colab\"/></a>"
      ]
    },
    {
      "cell_type": "markdown",
      "metadata": {
        "id": "O5Gq5ZnKOKpX"
      },
      "source": [
        "\n",
        "\n",
        "# streamlit\n",
        "\n",
        "- WebApp generation module => \n",
        "[streamlit-vs-dash-vs-shiny-vs-voila-vs-flask-vs-jupyter](https://towardsdatascience.com/streamlit-vs-dash-vs-shiny-vs-voila-vs-flask-vs-jupyter-24739ab5d569)\n",
        "- !pip install -q streamlit\n",
        "- !pip install pyngrok\n",
        "\n",
        "- Run webapp in Colab\n",
        "    * make streamlit python code\n",
        "    * !streamlit run *.py &>/dev/null&\n",
        "\n",
        "> [How to run streamlit app in colab?](https://mc.ai/how-to-run-and-share-your-deep-learning-web-app-on-colab-2/)"
      ]
    },
    {
      "cell_type": "code",
      "metadata": {
        "id": "R8l0okryNgBJ",
        "outputId": "418dbd7f-872d-47ac-e73d-75b7b6c27be3",
        "colab": {
          "base_uri": "https://localhost:8080/",
          "height": 343
        }
      },
      "source": [
        "!pip install -q streamlit"
      ],
      "execution_count": 1,
      "outputs": [
        {
          "output_type": "stream",
          "text": [
            "\u001b[K     |████████████████████████████████| 7.4MB 2.7MB/s \n",
            "\u001b[K     |████████████████████████████████| 102kB 11.4MB/s \n",
            "\u001b[K     |████████████████████████████████| 112kB 47.2MB/s \n",
            "\u001b[K     |████████████████████████████████| 133kB 49.9MB/s \n",
            "\u001b[K     |████████████████████████████████| 6.7MB 50.6MB/s \n",
            "\u001b[K     |████████████████████████████████| 4.4MB 49.6MB/s \n",
            "\u001b[K     |████████████████████████████████| 163kB 51.4MB/s \n",
            "\u001b[K     |████████████████████████████████| 71kB 8.3MB/s \n",
            "\u001b[K     |████████████████████████████████| 133kB 53.7MB/s \n",
            "\u001b[K     |████████████████████████████████| 122kB 49.1MB/s \n",
            "\u001b[K     |████████████████████████████████| 71kB 9.0MB/s \n",
            "\u001b[?25h  Building wheel for watchdog (setup.py) ... \u001b[?25l\u001b[?25hdone\n",
            "  Building wheel for blinker (setup.py) ... \u001b[?25l\u001b[?25hdone\n",
            "  Building wheel for pathtools (setup.py) ... \u001b[?25l\u001b[?25hdone\n",
            "\u001b[31mERROR: kaggle 1.5.8 has requirement urllib3<1.25,>=1.21.1, but you'll have urllib3 1.25.11 which is incompatible.\u001b[0m\n",
            "\u001b[31mERROR: google-colab 1.0.0 has requirement ipykernel~=4.10, but you'll have ipykernel 5.3.4 which is incompatible.\u001b[0m\n",
            "\u001b[31mERROR: datascience 0.10.6 has requirement folium==0.2.1, but you'll have folium 0.8.3 which is incompatible.\u001b[0m\n"
          ],
          "name": "stdout"
        }
      ]
    },
    {
      "cell_type": "code",
      "metadata": {
        "id": "7kz92O-cUf5v",
        "outputId": "f70a83e6-5a8e-4145-f984-97891bbc8ef4",
        "colab": {
          "base_uri": "https://localhost:8080/",
          "height": 235
        }
      },
      "source": [
        "!pip install pyngrok"
      ],
      "execution_count": 1,
      "outputs": [
        {
          "output_type": "stream",
          "text": [
            "Collecting pyngrok\n",
            "  Downloading https://files.pythonhosted.org/packages/b3/8a/3cfab0f9f2ac0daf459bf4e378b1e692956315328c7c219ab3e2f401ef1d/pyngrok-4.2.2.tar.gz\n",
            "Requirement already satisfied: future in /usr/local/lib/python3.6/dist-packages (from pyngrok) (0.16.0)\n",
            "Requirement already satisfied: PyYAML in /usr/local/lib/python3.6/dist-packages (from pyngrok) (3.13)\n",
            "Building wheels for collected packages: pyngrok\n",
            "  Building wheel for pyngrok (setup.py) ... \u001b[?25l\u001b[?25hdone\n",
            "  Created wheel for pyngrok: filename=pyngrok-4.2.2-cp36-none-any.whl size=18025 sha256=6a69fd8787a4cc3515969ffc23653cb117edfc527c0816ee0a59142c692f6ad6\n",
            "  Stored in directory: /root/.cache/pip/wheels/9c/d3/b5/502fbef4b2782a6142bc00c62ccde76ee04c9148fb43b1b2cd\n",
            "Successfully built pyngrok\n",
            "Installing collected packages: pyngrok\n",
            "Successfully installed pyngrok-4.2.2\n"
          ],
          "name": "stdout"
        }
      ]
    },
    {
      "cell_type": "markdown",
      "metadata": {
        "id": "qGIbFpyabeYG"
      },
      "source": [
        "### st-app-04\n",
        "- widgets\n",
        "    - checkbox: st.checkbox()\n",
        "    - radio button: st.radio()\n",
        "    - dropdown select: st.selectbox()\n",
        "    - dropdown multiselect: st.multiselect()\n",
        "    - slider: st.slider()\n",
        "    - button: st.button()\n",
        "    - text: st.text_input(). st.text_area()\n",
        "    - data & time: st.date_input(), st.time_input()\n",
        "    - code & json: st.code(), with st.echo()\n",
        "- sidebar\n",
        "\n",
        "\n",
        "> [streamlit 기초](https://medium.com/@lucaseo0147/kr-%ED%8C%8C%EC%9D%B4%EC%8D%AC-%EC%9B%B9%EC%96%B4%ED%94%8C%EB%A6%AC%EC%BC%80%EC%9D%B4%EC%85%98-%EB%A7%9B%EB%B3%B4%EA%B8%B0-feat-streamlit-846937a7438d)"
      ]
    },
    {
      "cell_type": "markdown",
      "metadata": {
        "id": "RFQf7xGBoWTg"
      },
      "source": [
        "### streamlit code\n",
        "```\n",
        "## Widget\n",
        "## Checkbox\n",
        "if st.checkbox(\"Show/Hide\"):\n",
        "    st.text(\"체크박스가 선택되었습니다.\")\n",
        "\n",
        "\n",
        "<!-- ## Widget\n",
        "## Checkbox\n",
        "if st.checkbox(\"Show/Hide\"):\n",
        "    st.text(\"체크박스가 선택되었습니다.\")\n",
        " \n",
        " \n",
        "# st.markdown(\"* * *\")\n",
        " \n",
        " \n",
        "# ## Radio button\n",
        "# status = st.radio(\"Select status.\", (\"Active\", \"Inactive\"))\n",
        "# if status == \"Active\":\n",
        "#     st.success(\"활성화 되었습니다.\")\n",
        "# else:\n",
        "#     st.warning(\"비활성화 되었습니다.\")\n",
        " \n",
        " \n",
        "# st.markdown(\"* * *\")\n",
        " \n",
        " \n",
        "# # Select Box (ex)\n",
        "# occupation = st.selectbox(\"직군을 선택하세요.\",\n",
        "#                           [\"Backend Developer\",\n",
        "#                            \"Frontend Developer\",\n",
        "#                            \"ML Engineer\",\n",
        "#                            \"Data Engineer\",\n",
        "#                            \"Database Administrator\",\n",
        "#                            \"Data Scientist\",\n",
        "#                            \"Data Analyst\",\n",
        "#                            \"Security Engineer\"])\n",
        "# st.write(\"당신의 직군은 \", occupation, \" 입니다.\")\n",
        " \n",
        " \n",
        "# st.markdown(\"* * *\")\n",
        " \n",
        " \n",
        "# ## MultiSelect\n",
        "# location = st.multiselect(\"선호하는 유투브 채널을 선택하세요.\",\n",
        "#                           (\"운동\", \"IT기기\", \"브이로그\",\n",
        "#                            \"먹방\", \"반려동물\", \"맛집 리뷰\"))\n",
        "# st.write(len(location), \"가지를 선택했습니다.\")\n",
        " \n",
        " \n",
        "# st.markdown(\"* * *\")\n",
        " \n",
        " \n",
        "# ## Buttons\n",
        "# if st.button(\"About\"):\n",
        "#     st.text(\"Streamlit을 이용한 튜토리얼입니다.\")\n",
        " \n",
        " \n",
        "# st.markdown(\"* * *\")\n",
        " \n",
        " \n",
        "# # Text Input\n",
        "# first_name = st.text_input(\"이름을 입력하세요.\", \"Type Here ...\")\n",
        "# if st.button(\"Submit\", key='first_name'):\n",
        "#     result = first_name.title()\n",
        "#     st.success(result)\n",
        " \n",
        " \n",
        "# # Text Area\n",
        "# message = st.text_area(\"메세지를 입력하세요.\", \"Type Here ...\")\n",
        "# if st.button(\"Submit\", key='message'):\n",
        "#     result = message.title()\n",
        "#     st.success(result)\n",
        " \n",
        " \n",
        "# st.markdown(\"* * *\")\n",
        " \n",
        " \n",
        "# ## Date Input\n",
        "# import datetime\n",
        "# today = st.date_input(\"날짜를 선택하세요.\", datetime.datetime.now())\n",
        "# the_time = st.time_input(\"시간을 입력하세요.\", datetime.time())\n",
        " \n",
        " \n",
        "# st.markdown(\"* * *\")\n",
        " \n",
        " \n",
        "# # Display Raw Code - one line\n",
        "# st.subheader(\"Display one-line code\")\n",
        "# st.code(\"import numpy as np\")\n",
        " \n",
        "# # Display Raw Code - snippet\n",
        "# st.subheader(\"Display code snippet\")\n",
        "# with st.echo():\n",
        "#     # 여기서부터 아래의 코드를 출력합니다.\n",
        "#     import pandas as pd\n",
        "#     df = pd.DataFrame()\n",
        " \n",
        " \n",
        " \n",
        "# ## Display JSON\n",
        "# st.subheader(\"Display JSON\")\n",
        "# st.json({'name' : '민수', 'gender':'male', 'Age': 29})\n",
        " \n",
        " \n",
        "# st.markdown(\"* * *\")\n",
        " \n",
        " \n",
        "# ## Sidebars\n",
        "# st.sidebar.header(\"사이드바 메뉴\")\n",
        "# st.sidebar.selectbox(\"메뉴를 선택하세요.\",\n",
        "#                     [\"데이터\",\n",
        "#                      \"EDA\",\n",
        "#                      \"코드\"])\n",
        "\n",
        "## streamlit charts\n",
        "## Plotting\n",
        "# load iris.csv\n",
        "# st.set_option('deprecation.showPyplotGlobalUse', False)\n",
        "# import pandas as pd\n",
        "#\n",
        "\n",
        "```"
      ]
    },
    {
      "cell_type": "code",
      "metadata": {
        "id": "WLwyAK0xV_yu"
      },
      "source": [
        "!streamlit run st_04_widgets.py &>/dev/null&"
      ],
      "execution_count": 2,
      "outputs": []
    },
    {
      "cell_type": "code",
      "metadata": {
        "id": "SJRONSuiX4gJ",
        "outputId": "68584eab-b9f7-405a-9981-d79097e5d855",
        "colab": {
          "base_uri": "https://localhost:8080/",
          "height": 91
        }
      },
      "source": [
        "from pyngrok import ngrok\n",
        "# Setup a tunnel to the streamlit port 8501\n",
        "public_url = ngrok.connect(port='8501')\n",
        "public_url"
      ],
      "execution_count": 3,
      "outputs": [
        {
          "output_type": "stream",
          "text": [
            ""
          ],
          "name": "stdout"
        },
        {
          "output_type": "stream",
          "text": [
            "/usr/local/lib/python3.6/dist-packages/ipykernel_launcher.py:3: DeprecationWarning: Support for \"return_ngrok_tunnel\" as \"False\" is deprecated and will be removed in 5.0.0, when this method will return a NgrokTunnel instead of a str\n",
            "  This is separate from the ipykernel package so we can avoid doing imports until\n"
          ],
          "name": "stderr"
        },
        {
          "output_type": "execute_result",
          "data": {
            "application/vnd.google.colaboratory.intrinsic+json": {
              "type": "string"
            },
            "text/plain": [
              "'http://eda7eafa86e1.ngrok.io'"
            ]
          },
          "metadata": {
            "tags": []
          },
          "execution_count": 3
        }
      ]
    },
    {
      "cell_type": "markdown",
      "metadata": {
        "id": "t7CpOdeFttzY"
      },
      "source": [
        "***"
      ]
    },
    {
      "cell_type": "markdown",
      "metadata": {
        "id": "oquiDq8xtTlG"
      },
      "source": [
        "### [도전 과제]\n",
        "\n",
        "- Update st_04_widgets.py\n",
        "    * Load iris data\n",
        "    * Show the histogram of 'petal length' of 'virginica'"
      ]
    },
    {
      "cell_type": "markdown",
      "metadata": {
        "id": "T-1R8LT_UvNd"
      },
      "source": [
        "### Chart & Graph\n",
        "\n",
        "* use st.pyplot()\n",
        "\n",
        "```\n",
        "## Plotting\n",
        "st.subheader(\"Matplotlib/Pandas로 차트 그리기\")\n",
        "iris_df[iris_df['target']=='virginica']['petal length (cm)'].hist()\n",
        "st.pyplot()\n",
        "\n",
        "```"
      ]
    },
    {
      "cell_type": "markdown",
      "metadata": {
        "id": "_-A11fShtv4v"
      },
      "source": [
        "***"
      ]
    },
    {
      "cell_type": "markdown",
      "metadata": {
        "id": "04-bP_keed1E"
      },
      "source": [
        "# st-app-demo-03\n",
        "- Plot charts and graphs of diabetes.csv \n",
        "- [blog on diabetes,csv](https://medium.com/@randerson112358/build-a-machine-learning-web-app-using-python-dad9a1629c96)\n",
        "- [data-visualization-using-streamlit](https://towardsdatascience.com/data-visualization-using-streamlit-151f4c85c79a)\n"
      ]
    },
    {
      "cell_type": "markdown",
      "metadata": {
        "id": "NFeJ7lMD1oPS"
      },
      "source": [
        "### Code hint\n",
        "```\n",
        "#Get the data\n",
        "df = pd.read_csv(\"diabetes.csv\")\n",
        "st.subheader('Data Information:')\n",
        "#Show the data as a table (you can also use st.write(df))\n",
        "st.dataframe(df)\n",
        "#Get statistics on the data\n",
        "st.write(df.describe())\n",
        "# Show the data as a chart.\n",
        "chart = st.line_chart(df)\n",
        "\n",
        "```"
      ]
    },
    {
      "cell_type": "markdown",
      "metadata": {
        "id": "AbdShmjut0Uc"
      },
      "source": [
        "### Colab에서 새로운 streamlit 앱을 실행하는 방법\n",
        "- 런타임 초기화\n",
        "- 새로 연결\n",
        "- upload files\n",
        "    * diabetes-charts-app.py"
      ]
    },
    {
      "cell_type": "code",
      "metadata": {
        "id": "r40wJWwIeZje"
      },
      "source": [
        "!streamlit run diabetes-charts-app.py &>/dev/null&"
      ],
      "execution_count": null,
      "outputs": []
    },
    {
      "cell_type": "code",
      "metadata": {
        "id": "_WWniiGpeZjr",
        "cellView": "both"
      },
      "source": [
        "#@title\n",
        "from pyngrok import ngrok\n",
        "# Setup a tunnel to the streamlit port 8501\n",
        "public_url = ngrok.connect(port='8501')\n",
        "public_url"
      ],
      "execution_count": null,
      "outputs": []
    },
    {
      "cell_type": "markdown",
      "metadata": {
        "id": "3ysPsTNYLROI"
      },
      "source": [
        "***"
      ]
    },
    {
      "cell_type": "markdown",
      "metadata": {
        "id": "Z8CjwEDzLNBn"
      },
      "source": [
        "# streamlit cheat sheet\n",
        "* https://share.streamlit.io/daniellewisdl/streamlit-cheat-sheet/app.py"
      ]
    },
    {
      "cell_type": "code",
      "metadata": {
        "id": "0yIY8Cm9LP5Z"
      },
      "source": [
        ""
      ],
      "execution_count": null,
      "outputs": []
    }
  ]
}