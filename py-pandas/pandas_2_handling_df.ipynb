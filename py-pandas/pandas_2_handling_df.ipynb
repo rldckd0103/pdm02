{
  "nbformat": 4,
  "nbformat_minor": 0,
  "metadata": {
    "kernelspec": {
      "name": "python3",
      "display_name": "Python 3"
    },
    "language_info": {
      "codemirror_mode": {
        "name": "ipython",
        "version": 3
      },
      "file_extension": ".py",
      "mimetype": "text/x-python",
      "name": "python",
      "nbconvert_exporter": "python",
      "pygments_lexer": "ipython3",
      "version": "3.6.6"
    },
    "colab": {
      "name": "pandas_2_handling_df.ipynb",
      "provenance": [],
      "collapsed_sections": [],
      "include_colab_link": true
    }
  },
  "cells": [
    {
      "cell_type": "markdown",
      "metadata": {
        "id": "view-in-github",
        "colab_type": "text"
      },
      "source": [
        "<a href=\"https://colab.research.google.com/github/rldckd0103/pdm02/blob/master/py-pandas/pandas_2_handling_df.ipynb\" target=\"_parent\"><img src=\"https://colab.research.google.com/assets/colab-badge.svg\" alt=\"Open In Colab\"/></a>"
      ]
    },
    {
      "cell_type": "markdown",
      "metadata": {
        "id": "-a_Ksvwdx5pf"
      },
      "source": [
        "### Python module 3. **pandas**"
      ]
    },
    {
      "cell_type": "markdown",
      "metadata": {
        "id": "P_F0RSPKx5pl"
      },
      "source": [
        "# Using pandas"
      ]
    },
    {
      "cell_type": "markdown",
      "metadata": {
        "id": "FfxMgWUFx5pm"
      },
      "source": [
        "* [10 Minutes to pandas](https://pandas.pydata.org/pandas-docs/stable/10min.html)\n",
        "* [Pandas tutorial with interactive exercises](https://www.kaggle.com/pistak/pandas-tutorial-with-interactive-exercises)"
      ]
    },
    {
      "cell_type": "code",
      "metadata": {
        "id": "2mpGSeRlx5po"
      },
      "source": [
        "import pandas as pd\n",
        "import numpy as np\n",
        "import matplotlib.pyplot as plt\n",
        "# %matplotlib inline  # work for Jupyter notebook or lab"
      ],
      "execution_count": 1,
      "outputs": []
    },
    {
      "cell_type": "markdown",
      "metadata": {
        "id": "wq1nIp3F1fFB"
      },
      "source": [
        "\n",
        "\n",
        "---\n",
        "\n"
      ]
    },
    {
      "cell_type": "markdown",
      "metadata": {
        "id": "D3zoFQ4bx5qh"
      },
      "source": [
        "## [2] Handling DataFrame\n",
        "- head()\n",
        "- tail()\n",
        "- describe()\n",
        "- info()"
      ]
    },
    {
      "cell_type": "code",
      "metadata": {
        "id": "w2eNkCfLx5p-",
        "outputId": "cd2508b2-fc01-44bf-aa0f-51d8b92fe190",
        "colab": {
          "base_uri": "https://localhost:8080/",
          "height": 71
        }
      },
      "source": [
        "# Creating a DataFrame by passing a NumPy array, with a datetime index and labeled columns:\n",
        "dates = pd.date_range('20200928', periods=6)\n",
        "dates"
      ],
      "execution_count": 2,
      "outputs": [
        {
          "output_type": "execute_result",
          "data": {
            "text/plain": [
              "DatetimeIndex(['2020-09-28', '2020-09-29', '2020-09-30', '2020-10-01',\n",
              "               '2020-10-02', '2020-10-03'],\n",
              "              dtype='datetime64[ns]', freq='D')"
            ]
          },
          "metadata": {
            "tags": []
          },
          "execution_count": 2
        }
      ]
    },
    {
      "cell_type": "code",
      "metadata": {
        "id": "dHwUodTGx5qj",
        "outputId": "caf9b862-0b5a-4a69-ad46-9447d0c68081",
        "colab": {
          "base_uri": "https://localhost:8080/",
          "height": 204
        }
      },
      "source": [
        "# head()\n",
        "df = pd.DataFrame(np.random.randn(6,4), index=dates, columns=list('ABCD'))\n",
        "df.head()"
      ],
      "execution_count": 3,
      "outputs": [
        {
          "output_type": "execute_result",
          "data": {
            "text/html": [
              "<div>\n",
              "<style scoped>\n",
              "    .dataframe tbody tr th:only-of-type {\n",
              "        vertical-align: middle;\n",
              "    }\n",
              "\n",
              "    .dataframe tbody tr th {\n",
              "        vertical-align: top;\n",
              "    }\n",
              "\n",
              "    .dataframe thead th {\n",
              "        text-align: right;\n",
              "    }\n",
              "</style>\n",
              "<table border=\"1\" class=\"dataframe\">\n",
              "  <thead>\n",
              "    <tr style=\"text-align: right;\">\n",
              "      <th></th>\n",
              "      <th>A</th>\n",
              "      <th>B</th>\n",
              "      <th>C</th>\n",
              "      <th>D</th>\n",
              "    </tr>\n",
              "  </thead>\n",
              "  <tbody>\n",
              "    <tr>\n",
              "      <th>2020-09-28</th>\n",
              "      <td>-0.540402</td>\n",
              "      <td>0.715266</td>\n",
              "      <td>1.043851</td>\n",
              "      <td>-0.065435</td>\n",
              "    </tr>\n",
              "    <tr>\n",
              "      <th>2020-09-29</th>\n",
              "      <td>-1.234122</td>\n",
              "      <td>-0.386537</td>\n",
              "      <td>-0.250567</td>\n",
              "      <td>-0.987179</td>\n",
              "    </tr>\n",
              "    <tr>\n",
              "      <th>2020-09-30</th>\n",
              "      <td>0.050658</td>\n",
              "      <td>0.077652</td>\n",
              "      <td>0.798188</td>\n",
              "      <td>0.053874</td>\n",
              "    </tr>\n",
              "    <tr>\n",
              "      <th>2020-10-01</th>\n",
              "      <td>0.239431</td>\n",
              "      <td>-0.912862</td>\n",
              "      <td>0.797022</td>\n",
              "      <td>-1.923248</td>\n",
              "    </tr>\n",
              "    <tr>\n",
              "      <th>2020-10-02</th>\n",
              "      <td>0.337008</td>\n",
              "      <td>-0.882342</td>\n",
              "      <td>-0.426790</td>\n",
              "      <td>2.013323</td>\n",
              "    </tr>\n",
              "  </tbody>\n",
              "</table>\n",
              "</div>"
            ],
            "text/plain": [
              "                   A         B         C         D\n",
              "2020-09-28 -0.540402  0.715266  1.043851 -0.065435\n",
              "2020-09-29 -1.234122 -0.386537 -0.250567 -0.987179\n",
              "2020-09-30  0.050658  0.077652  0.798188  0.053874\n",
              "2020-10-01  0.239431 -0.912862  0.797022 -1.923248\n",
              "2020-10-02  0.337008 -0.882342 -0.426790  2.013323"
            ]
          },
          "metadata": {
            "tags": []
          },
          "execution_count": 3
        }
      ]
    },
    {
      "cell_type": "code",
      "metadata": {
        "id": "OvYDoBVE1og9",
        "outputId": "eeb6e237-1812-4e9a-b935-af410ec3ec9d",
        "colab": {
          "base_uri": "https://localhost:8080/",
          "height": 111
        }
      },
      "source": [
        "df.head(2)"
      ],
      "execution_count": 4,
      "outputs": [
        {
          "output_type": "execute_result",
          "data": {
            "text/html": [
              "<div>\n",
              "<style scoped>\n",
              "    .dataframe tbody tr th:only-of-type {\n",
              "        vertical-align: middle;\n",
              "    }\n",
              "\n",
              "    .dataframe tbody tr th {\n",
              "        vertical-align: top;\n",
              "    }\n",
              "\n",
              "    .dataframe thead th {\n",
              "        text-align: right;\n",
              "    }\n",
              "</style>\n",
              "<table border=\"1\" class=\"dataframe\">\n",
              "  <thead>\n",
              "    <tr style=\"text-align: right;\">\n",
              "      <th></th>\n",
              "      <th>A</th>\n",
              "      <th>B</th>\n",
              "      <th>C</th>\n",
              "      <th>D</th>\n",
              "    </tr>\n",
              "  </thead>\n",
              "  <tbody>\n",
              "    <tr>\n",
              "      <th>2020-09-28</th>\n",
              "      <td>-0.540402</td>\n",
              "      <td>0.715266</td>\n",
              "      <td>1.043851</td>\n",
              "      <td>-0.065435</td>\n",
              "    </tr>\n",
              "    <tr>\n",
              "      <th>2020-09-29</th>\n",
              "      <td>-1.234122</td>\n",
              "      <td>-0.386537</td>\n",
              "      <td>-0.250567</td>\n",
              "      <td>-0.987179</td>\n",
              "    </tr>\n",
              "  </tbody>\n",
              "</table>\n",
              "</div>"
            ],
            "text/plain": [
              "                   A         B         C         D\n",
              "2020-09-28 -0.540402  0.715266  1.043851 -0.065435\n",
              "2020-09-29 -1.234122 -0.386537 -0.250567 -0.987179"
            ]
          },
          "metadata": {
            "tags": []
          },
          "execution_count": 4
        }
      ]
    },
    {
      "cell_type": "code",
      "metadata": {
        "id": "LzWwuDWDx5qo",
        "outputId": "ba13b2be-6637-420a-b750-7e3c8defb80f",
        "colab": {
          "base_uri": "https://localhost:8080/",
          "height": 142
        }
      },
      "source": [
        "df.tail(3)"
      ],
      "execution_count": 5,
      "outputs": [
        {
          "output_type": "execute_result",
          "data": {
            "text/html": [
              "<div>\n",
              "<style scoped>\n",
              "    .dataframe tbody tr th:only-of-type {\n",
              "        vertical-align: middle;\n",
              "    }\n",
              "\n",
              "    .dataframe tbody tr th {\n",
              "        vertical-align: top;\n",
              "    }\n",
              "\n",
              "    .dataframe thead th {\n",
              "        text-align: right;\n",
              "    }\n",
              "</style>\n",
              "<table border=\"1\" class=\"dataframe\">\n",
              "  <thead>\n",
              "    <tr style=\"text-align: right;\">\n",
              "      <th></th>\n",
              "      <th>A</th>\n",
              "      <th>B</th>\n",
              "      <th>C</th>\n",
              "      <th>D</th>\n",
              "    </tr>\n",
              "  </thead>\n",
              "  <tbody>\n",
              "    <tr>\n",
              "      <th>2020-10-01</th>\n",
              "      <td>0.239431</td>\n",
              "      <td>-0.912862</td>\n",
              "      <td>0.797022</td>\n",
              "      <td>-1.923248</td>\n",
              "    </tr>\n",
              "    <tr>\n",
              "      <th>2020-10-02</th>\n",
              "      <td>0.337008</td>\n",
              "      <td>-0.882342</td>\n",
              "      <td>-0.426790</td>\n",
              "      <td>2.013323</td>\n",
              "    </tr>\n",
              "    <tr>\n",
              "      <th>2020-10-03</th>\n",
              "      <td>0.669561</td>\n",
              "      <td>0.559816</td>\n",
              "      <td>0.828837</td>\n",
              "      <td>-1.031182</td>\n",
              "    </tr>\n",
              "  </tbody>\n",
              "</table>\n",
              "</div>"
            ],
            "text/plain": [
              "                   A         B         C         D\n",
              "2020-10-01  0.239431 -0.912862  0.797022 -1.923248\n",
              "2020-10-02  0.337008 -0.882342 -0.426790  2.013323\n",
              "2020-10-03  0.669561  0.559816  0.828837 -1.031182"
            ]
          },
          "metadata": {
            "tags": []
          },
          "execution_count": 5
        }
      ]
    },
    {
      "cell_type": "code",
      "metadata": {
        "id": "rJLH024Zx5qs",
        "outputId": "9ee992d5-4268-4309-906f-147fccb30c25",
        "colab": {
          "base_uri": "https://localhost:8080/",
          "height": 71
        }
      },
      "source": [
        "# Display the index, columns, and the underlying NumPy data:\n",
        "df.index"
      ],
      "execution_count": 6,
      "outputs": [
        {
          "output_type": "execute_result",
          "data": {
            "text/plain": [
              "DatetimeIndex(['2020-09-28', '2020-09-29', '2020-09-30', '2020-10-01',\n",
              "               '2020-10-02', '2020-10-03'],\n",
              "              dtype='datetime64[ns]', freq='D')"
            ]
          },
          "metadata": {
            "tags": []
          },
          "execution_count": 6
        }
      ]
    },
    {
      "cell_type": "code",
      "metadata": {
        "id": "TB-CHW85x5rA",
        "outputId": "5e828e95-6d5a-4d75-bd74-2684e814074d",
        "colab": {
          "base_uri": "https://localhost:8080/",
          "height": 233
        }
      },
      "source": [
        "df.info()"
      ],
      "execution_count": 7,
      "outputs": [
        {
          "output_type": "stream",
          "text": [
            "<class 'pandas.core.frame.DataFrame'>\n",
            "DatetimeIndex: 6 entries, 2020-09-28 to 2020-10-03\n",
            "Freq: D\n",
            "Data columns (total 4 columns):\n",
            " #   Column  Non-Null Count  Dtype  \n",
            "---  ------  --------------  -----  \n",
            " 0   A       6 non-null      float64\n",
            " 1   B       6 non-null      float64\n",
            " 2   C       6 non-null      float64\n",
            " 3   D       6 non-null      float64\n",
            "dtypes: float64(4)\n",
            "memory usage: 240.0 bytes\n"
          ],
          "name": "stdout"
        }
      ]
    },
    {
      "cell_type": "code",
      "metadata": {
        "id": "PEzVmjUAx5q7",
        "outputId": "49fa8489-ba3b-46a4-e07f-451dd6d9a911",
        "colab": {
          "base_uri": "https://localhost:8080/",
          "height": 297
        }
      },
      "source": [
        "# describe() shows a quick statistic summary of your data:\n",
        "df.describe()"
      ],
      "execution_count": 8,
      "outputs": [
        {
          "output_type": "execute_result",
          "data": {
            "text/html": [
              "<div>\n",
              "<style scoped>\n",
              "    .dataframe tbody tr th:only-of-type {\n",
              "        vertical-align: middle;\n",
              "    }\n",
              "\n",
              "    .dataframe tbody tr th {\n",
              "        vertical-align: top;\n",
              "    }\n",
              "\n",
              "    .dataframe thead th {\n",
              "        text-align: right;\n",
              "    }\n",
              "</style>\n",
              "<table border=\"1\" class=\"dataframe\">\n",
              "  <thead>\n",
              "    <tr style=\"text-align: right;\">\n",
              "      <th></th>\n",
              "      <th>A</th>\n",
              "      <th>B</th>\n",
              "      <th>C</th>\n",
              "      <th>D</th>\n",
              "    </tr>\n",
              "  </thead>\n",
              "  <tbody>\n",
              "    <tr>\n",
              "      <th>count</th>\n",
              "      <td>6.000000</td>\n",
              "      <td>6.000000</td>\n",
              "      <td>6.000000</td>\n",
              "      <td>6.000000</td>\n",
              "    </tr>\n",
              "    <tr>\n",
              "      <th>mean</th>\n",
              "      <td>-0.079644</td>\n",
              "      <td>-0.138168</td>\n",
              "      <td>0.465090</td>\n",
              "      <td>-0.323308</td>\n",
              "    </tr>\n",
              "    <tr>\n",
              "      <th>std</th>\n",
              "      <td>0.692649</td>\n",
              "      <td>0.703952</td>\n",
              "      <td>0.631826</td>\n",
              "      <td>1.354269</td>\n",
              "    </tr>\n",
              "    <tr>\n",
              "      <th>min</th>\n",
              "      <td>-1.234122</td>\n",
              "      <td>-0.912862</td>\n",
              "      <td>-0.426790</td>\n",
              "      <td>-1.923248</td>\n",
              "    </tr>\n",
              "    <tr>\n",
              "      <th>25%</th>\n",
              "      <td>-0.392637</td>\n",
              "      <td>-0.758391</td>\n",
              "      <td>0.011331</td>\n",
              "      <td>-1.020181</td>\n",
              "    </tr>\n",
              "    <tr>\n",
              "      <th>50%</th>\n",
              "      <td>0.145044</td>\n",
              "      <td>-0.154443</td>\n",
              "      <td>0.797605</td>\n",
              "      <td>-0.526307</td>\n",
              "    </tr>\n",
              "    <tr>\n",
              "      <th>75%</th>\n",
              "      <td>0.312614</td>\n",
              "      <td>0.439275</td>\n",
              "      <td>0.821175</td>\n",
              "      <td>0.024047</td>\n",
              "    </tr>\n",
              "    <tr>\n",
              "      <th>max</th>\n",
              "      <td>0.669561</td>\n",
              "      <td>0.715266</td>\n",
              "      <td>1.043851</td>\n",
              "      <td>2.013323</td>\n",
              "    </tr>\n",
              "  </tbody>\n",
              "</table>\n",
              "</div>"
            ],
            "text/plain": [
              "              A         B         C         D\n",
              "count  6.000000  6.000000  6.000000  6.000000\n",
              "mean  -0.079644 -0.138168  0.465090 -0.323308\n",
              "std    0.692649  0.703952  0.631826  1.354269\n",
              "min   -1.234122 -0.912862 -0.426790 -1.923248\n",
              "25%   -0.392637 -0.758391  0.011331 -1.020181\n",
              "50%    0.145044 -0.154443  0.797605 -0.526307\n",
              "75%    0.312614  0.439275  0.821175  0.024047\n",
              "max    0.669561  0.715266  1.043851  2.013323"
            ]
          },
          "metadata": {
            "tags": []
          },
          "execution_count": 8
        }
      ]
    },
    {
      "cell_type": "code",
      "metadata": {
        "id": "UOIWmDR-x5qz",
        "outputId": "e4c25c1f-c052-41b9-e040-c4c9f54cb3bf",
        "colab": {
          "base_uri": "https://localhost:8080/",
          "height": 35
        }
      },
      "source": [
        "df.columns"
      ],
      "execution_count": 9,
      "outputs": [
        {
          "output_type": "execute_result",
          "data": {
            "text/plain": [
              "Index(['A', 'B', 'C', 'D'], dtype='object')"
            ]
          },
          "metadata": {
            "tags": []
          },
          "execution_count": 9
        }
      ]
    },
    {
      "cell_type": "code",
      "metadata": {
        "id": "Br9VwFVex5rE",
        "outputId": "08b5c66c-45a8-44d1-eab8-aea8518d7925",
        "colab": {
          "base_uri": "https://localhost:8080/",
          "height": 173
        }
      },
      "source": [
        "# Transposing your dataframe:\n",
        "df.T"
      ],
      "execution_count": 10,
      "outputs": [
        {
          "output_type": "execute_result",
          "data": {
            "text/html": [
              "<div>\n",
              "<style scoped>\n",
              "    .dataframe tbody tr th:only-of-type {\n",
              "        vertical-align: middle;\n",
              "    }\n",
              "\n",
              "    .dataframe tbody tr th {\n",
              "        vertical-align: top;\n",
              "    }\n",
              "\n",
              "    .dataframe thead th {\n",
              "        text-align: right;\n",
              "    }\n",
              "</style>\n",
              "<table border=\"1\" class=\"dataframe\">\n",
              "  <thead>\n",
              "    <tr style=\"text-align: right;\">\n",
              "      <th></th>\n",
              "      <th>2020-09-28</th>\n",
              "      <th>2020-09-29</th>\n",
              "      <th>2020-09-30</th>\n",
              "      <th>2020-10-01</th>\n",
              "      <th>2020-10-02</th>\n",
              "      <th>2020-10-03</th>\n",
              "    </tr>\n",
              "  </thead>\n",
              "  <tbody>\n",
              "    <tr>\n",
              "      <th>A</th>\n",
              "      <td>-0.540402</td>\n",
              "      <td>-1.234122</td>\n",
              "      <td>0.050658</td>\n",
              "      <td>0.239431</td>\n",
              "      <td>0.337008</td>\n",
              "      <td>0.669561</td>\n",
              "    </tr>\n",
              "    <tr>\n",
              "      <th>B</th>\n",
              "      <td>0.715266</td>\n",
              "      <td>-0.386537</td>\n",
              "      <td>0.077652</td>\n",
              "      <td>-0.912862</td>\n",
              "      <td>-0.882342</td>\n",
              "      <td>0.559816</td>\n",
              "    </tr>\n",
              "    <tr>\n",
              "      <th>C</th>\n",
              "      <td>1.043851</td>\n",
              "      <td>-0.250567</td>\n",
              "      <td>0.798188</td>\n",
              "      <td>0.797022</td>\n",
              "      <td>-0.426790</td>\n",
              "      <td>0.828837</td>\n",
              "    </tr>\n",
              "    <tr>\n",
              "      <th>D</th>\n",
              "      <td>-0.065435</td>\n",
              "      <td>-0.987179</td>\n",
              "      <td>0.053874</td>\n",
              "      <td>-1.923248</td>\n",
              "      <td>2.013323</td>\n",
              "      <td>-1.031182</td>\n",
              "    </tr>\n",
              "  </tbody>\n",
              "</table>\n",
              "</div>"
            ],
            "text/plain": [
              "   2020-09-28  2020-09-29  2020-09-30  2020-10-01  2020-10-02  2020-10-03\n",
              "A   -0.540402   -1.234122    0.050658    0.239431    0.337008    0.669561\n",
              "B    0.715266   -0.386537    0.077652   -0.912862   -0.882342    0.559816\n",
              "C    1.043851   -0.250567    0.798188    0.797022   -0.426790    0.828837\n",
              "D   -0.065435   -0.987179    0.053874   -1.923248    2.013323   -1.031182"
            ]
          },
          "metadata": {
            "tags": []
          },
          "execution_count": 10
        }
      ]
    },
    {
      "cell_type": "code",
      "metadata": {
        "id": "vkg1gQUVLoy9",
        "outputId": "6bcb2fe9-e582-40f8-a846-8a6db60da307",
        "colab": {
          "base_uri": "https://localhost:8080/",
          "height": 35
        }
      },
      "source": [
        "df.T.index"
      ],
      "execution_count": 11,
      "outputs": [
        {
          "output_type": "execute_result",
          "data": {
            "text/plain": [
              "Index(['A', 'B', 'C', 'D'], dtype='object')"
            ]
          },
          "metadata": {
            "tags": []
          },
          "execution_count": 11
        }
      ]
    },
    {
      "cell_type": "markdown",
      "metadata": {
        "id": "A4lHGd4px5rU"
      },
      "source": [
        "### Sorting"
      ]
    },
    {
      "cell_type": "markdown",
      "metadata": {
        "id": "jlXuIbzD6oUD"
      },
      "source": [
        "#### Sort by index\n",
        "- sort_index(axis=0, ascending=False)\n",
        "- sort_index(axis=1, ascending=False)\n",
        "\n",
        "> Axis=0 Column-Wise Operation (수직으로)\n",
        "\n",
        "> Axis=1 Row-Wise Operation (수평으로)"
      ]
    },
    {
      "cell_type": "code",
      "metadata": {
        "id": "RM9Rlk64x5rW",
        "outputId": "5de4c3a4-15b3-43d2-c230-6f63e83a1d15",
        "colab": {
          "base_uri": "https://localhost:8080/",
          "height": 269
        }
      },
      "source": [
        "# Sorting by an axis:\n",
        "df, df.sort_index(axis=0, ascending=False)"
      ],
      "execution_count": 15,
      "outputs": [
        {
          "output_type": "execute_result",
          "data": {
            "text/plain": [
              "(                   A         B         C         D\n",
              " 2020-09-28 -0.540402  0.715266  1.043851 -0.065435\n",
              " 2020-09-29 -1.234122 -0.386537 -0.250567 -0.987179\n",
              " 2020-09-30  0.050658  0.077652  0.798188  0.053874\n",
              " 2020-10-01  0.239431 -0.912862  0.797022 -1.923248\n",
              " 2020-10-02  0.337008 -0.882342 -0.426790  2.013323\n",
              " 2020-10-03  0.669561  0.559816  0.828837 -1.031182,\n",
              "                    A         B         C         D\n",
              " 2020-10-03  0.669561  0.559816  0.828837 -1.031182\n",
              " 2020-10-02  0.337008 -0.882342 -0.426790  2.013323\n",
              " 2020-10-01  0.239431 -0.912862  0.797022 -1.923248\n",
              " 2020-09-30  0.050658  0.077652  0.798188  0.053874\n",
              " 2020-09-29 -1.234122 -0.386537 -0.250567 -0.987179\n",
              " 2020-09-28 -0.540402  0.715266  1.043851 -0.065435)"
            ]
          },
          "metadata": {
            "tags": []
          },
          "execution_count": 15
        }
      ]
    },
    {
      "cell_type": "code",
      "metadata": {
        "id": "w_7d__Hsx5rb",
        "outputId": "c78deb59-c543-4344-dbd3-9ea01a815131",
        "colab": {
          "base_uri": "https://localhost:8080/",
          "height": 269
        }
      },
      "source": [
        "df,df.sort_index(axis=1, ascending=False)"
      ],
      "execution_count": 19,
      "outputs": [
        {
          "output_type": "execute_result",
          "data": {
            "text/plain": [
              "(                   A         B         C         D\n",
              " 2020-09-28 -0.540402  0.715266  1.043851 -0.065435\n",
              " 2020-09-29 -1.234122 -0.386537 -0.250567 -0.987179\n",
              " 2020-09-30  0.050658  0.077652  0.798188  0.053874\n",
              " 2020-10-01  0.239431 -0.912862  0.797022 -1.923248\n",
              " 2020-10-02  0.337008 -0.882342 -0.426790  2.013323\n",
              " 2020-10-03  0.669561  0.559816  0.828837 -1.031182,\n",
              "                    D         C         B         A\n",
              " 2020-09-28 -0.065435  1.043851  0.715266 -0.540402\n",
              " 2020-09-29 -0.987179 -0.250567 -0.386537 -1.234122\n",
              " 2020-09-30  0.053874  0.798188  0.077652  0.050658\n",
              " 2020-10-01 -1.923248  0.797022 -0.912862  0.239431\n",
              " 2020-10-02  2.013323 -0.426790 -0.882342  0.337008\n",
              " 2020-10-03 -1.031182  0.828837  0.559816  0.669561)"
            ]
          },
          "metadata": {
            "tags": []
          },
          "execution_count": 19
        }
      ]
    },
    {
      "cell_type": "markdown",
      "metadata": {
        "id": "8J59I-KW6yNK"
      },
      "source": [
        "#### Sort by value\n",
        "- sort_values(by='column')"
      ]
    },
    {
      "cell_type": "code",
      "metadata": {
        "id": "VJw7_sTLx5rg",
        "outputId": "85313eb5-7ea1-4d78-98e6-0028d67382ea",
        "colab": {
          "base_uri": "https://localhost:8080/",
          "height": 269
        }
      },
      "source": [
        "# Sorting by values:\n",
        "df,df.sort_values(by='B') #, ascending=False)"
      ],
      "execution_count": 20,
      "outputs": [
        {
          "output_type": "execute_result",
          "data": {
            "text/plain": [
              "(                   A         B         C         D\n",
              " 2020-09-28 -0.540402  0.715266  1.043851 -0.065435\n",
              " 2020-09-29 -1.234122 -0.386537 -0.250567 -0.987179\n",
              " 2020-09-30  0.050658  0.077652  0.798188  0.053874\n",
              " 2020-10-01  0.239431 -0.912862  0.797022 -1.923248\n",
              " 2020-10-02  0.337008 -0.882342 -0.426790  2.013323\n",
              " 2020-10-03  0.669561  0.559816  0.828837 -1.031182,\n",
              "                    A         B         C         D\n",
              " 2020-10-01  0.239431 -0.912862  0.797022 -1.923248\n",
              " 2020-10-02  0.337008 -0.882342 -0.426790  2.013323\n",
              " 2020-09-29 -1.234122 -0.386537 -0.250567 -0.987179\n",
              " 2020-09-30  0.050658  0.077652  0.798188  0.053874\n",
              " 2020-10-03  0.669561  0.559816  0.828837 -1.031182\n",
              " 2020-09-28 -0.540402  0.715266  1.043851 -0.065435)"
            ]
          },
          "metadata": {
            "tags": []
          },
          "execution_count": 20
        }
      ]
    },
    {
      "cell_type": "markdown",
      "metadata": {
        "id": "rBW0-saPPGbN"
      },
      "source": [
        "## indexing and slicing of DataFrame"
      ]
    },
    {
      "cell_type": "markdown",
      "metadata": {
        "id": "oH89Wa-ix5rq"
      },
      "source": [
        "#### Selecting data by indexing and slicing\n",
        "- indexing\n",
        "- slicing\n"
      ]
    },
    {
      "cell_type": "code",
      "metadata": {
        "id": "4P7QJYnVWZmn",
        "outputId": "9ac7c8c4-2afc-4ab3-835c-4fdd0ac84ade",
        "colab": {
          "base_uri": "https://localhost:8080/",
          "height": 235
        }
      },
      "source": [
        "df"
      ],
      "execution_count": 22,
      "outputs": [
        {
          "output_type": "execute_result",
          "data": {
            "text/html": [
              "<div>\n",
              "<style scoped>\n",
              "    .dataframe tbody tr th:only-of-type {\n",
              "        vertical-align: middle;\n",
              "    }\n",
              "\n",
              "    .dataframe tbody tr th {\n",
              "        vertical-align: top;\n",
              "    }\n",
              "\n",
              "    .dataframe thead th {\n",
              "        text-align: right;\n",
              "    }\n",
              "</style>\n",
              "<table border=\"1\" class=\"dataframe\">\n",
              "  <thead>\n",
              "    <tr style=\"text-align: right;\">\n",
              "      <th></th>\n",
              "      <th>A</th>\n",
              "      <th>B</th>\n",
              "      <th>C</th>\n",
              "      <th>D</th>\n",
              "    </tr>\n",
              "  </thead>\n",
              "  <tbody>\n",
              "    <tr>\n",
              "      <th>2020-09-28</th>\n",
              "      <td>-0.540402</td>\n",
              "      <td>0.715266</td>\n",
              "      <td>1.043851</td>\n",
              "      <td>-0.065435</td>\n",
              "    </tr>\n",
              "    <tr>\n",
              "      <th>2020-09-29</th>\n",
              "      <td>-1.234122</td>\n",
              "      <td>-0.386537</td>\n",
              "      <td>-0.250567</td>\n",
              "      <td>-0.987179</td>\n",
              "    </tr>\n",
              "    <tr>\n",
              "      <th>2020-09-30</th>\n",
              "      <td>0.050658</td>\n",
              "      <td>0.077652</td>\n",
              "      <td>0.798188</td>\n",
              "      <td>0.053874</td>\n",
              "    </tr>\n",
              "    <tr>\n",
              "      <th>2020-10-01</th>\n",
              "      <td>0.239431</td>\n",
              "      <td>-0.912862</td>\n",
              "      <td>0.797022</td>\n",
              "      <td>-1.923248</td>\n",
              "    </tr>\n",
              "    <tr>\n",
              "      <th>2020-10-02</th>\n",
              "      <td>0.337008</td>\n",
              "      <td>-0.882342</td>\n",
              "      <td>-0.426790</td>\n",
              "      <td>2.013323</td>\n",
              "    </tr>\n",
              "    <tr>\n",
              "      <th>2020-10-03</th>\n",
              "      <td>0.669561</td>\n",
              "      <td>0.559816</td>\n",
              "      <td>0.828837</td>\n",
              "      <td>-1.031182</td>\n",
              "    </tr>\n",
              "  </tbody>\n",
              "</table>\n",
              "</div>"
            ],
            "text/plain": [
              "                   A         B         C         D\n",
              "2020-09-28 -0.540402  0.715266  1.043851 -0.065435\n",
              "2020-09-29 -1.234122 -0.386537 -0.250567 -0.987179\n",
              "2020-09-30  0.050658  0.077652  0.798188  0.053874\n",
              "2020-10-01  0.239431 -0.912862  0.797022 -1.923248\n",
              "2020-10-02  0.337008 -0.882342 -0.426790  2.013323\n",
              "2020-10-03  0.669561  0.559816  0.828837 -1.031182"
            ]
          },
          "metadata": {
            "tags": []
          },
          "execution_count": 22
        }
      ]
    },
    {
      "cell_type": "code",
      "metadata": {
        "id": "YufIBMYzx5ru",
        "outputId": "d43222b7-9361-4dcd-fde2-185fcb4f7bac",
        "colab": {
          "base_uri": "https://localhost:8080/",
          "height": 143
        }
      },
      "source": [
        "# Selecting a single column, which yields a Series\n",
        "df['A']"
      ],
      "execution_count": 21,
      "outputs": [
        {
          "output_type": "execute_result",
          "data": {
            "text/plain": [
              "2020-09-28   -0.540402\n",
              "2020-09-29   -1.234122\n",
              "2020-09-30    0.050658\n",
              "2020-10-01    0.239431\n",
              "2020-10-02    0.337008\n",
              "2020-10-03    0.669561\n",
              "Freq: D, Name: A, dtype: float64"
            ]
          },
          "metadata": {
            "tags": []
          },
          "execution_count": 21
        }
      ]
    },
    {
      "cell_type": "markdown",
      "metadata": {
        "id": "yZx1BKeRWoEa"
      },
      "source": [
        "### 열-A,B를 다 선택할려면?"
      ]
    },
    {
      "cell_type": "code",
      "metadata": {
        "id": "7l9G23s8Wum9",
        "outputId": "5cc99629-23af-4aa9-e412-4001f96c8839",
        "colab": {
          "base_uri": "https://localhost:8080/",
          "height": 235
        }
      },
      "source": [
        "df[['A','B']] #df['A','B']"
      ],
      "execution_count": 26,
      "outputs": [
        {
          "output_type": "execute_result",
          "data": {
            "text/html": [
              "<div>\n",
              "<style scoped>\n",
              "    .dataframe tbody tr th:only-of-type {\n",
              "        vertical-align: middle;\n",
              "    }\n",
              "\n",
              "    .dataframe tbody tr th {\n",
              "        vertical-align: top;\n",
              "    }\n",
              "\n",
              "    .dataframe thead th {\n",
              "        text-align: right;\n",
              "    }\n",
              "</style>\n",
              "<table border=\"1\" class=\"dataframe\">\n",
              "  <thead>\n",
              "    <tr style=\"text-align: right;\">\n",
              "      <th></th>\n",
              "      <th>A</th>\n",
              "      <th>B</th>\n",
              "    </tr>\n",
              "  </thead>\n",
              "  <tbody>\n",
              "    <tr>\n",
              "      <th>2020-09-28</th>\n",
              "      <td>-0.540402</td>\n",
              "      <td>0.715266</td>\n",
              "    </tr>\n",
              "    <tr>\n",
              "      <th>2020-09-29</th>\n",
              "      <td>-1.234122</td>\n",
              "      <td>-0.386537</td>\n",
              "    </tr>\n",
              "    <tr>\n",
              "      <th>2020-09-30</th>\n",
              "      <td>0.050658</td>\n",
              "      <td>0.077652</td>\n",
              "    </tr>\n",
              "    <tr>\n",
              "      <th>2020-10-01</th>\n",
              "      <td>0.239431</td>\n",
              "      <td>-0.912862</td>\n",
              "    </tr>\n",
              "    <tr>\n",
              "      <th>2020-10-02</th>\n",
              "      <td>0.337008</td>\n",
              "      <td>-0.882342</td>\n",
              "    </tr>\n",
              "    <tr>\n",
              "      <th>2020-10-03</th>\n",
              "      <td>0.669561</td>\n",
              "      <td>0.559816</td>\n",
              "    </tr>\n",
              "  </tbody>\n",
              "</table>\n",
              "</div>"
            ],
            "text/plain": [
              "                   A         B\n",
              "2020-09-28 -0.540402  0.715266\n",
              "2020-09-29 -1.234122 -0.386537\n",
              "2020-09-30  0.050658  0.077652\n",
              "2020-10-01  0.239431 -0.912862\n",
              "2020-10-02  0.337008 -0.882342\n",
              "2020-10-03  0.669561  0.559816"
            ]
          },
          "metadata": {
            "tags": []
          },
          "execution_count": 26
        }
      ]
    },
    {
      "cell_type": "code",
      "metadata": {
        "id": "ijxuNMS5x5r3",
        "outputId": "00bebe5c-81f1-4a90-8480-f4469c715baf",
        "colab": {
          "base_uri": "https://localhost:8080/",
          "height": 142
        }
      },
      "source": [
        "# Selecting via [], which slices the rows.\n",
        "df[0:3]"
      ],
      "execution_count": 27,
      "outputs": [
        {
          "output_type": "execute_result",
          "data": {
            "text/html": [
              "<div>\n",
              "<style scoped>\n",
              "    .dataframe tbody tr th:only-of-type {\n",
              "        vertical-align: middle;\n",
              "    }\n",
              "\n",
              "    .dataframe tbody tr th {\n",
              "        vertical-align: top;\n",
              "    }\n",
              "\n",
              "    .dataframe thead th {\n",
              "        text-align: right;\n",
              "    }\n",
              "</style>\n",
              "<table border=\"1\" class=\"dataframe\">\n",
              "  <thead>\n",
              "    <tr style=\"text-align: right;\">\n",
              "      <th></th>\n",
              "      <th>A</th>\n",
              "      <th>B</th>\n",
              "      <th>C</th>\n",
              "      <th>D</th>\n",
              "    </tr>\n",
              "  </thead>\n",
              "  <tbody>\n",
              "    <tr>\n",
              "      <th>2020-09-28</th>\n",
              "      <td>-0.540402</td>\n",
              "      <td>0.715266</td>\n",
              "      <td>1.043851</td>\n",
              "      <td>-0.065435</td>\n",
              "    </tr>\n",
              "    <tr>\n",
              "      <th>2020-09-29</th>\n",
              "      <td>-1.234122</td>\n",
              "      <td>-0.386537</td>\n",
              "      <td>-0.250567</td>\n",
              "      <td>-0.987179</td>\n",
              "    </tr>\n",
              "    <tr>\n",
              "      <th>2020-09-30</th>\n",
              "      <td>0.050658</td>\n",
              "      <td>0.077652</td>\n",
              "      <td>0.798188</td>\n",
              "      <td>0.053874</td>\n",
              "    </tr>\n",
              "  </tbody>\n",
              "</table>\n",
              "</div>"
            ],
            "text/plain": [
              "                   A         B         C         D\n",
              "2020-09-28 -0.540402  0.715266  1.043851 -0.065435\n",
              "2020-09-29 -1.234122 -0.386537 -0.250567 -0.987179\n",
              "2020-09-30  0.050658  0.077652  0.798188  0.053874"
            ]
          },
          "metadata": {
            "tags": []
          },
          "execution_count": 27
        }
      ]
    },
    {
      "cell_type": "code",
      "metadata": {
        "id": "T8XP7m9nx5r9",
        "outputId": "1b3c0cec-2d23-4e4c-a7da-e5f6dec135ee",
        "colab": {
          "base_uri": "https://localhost:8080/",
          "height": 173
        }
      },
      "source": [
        "df['20200928':'20201001'] # 인덱스가 아닌 값인 경우는 지정된 범위가 다 선택된다."
      ],
      "execution_count": 28,
      "outputs": [
        {
          "output_type": "execute_result",
          "data": {
            "text/html": [
              "<div>\n",
              "<style scoped>\n",
              "    .dataframe tbody tr th:only-of-type {\n",
              "        vertical-align: middle;\n",
              "    }\n",
              "\n",
              "    .dataframe tbody tr th {\n",
              "        vertical-align: top;\n",
              "    }\n",
              "\n",
              "    .dataframe thead th {\n",
              "        text-align: right;\n",
              "    }\n",
              "</style>\n",
              "<table border=\"1\" class=\"dataframe\">\n",
              "  <thead>\n",
              "    <tr style=\"text-align: right;\">\n",
              "      <th></th>\n",
              "      <th>A</th>\n",
              "      <th>B</th>\n",
              "      <th>C</th>\n",
              "      <th>D</th>\n",
              "    </tr>\n",
              "  </thead>\n",
              "  <tbody>\n",
              "    <tr>\n",
              "      <th>2020-09-28</th>\n",
              "      <td>-0.540402</td>\n",
              "      <td>0.715266</td>\n",
              "      <td>1.043851</td>\n",
              "      <td>-0.065435</td>\n",
              "    </tr>\n",
              "    <tr>\n",
              "      <th>2020-09-29</th>\n",
              "      <td>-1.234122</td>\n",
              "      <td>-0.386537</td>\n",
              "      <td>-0.250567</td>\n",
              "      <td>-0.987179</td>\n",
              "    </tr>\n",
              "    <tr>\n",
              "      <th>2020-09-30</th>\n",
              "      <td>0.050658</td>\n",
              "      <td>0.077652</td>\n",
              "      <td>0.798188</td>\n",
              "      <td>0.053874</td>\n",
              "    </tr>\n",
              "    <tr>\n",
              "      <th>2020-10-01</th>\n",
              "      <td>0.239431</td>\n",
              "      <td>-0.912862</td>\n",
              "      <td>0.797022</td>\n",
              "      <td>-1.923248</td>\n",
              "    </tr>\n",
              "  </tbody>\n",
              "</table>\n",
              "</div>"
            ],
            "text/plain": [
              "                   A         B         C         D\n",
              "2020-09-28 -0.540402  0.715266  1.043851 -0.065435\n",
              "2020-09-29 -1.234122 -0.386537 -0.250567 -0.987179\n",
              "2020-09-30  0.050658  0.077652  0.798188  0.053874\n",
              "2020-10-01  0.239431 -0.912862  0.797022 -1.923248"
            ]
          },
          "metadata": {
            "tags": []
          },
          "execution_count": 28
        }
      ]
    },
    {
      "cell_type": "markdown",
      "metadata": {
        "id": "E7-V96t9x5sB"
      },
      "source": [
        "#### Selecting data by label\n",
        "\n",
        "> **loc, iloc**\n"
      ]
    },
    {
      "cell_type": "code",
      "metadata": {
        "id": "TV4dnwU-x5sC",
        "outputId": "103c5d7b-1491-4713-f60d-b03f0a0d1337",
        "colab": {
          "base_uri": "https://localhost:8080/",
          "height": 235
        }
      },
      "source": [
        "df"
      ],
      "execution_count": 29,
      "outputs": [
        {
          "output_type": "execute_result",
          "data": {
            "text/html": [
              "<div>\n",
              "<style scoped>\n",
              "    .dataframe tbody tr th:only-of-type {\n",
              "        vertical-align: middle;\n",
              "    }\n",
              "\n",
              "    .dataframe tbody tr th {\n",
              "        vertical-align: top;\n",
              "    }\n",
              "\n",
              "    .dataframe thead th {\n",
              "        text-align: right;\n",
              "    }\n",
              "</style>\n",
              "<table border=\"1\" class=\"dataframe\">\n",
              "  <thead>\n",
              "    <tr style=\"text-align: right;\">\n",
              "      <th></th>\n",
              "      <th>A</th>\n",
              "      <th>B</th>\n",
              "      <th>C</th>\n",
              "      <th>D</th>\n",
              "    </tr>\n",
              "  </thead>\n",
              "  <tbody>\n",
              "    <tr>\n",
              "      <th>2020-09-28</th>\n",
              "      <td>-0.540402</td>\n",
              "      <td>0.715266</td>\n",
              "      <td>1.043851</td>\n",
              "      <td>-0.065435</td>\n",
              "    </tr>\n",
              "    <tr>\n",
              "      <th>2020-09-29</th>\n",
              "      <td>-1.234122</td>\n",
              "      <td>-0.386537</td>\n",
              "      <td>-0.250567</td>\n",
              "      <td>-0.987179</td>\n",
              "    </tr>\n",
              "    <tr>\n",
              "      <th>2020-09-30</th>\n",
              "      <td>0.050658</td>\n",
              "      <td>0.077652</td>\n",
              "      <td>0.798188</td>\n",
              "      <td>0.053874</td>\n",
              "    </tr>\n",
              "    <tr>\n",
              "      <th>2020-10-01</th>\n",
              "      <td>0.239431</td>\n",
              "      <td>-0.912862</td>\n",
              "      <td>0.797022</td>\n",
              "      <td>-1.923248</td>\n",
              "    </tr>\n",
              "    <tr>\n",
              "      <th>2020-10-02</th>\n",
              "      <td>0.337008</td>\n",
              "      <td>-0.882342</td>\n",
              "      <td>-0.426790</td>\n",
              "      <td>2.013323</td>\n",
              "    </tr>\n",
              "    <tr>\n",
              "      <th>2020-10-03</th>\n",
              "      <td>0.669561</td>\n",
              "      <td>0.559816</td>\n",
              "      <td>0.828837</td>\n",
              "      <td>-1.031182</td>\n",
              "    </tr>\n",
              "  </tbody>\n",
              "</table>\n",
              "</div>"
            ],
            "text/plain": [
              "                   A         B         C         D\n",
              "2020-09-28 -0.540402  0.715266  1.043851 -0.065435\n",
              "2020-09-29 -1.234122 -0.386537 -0.250567 -0.987179\n",
              "2020-09-30  0.050658  0.077652  0.798188  0.053874\n",
              "2020-10-01  0.239431 -0.912862  0.797022 -1.923248\n",
              "2020-10-02  0.337008 -0.882342 -0.426790  2.013323\n",
              "2020-10-03  0.669561  0.559816  0.828837 -1.031182"
            ]
          },
          "metadata": {
            "tags": []
          },
          "execution_count": 29
        }
      ]
    },
    {
      "cell_type": "code",
      "metadata": {
        "id": "iPZE3U5cx5sG",
        "outputId": "f59a42ea-ed0b-4a22-adfc-d99df2934e53",
        "colab": {
          "base_uri": "https://localhost:8080/",
          "height": 107
        }
      },
      "source": [
        "df.loc[dates[0]]   # loc()"
      ],
      "execution_count": 30,
      "outputs": [
        {
          "output_type": "execute_result",
          "data": {
            "text/plain": [
              "A   -0.540402\n",
              "B    0.715266\n",
              "C    1.043851\n",
              "D   -0.065435\n",
              "Name: 2020-09-28 00:00:00, dtype: float64"
            ]
          },
          "metadata": {
            "tags": []
          },
          "execution_count": 30
        }
      ]
    },
    {
      "cell_type": "code",
      "metadata": {
        "id": "jteYZDQnx5sL",
        "outputId": "9cc66318-e3a1-47ef-bcb1-e780feebfd44",
        "colab": {
          "base_uri": "https://localhost:8080/",
          "height": 235
        }
      },
      "source": [
        "# Selecting on a multi-axis by label:\n",
        "df.loc[:,['A','B']]"
      ],
      "execution_count": 31,
      "outputs": [
        {
          "output_type": "execute_result",
          "data": {
            "text/html": [
              "<div>\n",
              "<style scoped>\n",
              "    .dataframe tbody tr th:only-of-type {\n",
              "        vertical-align: middle;\n",
              "    }\n",
              "\n",
              "    .dataframe tbody tr th {\n",
              "        vertical-align: top;\n",
              "    }\n",
              "\n",
              "    .dataframe thead th {\n",
              "        text-align: right;\n",
              "    }\n",
              "</style>\n",
              "<table border=\"1\" class=\"dataframe\">\n",
              "  <thead>\n",
              "    <tr style=\"text-align: right;\">\n",
              "      <th></th>\n",
              "      <th>A</th>\n",
              "      <th>B</th>\n",
              "    </tr>\n",
              "  </thead>\n",
              "  <tbody>\n",
              "    <tr>\n",
              "      <th>2020-09-28</th>\n",
              "      <td>-0.540402</td>\n",
              "      <td>0.715266</td>\n",
              "    </tr>\n",
              "    <tr>\n",
              "      <th>2020-09-29</th>\n",
              "      <td>-1.234122</td>\n",
              "      <td>-0.386537</td>\n",
              "    </tr>\n",
              "    <tr>\n",
              "      <th>2020-09-30</th>\n",
              "      <td>0.050658</td>\n",
              "      <td>0.077652</td>\n",
              "    </tr>\n",
              "    <tr>\n",
              "      <th>2020-10-01</th>\n",
              "      <td>0.239431</td>\n",
              "      <td>-0.912862</td>\n",
              "    </tr>\n",
              "    <tr>\n",
              "      <th>2020-10-02</th>\n",
              "      <td>0.337008</td>\n",
              "      <td>-0.882342</td>\n",
              "    </tr>\n",
              "    <tr>\n",
              "      <th>2020-10-03</th>\n",
              "      <td>0.669561</td>\n",
              "      <td>0.559816</td>\n",
              "    </tr>\n",
              "  </tbody>\n",
              "</table>\n",
              "</div>"
            ],
            "text/plain": [
              "                   A         B\n",
              "2020-09-28 -0.540402  0.715266\n",
              "2020-09-29 -1.234122 -0.386537\n",
              "2020-09-30  0.050658  0.077652\n",
              "2020-10-01  0.239431 -0.912862\n",
              "2020-10-02  0.337008 -0.882342\n",
              "2020-10-03  0.669561  0.559816"
            ]
          },
          "metadata": {
            "tags": []
          },
          "execution_count": 31
        }
      ]
    },
    {
      "cell_type": "markdown",
      "metadata": {
        "id": "QqYJvRLnx5sP"
      },
      "source": [
        "#### [도전코딩]\n",
        "\n",
        "> Select data for first two days AND comumn 3,4 from df."
      ]
    },
    {
      "cell_type": "code",
      "metadata": {
        "id": "jSUlF4icx5sQ",
        "outputId": "eae89c59-af8a-4d91-ba18-4f661429be76",
        "colab": {
          "base_uri": "https://localhost:8080/",
          "height": 111
        }
      },
      "source": [
        "#df.loc[0:2,['C','D']]\n",
        "#df.loc['20200928':'20200929',['C','D']]\n",
        "df.loc[dates[:2],['C','D']]"
      ],
      "execution_count": 35,
      "outputs": [
        {
          "output_type": "execute_result",
          "data": {
            "text/html": [
              "<div>\n",
              "<style scoped>\n",
              "    .dataframe tbody tr th:only-of-type {\n",
              "        vertical-align: middle;\n",
              "    }\n",
              "\n",
              "    .dataframe tbody tr th {\n",
              "        vertical-align: top;\n",
              "    }\n",
              "\n",
              "    .dataframe thead th {\n",
              "        text-align: right;\n",
              "    }\n",
              "</style>\n",
              "<table border=\"1\" class=\"dataframe\">\n",
              "  <thead>\n",
              "    <tr style=\"text-align: right;\">\n",
              "      <th></th>\n",
              "      <th>C</th>\n",
              "      <th>D</th>\n",
              "    </tr>\n",
              "  </thead>\n",
              "  <tbody>\n",
              "    <tr>\n",
              "      <th>2020-09-28</th>\n",
              "      <td>1.043851</td>\n",
              "      <td>-0.065435</td>\n",
              "    </tr>\n",
              "    <tr>\n",
              "      <th>2020-09-29</th>\n",
              "      <td>-0.250567</td>\n",
              "      <td>-0.987179</td>\n",
              "    </tr>\n",
              "  </tbody>\n",
              "</table>\n",
              "</div>"
            ],
            "text/plain": [
              "                   C         D\n",
              "2020-09-28  1.043851 -0.065435\n",
              "2020-09-29 -0.250567 -0.987179"
            ]
          },
          "metadata": {
            "tags": []
          },
          "execution_count": 35
        }
      ]
    },
    {
      "cell_type": "markdown",
      "metadata": {
        "id": "-BGWuIwpx5sV"
      },
      "source": [
        "#### Selecting data by position (iloc())\n",
        "- index 사용"
      ]
    },
    {
      "cell_type": "code",
      "metadata": {
        "id": "gYtgID9rx5sW"
      },
      "source": [
        "df"
      ],
      "execution_count": null,
      "outputs": []
    },
    {
      "cell_type": "code",
      "metadata": {
        "id": "PNgZ3u8-x5sa"
      },
      "source": [
        "df.iloc[3]  # 결과는 차원축소형으로 표현됨."
      ],
      "execution_count": null,
      "outputs": []
    },
    {
      "cell_type": "code",
      "metadata": {
        "id": "12eWuxQ_x5sh"
      },
      "source": [
        "# [다시 도전]\n",
        "# Select data for first two days AND comumn 3,4 from df.\n",
        "# Use iloc\n",
        "# df.iloc[:2,2:4]"
      ],
      "execution_count": null,
      "outputs": []
    },
    {
      "cell_type": "code",
      "metadata": {
        "id": "_S-omW3hx5sn"
      },
      "source": [
        "# Select one item\n",
        "df.iloc[1,1]"
      ],
      "execution_count": null,
      "outputs": []
    },
    {
      "cell_type": "markdown",
      "metadata": {
        "id": "fDoWVVGHx5su"
      },
      "source": [
        "#### Selecting data by Boolean indexing"
      ]
    },
    {
      "cell_type": "code",
      "metadata": {
        "id": "CG7LipUrx5sv"
      },
      "source": [
        "df"
      ],
      "execution_count": null,
      "outputs": []
    },
    {
      "cell_type": "code",
      "metadata": {
        "id": "U5If1VEYx5sy"
      },
      "source": [
        "df[df.A > 0]"
      ],
      "execution_count": null,
      "outputs": []
    },
    {
      "cell_type": "code",
      "metadata": {
        "id": "8WkB7Q5rx5s1"
      },
      "source": [
        "df[df > 0]"
      ],
      "execution_count": null,
      "outputs": []
    }
  ]
}